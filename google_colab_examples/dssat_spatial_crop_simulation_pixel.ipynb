{
  "cells": [
    {
      "cell_type": "markdown",
      "metadata": {
        "id": "view-in-github",
        "colab_type": "text"
      },
      "source": [
        "<a href=\"https://colab.research.google.com/github/anaguilarar/WeatherSoilDataProcessor/blob/main/google_colab_examples/dssat_spatial_crop_simulation_pixel.ipynb\" target=\"_parent\"><img src=\"https://colab.research.google.com/assets/colab-badge.svg\" alt=\"Open In Colab\"/></a>"
      ]
    },
    {
      "cell_type": "code",
      "source": [
        "!git clone https://github.com/anaguilarar/WeatherSoilDataProcessor.git\n",
        "\n",
        "import os\n",
        "os.chdir('/content/WeatherSoilDataProcessor')\n",
        "\n",
        "!pip install -r /content/WeatherSoilDataProcessor/requirements.txt"
      ],
      "metadata": {
        "id": "yqW_tn6byf2Q",
        "colab": {
          "base_uri": "https://localhost:8080/",
          "height": 1000
        },
        "outputId": "b1e2d420-2d6c-48ca-b758-bb94dc8b51af"
      },
      "execution_count": 1,
      "outputs": [
        {
          "output_type": "stream",
          "name": "stdout",
          "text": [
            "Cloning into 'WeatherSoilDataProcessor'...\n",
            "remote: Enumerating objects: 2310, done.\u001b[K\n",
            "remote: Counting objects: 100% (228/228), done.\u001b[K\n",
            "remote: Compressing objects: 100% (187/187), done.\u001b[K\n",
            "remote: Total 2310 (delta 133), reused 113 (delta 40), pack-reused 2082 (from 2)\u001b[K\n",
            "Receiving objects: 100% (2310/2310), 125.12 MiB | 26.19 MiB/s, done.\n",
            "Resolving deltas: 100% (1820/1820), done.\n",
            "Collecting affine==2.4.0 (from -r /content/WeatherSoilDataProcessor/requirements.txt (line 1))\n",
            "  Downloading affine-2.4.0-py3-none-any.whl.metadata (4.0 kB)\n",
            "Collecting cdsapi (from -r /content/WeatherSoilDataProcessor/requirements.txt (line 2))\n",
            "  Downloading cdsapi-0.7.6-py2.py3-none-any.whl.metadata (3.0 kB)\n",
            "Collecting DSSATTools==2.1.6 (from -r /content/WeatherSoilDataProcessor/requirements.txt (line 3))\n",
            "  Downloading DSSATTools-2.1.6-py3-none-any.whl.metadata (14 kB)\n",
            "Collecting rosetta-soil==0.1.1 (from -r /content/WeatherSoilDataProcessor/requirements.txt (line 4))\n",
            "  Downloading rosetta_soil-0.1.1-py3-none-any.whl.metadata (1.0 kB)\n",
            "Collecting fortranformat==1.2.2 (from -r /content/WeatherSoilDataProcessor/requirements.txt (line 5))\n",
            "  Downloading fortranformat-1.2.2.tar.gz (22 kB)\n",
            "  Preparing metadata (setup.py) ... \u001b[?25l\u001b[?25hdone\n",
            "Collecting geopandas==1.0.1 (from -r /content/WeatherSoilDataProcessor/requirements.txt (line 6))\n",
            "  Downloading geopandas-1.0.1-py3-none-any.whl.metadata (2.2 kB)\n",
            "Collecting matplotlib==3.9.2 (from -r /content/WeatherSoilDataProcessor/requirements.txt (line 7))\n",
            "  Downloading matplotlib-3.9.2-cp311-cp311-manylinux_2_17_x86_64.manylinux2014_x86_64.whl.metadata (11 kB)\n",
            "Requirement already satisfied: numpy==2.0.2 in /usr/local/lib/python3.11/dist-packages (from -r /content/WeatherSoilDataProcessor/requirements.txt (line 8)) (2.0.2)\n",
            "Requirement already satisfied: omegaconf in /usr/local/lib/python3.11/dist-packages (from -r /content/WeatherSoilDataProcessor/requirements.txt (line 9)) (2.3.0)\n",
            "Collecting pandas==2.2.3 (from -r /content/WeatherSoilDataProcessor/requirements.txt (line 10))\n",
            "  Downloading pandas-2.2.3-cp311-cp311-manylinux_2_17_x86_64.manylinux2014_x86_64.whl.metadata (89 kB)\n",
            "\u001b[2K     \u001b[90m━━━━━━━━━━━━━━━━━━━━━━━━━━━━━━━━━━━━━━━━\u001b[0m \u001b[32m89.9/89.9 kB\u001b[0m \u001b[31m7.3 MB/s\u001b[0m eta \u001b[36m0:00:00\u001b[0m\n",
            "\u001b[?25hRequirement already satisfied: python_dateutil in /usr/local/lib/python3.11/dist-packages (from -r /content/WeatherSoilDataProcessor/requirements.txt (line 11)) (2.9.0.post0)\n",
            "Requirement already satisfied: PyYAML in /usr/local/lib/python3.11/dist-packages (from -r /content/WeatherSoilDataProcessor/requirements.txt (line 12)) (6.0.2)\n",
            "Requirement already satisfied: plotly in /usr/local/lib/python3.11/dist-packages (from -r /content/WeatherSoilDataProcessor/requirements.txt (line 13)) (5.24.1)\n",
            "Collecting rasterio==1.4.1 (from -r /content/WeatherSoilDataProcessor/requirements.txt (line 14))\n",
            "  Downloading rasterio-1.4.1-cp311-cp311-manylinux_2_17_x86_64.manylinux2014_x86_64.whl.metadata (9.1 kB)\n",
            "Requirement already satisfied: Requests in /usr/local/lib/python3.11/dist-packages (from -r /content/WeatherSoilDataProcessor/requirements.txt (line 15)) (2.32.3)\n",
            "Collecting rioxarray (from -r /content/WeatherSoilDataProcessor/requirements.txt (line 16))\n",
            "  Downloading rioxarray-0.19.0-py3-none-any.whl.metadata (5.5 kB)\n",
            "Collecting scipy==1.13.1 (from -r /content/WeatherSoilDataProcessor/requirements.txt (line 17))\n",
            "  Downloading scipy-1.13.1-cp311-cp311-manylinux_2_17_x86_64.manylinux2014_x86_64.whl.metadata (60 kB)\n",
            "\u001b[2K     \u001b[90m━━━━━━━━━━━━━━━━━━━━━━━━━━━━━━━━━━━━━━━━\u001b[0m \u001b[32m60.6/60.6 kB\u001b[0m \u001b[31m4.7 MB/s\u001b[0m eta \u001b[36m0:00:00\u001b[0m\n",
            "\u001b[?25hRequirement already satisfied: Shapely in /usr/local/lib/python3.11/dist-packages (from -r /content/WeatherSoilDataProcessor/requirements.txt (line 18)) (2.1.1)\n",
            "Collecting soilgrids==0.1.4 (from -r /content/WeatherSoilDataProcessor/requirements.txt (line 19))\n",
            "  Downloading soilgrids-0.1.4-py3-none-any.whl.metadata (4.9 kB)\n",
            "Collecting unidecode (from -r /content/WeatherSoilDataProcessor/requirements.txt (line 20))\n",
            "  Downloading Unidecode-1.4.0-py3-none-any.whl.metadata (13 kB)\n",
            "Requirement already satisfied: tqdm in /usr/local/lib/python3.11/dist-packages (from -r /content/WeatherSoilDataProcessor/requirements.txt (line 21)) (4.67.1)\n",
            "Requirement already satisfied: widgetsnbextension in /usr/local/lib/python3.11/dist-packages (from -r /content/WeatherSoilDataProcessor/requirements.txt (line 22)) (3.6.10)\n",
            "Collecting xarray==2024.7.0 (from -r /content/WeatherSoilDataProcessor/requirements.txt (line 23))\n",
            "  Downloading xarray-2024.7.0-py3-none-any.whl.metadata (11 kB)\n",
            "Requirement already satisfied: numba==0.60.0 in /usr/local/lib/python3.11/dist-packages (from -r /content/WeatherSoilDataProcessor/requirements.txt (line 24)) (0.60.0)\n",
            "Collecting bayesian-optimization==2.0.3 (from -r /content/WeatherSoilDataProcessor/requirements.txt (line 25))\n",
            "  Downloading bayesian_optimization-2.0.3-py3-none-any.whl.metadata (9.0 kB)\n",
            "Requirement already satisfied: attrs in /usr/local/lib/python3.11/dist-packages (from DSSATTools==2.1.6->-r /content/WeatherSoilDataProcessor/requirements.txt (line 3)) (25.3.0)\n",
            "Requirement already satisfied: certifi in /usr/local/lib/python3.11/dist-packages (from DSSATTools==2.1.6->-r /content/WeatherSoilDataProcessor/requirements.txt (line 3)) (2025.7.14)\n",
            "Requirement already satisfied: chardet in /usr/local/lib/python3.11/dist-packages (from DSSATTools==2.1.6->-r /content/WeatherSoilDataProcessor/requirements.txt (line 3)) (5.2.0)\n",
            "Requirement already satisfied: charset-normalizer in /usr/local/lib/python3.11/dist-packages (from DSSATTools==2.1.6->-r /content/WeatherSoilDataProcessor/requirements.txt (line 3)) (3.4.2)\n",
            "Collecting coverage (from DSSATTools==2.1.6->-r /content/WeatherSoilDataProcessor/requirements.txt (line 3))\n",
            "  Downloading coverage-7.10.0-cp311-cp311-manylinux1_x86_64.manylinux_2_28_x86_64.manylinux_2_5_x86_64.whl.metadata (8.9 kB)\n",
            "Requirement already satisfied: idna in /usr/local/lib/python3.11/dist-packages (from DSSATTools==2.1.6->-r /content/WeatherSoilDataProcessor/requirements.txt (line 3)) (3.10)\n",
            "Requirement already satisfied: iniconfig in /usr/local/lib/python3.11/dist-packages (from DSSATTools==2.1.6->-r /content/WeatherSoilDataProcessor/requirements.txt (line 3)) (2.1.0)\n",
            "Requirement already satisfied: packaging in /usr/local/lib/python3.11/dist-packages (from DSSATTools==2.1.6->-r /content/WeatherSoilDataProcessor/requirements.txt (line 3)) (25.0)\n",
            "Requirement already satisfied: pluggy in /usr/local/lib/python3.11/dist-packages (from DSSATTools==2.1.6->-r /content/WeatherSoilDataProcessor/requirements.txt (line 3)) (1.6.0)\n",
            "Collecting py (from DSSATTools==2.1.6->-r /content/WeatherSoilDataProcessor/requirements.txt (line 3))\n",
            "  Downloading py-1.11.0-py2.py3-none-any.whl.metadata (2.8 kB)\n",
            "Requirement already satisfied: pyparsing in /usr/local/lib/python3.11/dist-packages (from DSSATTools==2.1.6->-r /content/WeatherSoilDataProcessor/requirements.txt (line 3)) (3.2.3)\n",
            "Requirement already satisfied: pytest in /usr/local/lib/python3.11/dist-packages (from DSSATTools==2.1.6->-r /content/WeatherSoilDataProcessor/requirements.txt (line 3)) (8.4.1)\n",
            "Collecting pytest-cov (from DSSATTools==2.1.6->-r /content/WeatherSoilDataProcessor/requirements.txt (line 3))\n",
            "  Downloading pytest_cov-6.2.1-py3-none-any.whl.metadata (30 kB)\n",
            "Requirement already satisfied: pytz in /usr/local/lib/python3.11/dist-packages (from DSSATTools==2.1.6->-r /content/WeatherSoilDataProcessor/requirements.txt (line 3)) (2025.2)\n",
            "Requirement already satisfied: six in /usr/local/lib/python3.11/dist-packages (from DSSATTools==2.1.6->-r /content/WeatherSoilDataProcessor/requirements.txt (line 3)) (1.17.0)\n",
            "Requirement already satisfied: toml in /usr/local/lib/python3.11/dist-packages (from DSSATTools==2.1.6->-r /content/WeatherSoilDataProcessor/requirements.txt (line 3)) (0.10.2)\n",
            "Collecting tomli (from DSSATTools==2.1.6->-r /content/WeatherSoilDataProcessor/requirements.txt (line 3))\n",
            "  Downloading tomli-2.2.1-cp311-cp311-manylinux_2_17_x86_64.manylinux2014_x86_64.whl.metadata (11 kB)\n",
            "Requirement already satisfied: pyogrio>=0.7.2 in /usr/local/lib/python3.11/dist-packages (from geopandas==1.0.1->-r /content/WeatherSoilDataProcessor/requirements.txt (line 6)) (0.11.0)\n",
            "Requirement already satisfied: pyproj>=3.3.0 in /usr/local/lib/python3.11/dist-packages (from geopandas==1.0.1->-r /content/WeatherSoilDataProcessor/requirements.txt (line 6)) (3.7.1)\n",
            "Requirement already satisfied: contourpy>=1.0.1 in /usr/local/lib/python3.11/dist-packages (from matplotlib==3.9.2->-r /content/WeatherSoilDataProcessor/requirements.txt (line 7)) (1.3.2)\n",
            "Requirement already satisfied: cycler>=0.10 in /usr/local/lib/python3.11/dist-packages (from matplotlib==3.9.2->-r /content/WeatherSoilDataProcessor/requirements.txt (line 7)) (0.12.1)\n",
            "Requirement already satisfied: fonttools>=4.22.0 in /usr/local/lib/python3.11/dist-packages (from matplotlib==3.9.2->-r /content/WeatherSoilDataProcessor/requirements.txt (line 7)) (4.59.0)\n",
            "Requirement already satisfied: kiwisolver>=1.3.1 in /usr/local/lib/python3.11/dist-packages (from matplotlib==3.9.2->-r /content/WeatherSoilDataProcessor/requirements.txt (line 7)) (1.4.8)\n",
            "Requirement already satisfied: pillow>=8 in /usr/local/lib/python3.11/dist-packages (from matplotlib==3.9.2->-r /content/WeatherSoilDataProcessor/requirements.txt (line 7)) (11.3.0)\n",
            "Requirement already satisfied: tzdata>=2022.7 in /usr/local/lib/python3.11/dist-packages (from pandas==2.2.3->-r /content/WeatherSoilDataProcessor/requirements.txt (line 10)) (2025.2)\n",
            "Requirement already satisfied: click>=4.0 in /usr/local/lib/python3.11/dist-packages (from rasterio==1.4.1->-r /content/WeatherSoilDataProcessor/requirements.txt (line 14)) (8.2.1)\n",
            "Collecting cligj>=0.5 (from rasterio==1.4.1->-r /content/WeatherSoilDataProcessor/requirements.txt (line 14))\n",
            "  Downloading cligj-0.7.2-py3-none-any.whl.metadata (5.0 kB)\n",
            "Collecting click-plugins (from rasterio==1.4.1->-r /content/WeatherSoilDataProcessor/requirements.txt (line 14))\n",
            "  Downloading click_plugins-1.1.1.2-py2.py3-none-any.whl.metadata (6.5 kB)\n",
            "Collecting bmipy (from soilgrids==0.1.4->-r /content/WeatherSoilDataProcessor/requirements.txt (line 19))\n",
            "  Downloading bmipy-2.0.1-py3-none-any.whl.metadata (2.7 kB)\n",
            "Collecting netcdf4 (from soilgrids==0.1.4->-r /content/WeatherSoilDataProcessor/requirements.txt (line 19))\n",
            "  Downloading netCDF4-1.7.2-cp311-cp311-manylinux_2_17_x86_64.manylinux2014_x86_64.whl.metadata (1.8 kB)\n",
            "Collecting owslib (from soilgrids==0.1.4->-r /content/WeatherSoilDataProcessor/requirements.txt (line 19))\n",
            "  Downloading owslib-0.34.1-py3-none-any.whl.metadata (6.9 kB)\n",
            "Requirement already satisfied: llvmlite<0.44,>=0.43.0dev0 in /usr/local/lib/python3.11/dist-packages (from numba==0.60.0->-r /content/WeatherSoilDataProcessor/requirements.txt (line 24)) (0.43.0)\n",
            "Collecting colorama<0.5.0,>=0.4.6 (from bayesian-optimization==2.0.3->-r /content/WeatherSoilDataProcessor/requirements.txt (line 25))\n",
            "  Downloading colorama-0.4.6-py2.py3-none-any.whl.metadata (17 kB)\n",
            "Requirement already satisfied: scikit-learn<2.0.0,>=1.0.0 in /usr/local/lib/python3.11/dist-packages (from bayesian-optimization==2.0.3->-r /content/WeatherSoilDataProcessor/requirements.txt (line 25)) (1.6.1)\n",
            "Collecting ecmwf-datastores-client (from cdsapi->-r /content/WeatherSoilDataProcessor/requirements.txt (line 2))\n",
            "  Downloading ecmwf_datastores_client-0.2.0-py3-none-any.whl.metadata (21 kB)\n",
            "Requirement already satisfied: antlr4-python3-runtime==4.9.* in /usr/local/lib/python3.11/dist-packages (from omegaconf->-r /content/WeatherSoilDataProcessor/requirements.txt (line 9)) (4.9.3)\n",
            "Requirement already satisfied: tenacity>=6.2.0 in /usr/local/lib/python3.11/dist-packages (from plotly->-r /content/WeatherSoilDataProcessor/requirements.txt (line 13)) (8.5.0)\n",
            "Requirement already satisfied: urllib3<3,>=1.21.1 in /usr/local/lib/python3.11/dist-packages (from Requests->-r /content/WeatherSoilDataProcessor/requirements.txt (line 15)) (2.5.0)\n",
            "INFO: pip is looking at multiple versions of rioxarray to determine which version is compatible with other requirements. This could take a while.\n",
            "Collecting rioxarray (from -r /content/WeatherSoilDataProcessor/requirements.txt (line 16))\n",
            "  Downloading rioxarray-0.18.2-py3-none-any.whl.metadata (5.4 kB)\n",
            "Requirement already satisfied: notebook>=4.4.1 in /usr/local/lib/python3.11/dist-packages (from widgetsnbextension->-r /content/WeatherSoilDataProcessor/requirements.txt (line 22)) (6.5.7)\n",
            "Requirement already satisfied: jinja2 in /usr/local/lib/python3.11/dist-packages (from notebook>=4.4.1->widgetsnbextension->-r /content/WeatherSoilDataProcessor/requirements.txt (line 22)) (3.1.6)\n",
            "Requirement already satisfied: tornado>=6.1 in /usr/local/lib/python3.11/dist-packages (from notebook>=4.4.1->widgetsnbextension->-r /content/WeatherSoilDataProcessor/requirements.txt (line 22)) (6.4.2)\n",
            "Requirement already satisfied: pyzmq>=17 in /usr/local/lib/python3.11/dist-packages (from notebook>=4.4.1->widgetsnbextension->-r /content/WeatherSoilDataProcessor/requirements.txt (line 22)) (24.0.1)\n",
            "Requirement already satisfied: argon2-cffi in /usr/local/lib/python3.11/dist-packages (from notebook>=4.4.1->widgetsnbextension->-r /content/WeatherSoilDataProcessor/requirements.txt (line 22)) (25.1.0)\n",
            "Requirement already satisfied: traitlets>=4.2.1 in /usr/local/lib/python3.11/dist-packages (from notebook>=4.4.1->widgetsnbextension->-r /content/WeatherSoilDataProcessor/requirements.txt (line 22)) (5.7.1)\n",
            "Requirement already satisfied: jupyter-core>=4.6.1 in /usr/local/lib/python3.11/dist-packages (from notebook>=4.4.1->widgetsnbextension->-r /content/WeatherSoilDataProcessor/requirements.txt (line 22)) (5.8.1)\n",
            "Requirement already satisfied: jupyter-client<8,>=5.3.4 in /usr/local/lib/python3.11/dist-packages (from notebook>=4.4.1->widgetsnbextension->-r /content/WeatherSoilDataProcessor/requirements.txt (line 22)) (6.1.12)\n",
            "Requirement already satisfied: ipython-genutils in /usr/local/lib/python3.11/dist-packages (from notebook>=4.4.1->widgetsnbextension->-r /content/WeatherSoilDataProcessor/requirements.txt (line 22)) (0.2.0)\n",
            "Requirement already satisfied: nbformat in /usr/local/lib/python3.11/dist-packages (from notebook>=4.4.1->widgetsnbextension->-r /content/WeatherSoilDataProcessor/requirements.txt (line 22)) (5.10.4)\n",
            "Requirement already satisfied: nbconvert>=5 in /usr/local/lib/python3.11/dist-packages (from notebook>=4.4.1->widgetsnbextension->-r /content/WeatherSoilDataProcessor/requirements.txt (line 22)) (7.16.6)\n",
            "Requirement already satisfied: nest-asyncio>=1.5 in /usr/local/lib/python3.11/dist-packages (from notebook>=4.4.1->widgetsnbextension->-r /content/WeatherSoilDataProcessor/requirements.txt (line 22)) (1.6.0)\n",
            "Requirement already satisfied: ipykernel in /usr/local/lib/python3.11/dist-packages (from notebook>=4.4.1->widgetsnbextension->-r /content/WeatherSoilDataProcessor/requirements.txt (line 22)) (6.17.1)\n",
            "Requirement already satisfied: Send2Trash>=1.8.0 in /usr/local/lib/python3.11/dist-packages (from notebook>=4.4.1->widgetsnbextension->-r /content/WeatherSoilDataProcessor/requirements.txt (line 22)) (1.8.3)\n",
            "Requirement already satisfied: terminado>=0.8.3 in /usr/local/lib/python3.11/dist-packages (from notebook>=4.4.1->widgetsnbextension->-r /content/WeatherSoilDataProcessor/requirements.txt (line 22)) (0.18.1)\n",
            "Requirement already satisfied: prometheus-client in /usr/local/lib/python3.11/dist-packages (from notebook>=4.4.1->widgetsnbextension->-r /content/WeatherSoilDataProcessor/requirements.txt (line 22)) (0.22.1)\n",
            "Requirement already satisfied: nbclassic>=0.4.7 in /usr/local/lib/python3.11/dist-packages (from notebook>=4.4.1->widgetsnbextension->-r /content/WeatherSoilDataProcessor/requirements.txt (line 22)) (1.3.1)\n",
            "Requirement already satisfied: joblib>=1.2.0 in /usr/local/lib/python3.11/dist-packages (from scikit-learn<2.0.0,>=1.0.0->bayesian-optimization==2.0.3->-r /content/WeatherSoilDataProcessor/requirements.txt (line 25)) (1.5.1)\n",
            "Requirement already satisfied: threadpoolctl>=3.1.0 in /usr/local/lib/python3.11/dist-packages (from scikit-learn<2.0.0,>=1.0.0->bayesian-optimization==2.0.3->-r /content/WeatherSoilDataProcessor/requirements.txt (line 25)) (3.6.0)\n",
            "Collecting black (from bmipy->soilgrids==0.1.4->-r /content/WeatherSoilDataProcessor/requirements.txt (line 19))\n",
            "  Downloading black-25.1.0-cp311-cp311-manylinux_2_17_x86_64.manylinux2014_x86_64.manylinux_2_28_x86_64.whl.metadata (81 kB)\n",
            "\u001b[2K     \u001b[90m━━━━━━━━━━━━━━━━━━━━━━━━━━━━━━━━━━━━━━━━\u001b[0m \u001b[32m81.3/81.3 kB\u001b[0m \u001b[31m7.5 MB/s\u001b[0m eta \u001b[36m0:00:00\u001b[0m\n",
            "\u001b[?25hCollecting multiurl>=0.3.2 (from ecmwf-datastores-client->cdsapi->-r /content/WeatherSoilDataProcessor/requirements.txt (line 2))\n",
            "  Downloading multiurl-0.3.6-py3-none-any.whl.metadata (2.8 kB)\n",
            "Requirement already satisfied: typing-extensions in /usr/local/lib/python3.11/dist-packages (from ecmwf-datastores-client->cdsapi->-r /content/WeatherSoilDataProcessor/requirements.txt (line 2)) (4.14.1)\n",
            "Collecting cftime (from netcdf4->soilgrids==0.1.4->-r /content/WeatherSoilDataProcessor/requirements.txt (line 19))\n",
            "  Downloading cftime-1.6.4.post1-cp311-cp311-manylinux_2_17_x86_64.manylinux2014_x86_64.whl.metadata (8.7 kB)\n",
            "Requirement already satisfied: lxml in /usr/local/lib/python3.11/dist-packages (from owslib->soilgrids==0.1.4->-r /content/WeatherSoilDataProcessor/requirements.txt (line 19)) (5.4.0)\n",
            "Requirement already satisfied: pygments>=2.7.2 in /usr/local/lib/python3.11/dist-packages (from pytest->DSSATTools==2.1.6->-r /content/WeatherSoilDataProcessor/requirements.txt (line 3)) (2.19.2)\n",
            "Requirement already satisfied: platformdirs>=2.5 in /usr/local/lib/python3.11/dist-packages (from jupyter-core>=4.6.1->notebook>=4.4.1->widgetsnbextension->-r /content/WeatherSoilDataProcessor/requirements.txt (line 22)) (4.3.8)\n",
            "Requirement already satisfied: notebook-shim>=0.2.3 in /usr/local/lib/python3.11/dist-packages (from nbclassic>=0.4.7->notebook>=4.4.1->widgetsnbextension->-r /content/WeatherSoilDataProcessor/requirements.txt (line 22)) (0.2.4)\n",
            "Requirement already satisfied: beautifulsoup4 in /usr/local/lib/python3.11/dist-packages (from nbconvert>=5->notebook>=4.4.1->widgetsnbextension->-r /content/WeatherSoilDataProcessor/requirements.txt (line 22)) (4.13.4)\n",
            "Requirement already satisfied: bleach!=5.0.0 in /usr/local/lib/python3.11/dist-packages (from bleach[css]!=5.0.0->nbconvert>=5->notebook>=4.4.1->widgetsnbextension->-r /content/WeatherSoilDataProcessor/requirements.txt (line 22)) (6.2.0)\n",
            "Requirement already satisfied: defusedxml in /usr/local/lib/python3.11/dist-packages (from nbconvert>=5->notebook>=4.4.1->widgetsnbextension->-r /content/WeatherSoilDataProcessor/requirements.txt (line 22)) (0.7.1)\n",
            "Requirement already satisfied: jupyterlab-pygments in /usr/local/lib/python3.11/dist-packages (from nbconvert>=5->notebook>=4.4.1->widgetsnbextension->-r /content/WeatherSoilDataProcessor/requirements.txt (line 22)) (0.3.0)\n",
            "Requirement already satisfied: markupsafe>=2.0 in /usr/local/lib/python3.11/dist-packages (from nbconvert>=5->notebook>=4.4.1->widgetsnbextension->-r /content/WeatherSoilDataProcessor/requirements.txt (line 22)) (3.0.2)\n",
            "Requirement already satisfied: mistune<4,>=2.0.3 in /usr/local/lib/python3.11/dist-packages (from nbconvert>=5->notebook>=4.4.1->widgetsnbextension->-r /content/WeatherSoilDataProcessor/requirements.txt (line 22)) (3.1.3)\n",
            "Requirement already satisfied: nbclient>=0.5.0 in /usr/local/lib/python3.11/dist-packages (from nbconvert>=5->notebook>=4.4.1->widgetsnbextension->-r /content/WeatherSoilDataProcessor/requirements.txt (line 22)) (0.10.2)\n",
            "Requirement already satisfied: pandocfilters>=1.4.1 in /usr/local/lib/python3.11/dist-packages (from nbconvert>=5->notebook>=4.4.1->widgetsnbextension->-r /content/WeatherSoilDataProcessor/requirements.txt (line 22)) (1.5.1)\n",
            "Requirement already satisfied: fastjsonschema>=2.15 in /usr/local/lib/python3.11/dist-packages (from nbformat->notebook>=4.4.1->widgetsnbextension->-r /content/WeatherSoilDataProcessor/requirements.txt (line 22)) (2.21.1)\n",
            "Requirement already satisfied: jsonschema>=2.6 in /usr/local/lib/python3.11/dist-packages (from nbformat->notebook>=4.4.1->widgetsnbextension->-r /content/WeatherSoilDataProcessor/requirements.txt (line 22)) (4.25.0)\n",
            "Requirement already satisfied: ptyprocess in /usr/local/lib/python3.11/dist-packages (from terminado>=0.8.3->notebook>=4.4.1->widgetsnbextension->-r /content/WeatherSoilDataProcessor/requirements.txt (line 22)) (0.7.0)\n",
            "Requirement already satisfied: argon2-cffi-bindings in /usr/local/lib/python3.11/dist-packages (from argon2-cffi->notebook>=4.4.1->widgetsnbextension->-r /content/WeatherSoilDataProcessor/requirements.txt (line 22)) (21.2.0)\n",
            "Collecting mypy-extensions>=0.4.3 (from black->bmipy->soilgrids==0.1.4->-r /content/WeatherSoilDataProcessor/requirements.txt (line 19))\n",
            "  Downloading mypy_extensions-1.1.0-py3-none-any.whl.metadata (1.1 kB)\n",
            "Collecting pathspec>=0.9.0 (from black->bmipy->soilgrids==0.1.4->-r /content/WeatherSoilDataProcessor/requirements.txt (line 19))\n",
            "  Downloading pathspec-0.12.1-py3-none-any.whl.metadata (21 kB)\n",
            "Requirement already satisfied: debugpy>=1.0 in /usr/local/lib/python3.11/dist-packages (from ipykernel->notebook>=4.4.1->widgetsnbextension->-r /content/WeatherSoilDataProcessor/requirements.txt (line 22)) (1.8.15)\n",
            "Requirement already satisfied: ipython>=7.23.1 in /usr/local/lib/python3.11/dist-packages (from ipykernel->notebook>=4.4.1->widgetsnbextension->-r /content/WeatherSoilDataProcessor/requirements.txt (line 22)) (7.34.0)\n",
            "Requirement already satisfied: matplotlib-inline>=0.1 in /usr/local/lib/python3.11/dist-packages (from ipykernel->notebook>=4.4.1->widgetsnbextension->-r /content/WeatherSoilDataProcessor/requirements.txt (line 22)) (0.1.7)\n",
            "Requirement already satisfied: psutil in /usr/local/lib/python3.11/dist-packages (from ipykernel->notebook>=4.4.1->widgetsnbextension->-r /content/WeatherSoilDataProcessor/requirements.txt (line 22)) (5.9.5)\n",
            "Requirement already satisfied: webencodings in /usr/local/lib/python3.11/dist-packages (from bleach!=5.0.0->bleach[css]!=5.0.0->nbconvert>=5->notebook>=4.4.1->widgetsnbextension->-r /content/WeatherSoilDataProcessor/requirements.txt (line 22)) (0.5.1)\n",
            "Requirement already satisfied: tinycss2<1.5,>=1.1.0 in /usr/local/lib/python3.11/dist-packages (from bleach[css]!=5.0.0->nbconvert>=5->notebook>=4.4.1->widgetsnbextension->-r /content/WeatherSoilDataProcessor/requirements.txt (line 22)) (1.4.0)\n",
            "Requirement already satisfied: setuptools>=18.5 in /usr/local/lib/python3.11/dist-packages (from ipython>=7.23.1->ipykernel->notebook>=4.4.1->widgetsnbextension->-r /content/WeatherSoilDataProcessor/requirements.txt (line 22)) (75.2.0)\n",
            "Collecting jedi>=0.16 (from ipython>=7.23.1->ipykernel->notebook>=4.4.1->widgetsnbextension->-r /content/WeatherSoilDataProcessor/requirements.txt (line 22))\n",
            "  Downloading jedi-0.19.2-py2.py3-none-any.whl.metadata (22 kB)\n",
            "Requirement already satisfied: decorator in /usr/local/lib/python3.11/dist-packages (from ipython>=7.23.1->ipykernel->notebook>=4.4.1->widgetsnbextension->-r /content/WeatherSoilDataProcessor/requirements.txt (line 22)) (4.4.2)\n",
            "Requirement already satisfied: pickleshare in /usr/local/lib/python3.11/dist-packages (from ipython>=7.23.1->ipykernel->notebook>=4.4.1->widgetsnbextension->-r /content/WeatherSoilDataProcessor/requirements.txt (line 22)) (0.7.5)\n",
            "Requirement already satisfied: prompt-toolkit!=3.0.0,!=3.0.1,<3.1.0,>=2.0.0 in /usr/local/lib/python3.11/dist-packages (from ipython>=7.23.1->ipykernel->notebook>=4.4.1->widgetsnbextension->-r /content/WeatherSoilDataProcessor/requirements.txt (line 22)) (3.0.51)\n",
            "Requirement already satisfied: backcall in /usr/local/lib/python3.11/dist-packages (from ipython>=7.23.1->ipykernel->notebook>=4.4.1->widgetsnbextension->-r /content/WeatherSoilDataProcessor/requirements.txt (line 22)) (0.2.0)\n",
            "Requirement already satisfied: pexpect>4.3 in /usr/local/lib/python3.11/dist-packages (from ipython>=7.23.1->ipykernel->notebook>=4.4.1->widgetsnbextension->-r /content/WeatherSoilDataProcessor/requirements.txt (line 22)) (4.9.0)\n",
            "Requirement already satisfied: jsonschema-specifications>=2023.03.6 in /usr/local/lib/python3.11/dist-packages (from jsonschema>=2.6->nbformat->notebook>=4.4.1->widgetsnbextension->-r /content/WeatherSoilDataProcessor/requirements.txt (line 22)) (2025.4.1)\n",
            "Requirement already satisfied: referencing>=0.28.4 in /usr/local/lib/python3.11/dist-packages (from jsonschema>=2.6->nbformat->notebook>=4.4.1->widgetsnbextension->-r /content/WeatherSoilDataProcessor/requirements.txt (line 22)) (0.36.2)\n",
            "Requirement already satisfied: rpds-py>=0.7.1 in /usr/local/lib/python3.11/dist-packages (from jsonschema>=2.6->nbformat->notebook>=4.4.1->widgetsnbextension->-r /content/WeatherSoilDataProcessor/requirements.txt (line 22)) (0.26.0)\n",
            "Requirement already satisfied: jupyter-server<3,>=1.8 in /usr/local/lib/python3.11/dist-packages (from notebook-shim>=0.2.3->nbclassic>=0.4.7->notebook>=4.4.1->widgetsnbextension->-r /content/WeatherSoilDataProcessor/requirements.txt (line 22)) (1.16.0)\n",
            "Requirement already satisfied: cffi>=1.0.1 in /usr/local/lib/python3.11/dist-packages (from argon2-cffi-bindings->argon2-cffi->notebook>=4.4.1->widgetsnbextension->-r /content/WeatherSoilDataProcessor/requirements.txt (line 22)) (1.17.1)\n",
            "Requirement already satisfied: soupsieve>1.2 in /usr/local/lib/python3.11/dist-packages (from beautifulsoup4->nbconvert>=5->notebook>=4.4.1->widgetsnbextension->-r /content/WeatherSoilDataProcessor/requirements.txt (line 22)) (2.7)\n",
            "Requirement already satisfied: pycparser in /usr/local/lib/python3.11/dist-packages (from cffi>=1.0.1->argon2-cffi-bindings->argon2-cffi->notebook>=4.4.1->widgetsnbextension->-r /content/WeatherSoilDataProcessor/requirements.txt (line 22)) (2.22)\n",
            "Requirement already satisfied: parso<0.9.0,>=0.8.4 in /usr/local/lib/python3.11/dist-packages (from jedi>=0.16->ipython>=7.23.1->ipykernel->notebook>=4.4.1->widgetsnbextension->-r /content/WeatherSoilDataProcessor/requirements.txt (line 22)) (0.8.4)\n",
            "Requirement already satisfied: anyio>=3.1.0 in /usr/local/lib/python3.11/dist-packages (from jupyter-server<3,>=1.8->notebook-shim>=0.2.3->nbclassic>=0.4.7->notebook>=4.4.1->widgetsnbextension->-r /content/WeatherSoilDataProcessor/requirements.txt (line 22)) (4.9.0)\n",
            "Requirement already satisfied: websocket-client in /usr/local/lib/python3.11/dist-packages (from jupyter-server<3,>=1.8->notebook-shim>=0.2.3->nbclassic>=0.4.7->notebook>=4.4.1->widgetsnbextension->-r /content/WeatherSoilDataProcessor/requirements.txt (line 22)) (1.8.0)\n",
            "Requirement already satisfied: wcwidth in /usr/local/lib/python3.11/dist-packages (from prompt-toolkit!=3.0.0,!=3.0.1,<3.1.0,>=2.0.0->ipython>=7.23.1->ipykernel->notebook>=4.4.1->widgetsnbextension->-r /content/WeatherSoilDataProcessor/requirements.txt (line 22)) (0.2.13)\n",
            "Requirement already satisfied: sniffio>=1.1 in /usr/local/lib/python3.11/dist-packages (from anyio>=3.1.0->jupyter-server<3,>=1.8->notebook-shim>=0.2.3->nbclassic>=0.4.7->notebook>=4.4.1->widgetsnbextension->-r /content/WeatherSoilDataProcessor/requirements.txt (line 22)) (1.3.1)\n",
            "Downloading affine-2.4.0-py3-none-any.whl (15 kB)\n",
            "Downloading DSSATTools-2.1.6-py3-none-any.whl (11.7 MB)\n",
            "\u001b[2K   \u001b[90m━━━━━━━━━━━━━━━━━━━━━━━━━━━━━━━━━━━━━━━━\u001b[0m \u001b[32m11.7/11.7 MB\u001b[0m \u001b[31m34.2 MB/s\u001b[0m eta \u001b[36m0:00:00\u001b[0m\n",
            "\u001b[?25hDownloading rosetta_soil-0.1.1-py3-none-any.whl (5.2 MB)\n",
            "\u001b[2K   \u001b[90m━━━━━━━━━━━━━━━━━━━━━━━━━━━━━━━━━━━━━━━━\u001b[0m \u001b[32m5.2/5.2 MB\u001b[0m \u001b[31m54.1 MB/s\u001b[0m eta \u001b[36m0:00:00\u001b[0m\n",
            "\u001b[?25hDownloading geopandas-1.0.1-py3-none-any.whl (323 kB)\n",
            "\u001b[2K   \u001b[90m━━━━━━━━━━━━━━━━━━━━━━━━━━━━━━━━━━━━━━━━\u001b[0m \u001b[32m323.6/323.6 kB\u001b[0m \u001b[31m25.9 MB/s\u001b[0m eta \u001b[36m0:00:00\u001b[0m\n",
            "\u001b[?25hDownloading matplotlib-3.9.2-cp311-cp311-manylinux_2_17_x86_64.manylinux2014_x86_64.whl (8.3 MB)\n",
            "\u001b[2K   \u001b[90m━━━━━━━━━━━━━━━━━━━━━━━━━━━━━━━━━━━━━━━━\u001b[0m \u001b[32m8.3/8.3 MB\u001b[0m \u001b[31m109.6 MB/s\u001b[0m eta \u001b[36m0:00:00\u001b[0m\n",
            "\u001b[?25hDownloading pandas-2.2.3-cp311-cp311-manylinux_2_17_x86_64.manylinux2014_x86_64.whl (13.1 MB)\n",
            "\u001b[2K   \u001b[90m━━━━━━━━━━━━━━━━━━━━━━━━━━━━━━━━━━━━━━━━\u001b[0m \u001b[32m13.1/13.1 MB\u001b[0m \u001b[31m108.3 MB/s\u001b[0m eta \u001b[36m0:00:00\u001b[0m\n",
            "\u001b[?25hDownloading rasterio-1.4.1-cp311-cp311-manylinux_2_17_x86_64.manylinux2014_x86_64.whl (22.2 MB)\n",
            "\u001b[2K   \u001b[90m━━━━━━━━━━━━━━━━━━━━━━━━━━━━━━━━━━━━━━━━\u001b[0m \u001b[32m22.2/22.2 MB\u001b[0m \u001b[31m63.6 MB/s\u001b[0m eta \u001b[36m0:00:00\u001b[0m\n",
            "\u001b[?25hDownloading scipy-1.13.1-cp311-cp311-manylinux_2_17_x86_64.manylinux2014_x86_64.whl (38.6 MB)\n",
            "\u001b[2K   \u001b[90m━━━━━━━━━━━━━━━━━━━━━━━━━━━━━━━━━━━━━━━━\u001b[0m \u001b[32m38.6/38.6 MB\u001b[0m \u001b[31m12.8 MB/s\u001b[0m eta \u001b[36m0:00:00\u001b[0m\n",
            "\u001b[?25hDownloading soilgrids-0.1.4-py3-none-any.whl (12 kB)\n",
            "Downloading xarray-2024.7.0-py3-none-any.whl (1.2 MB)\n",
            "\u001b[2K   \u001b[90m━━━━━━━━━━━━━━━━━━━━━━━━━━━━━━━━━━━━━━━━\u001b[0m \u001b[32m1.2/1.2 MB\u001b[0m \u001b[31m50.9 MB/s\u001b[0m eta \u001b[36m0:00:00\u001b[0m\n",
            "\u001b[?25hDownloading bayesian_optimization-2.0.3-py3-none-any.whl (31 kB)\n",
            "Downloading cdsapi-0.7.6-py2.py3-none-any.whl (12 kB)\n",
            "Downloading rioxarray-0.18.2-py3-none-any.whl (61 kB)\n",
            "\u001b[2K   \u001b[90m━━━━━━━━━━━━━━━━━━━━━━━━━━━━━━━━━━━━━━━━\u001b[0m \u001b[32m61.9/61.9 kB\u001b[0m \u001b[31m5.5 MB/s\u001b[0m eta \u001b[36m0:00:00\u001b[0m\n",
            "\u001b[?25hDownloading Unidecode-1.4.0-py3-none-any.whl (235 kB)\n",
            "\u001b[2K   \u001b[90m━━━━━━━━━━━━━━━━━━━━━━━━━━━━━━━━━━━━━━━━\u001b[0m \u001b[32m235.8/235.8 kB\u001b[0m \u001b[31m18.0 MB/s\u001b[0m eta \u001b[36m0:00:00\u001b[0m\n",
            "\u001b[?25hDownloading cligj-0.7.2-py3-none-any.whl (7.1 kB)\n",
            "Downloading colorama-0.4.6-py2.py3-none-any.whl (25 kB)\n",
            "Downloading bmipy-2.0.1-py3-none-any.whl (8.4 kB)\n",
            "Downloading click_plugins-1.1.1.2-py2.py3-none-any.whl (11 kB)\n",
            "Downloading coverage-7.10.0-cp311-cp311-manylinux1_x86_64.manylinux_2_28_x86_64.manylinux_2_5_x86_64.whl (247 kB)\n",
            "\u001b[2K   \u001b[90m━━━━━━━━━━━━━━━━━━━━━━━━━━━━━━━━━━━━━━━━\u001b[0m \u001b[32m247.2/247.2 kB\u001b[0m \u001b[31m16.0 MB/s\u001b[0m eta \u001b[36m0:00:00\u001b[0m\n",
            "\u001b[?25hDownloading ecmwf_datastores_client-0.2.0-py3-none-any.whl (28 kB)\n",
            "Downloading netCDF4-1.7.2-cp311-cp311-manylinux_2_17_x86_64.manylinux2014_x86_64.whl (9.3 MB)\n",
            "\u001b[2K   \u001b[90m━━━━━━━━━━━━━━━━━━━━━━━━━━━━━━━━━━━━━━━━\u001b[0m \u001b[32m9.3/9.3 MB\u001b[0m \u001b[31m80.8 MB/s\u001b[0m eta \u001b[36m0:00:00\u001b[0m\n",
            "\u001b[?25hDownloading owslib-0.34.1-py3-none-any.whl (240 kB)\n",
            "\u001b[2K   \u001b[90m━━━━━━━━━━━━━━━━━━━━━━━━━━━━━━━━━━━━━━━━\u001b[0m \u001b[32m240.6/240.6 kB\u001b[0m \u001b[31m19.8 MB/s\u001b[0m eta \u001b[36m0:00:00\u001b[0m\n",
            "\u001b[?25hDownloading py-1.11.0-py2.py3-none-any.whl (98 kB)\n",
            "\u001b[2K   \u001b[90m━━━━━━━━━━━━━━━━━━━━━━━━━━━━━━━━━━━━━━━━\u001b[0m \u001b[32m98.7/98.7 kB\u001b[0m \u001b[31m6.1 MB/s\u001b[0m eta \u001b[36m0:00:00\u001b[0m\n",
            "\u001b[?25hDownloading pytest_cov-6.2.1-py3-none-any.whl (24 kB)\n",
            "Downloading tomli-2.2.1-cp311-cp311-manylinux_2_17_x86_64.manylinux2014_x86_64.whl (236 kB)\n",
            "\u001b[2K   \u001b[90m━━━━━━━━━━━━━━━━━━━━━━━━━━━━━━━━━━━━━━━━\u001b[0m \u001b[32m236.0/236.0 kB\u001b[0m \u001b[31m18.0 MB/s\u001b[0m eta \u001b[36m0:00:00\u001b[0m\n",
            "\u001b[?25hDownloading multiurl-0.3.6-py3-none-any.whl (21 kB)\n",
            "Downloading black-25.1.0-cp311-cp311-manylinux_2_17_x86_64.manylinux2014_x86_64.manylinux_2_28_x86_64.whl (1.7 MB)\n",
            "\u001b[2K   \u001b[90m━━━━━━━━━━━━━━━━━━━━━━━━━━━━━━━━━━━━━━━━\u001b[0m \u001b[32m1.7/1.7 MB\u001b[0m \u001b[31m65.2 MB/s\u001b[0m eta \u001b[36m0:00:00\u001b[0m\n",
            "\u001b[?25hDownloading cftime-1.6.4.post1-cp311-cp311-manylinux_2_17_x86_64.manylinux2014_x86_64.whl (1.4 MB)\n",
            "\u001b[2K   \u001b[90m━━━━━━━━━━━━━━━━━━━━━━━━━━━━━━━━━━━━━━━━\u001b[0m \u001b[32m1.4/1.4 MB\u001b[0m \u001b[31m56.5 MB/s\u001b[0m eta \u001b[36m0:00:00\u001b[0m\n",
            "\u001b[?25hDownloading mypy_extensions-1.1.0-py3-none-any.whl (5.0 kB)\n",
            "Downloading pathspec-0.12.1-py3-none-any.whl (31 kB)\n",
            "Downloading jedi-0.19.2-py2.py3-none-any.whl (1.6 MB)\n",
            "\u001b[2K   \u001b[90m━━━━━━━━━━━━━━━━━━━━━━━━━━━━━━━━━━━━━━━━\u001b[0m \u001b[32m1.6/1.6 MB\u001b[0m \u001b[31m53.5 MB/s\u001b[0m eta \u001b[36m0:00:00\u001b[0m\n",
            "\u001b[?25hBuilding wheels for collected packages: fortranformat\n",
            "  Building wheel for fortranformat (setup.py) ... \u001b[?25l\u001b[?25hdone\n",
            "  Created wheel for fortranformat: filename=fortranformat-1.2.2-py3-none-any.whl size=24519 sha256=375f39794e445b869e86ad76d3e63fcf09f1994f79bfd1f22a1f6e663cd414dc\n",
            "  Stored in directory: /root/.cache/pip/wheels/7a/d4/57/486bf6471d68f1ae56673f50c5b1aabc445b0a24da9a8d182d\n",
            "Successfully built fortranformat\n",
            "Installing collected packages: fortranformat, unidecode, tomli, scipy, rosetta-soil, py, pathspec, mypy-extensions, jedi, coverage, colorama, cligj, click-plugins, cftime, affine, rasterio, pandas, owslib, netcdf4, multiurl, matplotlib, black, xarray, pytest-cov, geopandas, ecmwf-datastores-client, bmipy, bayesian-optimization, rioxarray, DSSATTools, cdsapi, soilgrids\n",
            "  Attempting uninstall: scipy\n",
            "    Found existing installation: scipy 1.16.0\n",
            "    Uninstalling scipy-1.16.0:\n",
            "      Successfully uninstalled scipy-1.16.0\n",
            "  Attempting uninstall: pandas\n",
            "    Found existing installation: pandas 2.2.2\n",
            "    Uninstalling pandas-2.2.2:\n",
            "      Successfully uninstalled pandas-2.2.2\n",
            "  Attempting uninstall: matplotlib\n",
            "    Found existing installation: matplotlib 3.10.0\n",
            "    Uninstalling matplotlib-3.10.0:\n",
            "      Successfully uninstalled matplotlib-3.10.0\n",
            "  Attempting uninstall: xarray\n",
            "    Found existing installation: xarray 2025.7.1\n",
            "    Uninstalling xarray-2025.7.1:\n",
            "      Successfully uninstalled xarray-2025.7.1\n",
            "  Attempting uninstall: geopandas\n",
            "    Found existing installation: geopandas 1.1.1\n",
            "    Uninstalling geopandas-1.1.1:\n",
            "      Successfully uninstalled geopandas-1.1.1\n",
            "\u001b[31mERROR: pip's dependency resolver does not currently take into account all the packages that are installed. This behaviour is the source of the following dependency conflicts.\n",
            "google-colab 1.0.0 requires pandas==2.2.2, but you have pandas 2.2.3 which is incompatible.\n",
            "tsfresh 0.21.0 requires scipy>=1.14.0; python_version >= \"3.10\", but you have scipy 1.13.1 which is incompatible.\u001b[0m\u001b[31m\n",
            "\u001b[0mSuccessfully installed DSSATTools-2.1.6 affine-2.4.0 bayesian-optimization-2.0.3 black-25.1.0 bmipy-2.0.1 cdsapi-0.7.6 cftime-1.6.4.post1 click-plugins-1.1.1.2 cligj-0.7.2 colorama-0.4.6 coverage-7.10.0 ecmwf-datastores-client-0.2.0 fortranformat-1.2.2 geopandas-1.0.1 jedi-0.19.2 matplotlib-3.9.2 multiurl-0.3.6 mypy-extensions-1.1.0 netcdf4-1.7.2 owslib-0.34.1 pandas-2.2.3 pathspec-0.12.1 py-1.11.0 pytest-cov-6.2.1 rasterio-1.4.1 rioxarray-0.18.2 rosetta-soil-0.1.1 scipy-1.13.1 soilgrids-0.1.4 tomli-2.2.1 unidecode-1.4.0 xarray-2024.7.0\n"
          ]
        },
        {
          "output_type": "display_data",
          "data": {
            "application/vnd.colab-display-data+json": {
              "pip_warning": {
                "packages": [
                  "matplotlib",
                  "mpl_toolkits"
                ]
              },
              "id": "4b5d5c81fcf04bc88fe6a3f7270c146b"
            }
          },
          "metadata": {}
        }
      ]
    },
    {
      "cell_type": "code",
      "source": [
        "!pip install hvplot panel param geoviews bokeh jupyter_bokeh -U\n",
        "from google.colab import output\n",
        "output.enable_custom_widget_manager()"
      ],
      "metadata": {
        "id": "11diXEoSyhvj",
        "colab": {
          "base_uri": "https://localhost:8080/"
        },
        "outputId": "3868e7ca-80f7-42c4-fc48-14d779040c3b"
      },
      "execution_count": 1,
      "outputs": [
        {
          "output_type": "stream",
          "name": "stdout",
          "text": [
            "Collecting hvplot\n",
            "  Using cached hvplot-0.11.3-py3-none-any.whl.metadata (15 kB)\n",
            "Requirement already satisfied: panel in /usr/local/lib/python3.11/dist-packages (1.7.5)\n",
            "Requirement already satisfied: param in /usr/local/lib/python3.11/dist-packages (2.2.1)\n",
            "Collecting geoviews\n",
            "  Using cached geoviews-1.14.0-py3-none-any.whl.metadata (8.5 kB)\n",
            "Requirement already satisfied: bokeh in /usr/local/lib/python3.11/dist-packages (3.7.3)\n",
            "Collecting jupyter_bokeh\n",
            "  Downloading jupyter_bokeh-4.0.5-py3-none-any.whl.metadata (7.1 kB)\n",
            "Requirement already satisfied: colorcet>=2 in /usr/local/lib/python3.11/dist-packages (from hvplot) (3.1.0)\n",
            "Requirement already satisfied: holoviews>=1.19.0 in /usr/local/lib/python3.11/dist-packages (from hvplot) (1.21.0)\n",
            "Requirement already satisfied: numpy>=1.21 in /usr/local/lib/python3.11/dist-packages (from hvplot) (2.0.2)\n",
            "Requirement already satisfied: packaging in /usr/local/lib/python3.11/dist-packages (from hvplot) (25.0)\n",
            "Requirement already satisfied: pandas>=1.3 in /usr/local/lib/python3.11/dist-packages (from hvplot) (2.2.3)\n",
            "Requirement already satisfied: bleach in /usr/local/lib/python3.11/dist-packages (from panel) (6.2.0)\n",
            "Requirement already satisfied: linkify-it-py in /usr/local/lib/python3.11/dist-packages (from panel) (2.0.3)\n",
            "Requirement already satisfied: markdown in /usr/local/lib/python3.11/dist-packages (from panel) (3.8.2)\n",
            "Requirement already satisfied: markdown-it-py in /usr/local/lib/python3.11/dist-packages (from panel) (3.0.0)\n",
            "Requirement already satisfied: mdit-py-plugins in /usr/local/lib/python3.11/dist-packages (from panel) (0.4.2)\n",
            "Requirement already satisfied: pyviz-comms>=2.0.0 in /usr/local/lib/python3.11/dist-packages (from panel) (3.0.6)\n",
            "Requirement already satisfied: requests in /usr/local/lib/python3.11/dist-packages (from panel) (2.32.3)\n",
            "Requirement already satisfied: tqdm in /usr/local/lib/python3.11/dist-packages (from panel) (4.67.1)\n",
            "Requirement already satisfied: typing-extensions in /usr/local/lib/python3.11/dist-packages (from panel) (4.14.1)\n",
            "Collecting cartopy>=0.18.0 (from geoviews)\n",
            "  Downloading Cartopy-0.24.1-cp311-cp311-manylinux_2_17_x86_64.manylinux2014_x86_64.whl.metadata (7.9 kB)\n",
            "Requirement already satisfied: pyproj in /usr/local/lib/python3.11/dist-packages (from geoviews) (3.7.1)\n",
            "Requirement already satisfied: shapely in /usr/local/lib/python3.11/dist-packages (from geoviews) (2.1.1)\n",
            "Requirement already satisfied: xyzservices in /usr/local/lib/python3.11/dist-packages (from geoviews) (2025.4.0)\n",
            "Requirement already satisfied: Jinja2>=2.9 in /usr/local/lib/python3.11/dist-packages (from bokeh) (3.1.6)\n",
            "Requirement already satisfied: contourpy>=1.2 in /usr/local/lib/python3.11/dist-packages (from bokeh) (1.3.2)\n",
            "Requirement already satisfied: narwhals>=1.13 in /usr/local/lib/python3.11/dist-packages (from bokeh) (1.48.0)\n",
            "Requirement already satisfied: pillow>=7.1.0 in /usr/local/lib/python3.11/dist-packages (from bokeh) (11.3.0)\n",
            "Requirement already satisfied: PyYAML>=3.10 in /usr/local/lib/python3.11/dist-packages (from bokeh) (6.0.2)\n",
            "Requirement already satisfied: tornado>=6.2 in /usr/local/lib/python3.11/dist-packages (from bokeh) (6.4.2)\n",
            "Collecting ipywidgets==8.* (from jupyter_bokeh)\n",
            "  Downloading ipywidgets-8.1.7-py3-none-any.whl.metadata (2.4 kB)\n",
            "Collecting comm>=0.1.3 (from ipywidgets==8.*->jupyter_bokeh)\n",
            "  Downloading comm-0.2.3-py3-none-any.whl.metadata (3.7 kB)\n",
            "Requirement already satisfied: ipython>=6.1.0 in /usr/local/lib/python3.11/dist-packages (from ipywidgets==8.*->jupyter_bokeh) (7.34.0)\n",
            "Requirement already satisfied: traitlets>=4.3.1 in /usr/local/lib/python3.11/dist-packages (from ipywidgets==8.*->jupyter_bokeh) (5.7.1)\n",
            "Collecting widgetsnbextension~=4.0.14 (from ipywidgets==8.*->jupyter_bokeh)\n",
            "  Downloading widgetsnbextension-4.0.14-py3-none-any.whl.metadata (1.6 kB)\n",
            "Requirement already satisfied: jupyterlab_widgets~=3.0.15 in /usr/local/lib/python3.11/dist-packages (from ipywidgets==8.*->jupyter_bokeh) (3.0.15)\n",
            "Requirement already satisfied: matplotlib>=3.6 in /usr/local/lib/python3.11/dist-packages (from cartopy>=0.18.0->geoviews) (3.9.2)\n",
            "Requirement already satisfied: pyshp>=2.3 in /usr/local/lib/python3.11/dist-packages (from cartopy>=0.18.0->geoviews) (2.3.1)\n",
            "Requirement already satisfied: MarkupSafe>=2.0 in /usr/local/lib/python3.11/dist-packages (from Jinja2>=2.9->bokeh) (3.0.2)\n",
            "Requirement already satisfied: python-dateutil>=2.8.2 in /usr/local/lib/python3.11/dist-packages (from pandas>=1.3->hvplot) (2.9.0.post0)\n",
            "Requirement already satisfied: pytz>=2020.1 in /usr/local/lib/python3.11/dist-packages (from pandas>=1.3->hvplot) (2025.2)\n",
            "Requirement already satisfied: tzdata>=2022.7 in /usr/local/lib/python3.11/dist-packages (from pandas>=1.3->hvplot) (2025.2)\n",
            "Requirement already satisfied: certifi in /usr/local/lib/python3.11/dist-packages (from pyproj->geoviews) (2025.7.14)\n",
            "Requirement already satisfied: webencodings in /usr/local/lib/python3.11/dist-packages (from bleach->panel) (0.5.1)\n",
            "Requirement already satisfied: uc-micro-py in /usr/local/lib/python3.11/dist-packages (from linkify-it-py->panel) (1.0.3)\n",
            "Requirement already satisfied: mdurl~=0.1 in /usr/local/lib/python3.11/dist-packages (from markdown-it-py->panel) (0.1.2)\n",
            "Requirement already satisfied: charset-normalizer<4,>=2 in /usr/local/lib/python3.11/dist-packages (from requests->panel) (3.4.2)\n",
            "Requirement already satisfied: idna<4,>=2.5 in /usr/local/lib/python3.11/dist-packages (from requests->panel) (3.10)\n",
            "Requirement already satisfied: urllib3<3,>=1.21.1 in /usr/local/lib/python3.11/dist-packages (from requests->panel) (2.5.0)\n",
            "Requirement already satisfied: setuptools>=18.5 in /usr/local/lib/python3.11/dist-packages (from ipython>=6.1.0->ipywidgets==8.*->jupyter_bokeh) (75.2.0)\n",
            "Requirement already satisfied: jedi>=0.16 in /usr/local/lib/python3.11/dist-packages (from ipython>=6.1.0->ipywidgets==8.*->jupyter_bokeh) (0.19.2)\n",
            "Requirement already satisfied: decorator in /usr/local/lib/python3.11/dist-packages (from ipython>=6.1.0->ipywidgets==8.*->jupyter_bokeh) (4.4.2)\n",
            "Requirement already satisfied: pickleshare in /usr/local/lib/python3.11/dist-packages (from ipython>=6.1.0->ipywidgets==8.*->jupyter_bokeh) (0.7.5)\n",
            "Requirement already satisfied: prompt-toolkit!=3.0.0,!=3.0.1,<3.1.0,>=2.0.0 in /usr/local/lib/python3.11/dist-packages (from ipython>=6.1.0->ipywidgets==8.*->jupyter_bokeh) (3.0.51)\n",
            "Requirement already satisfied: pygments in /usr/local/lib/python3.11/dist-packages (from ipython>=6.1.0->ipywidgets==8.*->jupyter_bokeh) (2.19.2)\n",
            "Requirement already satisfied: backcall in /usr/local/lib/python3.11/dist-packages (from ipython>=6.1.0->ipywidgets==8.*->jupyter_bokeh) (0.2.0)\n",
            "Requirement already satisfied: matplotlib-inline in /usr/local/lib/python3.11/dist-packages (from ipython>=6.1.0->ipywidgets==8.*->jupyter_bokeh) (0.1.7)\n",
            "Requirement already satisfied: pexpect>4.3 in /usr/local/lib/python3.11/dist-packages (from ipython>=6.1.0->ipywidgets==8.*->jupyter_bokeh) (4.9.0)\n",
            "Requirement already satisfied: cycler>=0.10 in /usr/local/lib/python3.11/dist-packages (from matplotlib>=3.6->cartopy>=0.18.0->geoviews) (0.12.1)\n",
            "Requirement already satisfied: fonttools>=4.22.0 in /usr/local/lib/python3.11/dist-packages (from matplotlib>=3.6->cartopy>=0.18.0->geoviews) (4.59.0)\n",
            "Requirement already satisfied: kiwisolver>=1.3.1 in /usr/local/lib/python3.11/dist-packages (from matplotlib>=3.6->cartopy>=0.18.0->geoviews) (1.4.8)\n",
            "Requirement already satisfied: pyparsing>=2.3.1 in /usr/local/lib/python3.11/dist-packages (from matplotlib>=3.6->cartopy>=0.18.0->geoviews) (3.2.3)\n",
            "Requirement already satisfied: six>=1.5 in /usr/local/lib/python3.11/dist-packages (from python-dateutil>=2.8.2->pandas>=1.3->hvplot) (1.17.0)\n",
            "Requirement already satisfied: parso<0.9.0,>=0.8.4 in /usr/local/lib/python3.11/dist-packages (from jedi>=0.16->ipython>=6.1.0->ipywidgets==8.*->jupyter_bokeh) (0.8.4)\n",
            "Requirement already satisfied: ptyprocess>=0.5 in /usr/local/lib/python3.11/dist-packages (from pexpect>4.3->ipython>=6.1.0->ipywidgets==8.*->jupyter_bokeh) (0.7.0)\n",
            "Requirement already satisfied: wcwidth in /usr/local/lib/python3.11/dist-packages (from prompt-toolkit!=3.0.0,!=3.0.1,<3.1.0,>=2.0.0->ipython>=6.1.0->ipywidgets==8.*->jupyter_bokeh) (0.2.13)\n",
            "Downloading hvplot-0.11.3-py3-none-any.whl (170 kB)\n",
            "\u001b[2K   \u001b[90m━━━━━━━━━━━━━━━━━━━━━━━━━━━━━━━━━━━━━━━━\u001b[0m \u001b[32m170.3/170.3 kB\u001b[0m \u001b[31m12.1 MB/s\u001b[0m eta \u001b[36m0:00:00\u001b[0m\n",
            "\u001b[?25hDownloading geoviews-1.14.0-py3-none-any.whl (547 kB)\n",
            "\u001b[2K   \u001b[90m━━━━━━━━━━━━━━━━━━━━━━━━━━━━━━━━━━━━━━━━\u001b[0m \u001b[32m547.3/547.3 kB\u001b[0m \u001b[31m35.3 MB/s\u001b[0m eta \u001b[36m0:00:00\u001b[0m\n",
            "\u001b[?25hDownloading jupyter_bokeh-4.0.5-py3-none-any.whl (148 kB)\n",
            "\u001b[2K   \u001b[90m━━━━━━━━━━━━━━━━━━━━━━━━━━━━━━━━━━━━━━━━\u001b[0m \u001b[32m148.6/148.6 kB\u001b[0m \u001b[31m12.5 MB/s\u001b[0m eta \u001b[36m0:00:00\u001b[0m\n",
            "\u001b[?25hDownloading ipywidgets-8.1.7-py3-none-any.whl (139 kB)\n",
            "\u001b[2K   \u001b[90m━━━━━━━━━━━━━━━━━━━━━━━━━━━━━━━━━━━━━━━━\u001b[0m \u001b[32m139.8/139.8 kB\u001b[0m \u001b[31m12.1 MB/s\u001b[0m eta \u001b[36m0:00:00\u001b[0m\n",
            "\u001b[?25hDownloading Cartopy-0.24.1-cp311-cp311-manylinux_2_17_x86_64.manylinux2014_x86_64.whl (11.7 MB)\n",
            "\u001b[2K   \u001b[90m━━━━━━━━━━━━━━━━━━━━━━━━━━━━━━━━━━━━━━━━\u001b[0m \u001b[32m11.7/11.7 MB\u001b[0m \u001b[31m50.0 MB/s\u001b[0m eta \u001b[36m0:00:00\u001b[0m\n",
            "\u001b[?25hDownloading comm-0.2.3-py3-none-any.whl (7.3 kB)\n",
            "Downloading widgetsnbextension-4.0.14-py3-none-any.whl (2.2 MB)\n",
            "\u001b[2K   \u001b[90m━━━━━━━━━━━━━━━━━━━━━━━━━━━━━━━━━━━━━━━━\u001b[0m \u001b[32m2.2/2.2 MB\u001b[0m \u001b[31m35.3 MB/s\u001b[0m eta \u001b[36m0:00:00\u001b[0m\n",
            "\u001b[?25hInstalling collected packages: widgetsnbextension, comm, ipywidgets, cartopy, jupyter_bokeh, hvplot, geoviews\n",
            "  Attempting uninstall: widgetsnbextension\n",
            "    Found existing installation: widgetsnbextension 3.6.10\n",
            "    Uninstalling widgetsnbextension-3.6.10:\n",
            "      Successfully uninstalled widgetsnbextension-3.6.10\n",
            "  Attempting uninstall: ipywidgets\n",
            "    Found existing installation: ipywidgets 7.7.1\n",
            "    Uninstalling ipywidgets-7.7.1:\n",
            "      Successfully uninstalled ipywidgets-7.7.1\n",
            "Successfully installed cartopy-0.24.1 comm-0.2.3 geoviews-1.14.0 hvplot-0.11.3 ipywidgets-8.1.7 jupyter_bokeh-4.0.5 widgetsnbextension-4.0.14\n"
          ]
        }
      ]
    },
    {
      "cell_type": "markdown",
      "metadata": {
        "id": "dJnguQKe7qjb"
      },
      "source": [
        "# Run spatial Crop Simulation using at pixel-scale resolution\n",
        "\n",
        "In this example, we show how to simulate the potential yield of a specific crop at a fine spatial resolution (250m), aligned with the SoilGrids project resolution. The simulation requires detailed information on soil and weather conditions, as well as specified management practices.\n",
        "\n",
        "## Repository Structure\n",
        "The repository consists of three main components:\n",
        "\n",
        "1. [**Download Spatial Data:**](#downloaddata)  \n",
        "  - Weather Data\n",
        "  - Soil Data\n",
        "\n",
        "2. [**Data Cube Creation:**](#datacube)\n",
        "  - Set configuration parameters\n",
        "  - Spatial visualization\n",
        "  - Export data as NetCDF files\n",
        "\n",
        "3. [**Crop Modeling Using the DSSAT Model:**](#cropmodel)\n",
        "  - Configuration file setup\n",
        "  - Running DSSAT\n",
        "  - Plotting the results"
      ]
    },
    {
      "cell_type": "markdown",
      "source": [
        "## 1. Download Spatial Data<a id=\"downloaddata\"></a>\n"
      ],
      "metadata": {
        "id": "yfak_rordNAO"
      }
    },
    {
      "cell_type": "markdown",
      "source": [
        "\n",
        "### Weather Data"
      ],
      "metadata": {
        "id": "tl-BMbnuwnSo"
      }
    },
    {
      "cell_type": "markdown",
      "source": [
        "In this section, we will download historical weather data . The information will be downloaded mainly from two sources [CHIRPS](https://www.chc.ucsb.edu/data/chirps) and [AgERA5](https://cds.climate.copernicus.eu/datasets/sis-agrometeorological-indicators?tab=overview).\n",
        "\n",
        "To access AgERA5 data, users must provide account credentials. This requires two key pieces of information:\n",
        "\n",
        "- Email – The email address used to register the AgERA5 account.\n",
        "- API Code – A unique code available in the profile settings after account creation.\n",
        "\n",
        "The following command is used to authenticate and access AgERA5 data:"
      ],
      "metadata": {
        "id": "2b03rfhOfk6D"
      }
    },
    {
      "cell_type": "code",
      "source": [
        "YOURUSERAPICODE = 'your_api_code'#\n",
        "YOUREMAIL = 'your_email@example.com'\n",
        "\n",
        "with open(\"/root/.cdsapirc\", \"w\") as f:\n",
        "  f.write(\"url: https://cds.climate.copernicus.eu/api\\nkey: {}\\nemail: \".format(YOURUSERAPICODE, YOUREMAIL))"
      ],
      "metadata": {
        "id": "zv1OtpFodhHL"
      },
      "execution_count": null,
      "outputs": []
    },
    {
      "cell_type": "markdown",
      "source": [
        "After, we set the configuration dictionary that defines the parameters for the weather data download, such as the time period, geographical extent, and the output folder path."
      ],
      "metadata": {
        "id": "gfdWjutyfPd1"
      }
    },
    {
      "cell_type": "code",
      "source": [
        "import os\n",
        "os.chdir('/content/WeatherSoilDataProcessor')\n",
        "\n",
        "import geopandas as gpd\n",
        "from omegaconf import OmegaConf\n",
        "\n",
        "from spatialdata.climate_data import MLTWeatherDataCube, ClimateDataDownload\n",
        "from spatialdata.gis_functions import get_boundaries_from_path\n",
        "\n",
        "configuration_info = {\n",
        "    'DATES': {\n",
        "        'starting_date':'2001-01-01',\n",
        "        'ending_date': '2002-12-31'},\n",
        "    'SPATIAL_INFO': {\n",
        "          'spatial_file': 'data/country.shp',\n",
        "          'extent': None #[-90, 12, -83, 17]\n",
        "    },\n",
        "    'WEATHER': { ## weather information\n",
        "        'variables': { # variables to download\n",
        "              'precipitation': {'mission': 'chirps', 'source': 'chips'},\n",
        "              'solar_radiation': {'mission': 'agera5', 'source': 'agera5'},\n",
        "              'temperature_tmax': {'mission': 'agera5', 'source': 'agera5'},\n",
        "              'temperature_tmin': {'mission': 'agera5', 'source': 'agera5'}\n",
        "        },\n",
        "    },\n",
        "    'GENERAL': {\n",
        "        'suffix': 'hnd',\n",
        "        'ncores': 10,\n",
        "    },\n",
        "    'PATHS':{\n",
        "        'output_path': 'weather/'\n",
        "    }\n",
        "}\n",
        "\n",
        "config = OmegaConf.create(configuration_info)\n",
        "config.SPATIAL_INFO"
      ],
      "metadata": {
        "id": "OLH1aR9Odm4x"
      },
      "execution_count": null,
      "outputs": []
    },
    {
      "cell_type": "code",
      "source": [
        "if config.SPATIAL_INFO.get('spatial_file',None):\n",
        "    extent = get_boundaries_from_path(config.SPATIAL_INFO.get('spatial_file',None), round_numbers = True)\n",
        "else:\n",
        "    extent = config.SPATIAL_INFO.extent\n",
        "\n",
        "print(f\"from {config.DATES.starting_date} to {config.DATES.ending_date}\" )\n",
        "climatedata = ClimateDataDownload(starting_date= config.DATES.starting_date,\n",
        "                                    ending_date= config.DATES.ending_date,\n",
        "                                    xyxy= extent,\n",
        "                                    output_folder= config.PATHS.output_path)\n",
        "\n",
        "climatedata.download_weather_information(config.WEATHER.variables, suffix_output_folder=config.GENERAL.suffix, ncores = 0)"
      ],
      "metadata": {
        "id": "MQlpToOlgnOD"
      },
      "execution_count": null,
      "outputs": []
    },
    {
      "cell_type": "markdown",
      "source": [
        "### Soil Data\n",
        "\n",
        "In this section, we will download soil data information for different depths. Currently the information is downloaded from [SoilGrids](https://soilgrids.org/) project.\n"
      ],
      "metadata": {
        "id": "FywaI_QjqQM3"
      }
    },
    {
      "cell_type": "code",
      "source": [
        "from spatialdata.soil_data import SoilGridDataDonwload\n",
        "from spatialdata.gis_functions import get_boundaries_from_path\n",
        "\n",
        "configuration_info = {\n",
        "\n",
        "    'SPATIAL_INFO': {\n",
        "          'spatial_file': 'data/country.shp',\n",
        "          'extent': None, #[-90, 12, -83, 17],\n",
        "          'crs': 'ESRI:54052' ## soilgrids proejection system\n",
        "    },\n",
        "    'SOIL': { ## weather information\n",
        "          'variables': [\"clay\",  \"sand\", \"silt\", \"wv0010\",\"cec\", \"wv0033\", \"wv1500\"],\n",
        "          'depths': [\"0-5\",\"5-15\",\"15-30\",\"30-60\"]\n",
        "    },\n",
        "    'GENERAL': {\n",
        "        'suffix': 'hnd'\n",
        "    },\n",
        "    'PATHS':{\n",
        "        'output_path': 'soil/'\n",
        "    }\n",
        "}\n",
        "\n",
        "config = OmegaConf.create(configuration_info)\n",
        "config.SPATIAL_INFO"
      ],
      "metadata": {
        "id": "fzgXawz-sL91"
      },
      "execution_count": null,
      "outputs": []
    },
    {
      "cell_type": "code",
      "source": [
        "if config.SPATIAL_INFO.get('spatial_file',None):\n",
        "    extent = get_boundaries_from_path(config.SPATIAL_INFO.get('spatial_file',None), crs = config.SPATIAL_INFO.crs, round_numbers = True)\n",
        "else:\n",
        "    extent = config.SPATIAL_INFO.extent\n",
        "\n",
        "outputpath = os.path.join(config.PATHS.output_path, config.GENERAL.suffix)\n",
        "\n",
        "soildata = SoilGridDataDonwload(soil_layers= config.SOIL.variables,\n",
        "                            depths= config.SOIL.depths,\n",
        "                            output_folder= outputpath)\n",
        "\n",
        "soildata.download_soilgrid(boundaries= extent)"
      ],
      "metadata": {
        "id": "y1HLJkentQHd"
      },
      "execution_count": null,
      "outputs": []
    },
    {
      "cell_type": "markdown",
      "source": [
        "## 2. Data Cube Creation<a id=\"datacube\"></a>"
      ],
      "metadata": {
        "id": "f6lrXgaCy0p0"
      }
    },
    {
      "cell_type": "markdown",
      "metadata": {
        "id": "L1Wg45h07qjc"
      },
      "source": [
        "### Set configuration parameters\n",
        "To implement this, it is necessary to have spatial information for soil and climate. We can create a datacube with dimensions height, width, channel, and date for weather, and height, width, channel, and depth for soil.\n",
        "\n",
        "An example of the spatial configuration is available in the options folder. Here, we will define it as a dictionary variable."
      ]
    },
    {
      "cell_type": "code",
      "source": [
        "from pathlib import Path\n",
        "import sys\n",
        "\n",
        "FILE_PATH = Path.cwd().joinpath('Py_DSSATTools')\n",
        "\n",
        "sys.path.append(\n",
        "    str(FILE_PATH.absolute())\n",
        ")\n"
      ],
      "metadata": {
        "id": "dj-pJjHw-cIe"
      },
      "execution_count": null,
      "outputs": []
    },
    {
      "cell_type": "code",
      "execution_count": null,
      "metadata": {
        "id": "aH9wI3-77qjc"
      },
      "outputs": [],
      "source": [
        "## creating\n",
        "import os\n",
        "os.chdir('/content/WeatherSoilDataProcessor')\n",
        "from crop_modeling.spatial_process import SpatialData\n",
        "\n",
        "configuration_info = {\n",
        "    'GENERAL_INFO': {'projected_crs':'ESRI:54052'},\n",
        "    'SPATIAL_VECTOR': {\n",
        "        'boundaries': \"data/country.shp\" # geo spatial file that will define the spatial boundaries\n",
        "    },\n",
        "    'WEATHER': { ## weather information\n",
        "        'setup_parameters': { # parameters to create the datacube\n",
        "            'paths':{ # path that allows each one of the meteorological variables information\n",
        "                'precipitation': \"weather/precipitation_hnd_raw\",\n",
        "                'srad': \"weather/solar_radiation_hnd_raw\",\n",
        "                'tmax': \"weather/temperature_tmax_hnd_raw\",\n",
        "                'tmin': \"weather/temperature_tmin_hnd_raw\"\n",
        "            },\n",
        "            'crs': 'EPSG:4326', ## spatial coordinates system\n",
        "            'period': ['2001-01-01', '2001-12-31'] ,\n",
        "            'reference_variable': 'precipitation' # variable used as spatial resolution reference\n",
        "        },\n",
        "        'data_cube_path' : None # path to the data cube information if it was already created\n",
        "    },\n",
        "    'SOIL': {\n",
        "        'setup_parameters': { # parameters to create the datacube\n",
        "            'path': \"soil/hnd/\",\n",
        "            'variables': [\"bdod\",\"clay\",\"sand\", \"silt\"],\n",
        "            'depths': [\"0-5\",\"5-15\",\"15-30\",\"30-60\"],\n",
        "            'crs': 'ESRI:54052', ## SOILGRIDS spatial coordinates system\n",
        "            'reference_variable': 'sand' # variable used as spatial resolution reference\n",
        "        },\n",
        "        'data_cube_path' : None # path to the data cube information if it was already created\n",
        "    }\n",
        "}"
      ]
    },
    {
      "cell_type": "code",
      "execution_count": null,
      "metadata": {
        "id": "ES-xQM4X7qjd"
      },
      "outputs": [],
      "source": [
        "\n",
        "# Initialize SpatialData with the configuration dictionary\n",
        "spdata = SpatialData(configuration_dict=configuration_info)\n",
        "\n",
        "# Retrieve climate data\n",
        "spdata.get_climate_data()\n",
        "\n",
        "# Retrieve soil data\n",
        "spdata.get_soil_data()"
      ]
    },
    {
      "cell_type": "code",
      "execution_count": null,
      "metadata": {
        "id": "GW83A-r57qjd"
      },
      "outputs": [],
      "source": [
        "## plots\n",
        "\n",
        "g_simple = spdata.climate.tmin.isel(date = list(range(5))).plot(x=\"x\", y=\"y\", col=\"date\", col_wrap=3, vmax = 300)"
      ]
    },
    {
      "cell_type": "code",
      "execution_count": null,
      "metadata": {
        "id": "U2fgVOMg7qjd"
      },
      "outputs": [],
      "source": [
        "# texture values in soil grids data is multiply by 10\n",
        "g_simple = spdata.soil.clay.plot(x=\"x\", y=\"y\", col=\"depth\", col_wrap=2, vmax = 600)"
      ]
    },
    {
      "cell_type": "code",
      "execution_count": null,
      "metadata": {
        "id": "NOOe2ZHd7qjd"
      },
      "outputs": [],
      "source": [
        "# save data as datacubes\n",
        "spdata._save_asnc(spdata.soil, fn = 'soil/soil_hnd.nc')\n",
        "spdata._save_asnc(spdata.climate, fn = 'weather/weather_hnd.nc')"
      ]
    },
    {
      "cell_type": "markdown",
      "metadata": {
        "id": "QNR390KI7qjd"
      },
      "source": [
        "## 3. Crop Modeling Using the DSSAT Model<a id=\"cropmodel\"></a>\n",
        "\n",
        "\n"
      ]
    },
    {
      "cell_type": "markdown",
      "source": [
        "### Spatial data\n",
        "\n",
        "The previous steps serve as a guide for obtaining the spatial datacubes data, (climate, and weather). In the following example, we will use datacubes that were previously processed for the entire country. These files contain historical climate data spanning a 34-year period. They are available in a Google Drive folder, so you will only need to download them using the gdown function.\n"
      ],
      "metadata": {
        "id": "OWFjZqfvxpYy"
      }
    },
    {
      "cell_type": "code",
      "source": [
        "import os\n",
        "soil_fileid = '1-zibd97Cr1LcPvrrv0ICZur1SWU_WVCn'\n",
        "weather_fileid = '1AoEy49mcuBUS8fs4OFdNEH4E90A33LKD'\n",
        "\n",
        "if not os.path.exists('hnd_soilgrids.nc'):\n",
        "  !gdown --id {soil_fileid} --output hnd_soilgrids.nc\n",
        "\n",
        "if not os.path.exists('hnd_weather.nc'):\n",
        "  !gdown --id {weather_fileid} --output hnd_weather.nc"
      ],
      "metadata": {
        "id": "C-1yGXpYOp_Z",
        "colab": {
          "base_uri": "https://localhost:8080/"
        },
        "outputId": "ed7cf750-a243-4d7c-82e1-a8bce4ccf50c"
      },
      "execution_count": 3,
      "outputs": [
        {
          "output_type": "stream",
          "name": "stdout",
          "text": [
            "/usr/local/lib/python3.11/dist-packages/gdown/__main__.py:140: FutureWarning: Option `--id` was deprecated in version 4.3.1 and will be removed in 5.0. You don't need to pass it anymore to use a file ID.\n",
            "  warnings.warn(\n",
            "Downloading...\n",
            "From (original): https://drive.google.com/uc?id=1-zibd97Cr1LcPvrrv0ICZur1SWU_WVCn\n",
            "From (redirected): https://drive.google.com/uc?id=1-zibd97Cr1LcPvrrv0ICZur1SWU_WVCn&confirm=t&uuid=30d87b91-e105-4189-94f9-2a30965f702b\n",
            "To: /content/hnd_soilgrids.nc\n",
            "100% 191M/191M [00:02<00:00, 76.5MB/s]\n",
            "/usr/local/lib/python3.11/dist-packages/gdown/__main__.py:140: FutureWarning: Option `--id` was deprecated in version 4.3.1 and will be removed in 5.0. You don't need to pass it anymore to use a file ID.\n",
            "  warnings.warn(\n",
            "Downloading...\n",
            "From (original): https://drive.google.com/uc?id=1AoEy49mcuBUS8fs4OFdNEH4E90A33LKD\n",
            "From (redirected): https://drive.google.com/uc?id=1AoEy49mcuBUS8fs4OFdNEH4E90A33LKD&confirm=t&uuid=6f7b59ab-55f2-4ba9-9de5-7573d322e811\n",
            "To: /content/hnd_weather.nc\n",
            "100% 3.95G/3.95G [00:51<00:00, 77.3MB/s]\n"
          ]
        }
      ]
    },
    {
      "cell_type": "markdown",
      "source": [
        "### Configuration file setup"
      ],
      "metadata": {
        "id": "6cvkKPsNqX_u"
      }
    },
    {
      "cell_type": "markdown",
      "source": [
        "To specify that the analysis will be done at pixel-scale, we set 'pixel' in the configuration dictionary.\n",
        "\n",
        "Other parameters to configure include crop parameters and management practices.\n",
        "Below is an example of how to define these parameters. For more examples, please check the options/dssat_options folder."
      ],
      "metadata": {
        "id": "-ZhB2Wdcevv5"
      }
    },
    {
      "cell_type": "code",
      "execution_count": 1,
      "metadata": {
        "id": "D2MWo-jR7qjd",
        "colab": {
          "base_uri": "https://localhost:8080/"
        },
        "outputId": "0106d57f-d051-44a1-c23a-c32727b83dd3"
      },
      "outputs": [
        {
          "output_type": "stream",
          "name": "stderr",
          "text": [
            "/usr/local/lib/python3.11/dist-packages/DSSATTools/__init__.py:88: DeprecationWarning: DSSATTools version 3 is soon to be released. The new version is a major upgrade and will not be backwards compatible. This will be the latest release of DSSATTools version 2.\n",
            "  warnings.warn(\n"
          ]
        }
      ],
      "source": [
        "import os\n",
        "os.chdir('/content/WeatherSoilDataProcessor')\n",
        "from crop_modeling.spatial_process import SpatialCM\n",
        "import numpy as np\n",
        "import pandas as pd\n",
        "\n",
        "cm_configuration = {\n",
        "    'GENERAL_INFO': {\n",
        "        'country': 'Honduras',\n",
        "        'country_code': 'HND', # crountry code\n",
        "        'working_path': 'runs', # the model outputs will be located in this path\n",
        "        'ncores': 15,\n",
        "        'model': 'dssat',\n",
        "        'bin_path': None\n",
        "    },\n",
        "    'SPATIAL_INFO':{\n",
        "        'geospatial_path': '/content/WeatherSoilDataProcessor/data/tb_limitealdeas.shp', # spatial file that contains the region of interest\n",
        "        'feature_name': 'GEOCODIGO', ## an unique code that represent each region of interest\n",
        "        'aggregate_by' : 'pixel',\n",
        "        'soil_path' : '/content/hnd_soilgrids.nc',\n",
        "        'weather_path': '/content/hnd_weather.nc',\n",
        "        'scale_factor': 10 # scale factor for soil and weather spatial resolution combination\n",
        "    },\n",
        "    'CROP': {\n",
        "        'name': 'Maize', # crop name\n",
        "        'cultivar': 'IB1072', # cultivar\n",
        "        'cultivar_file': None # optional for the cases that you have a cultivar that is not in DSSATTools default cultivars\n",
        "    },\n",
        "    'MANAGEMENT':{\n",
        "        'planting_date': '1991-03-01',\n",
        "        'harvesting_date': None,\n",
        "        'plantingWindow': 30, # planting window in weeks\n",
        "        'fertilizer_schedule': {\n",
        "            'days_after_planting': None,\n",
        "            'npk': None\n",
        "        },\n",
        "        'index_soilwat': 1,\n",
        "        'template': 'crop_modeling/dssat/exp_files/KEAG8104.MZX'\n",
        "    }\n",
        "}\n",
        "\n"
      ]
    },
    {
      "cell_type": "markdown",
      "source": [
        "### Running DSSAT"
      ],
      "metadata": {
        "id": "w6Dstwf8yRtu"
      }
    },
    {
      "cell_type": "code",
      "execution_count": 2,
      "metadata": {
        "id": "a4fwzZ-Y7qje",
        "colab": {
          "base_uri": "https://localhost:8080/",
          "height": 205
        },
        "outputId": "0d5a7d2e-fa21-46b8-f843-f9abd382b92d"
      },
      "outputs": [
        {
          "output_type": "stream",
          "name": "stdout",
          "text": [
            "loaded from /content/hnd_soilgrids.nc\n",
            "loaded from /content/hnd_weather.nc\n"
          ]
        },
        {
          "output_type": "execute_result",
          "data": {
            "text/plain": [
              "    GEOCODIGO                  ALDEA COD_ALDEA COD_MUNI COD_DEPTO      KM2  \\\n",
              "932    150149  Pusunca o San Agustín    150149     1501        15  20.8814   \n",
              "\n",
              "     DENSIDAD       MUNI    DEPTO      AREA_HA  \\\n",
              "932   51.0981  Juticalpa  Olancho  2088.138366   \n",
              "\n",
              "                                              geometry  \n",
              "932  POLYGON ((-86.11061 14.70222, -86.10999 14.702...  "
            ],
            "text/html": [
              "\n",
              "  <div id=\"df-aad6875f-8aaf-4e24-93ef-cfe7df7c69ea\" class=\"colab-df-container\">\n",
              "    <div>\n",
              "<style scoped>\n",
              "    .dataframe tbody tr th:only-of-type {\n",
              "        vertical-align: middle;\n",
              "    }\n",
              "\n",
              "    .dataframe tbody tr th {\n",
              "        vertical-align: top;\n",
              "    }\n",
              "\n",
              "    .dataframe thead th {\n",
              "        text-align: right;\n",
              "    }\n",
              "</style>\n",
              "<table border=\"1\" class=\"dataframe\">\n",
              "  <thead>\n",
              "    <tr style=\"text-align: right;\">\n",
              "      <th></th>\n",
              "      <th>GEOCODIGO</th>\n",
              "      <th>ALDEA</th>\n",
              "      <th>COD_ALDEA</th>\n",
              "      <th>COD_MUNI</th>\n",
              "      <th>COD_DEPTO</th>\n",
              "      <th>KM2</th>\n",
              "      <th>DENSIDAD</th>\n",
              "      <th>MUNI</th>\n",
              "      <th>DEPTO</th>\n",
              "      <th>AREA_HA</th>\n",
              "      <th>geometry</th>\n",
              "    </tr>\n",
              "  </thead>\n",
              "  <tbody>\n",
              "    <tr>\n",
              "      <th>932</th>\n",
              "      <td>150149</td>\n",
              "      <td>Pusunca o San Agustín</td>\n",
              "      <td>150149</td>\n",
              "      <td>1501</td>\n",
              "      <td>15</td>\n",
              "      <td>20.8814</td>\n",
              "      <td>51.0981</td>\n",
              "      <td>Juticalpa</td>\n",
              "      <td>Olancho</td>\n",
              "      <td>2088.138366</td>\n",
              "      <td>POLYGON ((-86.11061 14.70222, -86.10999 14.702...</td>\n",
              "    </tr>\n",
              "  </tbody>\n",
              "</table>\n",
              "</div>\n",
              "    <div class=\"colab-df-buttons\">\n",
              "\n",
              "  <div class=\"colab-df-container\">\n",
              "    <button class=\"colab-df-convert\" onclick=\"convertToInteractive('df-aad6875f-8aaf-4e24-93ef-cfe7df7c69ea')\"\n",
              "            title=\"Convert this dataframe to an interactive table.\"\n",
              "            style=\"display:none;\">\n",
              "\n",
              "  <svg xmlns=\"http://www.w3.org/2000/svg\" height=\"24px\" viewBox=\"0 -960 960 960\">\n",
              "    <path d=\"M120-120v-720h720v720H120Zm60-500h600v-160H180v160Zm220 220h160v-160H400v160Zm0 220h160v-160H400v160ZM180-400h160v-160H180v160Zm440 0h160v-160H620v160ZM180-180h160v-160H180v160Zm440 0h160v-160H620v160Z\"/>\n",
              "  </svg>\n",
              "    </button>\n",
              "\n",
              "  <style>\n",
              "    .colab-df-container {\n",
              "      display:flex;\n",
              "      gap: 12px;\n",
              "    }\n",
              "\n",
              "    .colab-df-convert {\n",
              "      background-color: #E8F0FE;\n",
              "      border: none;\n",
              "      border-radius: 50%;\n",
              "      cursor: pointer;\n",
              "      display: none;\n",
              "      fill: #1967D2;\n",
              "      height: 32px;\n",
              "      padding: 0 0 0 0;\n",
              "      width: 32px;\n",
              "    }\n",
              "\n",
              "    .colab-df-convert:hover {\n",
              "      background-color: #E2EBFA;\n",
              "      box-shadow: 0px 1px 2px rgba(60, 64, 67, 0.3), 0px 1px 3px 1px rgba(60, 64, 67, 0.15);\n",
              "      fill: #174EA6;\n",
              "    }\n",
              "\n",
              "    .colab-df-buttons div {\n",
              "      margin-bottom: 4px;\n",
              "    }\n",
              "\n",
              "    [theme=dark] .colab-df-convert {\n",
              "      background-color: #3B4455;\n",
              "      fill: #D2E3FC;\n",
              "    }\n",
              "\n",
              "    [theme=dark] .colab-df-convert:hover {\n",
              "      background-color: #434B5C;\n",
              "      box-shadow: 0px 1px 3px 1px rgba(0, 0, 0, 0.15);\n",
              "      filter: drop-shadow(0px 1px 2px rgba(0, 0, 0, 0.3));\n",
              "      fill: #FFFFFF;\n",
              "    }\n",
              "  </style>\n",
              "\n",
              "    <script>\n",
              "      const buttonEl =\n",
              "        document.querySelector('#df-aad6875f-8aaf-4e24-93ef-cfe7df7c69ea button.colab-df-convert');\n",
              "      buttonEl.style.display =\n",
              "        google.colab.kernel.accessAllowed ? 'block' : 'none';\n",
              "\n",
              "      async function convertToInteractive(key) {\n",
              "        const element = document.querySelector('#df-aad6875f-8aaf-4e24-93ef-cfe7df7c69ea');\n",
              "        const dataTable =\n",
              "          await google.colab.kernel.invokeFunction('convertToInteractive',\n",
              "                                                    [key], {});\n",
              "        if (!dataTable) return;\n",
              "\n",
              "        const docLinkHtml = 'Like what you see? Visit the ' +\n",
              "          '<a target=\"_blank\" href=https://colab.research.google.com/notebooks/data_table.ipynb>data table notebook</a>'\n",
              "          + ' to learn more about interactive tables.';\n",
              "        element.innerHTML = '';\n",
              "        dataTable['output_type'] = 'display_data';\n",
              "        await google.colab.output.renderOutput(dataTable, element);\n",
              "        const docLink = document.createElement('div');\n",
              "        docLink.innerHTML = docLinkHtml;\n",
              "        element.appendChild(docLink);\n",
              "      }\n",
              "    </script>\n",
              "  </div>\n",
              "\n",
              "\n",
              "  <div id=\"id_50d0f1b6-77af-408a-9851-c0d76eaf0331\">\n",
              "    <style>\n",
              "      .colab-df-generate {\n",
              "        background-color: #E8F0FE;\n",
              "        border: none;\n",
              "        border-radius: 50%;\n",
              "        cursor: pointer;\n",
              "        display: none;\n",
              "        fill: #1967D2;\n",
              "        height: 32px;\n",
              "        padding: 0 0 0 0;\n",
              "        width: 32px;\n",
              "      }\n",
              "\n",
              "      .colab-df-generate:hover {\n",
              "        background-color: #E2EBFA;\n",
              "        box-shadow: 0px 1px 2px rgba(60, 64, 67, 0.3), 0px 1px 3px 1px rgba(60, 64, 67, 0.15);\n",
              "        fill: #174EA6;\n",
              "      }\n",
              "\n",
              "      [theme=dark] .colab-df-generate {\n",
              "        background-color: #3B4455;\n",
              "        fill: #D2E3FC;\n",
              "      }\n",
              "\n",
              "      [theme=dark] .colab-df-generate:hover {\n",
              "        background-color: #434B5C;\n",
              "        box-shadow: 0px 1px 3px 1px rgba(0, 0, 0, 0.15);\n",
              "        filter: drop-shadow(0px 1px 2px rgba(0, 0, 0, 0.3));\n",
              "        fill: #FFFFFF;\n",
              "      }\n",
              "    </style>\n",
              "    <button class=\"colab-df-generate\" onclick=\"generateWithVariable('roi')\"\n",
              "            title=\"Generate code using this dataframe.\"\n",
              "            style=\"display:none;\">\n",
              "\n",
              "  <svg xmlns=\"http://www.w3.org/2000/svg\" height=\"24px\"viewBox=\"0 0 24 24\"\n",
              "       width=\"24px\">\n",
              "    <path d=\"M7,19H8.4L18.45,9,17,7.55,7,17.6ZM5,21V16.75L18.45,3.32a2,2,0,0,1,2.83,0l1.4,1.43a1.91,1.91,0,0,1,.58,1.4,1.91,1.91,0,0,1-.58,1.4L9.25,21ZM18.45,9,17,7.55Zm-12,3A5.31,5.31,0,0,0,4.9,8.1,5.31,5.31,0,0,0,1,6.5,5.31,5.31,0,0,0,4.9,4.9,5.31,5.31,0,0,0,6.5,1,5.31,5.31,0,0,0,8.1,4.9,5.31,5.31,0,0,0,12,6.5,5.46,5.46,0,0,0,6.5,12Z\"/>\n",
              "  </svg>\n",
              "    </button>\n",
              "    <script>\n",
              "      (() => {\n",
              "      const buttonEl =\n",
              "        document.querySelector('#id_50d0f1b6-77af-408a-9851-c0d76eaf0331 button.colab-df-generate');\n",
              "      buttonEl.style.display =\n",
              "        google.colab.kernel.accessAllowed ? 'block' : 'none';\n",
              "\n",
              "      buttonEl.onclick = () => {\n",
              "        google.colab.notebook.generateWithVariable('roi');\n",
              "      }\n",
              "      })();\n",
              "    </script>\n",
              "  </div>\n",
              "\n",
              "    </div>\n",
              "  </div>\n"
            ],
            "application/vnd.google.colaboratory.intrinsic+json": {
              "type": "dataframe",
              "variable_name": "roi",
              "repr_error": "0"
            }
          },
          "metadata": {},
          "execution_count": 2
        }
      ],
      "source": [
        "# Initialize the spatial crop modeling class\n",
        "cm_sp = SpatialCM(configuration_dict=cm_configuration)\n",
        "geocode = '150149'\n",
        "# Specify the region of interest by its geocode this can be also done using the feature index\n",
        "roi = cm_sp.geo_features.loc[cm_sp.geo_features['GEOCODIGO']==str(geocode)]\n",
        "roi_name = roi[cm_sp.config.SPATIAL_INFO.feature_name].values[0]\n",
        "roi\n",
        "#cm_sp.geo_features['GEOCODIGO']"
      ]
    },
    {
      "cell_type": "code",
      "source": [
        "\n",
        "import shutil\n",
        "if os.path.exists(f'/content/WeatherSoilDataProcessor/runs/{geocode}'):\n",
        "  shutil.rmtree(f'/content/WeatherSoilDataProcessor/runs/{geocode}', ignore_errors=False, onerror=None)"
      ],
      "metadata": {
        "id": "5tJ4XKuIc_ll"
      },
      "execution_count": 5,
      "outputs": []
    },
    {
      "cell_type": "code",
      "execution_count": null,
      "metadata": {
        "colab": {
          "base_uri": "https://localhost:8080/"
        },
        "id": "Ojy8yVEF7qje",
        "outputId": "4c99b30d-5a41-4d37-964d-a3f6e481a1d3"
      },
      "outputs": [
        {
          "output_type": "stream",
          "name": "stderr",
          "text": [
            "100%|██████████| 51/51 [01:11<00:00,  1.41s/it]\n"
          ]
        },
        {
          "output_type": "stream",
          "name": "stdout",
          "text": [
            "Configuration file written: runs/150149/114/experimental_file_config.yaml\n",
            "experimental file created: ['runs/150149/114/EXPS0001.MZX']\n",
            "Configuration file written: runs/150149/100/experimental_file_config.yaml\n",
            "experimental file created: ['runs/150149/100/EXPS0001.MZX']\n",
            "Configuration file written: runs/150149/113/experimental_file_config.yaml\n",
            "experimental file created: ['runs/150149/113/EXPS0001.MZX']\n",
            "Configuration file written: runs/150149/93/experimental_file_config.yaml\n",
            "experimental file created: ['runs/150149/93/EXPS0001.MZX']\n",
            "Configuration file written: runs/150149/127/experimental_file_config.yaml\n",
            "experimental file created: ['runs/150149/127/EXPS0001.MZX']\n",
            "Configuration file written: runs/150149/116/experimental_file_config.yaml\n",
            "experimental file created: ['runs/150149/116/EXPS0001.MZX']\n",
            "Configuration file written: runs/150149/85/experimental_file_config.yaml\n",
            "experimental file created: ['runs/150149/85/EXPS0001.MZX']\n",
            "Configuration file written: runs/150149/111/experimental_file_config.yaml\n",
            "experimental file created: ['runs/150149/111/EXPS0001.MZX']\n",
            "Configuration file written: runs/150149/112/experimental_file_config.yaml\n",
            "experimental file created: ['runs/150149/112/EXPS0001.MZX']\n",
            "Configuration file written: runs/150149/83/experimental_file_config.yaml\n",
            "experimental file created: ['runs/150149/83/EXPS0001.MZX']\n",
            "Configuration file written: runs/150149/117/experimental_file_config.yaml\n",
            "experimental file created: ['runs/150149/117/EXPS0001.MZX']\n",
            "Configuration file written: runs/150149/76/experimental_file_config.yaml\n",
            "experimental file created: ['runs/150149/76/EXPS0001.MZX']\n",
            "Configuration file written: runs/150149/110/experimental_file_config.yaml\n",
            "experimental file created: ['runs/150149/110/EXPS0001.MZX']\n",
            "Configuration file written: runs/150149/126/experimental_file_config.yaml\n",
            "experimental file created: ['runs/150149/126/EXPS0001.MZX']\n",
            "Configuration file written: runs/150149/128/experimental_file_config.yaml\n",
            "experimental file created: ['runs/150149/128/EXPS0001.MZX']\n",
            "Configuration file written: runs/150149/103/experimental_file_config.yaml\n",
            "experimental file created: ['runs/150149/103/EXPS0001.MZX']\n",
            "Configuration file written: runs/150149/129/experimental_file_config.yaml\n",
            "experimental file created: ['runs/150149/129/EXPS0001.MZX']\n",
            "Configuration file written: runs/150149/98/experimental_file_config.yaml\n",
            "experimental file created: ['runs/150149/98/EXPS0001.MZX']\n",
            "Configuration file written: runs/150149/133/experimental_file_config.yaml\n",
            "experimental file created: ['runs/150149/133/EXPS0001.MZX']\n",
            "Configuration file written: runs/150149/104/experimental_file_config.yaml\n",
            "experimental file created: ['runs/150149/104/EXPS0001.MZX']\n",
            "Configuration file written: runs/150149/130/experimental_file_config.yaml\n",
            "experimental file created: ['runs/150149/130/EXPS0001.MZX']\n",
            "Configuration file written: runs/150149/109/experimental_file_config.yaml\n",
            "experimental file created: ['runs/150149/109/EXPS0001.MZX']\n",
            "Configuration file written: runs/150149/97/experimental_file_config.yaml\n",
            "experimental file created: ['runs/150149/97/EXPS0001.MZX']\n",
            "Configuration file written: runs/150149/94/experimental_file_config.yaml\n",
            "experimental file created: ['runs/150149/94/EXPS0001.MZX']\n",
            "Configuration file written: runs/150149/118/experimental_file_config.yaml\n",
            "experimental file created: ['runs/150149/118/EXPS0001.MZX']\n",
            "Configuration file written: runs/150149/79/experimental_file_config.yaml\n",
            "experimental file created: ['runs/150149/79/EXPS0001.MZX']\n",
            "Configuration file written: runs/150149/95/experimental_file_config.yaml\n",
            "experimental file created: ['runs/150149/95/EXPS0001.MZX']\n",
            "Configuration file written: runs/150149/146/experimental_file_config.yaml\n",
            "experimental file created: ['runs/150149/146/EXPS0001.MZX']\n",
            "Configuration file written: runs/150149/87/experimental_file_config.yaml\n",
            "experimental file created: ['runs/150149/87/EXPS0001.MZX']\n",
            "Configuration file written: runs/150149/108/experimental_file_config.yaml\n",
            "experimental file created: ['runs/150149/108/EXPS0001.MZX']\n",
            "Configuration file written: runs/150149/101/experimental_file_config.yaml\n",
            "experimental file created: ['runs/150149/101/EXPS0001.MZX']\n",
            "Configuration file written: runs/150149/84/experimental_file_config.yaml\n",
            "experimental file created: ['runs/150149/84/EXPS0001.MZX']\n",
            "Configuration file written: runs/150149/82/experimental_file_config.yaml\n",
            "experimental file created: ['runs/150149/82/EXPS0001.MZX']\n",
            "Configuration file written: runs/150149/102/experimental_file_config.yaml\n",
            "experimental file created: ['runs/150149/102/EXPS0001.MZX']\n",
            "Configuration file written: runs/150149/147/experimental_file_config.yaml\n",
            "experimental file created: ['runs/150149/147/EXPS0001.MZX']\n",
            "Configuration file written: runs/150149/107/experimental_file_config.yaml\n",
            "experimental file created: ['runs/150149/107/EXPS0001.MZX']\n",
            "Configuration file written: runs/150149/99/experimental_file_config.yaml\n",
            "experimental file created: ['runs/150149/99/EXPS0001.MZX']\n",
            "Configuration file written: runs/150149/81/experimental_file_config.yaml\n",
            "experimental file created: ['runs/150149/81/EXPS0001.MZX']\n",
            "Configuration file written: runs/150149/132/experimental_file_config.yaml\n",
            "experimental file created: ['runs/150149/132/EXPS0001.MZX']\n",
            "Configuration file written: runs/150149/86/experimental_file_config.yaml\n",
            "experimental file created: ['runs/150149/86/EXPS0001.MZX']\n",
            "Configuration file written: runs/150149/125/experimental_file_config.yaml\n",
            "experimental file created: ['runs/150149/125/EXPS0001.MZX']\n",
            "Configuration file written: runs/150149/96/experimental_file_config.yaml\n",
            "experimental file created: ['runs/150149/96/EXPS0001.MZX']\n",
            "Configuration file written: runs/150149/131/experimental_file_config.yaml\n",
            "experimental file created: ['runs/150149/131/EXPS0001.MZX']\n",
            "Configuration file written: runs/150149/77/experimental_file_config.yaml\n",
            "experimental file created: ['runs/150149/77/EXPS0001.MZX']\n",
            "Configuration file written: runs/150149/145/experimental_file_config.yaml\n",
            "experimental file created: ['runs/150149/145/EXPS0001.MZX']\n",
            "Configuration file written: runs/150149/80/experimental_file_config.yaml\n",
            "experimental file created: ['runs/150149/80/EXPS0001.MZX']\n",
            "Configuration file written: runs/150149/78/experimental_file_config.yaml\n",
            "experimental file created: ['runs/150149/78/EXPS0001.MZX']\n",
            "Configuration file written: runs/150149/119/experimental_file_config.yaml\n",
            "experimental file created: ['runs/150149/119/EXPS0001.MZX']\n",
            "Configuration file written: runs/150149/92/experimental_file_config.yaml\n",
            "experimental file created: ['runs/150149/92/EXPS0001.MZX']\n",
            "Configuration file written: runs/150149/115/experimental_file_config.yaml\n",
            "experimental file created: ['runs/150149/115/EXPS0001.MZX']\n",
            "Configuration file written: runs/150149/141/experimental_file_config.yaml\n",
            "experimental file created: ['runs/150149/141/EXPS0001.MZX']\n"
          ]
        },
        {
          "output_type": "stream",
          "name": "stderr",
          "text": [
            "  2%|▏         | 1/51 [00:36<30:20, 36.41s/it]"
          ]
        }
      ],
      "source": [
        "cm_sp.set_up_folders(site = roi_name)\n",
        "\n",
        "# Create soil and weather files for the selected region\n",
        "workingpath = cm_sp.create_roi_sp_data(\n",
        "    roi= roi,\n",
        "    export_spatial_data= True\n",
        ")\n",
        "if workingpath is not None:\n",
        "    # Locate environmental working paths\n",
        "    cm_sp.model.find_envworking_paths(cm_sp._tmp_path, 'WTH')\n",
        "\n",
        "    # Set up crop files\n",
        "    cm_sp.model.set_up_crop(crop=cm_sp.crop, cultivar=cm_sp.cultivar)\n",
        "\n",
        "    # Set up management files\n",
        "    cm_sp.model.set_up_management(crop=cm_sp.crop, cultivar=cm_sp.cultivar, **cm_sp.config.MANAGEMENT)\n",
        "\n",
        "    # run the simulation\n",
        "    dssath_path = cm_sp.config.GENERAL_INFO.get('dssat_path', None)\n",
        "    completed_sims =cm_sp.model.run(cm_sp.model.crop_code, crop=cm_sp.crop,planting_window=cm_sp.config.MANAGEMENT.plantingWindow,\n",
        "                                    ncores = cm_sp.config.GENERAL_INFO.ncores,\n",
        "                                        bin_path = cm_sp.config.GENERAL_INFO.bin_path, remove_tmp_folder=True)\n",
        "    print(completed_sims)\n",
        "else:\n",
        "    print('there is no information')"
      ]
    },
    {
      "cell_type": "markdown",
      "metadata": {
        "id": "xHPyD2vT7qje"
      },
      "source": [
        "### Crop simulation outputs\n",
        "\n",
        "After completing the simulation, the next step is to generate the output maps.\n"
      ]
    },
    {
      "cell_type": "code",
      "execution_count": null,
      "metadata": {
        "id": "s4W-LLjG7qje"
      },
      "outputs": [],
      "source": [
        "from crop_modeling.dssat.output import update_dssat_data_using_path\n",
        "from crop_modeling.spatial_process import create_mlt_yield_raster\n",
        "import rioxarray as rio\n",
        "import matplotlib.pyplot as plt\n",
        "\n",
        "\n",
        "refraster = rio.open_rasterio(os.path.join(cm_sp._tmp_path,'ref_raster.tif'))\n",
        "model_data = update_dssat_data_using_path(cm_sp._tmp_path)\n",
        "\n",
        "mlt_pot_yield = create_mlt_yield_raster(refraster, model_data, ycol_name='HWAH')\n"
      ]
    },
    {
      "cell_type": "markdown",
      "source": [
        "### Plotting the results"
      ],
      "metadata": {
        "id": "13WXAXD-yWSJ"
      }
    },
    {
      "cell_type": "code",
      "source": [
        "import hvplot.xarray\n",
        "import holoviews as hv\n",
        "import panel as pn\n",
        "\n",
        "hv.extension(\"bokeh\")\n",
        "minlim = mlt_pot_yield.HWAH.min().values\n",
        "maxlim = mlt_pot_yield.HWAH.max().values\n",
        "\n",
        "mltmap = mlt_pot_yield.HWAH.hvplot.image(x='x', y='y', groupby = 'date',frame_height = 600, frame_width= 400, cmap='YlGnBu', fontscale=1.6, crs='EPSG:4326', tiles = 'EsriImagery', clim=(minlim,maxlim))\n",
        "\n",
        "dmap_panel = pn.panel(mltmap)\n",
        "dmap_panel\n"
      ],
      "metadata": {
        "id": "GYj1p6Ue88P1"
      },
      "execution_count": null,
      "outputs": []
    },
    {
      "cell_type": "markdown",
      "source": [
        "### Exporting the results"
      ],
      "metadata": {
        "id": "SOpYSy6pL4dW"
      }
    },
    {
      "cell_type": "code",
      "source": [
        "from crop_modeling.utils.process import get_crs_fromxarray,set_encoding, check_crs_inxrdataset\n",
        "\n",
        "dcengine = 'netcdf4'\n",
        "encoding = set_encoding(mlt_pot_yield)\n",
        "xrdata = check_crs_inxrdataset(mlt_pot_yield)\n",
        "xrdata.to_netcdf(f'simlations_{geocode}.nc', encoding = encoding, engine = dcengine)\n",
        "\n"
      ],
      "metadata": {
        "id": "XIAnzWNtr6yy"
      },
      "execution_count": null,
      "outputs": []
    },
    {
      "cell_type": "code",
      "source": [
        "import hvplot.pandas\n",
        "boxplot = mlt_pot_yield.HWAH.hvplot.box('HWAH', by=['date'], rot=90, box_fill_color='lightblue', width=1600, height=450).opts(ylim=(1285,9969))\n",
        "dmap_panel = pn.panel(boxplot)\n",
        "dmap_panel"
      ],
      "metadata": {
        "id": "EzFEuls7BP06"
      },
      "execution_count": null,
      "outputs": []
    },
    {
      "cell_type": "code",
      "source": [
        "from crop_modeling.utils.output_transforms import summarize_spatial_yields_by_time_window\n",
        "\n",
        "summ_yield  =summarize_spatial_yields_by_time_window(xrdmlt_pot_yieldata, plantingWindow= 30)\n"
      ],
      "metadata": {
        "id": "Hv35tu2pf7uJ"
      },
      "execution_count": null,
      "outputs": []
    },
    {
      "cell_type": "code",
      "source": [
        "\n"
      ],
      "metadata": {
        "id": "Wfof4rbbgPvu"
      },
      "execution_count": null,
      "outputs": []
    }
  ],
  "metadata": {
    "kernelspec": {
      "display_name": "agwise",
      "language": "python",
      "name": "python3"
    },
    "language_info": {
      "codemirror_mode": {
        "name": "ipython",
        "version": 3
      },
      "file_extension": ".py",
      "mimetype": "text/x-python",
      "name": "python",
      "nbconvert_exporter": "python",
      "pygments_lexer": "ipython3",
      "version": "3.9.20"
    },
    "colab": {
      "provenance": [],
      "include_colab_link": true
    }
  },
  "nbformat": 4,
  "nbformat_minor": 0
}