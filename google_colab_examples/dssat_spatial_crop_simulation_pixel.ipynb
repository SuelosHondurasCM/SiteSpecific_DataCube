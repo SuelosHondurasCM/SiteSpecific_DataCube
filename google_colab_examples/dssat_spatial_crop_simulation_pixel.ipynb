{
  "cells": [
    {
      "cell_type": "markdown",
      "metadata": {
        "id": "view-in-github",
        "colab_type": "text"
      },
      "source": [
        "<a href=\"https://colab.research.google.com/github/anaguilarar/WeatherSoilDataProcessor/blob/main/google_colab_examples/dssat_spatial_crop_simulation_pixel.ipynb\" target=\"_parent\"><img src=\"https://colab.research.google.com/assets/colab-badge.svg\" alt=\"Open In Colab\"/></a>"
      ]
    },
    {
      "cell_type": "markdown",
      "source": [
        "This notebook demonstrates how to perform a spatial crop simulation at a pixel-scale resolution using the WeatherSoilDataProcessor library and the DSSAT model. It covers downloading necessary spatial data (weather and soil), creating data cubes, and running the crop model simulation."
      ],
      "metadata": {
        "id": "TjkW5H3xQlH8"
      }
    },
    {
      "cell_type": "code",
      "source": [
        "!git clone https://github.com/anaguilarar/WeatherSoilDataProcessor.git\n",
        "\n",
        "import os\n",
        "os.chdir('/content/WeatherSoilDataProcessor')\n",
        "\n",
        "!pip install -r /content/WeatherSoilDataProcessor/requirements.txt"
      ],
      "metadata": {
        "id": "yqW_tn6byf2Q"
      },
      "execution_count": null,
      "outputs": []
    },
    {
      "cell_type": "code",
      "source": [
        "!pip install hvplot panel param geoviews bokeh jupyter_bokeh -U\n",
        "from google.colab import output\n",
        "output.enable_custom_widget_manager()"
      ],
      "metadata": {
        "id": "11diXEoSyhvj"
      },
      "execution_count": null,
      "outputs": []
    },
    {
      "cell_type": "markdown",
      "metadata": {
        "id": "dJnguQKe7qjb"
      },
      "source": [
        "# Run Spatial Crop Simulation at Pixel-Scale Resolution\n",
        "\n",
        "This example demonstrates how to simulate the potential yield of a specific crop at a fine spatial resolution (250m), aligning with the SoilGrids project resolution. The simulation requires detailed information on soil and weather conditions, as well as specified management practices.\n",
        "\n",
        "## Repository Structure\n",
        "\n",
        "The repository is organized into three main components:\n",
        "\n",
        "1. [**Download Spatial Data:**](#downloaddata)  \n",
        "   - Weather Data\n",
        "   - Soil Data\n",
        "\n",
        "2. [**Data Cube Creation:**](#datacube)\n",
        "   - Set configuration parameters\n",
        "   - Spatial visualization\n",
        "   - Export data as NetCDF files\n",
        "\n",
        "3. [**Crop Modeling Using the DSSAT Model:**](#cropmodel)\n",
        "   - Configuration file setup\n",
        "   - Running DSSAT\n",
        "   - Plotting the results"
      ]
    },
    {
      "cell_type": "markdown",
      "source": [
        "## 1. Download Spatial Data<a id=\"downloaddata\"></a>\n"
      ],
      "metadata": {
        "id": "yfak_rordNAO"
      }
    },
    {
      "cell_type": "markdown",
      "metadata": {
        "id": "083f0cf5"
      },
      "source": [
        "### Weather Data"
      ]
    },
    {
      "cell_type": "markdown",
      "metadata": {
        "id": "9c3c1095"
      },
      "source": [
        "In this section, we will download historical weather data. The information will be downloaded mainly from two sources: [CHIRPS](https://www.chc.ucsb.edu/data/chirps) and [AgERA5](https://cds.climate.copernicus.eu/datasets/sis-agrometeorological-indicators?tab=overview).\n",
        "\n",
        "To access AgERA5 data, users must provide account credentials. This requires two key pieces of information:\n",
        "\n",
        "- Email: The email address used to register the AgERA5 account.\n",
        "- API Code: A unique code available in the profile settings after account creation.\n",
        "\n",
        "The following command is used to authenticate and access AgERA5 data:"
      ]
    },
    {
      "cell_type": "code",
      "source": [
        "YOURUSERAPICODE = '06d3e721-5caf-4603-87ce-4a20dac9b6aa'#\n",
        "YOUREMAIL = 'andres.aguilar@cgiar.org'\n",
        "\n",
        "with open(\"/root/.cdsapirc\", \"w\") as f:\n",
        "  f.write(\"url: https://cds.climate.copernicus.eu/api\\nkey: {}\\nemail: \".format(YOURUSERAPICODE, YOUREMAIL))"
      ],
      "metadata": {
        "id": "zv1OtpFodhHL"
      },
      "execution_count": null,
      "outputs": []
    },
    {
      "cell_type": "markdown",
      "metadata": {
        "id": "7a42a314"
      },
      "source": [
        "Afterward, we set the configuration dictionary that defines the parameters for the weather data download, such as the time period, geographical extent, and the output folder path."
      ]
    },
    {
      "cell_type": "code",
      "source": [
        "import os\n",
        "os.chdir('/content/WeatherSoilDataProcessor')\n",
        "\n",
        "import geopandas as gpd\n",
        "from omegaconf import OmegaConf\n",
        "\n",
        "from spatialdata.climate_data import MLTWeatherDataCube, ClimateDataDownload\n",
        "from spatialdata.gis_functions import get_boundaries_from_path\n",
        "\n",
        "configuration_info = {\n",
        "    'DATES': {\n",
        "        'starting_date':'2000-01-01', # Start date for weather data download\n",
        "        'ending_date': '2019-12-31'}, # End date for weather data download\n",
        "    'SPATIAL_INFO': {\n",
        "          'spatial_file': None, # Path to a spatial file (e.g., shapefile) to define the extent\n",
        "          'extent': None # List of [min_lon, min_lat, max_lon, max_lat] to define the extent\n",
        "    },\n",
        "    'WEATHER': { ## weather information\n",
        "        'variables': { # variables to download\n",
        "              'precipitation': {'mission': 'chirps', 'source': 'chirps'},\n",
        "              'solar_radiation': {'mission': 'agera5', 'source': 'agera5'},\n",
        "              'temperature_tmax': {'mission': 'agera5', 'source': 'agera5'},\n",
        "              'temperature_tmin': {'mission': 'agera5', 'source': 'agera5'}\n",
        "        },\n",
        "    },\n",
        "    'GENERAL': {\n",
        "        'suffix': \"mwi\",   # ISO3 code for the country of interest\n",
        "        'ncores': 10, # Number of cores to use for parallel processing (0 means use all available cores)\n",
        "    },\n",
        "    'PATHS':{\n",
        "        'output_path': 'weather/' # Folder path to save the downloaded weather data\n",
        "    }\n",
        "}\n",
        "\n",
        "config = OmegaConf.create(configuration_info)\n",
        "config.SPATIAL_INFO"
      ],
      "metadata": {
        "id": "OLH1aR9Odm4x",
        "colab": {
          "base_uri": "https://localhost:8080/"
        },
        "outputId": "a70b429d-628f-44b9-be49-7fd553133e5f"
      },
      "execution_count": null,
      "outputs": [
        {
          "output_type": "execute_result",
          "data": {
            "text/plain": [
              "{'spatial_file': None, 'extent': None}"
            ]
          },
          "metadata": {},
          "execution_count": 5
        }
      ]
    },
    {
      "cell_type": "markdown",
      "metadata": {
        "id": "ad9f1251"
      },
      "source": []
    },
    {
      "cell_type": "code",
      "source": [
        "import requests\n",
        "\n",
        "if config.SPATIAL_INFO.get('spatial_file',None):\n",
        "  extent = get_boundaries_from_path(config.SPATIAL_INFO.get('spatial_file',None), round_numbers = True)\n",
        "elif config.GENERAL.get('suffix', None):\n",
        "  country = config.GENERAL.suffix.upper()\n",
        "  boundary_type = 'ADM0'\n",
        "  url = f\"https://www.geoboundaries.org/api/current/gbOpen/{country}/{boundary_type}/\"\n",
        "  meta = requests.get(url).json()\n",
        "  extent = get_boundaries_from_path(meta[\"gjDownloadURL\"], round_numbers = True)\n",
        "\n",
        "else:\n",
        "    extent = config.SPATIAL_INFO.extent\n",
        "\n",
        "print(f\"from {config.DATES.starting_date} to {config.DATES.ending_date}\" )\n",
        "climatedata = ClimateDataDownload(starting_date= config.DATES.starting_date,\n",
        "                                    ending_date= config.DATES.ending_date,\n",
        "                                    xyxy= extent,\n",
        "                                    output_folder= config.PATHS.output_path)\n",
        "\n",
        "climatedata.download_weather_information(config.WEATHER.variables, suffix_output_folder=config.GENERAL.suffix, ncores = config.GENERAL.ncores)"
      ],
      "metadata": {
        "id": "MQlpToOlgnOD"
      },
      "execution_count": null,
      "outputs": []
    },
    {
      "cell_type": "markdown",
      "metadata": {
        "id": "33f3d789"
      },
      "source": [
        "### Soil Data\n",
        "\n",
        "In this section, we will download soil data information for different depths. Currently, the information is downloaded from the [SoilGrids](https://soilgrids.org/) project. SoilGrids provides global gridded soil information at a resolution of 250 meters. The data includes various soil properties at different depths, which are crucial inputs for crop modeling."
      ]
    },
    {
      "cell_type": "code",
      "source": [
        "from spatialdata.soil_data import SoilGridDataDonwload\n",
        "from spatialdata.gis_functions import get_boundaries_from_path\n",
        "\n",
        "configuration_info = {\n",
        "\n",
        "    'SPATIAL_INFO': {\n",
        "          'spatial_file': None,\n",
        "          'extent': None,\n",
        "          'crs': 'ESRI:54052' ## soilgrids projection system\n",
        "    },\n",
        "    'SOIL': {\n",
        "          'variables': [\"clay\",  \"sand\", \"silt\", \"cec\", \"bdod\", \"cfvo\", \"nitrogen\", \"phh2o\", \"soc\",\"wv0010\",\"wv0033\", \"wv1500\"],\n",
        "          'depths': [\"0-5\",\"5-15\",\"15-30\",\"30-60\"]\n",
        "    },\n",
        "    'GENERAL': {\n",
        "        'suffix': 'mwi'   # ISO3 country code\n",
        "    },\n",
        "    'PATHS':{\n",
        "        'output_path': 'soil/'\n",
        "    }\n",
        "}\n",
        "\n",
        "config = OmegaConf.create(configuration_info)\n",
        "config.SPATIAL_INFO"
      ],
      "metadata": {
        "id": "fzgXawz-sL91",
        "colab": {
          "base_uri": "https://localhost:8080/"
        },
        "outputId": "301d7227-d31d-4c6e-931e-dcf2905e52e8"
      },
      "execution_count": null,
      "outputs": [
        {
          "output_type": "execute_result",
          "data": {
            "text/plain": [
              "{'spatial_file': None, 'extent': None, 'crs': 'ESRI:54052'}"
            ]
          },
          "metadata": {},
          "execution_count": 7
        }
      ]
    },
    {
      "cell_type": "code",
      "source": [
        "\n",
        "if config.SPATIAL_INFO.get('spatial_file',None):\n",
        "  extent = get_boundaries_from_path(config.SPATIAL_INFO.get('spatial_file',None), crs = config.SPATIAL_INFO.crs, round_numbers = True)\n",
        "elif config.GENERAL.get('suffix', None):\n",
        "  country = config.GENERAL.suffix.upper()\n",
        "  boundary_type = 'ADM0'\n",
        "  url = f\"https://www.geoboundaries.org/api/current/gbOpen/{country}/{boundary_type}/\"\n",
        "  meta = requests.get(url).json()\n",
        "  extent = get_boundaries_from_path(meta[\"gjDownloadURL\"],crs = config.SPATIAL_INFO.crs, round_numbers = True)\n",
        "\n",
        "else:\n",
        "    extent = config.SPATIAL_INFO.extent\n",
        "\n",
        "\n",
        "outputpath = os.path.join(config.PATHS.output_path, config.GENERAL.suffix)\n",
        "\n",
        "soildata = SoilGridDataDonwload(soil_layers= config.SOIL.variables,\n",
        "                            depths= config.SOIL.depths,\n",
        "                            output_folder= outputpath)\n",
        "\n",
        "soildata.download_soilgrid(boundaries= extent)"
      ],
      "metadata": {
        "id": "y1HLJkentQHd"
      },
      "execution_count": null,
      "outputs": []
    },
    {
      "cell_type": "markdown",
      "source": [
        "## 2. Data Cube Creation<a id=\"datacube\"></a>"
      ],
      "metadata": {
        "id": "f6lrXgaCy0p0"
      }
    },
    {
      "cell_type": "markdown",
      "metadata": {
        "id": "L1Wg45h07qjc"
      },
      "source": [
        "### Set configuration parameters\n",
        "To implement this, it is necessary to have spatial information for soil and climate. We can create a datacube with dimensions height, width, channel, and date for weather, and height, width, channel, and depth for soil.\n",
        "\n",
        "An example of the spatial configuration is available in the options folder. Here, we will define it as a dictionary variable."
      ]
    },
    {
      "cell_type": "code",
      "source": [
        "import os\n",
        "import requests\n",
        "import warnings\n",
        "warnings.filterwarnings(\"ignore\", category=DeprecationWarning)\n",
        "from crop_modeling.spatial_process import SpatialData\n",
        "warnings.filterwarnings(\"ignore\", category=DeprecationWarning)\n",
        "\n",
        "os.chdir('/content/WeatherSoilDataProcessor')\n",
        "\n"
      ],
      "metadata": {
        "id": "l5ML7N8Gee9H"
      },
      "execution_count": 5,
      "outputs": []
    },
    {
      "cell_type": "code",
      "execution_count": 6,
      "metadata": {
        "id": "aH9wI3-77qjc"
      },
      "outputs": [],
      "source": [
        "## Configuration for creating spatial data cubes\n",
        "\n",
        "configuration_info = {\n",
        "    'GENERAL_INFO': {\n",
        "        'projected_crs':'ESRI:54052',  # Projected Coordinate System for spatial data\n",
        "        'suffix': 'mwi',  # Suffix used for output files, ISO3 country code\n",
        "        'ncores': 10\n",
        "    },\n",
        "    'SPATIAL_VECTOR': {\n",
        "        # 'boundaries': \"data/country.shp\", # Optional: Path to a geospatial file defining spatial boundaries\n",
        "        'boundaries': None  # Set to None to download boundaries based on country code\n",
        "    },\n",
        "    'WEATHER': {  # Weather data configuration\n",
        "        'setup_parameters': {  # Parameters for creating the weather data cube\n",
        "            'paths':{  # Paths to raw meteorological variable data\n",
        "                'precipitation': \"weather/precipitation_hnd_raw\",\n",
        "                'srad': \"weather/solar_radiation_hnd_raw\",\n",
        "                'tmax': \"weather/temperature_tmax_hnd_raw\",\n",
        "                'tmin': \"weather/temperature_tmin_hnd_raw\"\n",
        "            },\n",
        "            'crs': 'EPSG:4326',  # Spatial Coordinate System for weather data\n",
        "            'period': ['2000-01-01', '2019-12-31'] ,  # Time period for weather data\n",
        "            'reference_variable': 'precipitation'  # Variable used as spatial resolution reference\n",
        "        },\n",
        "        'data_cube_path' : None  # Optional: Path to an existing weather data cube NetCDF file\n",
        "    },\n",
        "    'SOIL': {  # Soil data configuration\n",
        "        'setup_parameters': {  # Parameters for creating the soil data cube\n",
        "            'path': \"soil/hnd/\",  # Path to raw soil data\n",
        "            'variables': [\"clay\",  \"sand\", \"silt\", \"cec\", \"bdod\", \"cfvo\", \"nitrogen\", \"phh2o\", \"soc\",\"wv0010\",\"wv0033\", \"wv1500\"],  # Soil variables to include\n",
        "            'depths': [\"0-5\",\"5-15\",\"15-30\",\"30-60\"],  # Soil depths to include\n",
        "            'crs': 'ESRI:54052',  # Spatial Coordinate System for SoilGrids data\n",
        "            'reference_variable': 'sand'  # Variable used as spatial resolution reference\n",
        "        },\n",
        "        'data_cube_path' : None  # Optional: Path to an existing soil data cube NetCDF file\n",
        "    }\n",
        "}\n",
        "\n",
        "warnings.filterwarnings(\"ignore\", category=DeprecationWarning)"
      ]
    },
    {
      "cell_type": "code",
      "source": [
        "## creating boundaries file if there is not one\n",
        "import geopandas as gpd\n",
        "if configuration_info['SPATIAL_VECTOR'].get('boundaries', None) is None:\n",
        "  country = configuration_info['GENERAL_INFO']['suffix'].upper()\n",
        "  url = f\"https://www.geoboundaries.org/api/current/gbOpen/{country}/ADM0/\"\n",
        "  meta = requests.get(url).json()\n",
        "  data_country = gpd.read_file(meta[\"gjDownloadURL\"])\n",
        "  cs = configuration_info['GENERAL_INFO']['suffix']\n",
        "  data_country.to_file(f'data/country_{cs}.shp')\n",
        "  configuration_info['SPATIAL_VECTOR']['boundaries'] = f'data/country_{cs}.shp'\n",
        "  print(cs)\n",
        "  configuration_info['WEATHER']['setup_parameters']['paths']['precipitation'] = f\"weather/precipitation_{cs}_raw\"\n",
        "  configuration_info['WEATHER']['setup_parameters']['paths']['srad'] = f\"weather/solar_radiation_{cs}_raw\"\n",
        "  configuration_info['WEATHER']['setup_parameters']['paths']['tmax'] = f\"weather/temperature_tmax_{cs}_raw\"\n",
        "  configuration_info['WEATHER']['setup_parameters']['paths']['tmin'] = f\"weather/temperature_tmin_{cs}_raw\"\n",
        "  configuration_info['SOIL']['setup_parameters']['path'] = f\"soil/{cs}\"\n"
      ],
      "metadata": {
        "colab": {
          "base_uri": "https://localhost:8080/"
        },
        "id": "EYuRtR5tcSOi",
        "outputId": "0af8bb2f-06d9-40aa-dcdb-821917525157"
      },
      "execution_count": null,
      "outputs": [
        {
          "output_type": "stream",
          "name": "stdout",
          "text": [
            "mwi\n"
          ]
        }
      ]
    },
    {
      "cell_type": "code",
      "execution_count": null,
      "metadata": {
        "id": "ES-xQM4X7qjd",
        "colab": {
          "base_uri": "https://localhost:8080/"
        },
        "outputId": "0027e592-c3d0-44a5-f174-733043109703"
      },
      "outputs": [
        {
          "output_type": "stream",
          "name": "stdout",
          "text": [
            "weather/precipitation_mwi_raw/2000\n",
            "weather/precipitation_mwi_raw/2001\n",
            "weather/precipitation_mwi_raw/2002\n",
            "weather/precipitation_mwi_raw/2003\n",
            "weather/precipitation_mwi_raw/2004\n",
            "weather/precipitation_mwi_raw/2005\n",
            "weather/precipitation_mwi_raw/2006\n",
            "weather/precipitation_mwi_raw/2007\n",
            "weather/precipitation_mwi_raw/2008\n",
            "weather/precipitation_mwi_raw/2009\n",
            "weather/precipitation_mwi_raw/2010\n",
            "weather/precipitation_mwi_raw/2011\n",
            "weather/precipitation_mwi_raw/2012\n",
            "weather/precipitation_mwi_raw/2013\n",
            "weather/precipitation_mwi_raw/2014\n",
            "weather/precipitation_mwi_raw/2015\n",
            "weather/precipitation_mwi_raw/2016\n",
            "weather/precipitation_mwi_raw/2017\n",
            "weather/precipitation_mwi_raw/2018\n",
            "weather/precipitation_mwi_raw/2019\n",
            "weather/solar_radiation_mwi_raw/2000\n",
            "weather/solar_radiation_mwi_raw/2001\n",
            "weather/solar_radiation_mwi_raw/2002\n",
            "weather/solar_radiation_mwi_raw/2003\n",
            "weather/solar_radiation_mwi_raw/2004\n",
            "weather/solar_radiation_mwi_raw/2005\n",
            "weather/solar_radiation_mwi_raw/2006\n",
            "weather/solar_radiation_mwi_raw/2007\n",
            "weather/solar_radiation_mwi_raw/2008\n",
            "weather/solar_radiation_mwi_raw/2009\n",
            "weather/solar_radiation_mwi_raw/2010\n",
            "weather/solar_radiation_mwi_raw/2011\n",
            "weather/solar_radiation_mwi_raw/2012\n",
            "weather/solar_radiation_mwi_raw/2013\n",
            "weather/solar_radiation_mwi_raw/2014\n",
            "weather/solar_radiation_mwi_raw/2015\n",
            "weather/solar_radiation_mwi_raw/2016\n",
            "weather/solar_radiation_mwi_raw/2017\n",
            "weather/solar_radiation_mwi_raw/2018\n",
            "weather/solar_radiation_mwi_raw/2019\n",
            "weather/temperature_tmax_mwi_raw/2000\n",
            "weather/temperature_tmax_mwi_raw/2001\n",
            "weather/temperature_tmax_mwi_raw/2002\n",
            "weather/temperature_tmax_mwi_raw/2003\n",
            "weather/temperature_tmax_mwi_raw/2004\n",
            "weather/temperature_tmax_mwi_raw/2005\n",
            "weather/temperature_tmax_mwi_raw/2006\n",
            "weather/temperature_tmax_mwi_raw/2007\n",
            "weather/temperature_tmax_mwi_raw/2008\n",
            "weather/temperature_tmax_mwi_raw/2009\n",
            "weather/temperature_tmax_mwi_raw/2010\n",
            "weather/temperature_tmax_mwi_raw/2011\n",
            "weather/temperature_tmax_mwi_raw/2012\n",
            "weather/temperature_tmax_mwi_raw/2013\n",
            "weather/temperature_tmax_mwi_raw/2014\n",
            "weather/temperature_tmax_mwi_raw/2015\n",
            "weather/temperature_tmax_mwi_raw/2016\n",
            "weather/temperature_tmax_mwi_raw/2017\n",
            "weather/temperature_tmax_mwi_raw/2018\n",
            "weather/temperature_tmax_mwi_raw/2019\n",
            "weather/temperature_tmin_mwi_raw/2000\n",
            "weather/temperature_tmin_mwi_raw/2001\n",
            "weather/temperature_tmin_mwi_raw/2002\n",
            "weather/temperature_tmin_mwi_raw/2003\n",
            "weather/temperature_tmin_mwi_raw/2004\n",
            "weather/temperature_tmin_mwi_raw/2005\n",
            "weather/temperature_tmin_mwi_raw/2006\n",
            "weather/temperature_tmin_mwi_raw/2007\n",
            "weather/temperature_tmin_mwi_raw/2008\n",
            "weather/temperature_tmin_mwi_raw/2009\n",
            "weather/temperature_tmin_mwi_raw/2010\n",
            "weather/temperature_tmin_mwi_raw/2011\n",
            "weather/temperature_tmin_mwi_raw/2012\n",
            "weather/temperature_tmin_mwi_raw/2013\n",
            "weather/temperature_tmin_mwi_raw/2014\n",
            "weather/temperature_tmin_mwi_raw/2015\n",
            "weather/temperature_tmin_mwi_raw/2016\n",
            "weather/temperature_tmin_mwi_raw/2017\n",
            "weather/temperature_tmin_mwi_raw/2018\n",
            "weather/temperature_tmin_mwi_raw/2019\n"
          ]
        },
        {
          "output_type": "stream",
          "name": "stderr",
          "text": [
            "100%|██████████| 7305/7305 [03:08<00:00, 38.77it/s]\n",
            "100%|██████████| 7305/7305 [00:03<00:00, 1853.70it/s]\n"
          ]
        }
      ],
      "source": [
        "\n",
        "# Initialize SpatialData with the configuration dictionary\n",
        "spdata = SpatialData(configuration_dict=configuration_info)\n",
        "\n",
        "# Retrieve climate data\n",
        "spdata.get_climate_data()\n"
      ]
    },
    {
      "cell_type": "code",
      "execution_count": null,
      "metadata": {
        "id": "GW83A-r57qjd",
        "colab": {
          "base_uri": "https://localhost:8080/",
          "height": 607
        },
        "outputId": "2d1a76d2-e0d2-4b12-d772-4cbb128d066c"
      },
      "outputs": [
        {
          "output_type": "display_data",
          "data": {
            "text/plain": [
              "<Figure size 1000x600 with 7 Axes>"
            ],
            "image/png": "[encoded data removed]"
          },
          "metadata": {}
        }
      ],
      "source": [
        "## plots\n",
        "\n",
        "g_simple = spdata.climate.tmin.isel(date = list(range(5))).plot(x=\"x\", y=\"y\", col=\"date\", col_wrap=3, vmax = 300)"
      ]
    },
    {
      "cell_type": "code",
      "source": [
        "init_year = configuration_info['WEATHER']['setup_parameters']['period'][0].split('-')[0]\n",
        "ending_year = configuration_info['WEATHER']['setup_parameters']['period'][1].split('-')[0]\n",
        "climate_path = f'weather/weather_{cs}_{init_year}_{ending_year}.nc'\n",
        "spdata._save_asnc(spdata.climate, fn = climate_path)"
      ],
      "metadata": {
        "id": "an0XMw5vnq2R"
      },
      "execution_count": null,
      "outputs": []
    },
    {
      "cell_type": "code",
      "source": [
        "spdata.climate = None"
      ],
      "metadata": {
        "id": "2Hw0U2qBw7vL"
      },
      "execution_count": null,
      "outputs": []
    },
    {
      "cell_type": "code",
      "execution_count": null,
      "metadata": {
        "id": "U2fgVOMg7qjd"
      },
      "outputs": [],
      "source": [
        "\n",
        "# Retrieve soil data\n",
        "spdata.get_soil_data()\n",
        "\n",
        "# texture values in soil grids data is multiply by 10\n",
        "g_simple = spdata.soil.clay.plot(x=\"x\", y=\"y\", col=\"depth\", col_wrap=2, vmax = 600)"
      ]
    },
    {
      "cell_type": "code",
      "execution_count": null,
      "metadata": {
        "id": "NOOe2ZHd7qjd"
      },
      "outputs": [],
      "source": [
        "# save data as datacubes\n",
        "soil_path = f'soil/soil_{cs}.nc'\n",
        "spdata._save_asnc(spdata.soil, fn = soil_path)\n",
        "\n"
      ]
    },
    {
      "cell_type": "code",
      "source": [
        "from google.colab import drive\n",
        "drive.mount('/content/drive')"
      ],
      "metadata": {
        "colab": {
          "base_uri": "https://localhost:8080/"
        },
        "id": "5HHc1-oBxm43",
        "outputId": "7a349207-9d6d-4819-a48d-e5797b1e40f3"
      },
      "execution_count": null,
      "outputs": [
        {
          "output_type": "stream",
          "name": "stdout",
          "text": [
            "Mounted at /content/drive\n"
          ]
        }
      ]
    },
    {
      "cell_type": "code",
      "source": [
        "import shutil\n",
        "cs = configuration_info['GENERAL_INFO']['suffix']\n",
        "source_file = f'/content/WeatherSoilDataProcessor/weather/weather_{cs}_{init_year}_{ending_year}.nc'\n",
        "destination_folder = '/content/drive/MyDrive/CIAT/agwise'\n",
        "\n",
        "shutil.copy2(source_file, destination_folder)\n",
        "\n",
        "source_file = f'/content/WeatherSoilDataProcessor/soil/soil_{cs}.nc'\n",
        "destination_folder = '/content/drive/MyDrive/CIAT/agwise'\n",
        "shutil.copy2(source_file, destination_folder)\n"
      ],
      "metadata": {
        "colab": {
          "base_uri": "https://localhost:8080/",
          "height": 35
        },
        "id": "5EnKM9PCyokH",
        "outputId": "bd7f5956-e74f-408f-b2e4-dfe99f69e66f"
      },
      "execution_count": null,
      "outputs": [
        {
          "output_type": "execute_result",
          "data": {
            "text/plain": [
              "'/content/drive/MyDrive/CIAT/agwise/weather_mwi_2000_2019.nc'"
            ],
            "application/vnd.google.colaboratory.intrinsic+json": {
              "type": "string"
            }
          },
          "metadata": {},
          "execution_count": 29
        }
      ]
    },
    {
      "cell_type": "markdown",
      "metadata": {
        "id": "QNR390KI7qjd"
      },
      "source": [
        "## 3. Crop Modeling Using the DSSAT Model<a id=\"cropmodel\"></a>\n",
        "\n",
        "\n"
      ]
    },
    {
      "cell_type": "markdown",
      "source": [
        "### Spatial data\n",
        "\n",
        "The previous steps serve as a guide for obtaining the spatial datacubes data, (climate, and weather). In the following example, we will use datacubes that were previously processed for the entire country. These files contain historical climate data spanning a 34-year period. They are available in a Google Drive folder, so you will only need to download them using the gdown function.\n"
      ],
      "metadata": {
        "id": "OWFjZqfvxpYy"
      }
    },
    {
      "cell_type": "code",
      "source": [
        "import os\n",
        "soil_fileid = '1_z2BOjCHuyG13rwPTMzSFfXNzmIHdh2x'\n",
        "weather_fileid = '1eQydlvf4uZV-36zkvjZgHYcLsrlK4Qsz'\n",
        "\n",
        "\n",
        "init_year = configuration_info['WEATHER']['setup_parameters']['period'][0].split('-')[0]\n",
        "ending_year = configuration_info['WEATHER']['setup_parameters']['period'][1].split('-')[0]\n",
        "climate_path = f'weather/weather_{cs}_{init_year}_{ending_year}.nc'\n",
        "if not os.path.exists(os.path.dirname(climate_path)): os.mkdir(os.path.dirname(climate_path))\n",
        "\n",
        "soil_path = f'soil/soil_{cs}.nc'\n",
        "if not os.path.exists(os.path.dirname(soil_path)): os.mkdir(os.path.dirname(soil_path))\n",
        "\n",
        "if not os.path.exists(climate_path):\n",
        "  !gdown --id {soil_fileid} --output {climate_path}\n",
        "\n",
        "if not os.path.exists(soil_path):\n",
        "  !gdown --id {weather_fileid} --output {soil_path}"
      ],
      "metadata": {
        "id": "C-1yGXpYOp_Z"
      },
      "execution_count": 7,
      "outputs": []
    },
    {
      "cell_type": "markdown",
      "source": [
        "### Configuration file setup"
      ],
      "metadata": {
        "id": "6cvkKPsNqX_u"
      }
    },
    {
      "cell_type": "markdown",
      "source": [
        "To specify that the analysis will be done at pixel-scale, we set 'pixel' in the configuration dictionary.\n",
        "\n",
        "Other parameters to configure include crop parameters and management practices.\n",
        "Below is an example of how to define these parameters. For more examples, please check the options/dssat_options folder."
      ],
      "metadata": {
        "id": "-ZhB2Wdcevv5"
      }
    },
    {
      "cell_type": "code",
      "execution_count": 9,
      "metadata": {
        "id": "D2MWo-jR7qjd"
      },
      "outputs": [],
      "source": [
        "import os\n",
        "os.chdir('/content/WeatherSoilDataProcessor')\n",
        "from crop_modeling.spatial_process import SpatialCM\n",
        "import numpy as np\n",
        "import pandas as pd\n",
        "import geopandas as gpd\n",
        "\n",
        "cm_configuration = {\n",
        "    'GENERAL_INFO': {\n",
        "        'country': 'Malawi',\n",
        "        'country_code': 'MWI', # crountry code\n",
        "        'working_path': 'runs', # the model outputs will be located in this path\n",
        "        'ncores': 15,\n",
        "        'model': 'dssat',\n",
        "        'bin_path': None\n",
        "    },\n",
        "    'SPATIAL_INFO':{\n",
        "        'geospatial_path': None, # spatial file that contains the region of interest\n",
        "        'feature_name': 'shapeName', ## an unique code that represent each region of interest\n",
        "        'adm_level': 2,\n",
        "        'aggregate_by' : 'pixel',\n",
        "        'soil_path' : soil_path,\n",
        "        'weather_path': climate_path,\n",
        "        'scale_factor': 5 # scale factor for soil and weather spatial resolution combination. the scale resample is applied to the climate datacube 5 times represents ~1km\n",
        "    },\n",
        "    'CROP': {\n",
        "        'name': 'Maize', # crop name\n",
        "        'cultivar': 'IB1072', # cultivar\n",
        "        'cultivar_file': None # optional for the cases that you have a cultivar that is not in DSSATTools default cultivars\n",
        "    },\n",
        "    'MANAGEMENT':{\n",
        "        'planting_date': '1991-03-01',\n",
        "        'harvesting_date': None,\n",
        "        'plantingWindow': 30, # planting window in weeks\n",
        "        'fertilizer_schedule': {\n",
        "            'days_after_planting': None,\n",
        "            'npk': None\n",
        "        },\n",
        "        'index_soilwat': 1,\n",
        "        'template': 'crop_modeling/dssat/exp_files/KEAG8104.MZX'\n",
        "    }\n",
        "}\n",
        "\n"
      ]
    },
    {
      "cell_type": "markdown",
      "source": [
        "### Running DSSAT"
      ],
      "metadata": {
        "id": "w6Dstwf8yRtu"
      }
    },
    {
      "cell_type": "code",
      "source": [
        "## get the spatial boundaries if the file is not provided\n",
        "cs = cm_configuration['GENERAL_INFO']['country_code'].upper()\n",
        "\n",
        "if cm_configuration['SPATIAL_INFO'].get('geospatial_path', None) is None:\n",
        "\n",
        "  adm_level = cm_configuration['SPATIAL_INFO']['adm_level']\n",
        "  url = f\"https://www.geoboundaries.org/api/current/gbOpen/{cs}/ADM{adm_level}/\"\n",
        "\n",
        "  gpd.read_file(requests.get(url).json()[\"gjDownloadURL\"]).to_file(f'data/country_{cs}_ADM{adm_level}.shp')\n",
        "  cm_configuration['SPATIAL_INFO']['geospatial_path'] = f'data/country_{cs}_ADM{adm_level}.shp'\n",
        ""
      ],
      "metadata": {
        "id": "4DHAqvuCQJ96"
      },
      "execution_count": 15,
      "outputs": []
    },
    {
      "cell_type": "code",
      "execution_count": 25,
      "metadata": {
        "id": "a4fwzZ-Y7qje",
        "colab": {
          "base_uri": "https://localhost:8080/",
          "height": 125
        },
        "outputId": "a8b490ba-0187-40d0-e096-f0ec727ec56c"
      },
      "outputs": [
        {
          "output_type": "stream",
          "name": "stdout",
          "text": [
            "loaded from soil/soil_mwi.nc\n",
            "loaded from weather/weather_mwi_2000_2019.nc\n"
          ]
        },
        {
          "output_type": "execute_result",
          "data": {
            "text/plain": [
              "   shapeName shapeISO                  shapeID shapeGroup shapeType  \\\n",
              "27     Zomba     None  42251766B13881881574545        MWI      ADM2   \n",
              "\n",
              "                                             geometry  \n",
              "27  POLYGON ((35.03997 -15.32181, 35.04045 -15.321...  "
            ],
            "text/html": [
              "\n",
              "  <div id=\"df-80a057f5-5a16-41fe-a084-791b076be52a\" class=\"colab-df-container\">\n",
              "    <div>\n",
              "<style scoped>\n",
              "    .dataframe tbody tr th:only-of-type {\n",
              "        vertical-align: middle;\n",
              "    }\n",
              "\n",
              "    .dataframe tbody tr th {\n",
              "        vertical-align: top;\n",
              "    }\n",
              "\n",
              "    .dataframe thead th {\n",
              "        text-align: right;\n",
              "    }\n",
              "</style>\n",
              "<table border=\"1\" class=\"dataframe\">\n",
              "  <thead>\n",
              "    <tr style=\"text-align: right;\">\n",
              "      <th></th>\n",
              "      <th>shapeName</th>\n",
              "      <th>shapeISO</th>\n",
              "      <th>shapeID</th>\n",
              "      <th>shapeGroup</th>\n",
              "      <th>shapeType</th>\n",
              "      <th>geometry</th>\n",
              "    </tr>\n",
              "  </thead>\n",
              "  <tbody>\n",
              "    <tr>\n",
              "      <th>27</th>\n",
              "      <td>Zomba</td>\n",
              "      <td>None</td>\n",
              "      <td>42251766B13881881574545</td>\n",
              "      <td>MWI</td>\n",
              "      <td>ADM2</td>\n",
              "      <td>POLYGON ((35.03997 -15.32181, 35.04045 -15.321...</td>\n",
              "    </tr>\n",
              "  </tbody>\n",
              "</table>\n",
              "</div>\n",
              "    <div class=\"colab-df-buttons\">\n",
              "\n",
              "  <div class=\"colab-df-container\">\n",
              "    <button class=\"colab-df-convert\" onclick=\"convertToInteractive('df-80a057f5-5a16-41fe-a084-791b076be52a')\"\n",
              "            title=\"Convert this dataframe to an interactive table.\"\n",
              "            style=\"display:none;\">\n",
              "\n",
              "  <svg xmlns=\"http://www.w3.org/2000/svg\" height=\"24px\" viewBox=\"0 -960 960 960\">\n",
              "    <path d=\"M120-120v-720h720v720H120Zm60-500h600v-160H180v160Zm220 220h160v-160H400v160Zm0 220h160v-160H400v160ZM180-400h160v-160H180v160Zm440 0h160v-160H620v160ZM180-180h160v-160H180v160Zm440 0h160v-160H620v160Z\"/>\n",
              "  </svg>\n",
              "    </button>\n",
              "\n",
              "  <style>\n",
              "    .colab-df-container {\n",
              "      display:flex;\n",
              "      gap: 12px;\n",
              "    }\n",
              "\n",
              "    .colab-df-convert {\n",
              "      background-color: #E8F0FE;\n",
              "      border: none;\n",
              "      border-radius: 50%;\n",
              "      cursor: pointer;\n",
              "      display: none;\n",
              "      fill: #1967D2;\n",
              "      height: 32px;\n",
              "      padding: 0 0 0 0;\n",
              "      width: 32px;\n",
              "    }\n",
              "\n",
              "    .colab-df-convert:hover {\n",
              "      background-color: #E2EBFA;\n",
              "      box-shadow: 0px 1px 2px rgba(60, 64, 67, 0.3), 0px 1px 3px 1px rgba(60, 64, 67, 0.15);\n",
              "      fill: #174EA6;\n",
              "    }\n",
              "\n",
              "    .colab-df-buttons div {\n",
              "      margin-bottom: 4px;\n",
              "    }\n",
              "\n",
              "    [theme=dark] .colab-df-convert {\n",
              "      background-color: #3B4455;\n",
              "      fill: #D2E3FC;\n",
              "    }\n",
              "\n",
              "    [theme=dark] .colab-df-convert:hover {\n",
              "      background-color: #434B5C;\n",
              "      box-shadow: 0px 1px 3px 1px rgba(0, 0, 0, 0.15);\n",
              "      filter: drop-shadow(0px 1px 2px rgba(0, 0, 0, 0.3));\n",
              "      fill: #FFFFFF;\n",
              "    }\n",
              "  </style>\n",
              "\n",
              "    <script>\n",
              "      const buttonEl =\n",
              "        document.querySelector('#df-80a057f5-5a16-41fe-a084-791b076be52a button.colab-df-convert');\n",
              "      buttonEl.style.display =\n",
              "        google.colab.kernel.accessAllowed ? 'block' : 'none';\n",
              "\n",
              "      async function convertToInteractive(key) {\n",
              "        const element = document.querySelector('#df-80a057f5-5a16-41fe-a084-791b076be52a');\n",
              "        const dataTable =\n",
              "          await google.colab.kernel.invokeFunction('convertToInteractive',\n",
              "                                                    [key], {});\n",
              "        if (!dataTable) return;\n",
              "\n",
              "        const docLinkHtml = 'Like what you see? Visit the ' +\n",
              "          '<a target=\"_blank\" href=https://colab.research.google.com/notebooks/data_table.ipynb>data table notebook</a>'\n",
              "          + ' to learn more about interactive tables.';\n",
              "        element.innerHTML = '';\n",
              "        dataTable['output_type'] = 'display_data';\n",
              "        await google.colab.output.renderOutput(dataTable, element);\n",
              "        const docLink = document.createElement('div');\n",
              "        docLink.innerHTML = docLinkHtml;\n",
              "        element.appendChild(docLink);\n",
              "      }\n",
              "    </script>\n",
              "  </div>\n",
              "\n",
              "\n",
              "  <div id=\"id_296da452-1449-4ecf-ad46-cf77737a566e\">\n",
              "    <style>\n",
              "      .colab-df-generate {\n",
              "        background-color: #E8F0FE;\n",
              "        border: none;\n",
              "        border-radius: 50%;\n",
              "        cursor: pointer;\n",
              "        display: none;\n",
              "        fill: #1967D2;\n",
              "        height: 32px;\n",
              "        padding: 0 0 0 0;\n",
              "        width: 32px;\n",
              "      }\n",
              "\n",
              "      .colab-df-generate:hover {\n",
              "        background-color: #E2EBFA;\n",
              "        box-shadow: 0px 1px 2px rgba(60, 64, 67, 0.3), 0px 1px 3px 1px rgba(60, 64, 67, 0.15);\n",
              "        fill: #174EA6;\n",
              "      }\n",
              "\n",
              "      [theme=dark] .colab-df-generate {\n",
              "        background-color: #3B4455;\n",
              "        fill: #D2E3FC;\n",
              "      }\n",
              "\n",
              "      [theme=dark] .colab-df-generate:hover {\n",
              "        background-color: #434B5C;\n",
              "        box-shadow: 0px 1px 3px 1px rgba(0, 0, 0, 0.15);\n",
              "        filter: drop-shadow(0px 1px 2px rgba(0, 0, 0, 0.3));\n",
              "        fill: #FFFFFF;\n",
              "      }\n",
              "    </style>\n",
              "    <button class=\"colab-df-generate\" onclick=\"generateWithVariable('roi')\"\n",
              "            title=\"Generate code using this dataframe.\"\n",
              "            style=\"display:none;\">\n",
              "\n",
              "  <svg xmlns=\"http://www.w3.org/2000/svg\" height=\"24px\"viewBox=\"0 0 24 24\"\n",
              "       width=\"24px\">\n",
              "    <path d=\"M7,19H8.4L18.45,9,17,7.55,7,17.6ZM5,21V16.75L18.45,3.32a2,2,0,0,1,2.83,0l1.4,1.43a1.91,1.91,0,0,1,.58,1.4,1.91,1.91,0,0,1-.58,1.4L9.25,21ZM18.45,9,17,7.55Zm-12,3A5.31,5.31,0,0,0,4.9,8.1,5.31,5.31,0,0,0,1,6.5,5.31,5.31,0,0,0,4.9,4.9,5.31,5.31,0,0,0,6.5,1,5.31,5.31,0,0,0,8.1,4.9,5.31,5.31,0,0,0,12,6.5,5.46,5.46,0,0,0,6.5,12Z\"/>\n",
              "  </svg>\n",
              "    </button>\n",
              "    <script>\n",
              "      (() => {\n",
              "      const buttonEl =\n",
              "        document.querySelector('#id_296da452-1449-4ecf-ad46-cf77737a566e button.colab-df-generate');\n",
              "      buttonEl.style.display =\n",
              "        google.colab.kernel.accessAllowed ? 'block' : 'none';\n",
              "\n",
              "      buttonEl.onclick = () => {\n",
              "        google.colab.notebook.generateWithVariable('roi');\n",
              "      }\n",
              "      })();\n",
              "    </script>\n",
              "  </div>\n",
              "\n",
              "    </div>\n",
              "  </div>\n"
            ],
            "application/vnd.google.colaboratory.intrinsic+json": {
              "type": "dataframe",
              "variable_name": "roi",
              "repr_error": "0"
            }
          },
          "metadata": {},
          "execution_count": 25
        }
      ],
      "source": [
        "# Initialize the spatial crop modeling class\n",
        "cm_sp = SpatialCM(configuration_dict=cm_configuration)\n",
        "feat_attr = cm_configuration['SPATIAL_INFO'].get('feature_name', None)\n",
        "geocode = 'Zomba'\n",
        "# Specify the region of interest by its geocode this can be also done using the feature index\n",
        "roi = cm_sp.geo_features.loc[cm_sp.geo_features[feat_attr]==str(geocode)]\n",
        "roi_name = roi[cm_sp.config.SPATIAL_INFO.feature_name].values[0]\n",
        "roi\n",
        "#cm_sp.geo_features['GEOCODIGO']"
      ]
    },
    {
      "cell_type": "code",
      "source": [
        "roi.plot()"
      ],
      "metadata": {
        "id": "jZ5vEMTdXu-m",
        "outputId": "82f61e0d-f649-4e20-f261-47ee7e48d724",
        "colab": {
          "base_uri": "https://localhost:8080/",
          "height": 369
        }
      },
      "execution_count": 26,
      "outputs": [
        {
          "output_type": "execute_result",
          "data": {
            "text/plain": [
              "<Axes: >"
            ]
          },
          "metadata": {},
          "execution_count": 26
        },
        {
          "output_type": "display_data",
          "data": {
            "text/plain": [
              "<Figure size 640x480 with 1 Axes>"
            ],
            "image/png": "[encoded data removed]"
          },
          "metadata": {}
        }
      ]
    },
    {
      "cell_type": "code",
      "source": [
        "\n",
        "import shutil\n",
        "if os.path.exists(f'/content/WeatherSoilDataProcessor/runs/{geocode}'):\n",
        "  shutil.rmtree(f'/content/WeatherSoilDataProcessor/runs/{geocode}', ignore_errors=False, onerror=None)"
      ],
      "metadata": {
        "id": "5tJ4XKuIc_ll"
      },
      "execution_count": 27,
      "outputs": []
    },
    {
      "cell_type": "code",
      "execution_count": null,
      "metadata": {
        "colab": {
          "base_uri": "https://localhost:8080/"
        },
        "id": "Ojy8yVEF7qje",
        "outputId": "4c99b30d-5a41-4d37-964d-a3f6e481a1d3"
      },
      "outputs": [
        {
          "output_type": "stream",
          "name": "stderr",
          "text": [
            "100%|██████████| 51/51 [01:11<00:00,  1.41s/it]\n"
          ]
        },
        {
          "output_type": "stream",
          "name": "stdout",
          "text": [
            "Configuration file written: runs/150149/114/experimental_file_config.yaml\n",
            "experimental file created: ['runs/150149/114/EXPS0001.MZX']\n",
            "Configuration file written: runs/150149/100/experimental_file_config.yaml\n",
            "experimental file created: ['runs/150149/100/EXPS0001.MZX']\n",
            "Configuration file written: runs/150149/113/experimental_file_config.yaml\n",
            "experimental file created: ['runs/150149/113/EXPS0001.MZX']\n",
            "Configuration file written: runs/150149/93/experimental_file_config.yaml\n",
            "experimental file created: ['runs/150149/93/EXPS0001.MZX']\n",
            "Configuration file written: runs/150149/127/experimental_file_config.yaml\n",
            "experimental file created: ['runs/150149/127/EXPS0001.MZX']\n",
            "Configuration file written: runs/150149/116/experimental_file_config.yaml\n",
            "experimental file created: ['runs/150149/116/EXPS0001.MZX']\n",
            "Configuration file written: runs/150149/85/experimental_file_config.yaml\n",
            "experimental file created: ['runs/150149/85/EXPS0001.MZX']\n",
            "Configuration file written: runs/150149/111/experimental_file_config.yaml\n",
            "experimental file created: ['runs/150149/111/EXPS0001.MZX']\n",
            "Configuration file written: runs/150149/112/experimental_file_config.yaml\n",
            "experimental file created: ['runs/150149/112/EXPS0001.MZX']\n",
            "Configuration file written: runs/150149/83/experimental_file_config.yaml\n",
            "experimental file created: ['runs/150149/83/EXPS0001.MZX']\n",
            "Configuration file written: runs/150149/117/experimental_file_config.yaml\n",
            "experimental file created: ['runs/150149/117/EXPS0001.MZX']\n",
            "Configuration file written: runs/150149/76/experimental_file_config.yaml\n",
            "experimental file created: ['runs/150149/76/EXPS0001.MZX']\n",
            "Configuration file written: runs/150149/110/experimental_file_config.yaml\n",
            "experimental file created: ['runs/150149/110/EXPS0001.MZX']\n",
            "Configuration file written: runs/150149/126/experimental_file_config.yaml\n",
            "experimental file created: ['runs/150149/126/EXPS0001.MZX']\n",
            "Configuration file written: runs/150149/128/experimental_file_config.yaml\n",
            "experimental file created: ['runs/150149/128/EXPS0001.MZX']\n",
            "Configuration file written: runs/150149/103/experimental_file_config.yaml\n",
            "experimental file created: ['runs/150149/103/EXPS0001.MZX']\n",
            "Configuration file written: runs/150149/129/experimental_file_config.yaml\n",
            "experimental file created: ['runs/150149/129/EXPS0001.MZX']\n",
            "Configuration file written: runs/150149/98/experimental_file_config.yaml\n",
            "experimental file created: ['runs/150149/98/EXPS0001.MZX']\n",
            "Configuration file written: runs/150149/133/experimental_file_config.yaml\n",
            "experimental file created: ['runs/150149/133/EXPS0001.MZX']\n",
            "Configuration file written: runs/150149/104/experimental_file_config.yaml\n",
            "experimental file created: ['runs/150149/104/EXPS0001.MZX']\n",
            "Configuration file written: runs/150149/130/experimental_file_config.yaml\n",
            "experimental file created: ['runs/150149/130/EXPS0001.MZX']\n",
            "Configuration file written: runs/150149/109/experimental_file_config.yaml\n",
            "experimental file created: ['runs/150149/109/EXPS0001.MZX']\n",
            "Configuration file written: runs/150149/97/experimental_file_config.yaml\n",
            "experimental file created: ['runs/150149/97/EXPS0001.MZX']\n",
            "Configuration file written: runs/150149/94/experimental_file_config.yaml\n",
            "experimental file created: ['runs/150149/94/EXPS0001.MZX']\n",
            "Configuration file written: runs/150149/118/experimental_file_config.yaml\n",
            "experimental file created: ['runs/150149/118/EXPS0001.MZX']\n",
            "Configuration file written: runs/150149/79/experimental_file_config.yaml\n",
            "experimental file created: ['runs/150149/79/EXPS0001.MZX']\n",
            "Configuration file written: runs/150149/95/experimental_file_config.yaml\n",
            "experimental file created: ['runs/150149/95/EXPS0001.MZX']\n",
            "Configuration file written: runs/150149/146/experimental_file_config.yaml\n",
            "experimental file created: ['runs/150149/146/EXPS0001.MZX']\n",
            "Configuration file written: runs/150149/87/experimental_file_config.yaml\n",
            "experimental file created: ['runs/150149/87/EXPS0001.MZX']\n",
            "Configuration file written: runs/150149/108/experimental_file_config.yaml\n",
            "experimental file created: ['runs/150149/108/EXPS0001.MZX']\n",
            "Configuration file written: runs/150149/101/experimental_file_config.yaml\n",
            "experimental file created: ['runs/150149/101/EXPS0001.MZX']\n",
            "Configuration file written: runs/150149/84/experimental_file_config.yaml\n",
            "experimental file created: ['runs/150149/84/EXPS0001.MZX']\n",
            "Configuration file written: runs/150149/82/experimental_file_config.yaml\n",
            "experimental file created: ['runs/150149/82/EXPS0001.MZX']\n",
            "Configuration file written: runs/150149/102/experimental_file_config.yaml\n",
            "experimental file created: ['runs/150149/102/EXPS0001.MZX']\n",
            "Configuration file written: runs/150149/147/experimental_file_config.yaml\n",
            "experimental file created: ['runs/150149/147/EXPS0001.MZX']\n",
            "Configuration file written: runs/150149/107/experimental_file_config.yaml\n",
            "experimental file created: ['runs/150149/107/EXPS0001.MZX']\n",
            "Configuration file written: runs/150149/99/experimental_file_config.yaml\n",
            "experimental file created: ['runs/150149/99/EXPS0001.MZX']\n",
            "Configuration file written: runs/150149/81/experimental_file_config.yaml\n",
            "experimental file created: ['runs/150149/81/EXPS0001.MZX']\n",
            "Configuration file written: runs/150149/132/experimental_file_config.yaml\n",
            "experimental file created: ['runs/150149/132/EXPS0001.MZX']\n",
            "Configuration file written: runs/150149/86/experimental_file_config.yaml\n",
            "experimental file created: ['runs/150149/86/EXPS0001.MZX']\n",
            "Configuration file written: runs/150149/125/experimental_file_config.yaml\n",
            "experimental file created: ['runs/150149/125/EXPS0001.MZX']\n",
            "Configuration file written: runs/150149/96/experimental_file_config.yaml\n",
            "experimental file created: ['runs/150149/96/EXPS0001.MZX']\n",
            "Configuration file written: runs/150149/131/experimental_file_config.yaml\n",
            "experimental file created: ['runs/150149/131/EXPS0001.MZX']\n",
            "Configuration file written: runs/150149/77/experimental_file_config.yaml\n",
            "experimental file created: ['runs/150149/77/EXPS0001.MZX']\n",
            "Configuration file written: runs/150149/145/experimental_file_config.yaml\n",
            "experimental file created: ['runs/150149/145/EXPS0001.MZX']\n",
            "Configuration file written: runs/150149/80/experimental_file_config.yaml\n",
            "experimental file created: ['runs/150149/80/EXPS0001.MZX']\n",
            "Configuration file written: runs/150149/78/experimental_file_config.yaml\n",
            "experimental file created: ['runs/150149/78/EXPS0001.MZX']\n",
            "Configuration file written: runs/150149/119/experimental_file_config.yaml\n",
            "experimental file created: ['runs/150149/119/EXPS0001.MZX']\n",
            "Configuration file written: runs/150149/92/experimental_file_config.yaml\n",
            "experimental file created: ['runs/150149/92/EXPS0001.MZX']\n",
            "Configuration file written: runs/150149/115/experimental_file_config.yaml\n",
            "experimental file created: ['runs/150149/115/EXPS0001.MZX']\n",
            "Configuration file written: runs/150149/141/experimental_file_config.yaml\n",
            "experimental file created: ['runs/150149/141/EXPS0001.MZX']\n"
          ]
        },
        {
          "output_type": "stream",
          "name": "stderr",
          "text": [
            "  2%|▏         | 1/51 [00:36<30:20, 36.41s/it]"
          ]
        }
      ],
      "source": [
        "cm_sp.set_up_folders(site = roi_name)\n",
        "\n",
        "# Create soil and weather files for the selected region\n",
        "workingpath = cm_sp.create_roi_sp_data(\n",
        "    roi= roi,\n",
        "    export_spatial_data= True\n",
        ")\n",
        "if workingpath is not None:\n",
        "    # Locate environmental working paths\n",
        "    cm_sp.model.find_envworking_paths(cm_sp._tmp_path, 'WTH')\n",
        "\n",
        "    # Set up crop files\n",
        "    cm_sp.model.set_up_crop(crop=cm_sp.crop, cultivar=cm_sp.cultivar)\n",
        "\n",
        "    # Set up management files\n",
        "    cm_sp.model.set_up_management(crop=cm_sp.crop, cultivar=cm_sp.cultivar, **cm_sp.config.MANAGEMENT)\n",
        "\n",
        "    # run the simulation\n",
        "    dssath_path = cm_sp.config.GENERAL_INFO.get('dssat_path', None)\n",
        "    completed_sims =cm_sp.model.run(cm_sp.model.crop_code, crop=cm_sp.crop,planting_window=cm_sp.config.MANAGEMENT.plantingWindow,\n",
        "                                    ncores = cm_sp.config.GENERAL_INFO.ncores,\n",
        "                                        bin_path = cm_sp.config.GENERAL_INFO.bin_path, remove_tmp_folder=True)\n",
        "    print(completed_sims)\n",
        "else:\n",
        "    print('there is no information')"
      ]
    },
    {
      "cell_type": "markdown",
      "metadata": {
        "id": "xHPyD2vT7qje"
      },
      "source": [
        "### Crop simulation outputs\n",
        "\n",
        "After completing the simulation, the next step is to generate the output maps.\n"
      ]
    },
    {
      "cell_type": "code",
      "execution_count": null,
      "metadata": {
        "id": "s4W-LLjG7qje"
      },
      "outputs": [],
      "source": [
        "from crop_modeling.dssat.output import update_dssat_data_using_path\n",
        "from crop_modeling.spatial_process import create_mlt_yield_raster\n",
        "import rioxarray as rio\n",
        "import matplotlib.pyplot as plt\n",
        "\n",
        "\n",
        "refraster = rio.open_rasterio(os.path.join(cm_sp._tmp_path,'ref_raster.tif'))\n",
        "model_data = update_dssat_data_using_path(cm_sp._tmp_path)\n",
        "\n",
        "mlt_pot_yield = create_mlt_yield_raster(refraster, model_data, ycol_name='HWAH')\n"
      ]
    },
    {
      "cell_type": "markdown",
      "source": [
        "### Plotting the results"
      ],
      "metadata": {
        "id": "13WXAXD-yWSJ"
      }
    },
    {
      "cell_type": "code",
      "source": [
        "import hvplot.xarray\n",
        "import holoviews as hv\n",
        "import panel as pn\n",
        "\n",
        "hv.extension(\"bokeh\")\n",
        "minlim = mlt_pot_yield.HWAH.min().values\n",
        "maxlim = mlt_pot_yield.HWAH.max().values\n",
        "\n",
        "mltmap = mlt_pot_yield.HWAH.hvplot.image(x='x', y='y', groupby = 'date',frame_height = 600, frame_width= 400, cmap='YlGnBu', fontscale=1.6, crs='EPSG:4326', tiles = 'EsriImagery', clim=(minlim,maxlim))\n",
        "\n",
        "dmap_panel = pn.panel(mltmap)\n",
        "dmap_panel\n"
      ],
      "metadata": {
        "id": "GYj1p6Ue88P1"
      },
      "execution_count": null,
      "outputs": []
    },
    {
      "cell_type": "markdown",
      "source": [
        "### Exporting the results"
      ],
      "metadata": {
        "id": "SOpYSy6pL4dW"
      }
    },
    {
      "cell_type": "code",
      "source": [
        "from crop_modeling.utils.process import get_crs_fromxarray,set_encoding, check_crs_inxrdataset\n",
        "\n",
        "dcengine = 'netcdf4'\n",
        "encoding = set_encoding(mlt_pot_yield)\n",
        "xrdata = check_crs_inxrdataset(mlt_pot_yield)\n",
        "xrdata.to_netcdf(f'simlations_{geocode}.nc', encoding = encoding, engine = dcengine)\n",
        "\n"
      ],
      "metadata": {
        "id": "XIAnzWNtr6yy"
      },
      "execution_count": null,
      "outputs": []
    },
    {
      "cell_type": "code",
      "source": [
        "import hvplot.pandas\n",
        "boxplot = mlt_pot_yield.HWAH.hvplot.box('HWAH', by=['date'], rot=90, box_fill_color='lightblue', width=1600, height=450).opts(ylim=(1285,9969))\n",
        "dmap_panel = pn.panel(boxplot)\n",
        "dmap_panel"
      ],
      "metadata": {
        "id": "EzFEuls7BP06"
      },
      "execution_count": null,
      "outputs": []
    },
    {
      "cell_type": "code",
      "source": [
        "from crop_modeling.utils.output_transforms import summarize_spatial_yields_by_time_window\n",
        "\n",
        "summ_yield  =summarize_spatial_yields_by_time_window(xrdmlt_pot_yieldata, plantingWindow= 30)\n"
      ],
      "metadata": {
        "id": "Hv35tu2pf7uJ"
      },
      "execution_count": null,
      "outputs": []
    },
    {
      "cell_type": "code",
      "source": [
        "\n"
      ],
      "metadata": {
        "id": "Wfof4rbbgPvu"
      },
      "execution_count": null,
      "outputs": []
    }
  ],
  "metadata": {
    "kernelspec": {
      "display_name": "Python 3",
      "name": "python3"
    },
    "language_info": {
      "codemirror_mode": {
        "name": "ipython",
        "version": 3
      },
      "file_extension": ".py",
      "mimetype": "text/x-python",
      "name": "python",
      "nbconvert_exporter": "python",
      "pygments_lexer": "ipython3",
      "version": "3.9.20"
    },
    "colab": {
      "provenance": [],
      "gpuType": "V5E1",
      "include_colab_link": true
    },
    "accelerator": "TPU"
  },
  "nbformat": 4,
  "nbformat_minor": 0
}