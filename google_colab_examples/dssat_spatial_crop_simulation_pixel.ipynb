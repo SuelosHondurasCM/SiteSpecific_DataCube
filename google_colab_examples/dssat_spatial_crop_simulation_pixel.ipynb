{
  "cells": [
    {
      "cell_type": "markdown",
      "metadata": {
        "id": "view-in-github",
        "colab_type": "text"
      },
      "source": [
        "<a href=\"https://colab.research.google.com/github/anaguilarar/WeatherSoilDataProcessor/blob/main/google_colab_examples/dssat_spatial_crop_simulation_pixel.ipynb\" target=\"_parent\"><img src=\"https://colab.research.google.com/assets/colab-badge.svg\" alt=\"Open In Colab\"/></a>"
      ]
    },
    {
      "cell_type": "code",
      "source": [
        "!git clone https://github.com/anaguilarar/WeatherSoilDataProcessor.git\n",
        "\n",
        "import os\n",
        "os.chdir('/content/WeatherSoilDataProcessor')\n",
        "\n",
        "!pip install -r /content/WeatherSoilDataProcessor/requirements.txt"
      ],
      "metadata": {
        "id": "yqW_tn6byf2Q"
      },
      "execution_count": null,
      "outputs": []
    },
    {
      "cell_type": "code",
      "source": [
        "!pip install hvplot panel param geoviews bokeh jupyter_bokeh -U\n",
        "from google.colab import output\n",
        "output.enable_custom_widget_manager()"
      ],
      "metadata": {
        "id": "11diXEoSyhvj"
      },
      "execution_count": null,
      "outputs": []
    },
    {
      "cell_type": "markdown",
      "metadata": {
        "id": "dJnguQKe7qjb"
      },
      "source": [
        "# Run spatial Crop Simulation using at pixel-scale resolution\n",
        "\n",
        "In this example, we show how to simulate the potential yield of a specific crop at a fine spatial resolution (250m), aligned with the SoilGrids project resolution. The simulation requires detailed information on soil and weather conditions, as well as specified management practices.\n",
        "\n",
        "## Repository Structure\n",
        "The repository consists of three main components:\n",
        "\n",
        "1. [**Download Spatial Data:**](#downloaddata)  \n",
        "  - Weather Data\n",
        "  - Soil Data\n",
        "\n",
        "2. [**Data Cube Creation:**](#datacube)\n",
        "  - Set configuration parameters\n",
        "  - Spatial visualization\n",
        "  - Export data as NetCDF files\n",
        "\n",
        "3. [**Crop Modeling Using the DSSAT Model:**](#cropmodel)\n",
        "  - Configuration file setup\n",
        "  - Running DSSAT\n",
        "  - Plotting the results"
      ]
    },
    {
      "cell_type": "markdown",
      "source": [
        "## 1. Download Spatial Data<a id=\"downloaddata\"></a>\n"
      ],
      "metadata": {
        "id": "yfak_rordNAO"
      }
    },
    {
      "cell_type": "markdown",
      "source": [
        "\n",
        "### Weather Data"
      ],
      "metadata": {
        "id": "tl-BMbnuwnSo"
      }
    },
    {
      "cell_type": "markdown",
      "source": [
        "In this section, we will download historical weather data . The information will be downloaded mainly from two sources [CHIRPS](https://www.chc.ucsb.edu/data/chirps) and [AgERA5](https://cds.climate.copernicus.eu/datasets/sis-agrometeorological-indicators?tab=overview).\n",
        "\n",
        "To access AgERA5 data, users must provide account credentials. This requires two key pieces of information:\n",
        "\n",
        "- Email – The email address used to register the AgERA5 account.\n",
        "- API Code – A unique code available in the profile settings after account creation.\n",
        "\n",
        "The following command is used to authenticate and access AgERA5 data:"
      ],
      "metadata": {
        "id": "2b03rfhOfk6D"
      }
    },
    {
      "cell_type": "code",
      "source": [
        "YOURUSERAPICODE = 'your_api_code'#\n",
        "YOUREMAIL = 'your_email@example.com'\n",
        "\n",
        "with open(\"/root/.cdsapirc\", \"w\") as f:\n",
        "  f.write(\"url: https://cds.climate.copernicus.eu/api\\nkey: {}\\nemail: \".format(YOURUSERAPICODE, YOUREMAIL))"
      ],
      "metadata": {
        "id": "zv1OtpFodhHL"
      },
      "execution_count": null,
      "outputs": []
    },
    {
      "cell_type": "markdown",
      "source": [
        "After, we set the configuration dictionary that defines the parameters for the weather data download, such as the time period, geographical extent, and the output folder path."
      ],
      "metadata": {
        "id": "gfdWjutyfPd1"
      }
    },
    {
      "cell_type": "code",
      "source": [
        "import os\n",
        "os.chdir('/content/WeatherSoilDataProcessor')\n",
        "\n",
        "import geopandas as gpd\n",
        "from omegaconf import OmegaConf\n",
        "\n",
        "from spatialdata.climate_data import MLTWeatherDataCube, ClimateDataDownload\n",
        "from spatialdata.gis_functions import get_boundaries_from_path\n",
        "\n",
        "configuration_info = {\n",
        "    'DATES': {\n",
        "        'starting_date':'2001-01-01',\n",
        "        'ending_date': '2002-12-31'},\n",
        "    'SPATIAL_INFO': {\n",
        "          'spatial_file': 'data/country.shp',\n",
        "          'extent': None #[-90, 12, -83, 17]\n",
        "    },\n",
        "    'WEATHER': { ## weather information\n",
        "        'variables': { # variables to download\n",
        "              'precipitation': {'mission': 'chirps', 'source': 'chips'},\n",
        "              'solar_radiation': {'mission': 'agera5', 'source': 'agera5'},\n",
        "              'temperature_tmax': {'mission': 'agera5', 'source': 'agera5'},\n",
        "              'temperature_tmin': {'mission': 'agera5', 'source': 'agera5'}\n",
        "        },\n",
        "    },\n",
        "    'GENERAL': {\n",
        "        'suffix': 'hnd',\n",
        "        'ncores': 10,\n",
        "    },\n",
        "    'PATHS':{\n",
        "        'output_path': 'weather/'\n",
        "    }\n",
        "}\n",
        "\n",
        "config = OmegaConf.create(configuration_info)\n",
        "config.SPATIAL_INFO"
      ],
      "metadata": {
        "id": "OLH1aR9Odm4x"
      },
      "execution_count": null,
      "outputs": []
    },
    {
      "cell_type": "code",
      "source": [
        "if config.SPATIAL_INFO.get('spatial_file',None):\n",
        "    extent = get_boundaries_from_path(config.SPATIAL_INFO.get('spatial_file',None), round_numbers = True)\n",
        "else:\n",
        "    extent = config.SPATIAL_INFO.extent\n",
        "\n",
        "print(f\"from {config.DATES.starting_date} to {config.DATES.ending_date}\" )\n",
        "climatedata = ClimateDataDownload(starting_date= config.DATES.starting_date,\n",
        "                                    ending_date= config.DATES.ending_date,\n",
        "                                    xyxy= extent,\n",
        "                                    output_folder= config.PATHS.output_path)\n",
        "\n",
        "climatedata.download_weather_information(config.WEATHER.variables, suffix_output_folder=config.GENERAL.suffix, ncores = 0)"
      ],
      "metadata": {
        "id": "MQlpToOlgnOD"
      },
      "execution_count": null,
      "outputs": []
    },
    {
      "cell_type": "markdown",
      "source": [
        "### Soil Data\n",
        "\n",
        "In this section, we will download soil data information for different depths. Currently the information is downloaded from [SoilGrids](https://soilgrids.org/) project.\n"
      ],
      "metadata": {
        "id": "FywaI_QjqQM3"
      }
    },
    {
      "cell_type": "code",
      "source": [
        "from spatialdata.soil_data import SoilGridDataDonwload\n",
        "from spatialdata.gis_functions import get_boundaries_from_path\n",
        "\n",
        "configuration_info = {\n",
        "\n",
        "    'SPATIAL_INFO': {\n",
        "          'spatial_file': 'data/country.shp',\n",
        "          'extent': None, #[-90, 12, -83, 17],\n",
        "          'crs': 'ESRI:54052' ## soilgrids proejection system\n",
        "    },\n",
        "    'SOIL': { ## weather information\n",
        "          'variables': [\"clay\",  \"sand\", \"silt\", \"wv0010\",\"cec\", \"wv0033\", \"wv1500\"],\n",
        "          'depths': [\"0-5\",\"5-15\",\"15-30\",\"30-60\"]\n",
        "    },\n",
        "    'GENERAL': {\n",
        "        'suffix': 'hnd'\n",
        "    },\n",
        "    'PATHS':{\n",
        "        'output_path': 'soil/'\n",
        "    }\n",
        "}\n",
        "\n",
        "config = OmegaConf.create(configuration_info)\n",
        "config.SPATIAL_INFO"
      ],
      "metadata": {
        "id": "fzgXawz-sL91"
      },
      "execution_count": null,
      "outputs": []
    },
    {
      "cell_type": "code",
      "source": [
        "if config.SPATIAL_INFO.get('spatial_file',None):\n",
        "    extent = get_boundaries_from_path(config.SPATIAL_INFO.get('spatial_file',None), crs = config.SPATIAL_INFO.crs, round_numbers = True)\n",
        "else:\n",
        "    extent = config.SPATIAL_INFO.extent\n",
        "\n",
        "outputpath = os.path.join(config.PATHS.output_path, config.GENERAL.suffix)\n",
        "\n",
        "soildata = SoilGridDataDonwload(soil_layers= config.SOIL.variables,\n",
        "                            depths= config.SOIL.depths,\n",
        "                            output_folder= outputpath)\n",
        "\n",
        "soildata.download_soilgrid(boundaries= extent)"
      ],
      "metadata": {
        "id": "y1HLJkentQHd"
      },
      "execution_count": null,
      "outputs": []
    },
    {
      "cell_type": "markdown",
      "source": [
        "## 2. Data Cube Creation<a id=\"datacube\"></a>"
      ],
      "metadata": {
        "id": "f6lrXgaCy0p0"
      }
    },
    {
      "cell_type": "markdown",
      "metadata": {
        "id": "L1Wg45h07qjc"
      },
      "source": [
        "### Set configuration parameters\n",
        "To implement this, it is necessary to have spatial information for soil and climate. We can create a datacube with dimensions height, width, channel, and date for weather, and height, width, channel, and depth for soil.\n",
        "\n",
        "An example of the spatial configuration is available in the options folder. Here, we will define it as a dictionary variable."
      ]
    },
    {
      "cell_type": "code",
      "source": [
        "from pathlib import Path\n",
        "import sys\n",
        "\n",
        "FILE_PATH = Path.cwd().joinpath('Py_DSSATTools')\n",
        "\n",
        "sys.path.append(\n",
        "    str(FILE_PATH.absolute())\n",
        ")\n"
      ],
      "metadata": {
        "id": "dj-pJjHw-cIe"
      },
      "execution_count": null,
      "outputs": []
    },
    {
      "cell_type": "code",
      "execution_count": null,
      "metadata": {
        "id": "aH9wI3-77qjc"
      },
      "outputs": [],
      "source": [
        "## creating\n",
        "import os\n",
        "os.chdir('/content/WeatherSoilDataProcessor')\n",
        "from crop_modeling.spatial_process import SpatialData\n",
        "\n",
        "configuration_info = {\n",
        "    'GENERAL_INFO': {'projected_crs':'ESRI:54052'},\n",
        "    'SPATIAL_VECTOR': {\n",
        "        'boundaries': \"data/country.shp\" # geo spatial file that will define the spatial boundaries\n",
        "    },\n",
        "    'WEATHER': { ## weather information\n",
        "        'setup_parameters': { # parameters to create the datacube\n",
        "            'paths':{ # path that allows each one of the meteorological variables information\n",
        "                'precipitation': \"weather/precipitation_hnd_raw\",\n",
        "                'srad': \"weather/solar_radiation_hnd_raw\",\n",
        "                'tmax': \"weather/temperature_tmax_hnd_raw\",\n",
        "                'tmin': \"weather/temperature_tmin_hnd_raw\"\n",
        "            },\n",
        "            'crs': 'EPSG:4326', ## spatial coordinates system\n",
        "            'period': ['2001-01-01', '2001-12-31'] ,\n",
        "            'reference_variable': 'precipitation' # variable used as spatial resolution reference\n",
        "        },\n",
        "        'data_cube_path' : None # path to the data cube information if it was already created\n",
        "    },\n",
        "    'SOIL': {\n",
        "        'setup_parameters': { # parameters to create the datacube\n",
        "            'path': \"soil/hnd/\",\n",
        "            'variables': [\"bdod\",\"clay\",\"sand\", \"silt\"],\n",
        "            'depths': [\"0-5\",\"5-15\",\"15-30\",\"30-60\"],\n",
        "            'crs': 'ESRI:54052', ## SOILGRIDS spatial coordinates system\n",
        "            'reference_variable': 'sand' # variable used as spatial resolution reference\n",
        "        },\n",
        "        'data_cube_path' : None # path to the data cube information if it was already created\n",
        "    }\n",
        "}"
      ]
    },
    {
      "cell_type": "code",
      "execution_count": null,
      "metadata": {
        "id": "ES-xQM4X7qjd"
      },
      "outputs": [],
      "source": [
        "\n",
        "# Initialize SpatialData with the configuration dictionary\n",
        "spdata = SpatialData(configuration_dict=configuration_info)\n",
        "\n",
        "# Retrieve climate data\n",
        "spdata.get_climate_data()\n",
        "\n",
        "# Retrieve soil data\n",
        "spdata.get_soil_data()"
      ]
    },
    {
      "cell_type": "code",
      "execution_count": null,
      "metadata": {
        "id": "GW83A-r57qjd"
      },
      "outputs": [],
      "source": [
        "## plots\n",
        "\n",
        "g_simple = spdata.climate.tmin.isel(date = list(range(5))).plot(x=\"x\", y=\"y\", col=\"date\", col_wrap=3, vmax = 300)"
      ]
    },
    {
      "cell_type": "code",
      "execution_count": null,
      "metadata": {
        "id": "U2fgVOMg7qjd"
      },
      "outputs": [],
      "source": [
        "# texture values in soil grids data is multiply by 10\n",
        "g_simple = spdata.soil.clay.plot(x=\"x\", y=\"y\", col=\"depth\", col_wrap=2, vmax = 600)"
      ]
    },
    {
      "cell_type": "code",
      "execution_count": null,
      "metadata": {
        "id": "NOOe2ZHd7qjd"
      },
      "outputs": [],
      "source": [
        "# save data as datacubes\n",
        "spdata._save_asnc(spdata.soil, fn = 'soil/soil_hnd.nc')\n",
        "spdata._save_asnc(spdata.climate, fn = 'weather/weather_hnd.nc')"
      ]
    },
    {
      "cell_type": "markdown",
      "metadata": {
        "id": "QNR390KI7qjd"
      },
      "source": [
        "## 3. Crop Modeling Using the DSSAT Model<a id=\"cropmodel\"></a>\n",
        "\n",
        "\n"
      ]
    },
    {
      "cell_type": "markdown",
      "source": [
        "### Spatial data\n",
        "\n",
        "The previous steps serve as a guide for obtaining the spatial datacubes data, (climate, and weather). In the following example, we will use datacubes that were previously processed for the entire country. These files contain historical climate data spanning a 34-year period. They are available in a Google Drive folder, so you will only need to download them using the gdown function.\n"
      ],
      "metadata": {
        "id": "OWFjZqfvxpYy"
      }
    },
    {
      "cell_type": "code",
      "source": [
        "soil_fileid = '1-zibd97Cr1LcPvrrv0ICZur1SWU_WVCn'\n",
        "weather_fileid = '1AoEy49mcuBUS8fs4OFdNEH4E90A33LKD'\n",
        "\n",
        "if not os.path.exists('hnd_soilgrids.nc'):\n",
        "  !gdown --id {soil_fileid} --output hnd_soilgrids.nc\n",
        "\n",
        "if not os.path.exists('hnd_weather.nc'):\n",
        "  !gdown --id {weather_fileid} --output hnd_weather.nc"
      ],
      "metadata": {
        "id": "C-1yGXpYOp_Z"
      },
      "execution_count": null,
      "outputs": []
    },
    {
      "cell_type": "markdown",
      "source": [
        "### Configuration file setup"
      ],
      "metadata": {
        "id": "6cvkKPsNqX_u"
      }
    },
    {
      "cell_type": "markdown",
      "source": [
        "To specify that the analysis will be done at pixel-scale, we set 'pixel' in the configuration dictionary.\n",
        "\n",
        "Other parameters to configure include crop parameters and management practices.\n",
        "Below is an example of how to define these parameters. For more examples, please check the options/dssat_options folder."
      ],
      "metadata": {
        "id": "-ZhB2Wdcevv5"
      }
    },
    {
      "cell_type": "code",
      "execution_count": null,
      "metadata": {
        "id": "D2MWo-jR7qjd"
      },
      "outputs": [],
      "source": [
        "import os\n",
        "os.chdir('/content/WeatherSoilDataProcessor')\n",
        "from crop_modeling.spatial_process import SpatialCM\n",
        "import numpy as np\n",
        "import pandas as pd\n",
        "\n",
        "cm_configuration = {\n",
        "    'GENERAL_INFO': {\n",
        "        'country': 'Honduras',\n",
        "        'country_code': 'HND', # crountry code\n",
        "        'working_path': 'runs', # the model outputs will be located in this path\n",
        "        'ncores': 10,\n",
        "        'model': 'dssat',\n",
        "        'bin_path': None\n",
        "    },\n",
        "    'SPATIAL_INFO':{\n",
        "        'geospatial_path': '/content/WeatherSoilDataProcessor/data/hnd_olancho_valley.shp', # spatial file that contains the region of interest\n",
        "        'feature_name': 'GEOCODIGO', ## an unique code that represent each region of interest\n",
        "        'aggregate_by' : 'pixel',\n",
        "        'soil_path' : 'hnd_soilgrids.nc',\n",
        "        'weather_path': 'hnd_weather.nc',\n",
        "        'scale_factor': 10 # scale factor for soil and weather spatial resolution combination\n",
        "    },\n",
        "    'CROP': {\n",
        "        'name': 'Maize', # crop name\n",
        "        'cultivar': 'IB1072', # cultivar\n",
        "        'cultivar_file': None # optional for the cases that you have a cultivar that is not in DSSATTools default cultivars\n",
        "    },\n",
        "    'MANAGEMENT':{\n",
        "        'planting_date': '1991-03-01',\n",
        "        'harvesting_date': None,\n",
        "        'plantingWindow': 30, # planting window in weeks\n",
        "        'fertilizer_schedule': {\n",
        "            'days_after_planting': None,\n",
        "            'npk': None\n",
        "        },\n",
        "        'index_soilwat': 1,\n",
        "        'template': 'crop_modeling/dssat/exp_files/KEAG8104.MZX'\n",
        "    }\n",
        "}\n",
        "\n"
      ]
    },
    {
      "cell_type": "markdown",
      "source": [
        "### Running DSSAT"
      ],
      "metadata": {
        "id": "w6Dstwf8yRtu"
      }
    },
    {
      "cell_type": "code",
      "execution_count": null,
      "metadata": {
        "id": "a4fwzZ-Y7qje"
      },
      "outputs": [],
      "source": [
        "# Initialize the spatial crop modeling class\n",
        "cm_sp = SpatialCM(configuration_dict=cm_configuration)\n",
        "geocode = '150149'\n",
        "# Specify the region of interest by its geocode this can be also done using the feature index\n",
        "roi = cm_sp.geo_features.loc[cm_sp.geo_features['GEOCODIGO']==str(geocode)]\n",
        "roi_name = roi[cm_sp.config.SPATIAL_INFO.feature_name].values[0]\n",
        "roi\n",
        "#cm_sp.geo_features['GEOCODIGO']"
      ]
    },
    {
      "cell_type": "code",
      "source": [
        "\n",
        "import shutil\n",
        "if os.path.exists(f'/content/WeatherSoilDataProcessor/runs/{geocode}'):\n",
        "  shutil.rmtree(f'/content/WeatherSoilDataProcessor/runs/{geocode}', ignore_errors=False, onerror=None)"
      ],
      "metadata": {
        "id": "5tJ4XKuIc_ll"
      },
      "execution_count": null,
      "outputs": []
    },
    {
      "cell_type": "code",
      "execution_count": null,
      "metadata": {
        "colab": {
          "base_uri": "https://localhost:8080/"
        },
        "id": "Ojy8yVEF7qje",
        "outputId": "577b47c3-6751-47b3-d6a0-334db43d562f"
      },
      "outputs": [
        {
          "output_type": "stream",
          "name": "stderr",
          "text": [
            "  6%|▌         | 64/1047 [19:16<5:05:44, 18.66s/it]"
          ]
        }
      ],
      "source": [
        "cm_sp.set_up_folders(site = roi_name)\n",
        "\n",
        "# Create soil and weather files for the selected region\n",
        "workingpath = cm_sp.create_roi_sp_data(\n",
        "    roi= roi,\n",
        ")\n",
        "if workingpath is not None:\n",
        "    # Locate environmental working paths\n",
        "    cm_sp.model.find_envworking_paths(cm_sp._tmp_path, 'WTH')\n",
        "\n",
        "    # Set up crop files\n",
        "    cm_sp.model.set_up_crop(crop=cm_sp.crop, cultivar=cm_sp.cultivar)\n",
        "\n",
        "    # Set up management files\n",
        "    cm_sp.model.set_up_management(crop=cm_sp.crop, cultivar=cm_sp.cultivar, **cm_sp.config.MANAGEMENT)\n",
        "\n",
        "    # run the simulation\n",
        "    dssath_path = cm_sp.config.GENERAL_INFO.get('dssat_path', None)\n",
        "    completed_sims =cm_sp.model.run(cm_sp.model.crop_code, crop=cm_sp.crop,planting_window=cm_sp.config.MANAGEMENT.plantingWindow,\n",
        "                                        bin_path = cm_sp.config.GENERAL_INFO.bin_path, remove_tmp_folder=True)\n",
        "    print(completed_sims)\n",
        "else:\n",
        "    print('there is no information')"
      ]
    },
    {
      "cell_type": "markdown",
      "metadata": {
        "id": "xHPyD2vT7qje"
      },
      "source": [
        "### Crop simulation outputs\n",
        "\n",
        "After completing the simulation, the next step is to generate the output maps.\n"
      ]
    },
    {
      "cell_type": "code",
      "execution_count": null,
      "metadata": {
        "id": "s4W-LLjG7qje"
      },
      "outputs": [],
      "source": [
        "from crop_modeling.dssat.output import update_dssat_data_using_path\n",
        "from crop_modeling.spatial_process import create_mlt_yield_raster\n",
        "import rioxarray as rio\n",
        "import matplotlib.pyplot as plt\n",
        "\n",
        "\n",
        "refraster = rio.open_rasterio(os.path.join(cm_sp._tmp_path,'ref_raster.tif'))\n",
        "model_data = update_dssat_data_using_path(cm_sp._tmp_path)\n",
        "\n",
        "mlt_pot_yield = create_mlt_yield_raster(refraster, model_data, ycol_name='HWAH')\n"
      ]
    },
    {
      "cell_type": "markdown",
      "source": [
        "### Plotting the results"
      ],
      "metadata": {
        "id": "13WXAXD-yWSJ"
      }
    },
    {
      "cell_type": "code",
      "source": [
        "import hvplot.xarray\n",
        "import holoviews as hv\n",
        "import panel as pn\n",
        "\n",
        "hv.extension(\"bokeh\")\n",
        "minlim = mlt_pot_yield.HWAH.min().values\n",
        "maxlim = mlt_pot_yield.HWAH.max().values\n",
        "\n",
        "mltmap = mlt_pot_yield.HWAH.hvplot.image(x='x', y='y', groupby = 'date',frame_height = 600, frame_width= 400, cmap='YlGnBu', fontscale=1.6, crs='EPSG:4326', tiles = 'EsriImagery', clim=(minlim,maxlim))\n",
        "\n",
        "dmap_panel = pn.panel(mltmap)\n",
        "dmap_panel\n"
      ],
      "metadata": {
        "id": "GYj1p6Ue88P1"
      },
      "execution_count": null,
      "outputs": []
    },
    {
      "cell_type": "markdown",
      "source": [
        "### Exporting the results"
      ],
      "metadata": {
        "id": "SOpYSy6pL4dW"
      }
    },
    {
      "cell_type": "code",
      "source": [
        "from crop_modeling.utils.process import get_crs_fromxarray,set_encoding, check_crs_inxrdataset\n",
        "\n",
        "dcengine = 'netcdf4'\n",
        "encoding = set_encoding(mlt_pot_yield)\n",
        "xrdata = check_crs_inxrdataset(mlt_pot_yield)\n",
        "xrdata.to_netcdf(f'simlations_{geocode}.nc', encoding = encoding, engine = dcengine)\n",
        "\n"
      ],
      "metadata": {
        "id": "XIAnzWNtr6yy"
      },
      "execution_count": null,
      "outputs": []
    },
    {
      "cell_type": "code",
      "source": [
        "import hvplot.pandas\n",
        "boxplot = mlt_pot_yield.HWAH.hvplot.box('HWAH', by=['date'], rot=90, box_fill_color='lightblue', width=1600, height=450).opts(ylim=(1285,9969))\n",
        "dmap_panel = pn.panel(boxplot)\n",
        "dmap_panel"
      ],
      "metadata": {
        "id": "EzFEuls7BP06"
      },
      "execution_count": null,
      "outputs": []
    },
    {
      "cell_type": "code",
      "source": [
        "from crop_modeling.utils.output_transforms import summarize_spatial_yields_by_time_window\n",
        "\n",
        "summ_yield  =summarize_spatial_yields_by_time_window(xrdmlt_pot_yieldata, plantingWindow= 30)\n"
      ],
      "metadata": {
        "id": "Hv35tu2pf7uJ"
      },
      "execution_count": null,
      "outputs": []
    },
    {
      "cell_type": "code",
      "source": [
        "\n",
        ""
      ],
      "metadata": {
        "id": "Wfof4rbbgPvu"
      },
      "execution_count": null,
      "outputs": []
    }
  ],
  "metadata": {
    "kernelspec": {
      "display_name": "agwise",
      "language": "python",
      "name": "python3"
    },
    "language_info": {
      "codemirror_mode": {
        "name": "ipython",
        "version": 3
      },
      "file_extension": ".py",
      "mimetype": "text/x-python",
      "name": "python",
      "nbconvert_exporter": "python",
      "pygments_lexer": "ipython3",
      "version": "3.9.20"
    },
    "colab": {
      "provenance": [],
      "include_colab_link": true
    }
  },
  "nbformat": 4,
  "nbformat_minor": 0
}