{
  "cells": [
    {
      "cell_type": "markdown",
      "metadata": {
        "id": "view-in-github",
        "colab_type": "text"
      },
      "source": [
        "<a href=\"https://colab.research.google.com/github/anaguilarar/WeatherSoilDataProcessor/blob/main/google_colab_examples/dssat_spatial_crop_simulation.ipynb\" target=\"_parent\"><img src=\"https://colab.research.google.com/assets/colab-badge.svg\" alt=\"Open In Colab\"/></a>"
      ]
    },
    {
      "cell_type": "markdown",
      "metadata": {
        "id": "dJnguQKe7qjb"
      },
      "source": [
        "# Run site-specific spatial Crop Simulation using region of interest\n",
        "\n",
        "In this example, we aim to simulate the potential yield of a specific crop for a defined region of interest. The simulation requires detailed information about soil and weather conditions, as well as the management practices used.\n",
        "\n",
        "In a previous example, we explained how to download soil and climate data from global spatial products such as CHIRPS and save them as NetCDF files.\n",
        "\n",
        "For this module, a configuration file is required to specify the type of experiment the user intends to implement. This file contains the necessary parameters to guide the simulation process.\n"
      ]
    },
    {
      "cell_type": "code",
      "execution_count": 1,
      "metadata": {
        "id": "vmKSUMMQ7qjc",
        "outputId": "34eefe98-20e8-4fcd-c12a-e409d449ba51",
        "colab": {
          "base_uri": "https://localhost:8080/",
          "height": 1000
        }
      },
      "outputs": [
        {
          "output_type": "stream",
          "name": "stdout",
          "text": [
            "Cloning into 'WeatherSoilDataProcessor'...\n",
            "remote: Enumerating objects: 2208, done.\u001b[K\n",
            "remote: Counting objects: 100% (126/126), done.\u001b[K\n",
            "remote: Compressing objects: 100% (106/106), done.\u001b[K\n",
            "remote: Total 2208 (delta 61), reused 68 (delta 19), pack-reused 2082 (from 2)\u001b[K\n",
            "Receiving objects: 100% (2208/2208), 124.43 MiB | 11.28 MiB/s, done.\n",
            "Resolving deltas: 100% (1748/1748), done.\n",
            "Updating files: 100% (76/76), done.\n",
            "Cloning into 'Py_DSSATTools'...\n",
            "remote: Enumerating objects: 1149, done.\u001b[K\n",
            "remote: Counting objects: 100% (219/219), done.\u001b[K\n",
            "remote: Compressing objects: 100% (27/27), done.\u001b[K\n",
            "remote: Total 1149 (delta 203), reused 192 (delta 192), pack-reused 930 (from 1)\u001b[K\n",
            "Receiving objects: 100% (1149/1149), 18.21 MiB | 7.43 MiB/s, done.\n",
            "Resolving deltas: 100% (795/795), done.\n",
            "Updating files: 100% (226/226), done.\n",
            "Collecting affine==2.4.0 (from -r /content/WeatherSoilDataProcessor/requirements.txt (line 1))\n",
            "  Downloading affine-2.4.0-py3-none-any.whl.metadata (4.0 kB)\n",
            "Collecting cdsapi (from -r /content/WeatherSoilDataProcessor/requirements.txt (line 2))\n",
            "  Downloading cdsapi-0.7.5-py2.py3-none-any.whl.metadata (2.9 kB)\n",
            "Collecting rosetta-soil==0.1.1 (from -r /content/WeatherSoilDataProcessor/requirements.txt (line 4))\n",
            "  Downloading rosetta_soil-0.1.1-py3-none-any.whl.metadata (1.0 kB)\n",
            "Collecting fortranformat==1.2.2 (from -r /content/WeatherSoilDataProcessor/requirements.txt (line 5))\n",
            "  Downloading fortranformat-1.2.2.tar.gz (22 kB)\n",
            "  Preparing metadata (setup.py) ... \u001b[?25l\u001b[?25hdone\n",
            "Requirement already satisfied: geopandas==1.0.1 in /usr/local/lib/python3.11/dist-packages (from -r /content/WeatherSoilDataProcessor/requirements.txt (line 6)) (1.0.1)\n",
            "Collecting matplotlib==3.9.2 (from -r /content/WeatherSoilDataProcessor/requirements.txt (line 7))\n",
            "  Downloading matplotlib-3.9.2-cp311-cp311-manylinux_2_17_x86_64.manylinux2014_x86_64.whl.metadata (11 kB)\n",
            "Requirement already satisfied: numpy==2.0.2 in /usr/local/lib/python3.11/dist-packages (from -r /content/WeatherSoilDataProcessor/requirements.txt (line 8)) (2.0.2)\n",
            "Collecting omegaconf (from -r /content/WeatherSoilDataProcessor/requirements.txt (line 9))\n",
            "  Downloading omegaconf-2.3.0-py3-none-any.whl.metadata (3.9 kB)\n",
            "Collecting pandas==2.2.3 (from -r /content/WeatherSoilDataProcessor/requirements.txt (line 10))\n",
            "  Downloading pandas-2.2.3-cp311-cp311-manylinux_2_17_x86_64.manylinux2014_x86_64.whl.metadata (89 kB)\n",
            "\u001b[2K     \u001b[90m━━━━━━━━━━━━━━━━━━━━━━━━━━━━━━━━━━━━━━━━\u001b[0m \u001b[32m89.9/89.9 kB\u001b[0m \u001b[31m5.0 MB/s\u001b[0m eta \u001b[36m0:00:00\u001b[0m\n",
            "\u001b[?25hRequirement already satisfied: python_dateutil in /usr/local/lib/python3.11/dist-packages (from -r /content/WeatherSoilDataProcessor/requirements.txt (line 11)) (2.9.0.post0)\n",
            "Requirement already satisfied: PyYAML in /usr/local/lib/python3.11/dist-packages (from -r /content/WeatherSoilDataProcessor/requirements.txt (line 12)) (6.0.2)\n",
            "Requirement already satisfied: plotly in /usr/local/lib/python3.11/dist-packages (from -r /content/WeatherSoilDataProcessor/requirements.txt (line 13)) (5.24.1)\n",
            "Collecting rasterio==1.4.1 (from -r /content/WeatherSoilDataProcessor/requirements.txt (line 14))\n",
            "  Downloading rasterio-1.4.1-cp311-cp311-manylinux_2_17_x86_64.manylinux2014_x86_64.whl.metadata (9.1 kB)\n",
            "Requirement already satisfied: Requests in /usr/local/lib/python3.11/dist-packages (from -r /content/WeatherSoilDataProcessor/requirements.txt (line 15)) (2.32.3)\n",
            "Collecting rioxarray (from -r /content/WeatherSoilDataProcessor/requirements.txt (line 16))\n",
            "  Downloading rioxarray-0.19.0-py3-none-any.whl.metadata (5.5 kB)\n",
            "Collecting scipy==1.13.1 (from -r /content/WeatherSoilDataProcessor/requirements.txt (line 17))\n",
            "  Downloading scipy-1.13.1-cp311-cp311-manylinux_2_17_x86_64.manylinux2014_x86_64.whl.metadata (60 kB)\n",
            "\u001b[2K     \u001b[90m━━━━━━━━━━━━━━━━━━━━━━━━━━━━━━━━━━━━━━━━\u001b[0m \u001b[32m60.6/60.6 kB\u001b[0m \u001b[31m4.1 MB/s\u001b[0m eta \u001b[36m0:00:00\u001b[0m\n",
            "\u001b[?25hRequirement already satisfied: Shapely in /usr/local/lib/python3.11/dist-packages (from -r /content/WeatherSoilDataProcessor/requirements.txt (line 18)) (2.1.0)\n",
            "Collecting soilgrids==0.1.4 (from -r /content/WeatherSoilDataProcessor/requirements.txt (line 19))\n",
            "  Downloading soilgrids-0.1.4-py3-none-any.whl.metadata (4.9 kB)\n",
            "Collecting unidecode (from -r /content/WeatherSoilDataProcessor/requirements.txt (line 20))\n",
            "  Downloading Unidecode-1.4.0-py3-none-any.whl.metadata (13 kB)\n",
            "Requirement already satisfied: tqdm in /usr/local/lib/python3.11/dist-packages (from -r /content/WeatherSoilDataProcessor/requirements.txt (line 21)) (4.67.1)\n",
            "Requirement already satisfied: widgetsnbextension in /usr/local/lib/python3.11/dist-packages (from -r /content/WeatherSoilDataProcessor/requirements.txt (line 22)) (3.6.10)\n",
            "Collecting xarray==2024.7.0 (from -r /content/WeatherSoilDataProcessor/requirements.txt (line 23))\n",
            "  Downloading xarray-2024.7.0-py3-none-any.whl.metadata (11 kB)\n",
            "Requirement already satisfied: numba==0.60.0 in /usr/local/lib/python3.11/dist-packages (from -r /content/WeatherSoilDataProcessor/requirements.txt (line 24)) (0.60.0)\n",
            "Collecting bayesian-optimization==2.0.3 (from -r /content/WeatherSoilDataProcessor/requirements.txt (line 25))\n",
            "  Downloading bayesian_optimization-2.0.3-py3-none-any.whl.metadata (9.0 kB)\n",
            "Requirement already satisfied: pyogrio>=0.7.2 in /usr/local/lib/python3.11/dist-packages (from geopandas==1.0.1->-r /content/WeatherSoilDataProcessor/requirements.txt (line 6)) (0.10.0)\n",
            "Requirement already satisfied: packaging in /usr/local/lib/python3.11/dist-packages (from geopandas==1.0.1->-r /content/WeatherSoilDataProcessor/requirements.txt (line 6)) (24.2)\n",
            "Requirement already satisfied: pyproj>=3.3.0 in /usr/local/lib/python3.11/dist-packages (from geopandas==1.0.1->-r /content/WeatherSoilDataProcessor/requirements.txt (line 6)) (3.7.1)\n",
            "Requirement already satisfied: contourpy>=1.0.1 in /usr/local/lib/python3.11/dist-packages (from matplotlib==3.9.2->-r /content/WeatherSoilDataProcessor/requirements.txt (line 7)) (1.3.2)\n",
            "Requirement already satisfied: cycler>=0.10 in /usr/local/lib/python3.11/dist-packages (from matplotlib==3.9.2->-r /content/WeatherSoilDataProcessor/requirements.txt (line 7)) (0.12.1)\n",
            "Requirement already satisfied: fonttools>=4.22.0 in /usr/local/lib/python3.11/dist-packages (from matplotlib==3.9.2->-r /content/WeatherSoilDataProcessor/requirements.txt (line 7)) (4.57.0)\n",
            "Requirement already satisfied: kiwisolver>=1.3.1 in /usr/local/lib/python3.11/dist-packages (from matplotlib==3.9.2->-r /content/WeatherSoilDataProcessor/requirements.txt (line 7)) (1.4.8)\n",
            "Requirement already satisfied: pillow>=8 in /usr/local/lib/python3.11/dist-packages (from matplotlib==3.9.2->-r /content/WeatherSoilDataProcessor/requirements.txt (line 7)) (11.2.1)\n",
            "Requirement already satisfied: pyparsing>=2.3.1 in /usr/local/lib/python3.11/dist-packages (from matplotlib==3.9.2->-r /content/WeatherSoilDataProcessor/requirements.txt (line 7)) (3.2.3)\n",
            "Requirement already satisfied: pytz>=2020.1 in /usr/local/lib/python3.11/dist-packages (from pandas==2.2.3->-r /content/WeatherSoilDataProcessor/requirements.txt (line 10)) (2025.2)\n",
            "Requirement already satisfied: tzdata>=2022.7 in /usr/local/lib/python3.11/dist-packages (from pandas==2.2.3->-r /content/WeatherSoilDataProcessor/requirements.txt (line 10)) (2025.2)\n",
            "Requirement already satisfied: attrs in /usr/local/lib/python3.11/dist-packages (from rasterio==1.4.1->-r /content/WeatherSoilDataProcessor/requirements.txt (line 14)) (25.3.0)\n",
            "Requirement already satisfied: certifi in /usr/local/lib/python3.11/dist-packages (from rasterio==1.4.1->-r /content/WeatherSoilDataProcessor/requirements.txt (line 14)) (2025.4.26)\n",
            "Requirement already satisfied: click>=4.0 in /usr/local/lib/python3.11/dist-packages (from rasterio==1.4.1->-r /content/WeatherSoilDataProcessor/requirements.txt (line 14)) (8.1.8)\n",
            "Collecting cligj>=0.5 (from rasterio==1.4.1->-r /content/WeatherSoilDataProcessor/requirements.txt (line 14))\n",
            "  Downloading cligj-0.7.2-py3-none-any.whl.metadata (5.0 kB)\n",
            "Collecting click-plugins (from rasterio==1.4.1->-r /content/WeatherSoilDataProcessor/requirements.txt (line 14))\n",
            "  Downloading click_plugins-1.1.1-py2.py3-none-any.whl.metadata (6.4 kB)\n",
            "Collecting bmipy (from soilgrids==0.1.4->-r /content/WeatherSoilDataProcessor/requirements.txt (line 19))\n",
            "  Downloading bmipy-2.0.1-py3-none-any.whl.metadata (2.7 kB)\n",
            "Collecting netcdf4 (from soilgrids==0.1.4->-r /content/WeatherSoilDataProcessor/requirements.txt (line 19))\n",
            "  Downloading netCDF4-1.7.2-cp311-cp311-manylinux_2_17_x86_64.manylinux2014_x86_64.whl.metadata (1.8 kB)\n",
            "Collecting owslib (from soilgrids==0.1.4->-r /content/WeatherSoilDataProcessor/requirements.txt (line 19))\n",
            "  Downloading owslib-0.33.0-py3-none-any.whl.metadata (6.9 kB)\n",
            "Requirement already satisfied: llvmlite<0.44,>=0.43.0dev0 in /usr/local/lib/python3.11/dist-packages (from numba==0.60.0->-r /content/WeatherSoilDataProcessor/requirements.txt (line 24)) (0.43.0)\n",
            "Collecting colorama<0.5.0,>=0.4.6 (from bayesian-optimization==2.0.3->-r /content/WeatherSoilDataProcessor/requirements.txt (line 25))\n",
            "  Downloading colorama-0.4.6-py2.py3-none-any.whl.metadata (17 kB)\n",
            "Requirement already satisfied: scikit-learn<2.0.0,>=1.0.0 in /usr/local/lib/python3.11/dist-packages (from bayesian-optimization==2.0.3->-r /content/WeatherSoilDataProcessor/requirements.txt (line 25)) (1.6.1)\n",
            "Collecting datapi (from cdsapi->-r /content/WeatherSoilDataProcessor/requirements.txt (line 2))\n",
            "  Downloading datapi-0.4.0-py3-none-any.whl.metadata (20 kB)\n",
            "Collecting antlr4-python3-runtime==4.9.* (from omegaconf->-r /content/WeatherSoilDataProcessor/requirements.txt (line 9))\n",
            "  Downloading antlr4-python3-runtime-4.9.3.tar.gz (117 kB)\n",
            "\u001b[2K     \u001b[90m━━━━━━━━━━━━━━━━━━━━━━━━━━━━━━━━━━━━━━━\u001b[0m \u001b[32m117.0/117.0 kB\u001b[0m \u001b[31m8.8 MB/s\u001b[0m eta \u001b[36m0:00:00\u001b[0m\n",
            "\u001b[?25h  Preparing metadata (setup.py) ... \u001b[?25l\u001b[?25hdone\n",
            "Requirement already satisfied: six>=1.5 in /usr/local/lib/python3.11/dist-packages (from python_dateutil->-r /content/WeatherSoilDataProcessor/requirements.txt (line 11)) (1.17.0)\n",
            "Requirement already satisfied: tenacity>=6.2.0 in /usr/local/lib/python3.11/dist-packages (from plotly->-r /content/WeatherSoilDataProcessor/requirements.txt (line 13)) (9.1.2)\n",
            "Requirement already satisfied: charset-normalizer<4,>=2 in /usr/local/lib/python3.11/dist-packages (from Requests->-r /content/WeatherSoilDataProcessor/requirements.txt (line 15)) (3.4.1)\n",
            "Requirement already satisfied: idna<4,>=2.5 in /usr/local/lib/python3.11/dist-packages (from Requests->-r /content/WeatherSoilDataProcessor/requirements.txt (line 15)) (3.10)\n",
            "Requirement already satisfied: urllib3<3,>=1.21.1 in /usr/local/lib/python3.11/dist-packages (from Requests->-r /content/WeatherSoilDataProcessor/requirements.txt (line 15)) (2.4.0)\n",
            "INFO: pip is looking at multiple versions of rioxarray to determine which version is compatible with other requirements. This could take a while.\n",
            "Collecting rioxarray (from -r /content/WeatherSoilDataProcessor/requirements.txt (line 16))\n",
            "  Downloading rioxarray-0.18.2-py3-none-any.whl.metadata (5.4 kB)\n",
            "Requirement already satisfied: notebook>=4.4.1 in /usr/local/lib/python3.11/dist-packages (from widgetsnbextension->-r /content/WeatherSoilDataProcessor/requirements.txt (line 22)) (6.5.7)\n",
            "Requirement already satisfied: jinja2 in /usr/local/lib/python3.11/dist-packages (from notebook>=4.4.1->widgetsnbextension->-r /content/WeatherSoilDataProcessor/requirements.txt (line 22)) (3.1.6)\n",
            "Requirement already satisfied: tornado>=6.1 in /usr/local/lib/python3.11/dist-packages (from notebook>=4.4.1->widgetsnbextension->-r /content/WeatherSoilDataProcessor/requirements.txt (line 22)) (6.4.2)\n",
            "Requirement already satisfied: pyzmq>=17 in /usr/local/lib/python3.11/dist-packages (from notebook>=4.4.1->widgetsnbextension->-r /content/WeatherSoilDataProcessor/requirements.txt (line 22)) (24.0.1)\n",
            "Requirement already satisfied: argon2-cffi in /usr/local/lib/python3.11/dist-packages (from notebook>=4.4.1->widgetsnbextension->-r /content/WeatherSoilDataProcessor/requirements.txt (line 22)) (23.1.0)\n",
            "Requirement already satisfied: traitlets>=4.2.1 in /usr/local/lib/python3.11/dist-packages (from notebook>=4.4.1->widgetsnbextension->-r /content/WeatherSoilDataProcessor/requirements.txt (line 22)) (5.7.1)\n",
            "Requirement already satisfied: jupyter-core>=4.6.1 in /usr/local/lib/python3.11/dist-packages (from notebook>=4.4.1->widgetsnbextension->-r /content/WeatherSoilDataProcessor/requirements.txt (line 22)) (5.7.2)\n",
            "Requirement already satisfied: jupyter-client<8,>=5.3.4 in /usr/local/lib/python3.11/dist-packages (from notebook>=4.4.1->widgetsnbextension->-r /content/WeatherSoilDataProcessor/requirements.txt (line 22)) (6.1.12)\n",
            "Requirement already satisfied: ipython-genutils in /usr/local/lib/python3.11/dist-packages (from notebook>=4.4.1->widgetsnbextension->-r /content/WeatherSoilDataProcessor/requirements.txt (line 22)) (0.2.0)\n",
            "Requirement already satisfied: nbformat in /usr/local/lib/python3.11/dist-packages (from notebook>=4.4.1->widgetsnbextension->-r /content/WeatherSoilDataProcessor/requirements.txt (line 22)) (5.10.4)\n",
            "Requirement already satisfied: nbconvert>=5 in /usr/local/lib/python3.11/dist-packages (from notebook>=4.4.1->widgetsnbextension->-r /content/WeatherSoilDataProcessor/requirements.txt (line 22)) (7.16.6)\n",
            "Requirement already satisfied: nest-asyncio>=1.5 in /usr/local/lib/python3.11/dist-packages (from notebook>=4.4.1->widgetsnbextension->-r /content/WeatherSoilDataProcessor/requirements.txt (line 22)) (1.6.0)\n",
            "Requirement already satisfied: ipykernel in /usr/local/lib/python3.11/dist-packages (from notebook>=4.4.1->widgetsnbextension->-r /content/WeatherSoilDataProcessor/requirements.txt (line 22)) (6.17.1)\n",
            "Requirement already satisfied: Send2Trash>=1.8.0 in /usr/local/lib/python3.11/dist-packages (from notebook>=4.4.1->widgetsnbextension->-r /content/WeatherSoilDataProcessor/requirements.txt (line 22)) (1.8.3)\n",
            "Requirement already satisfied: terminado>=0.8.3 in /usr/local/lib/python3.11/dist-packages (from notebook>=4.4.1->widgetsnbextension->-r /content/WeatherSoilDataProcessor/requirements.txt (line 22)) (0.18.1)\n",
            "Requirement already satisfied: prometheus-client in /usr/local/lib/python3.11/dist-packages (from notebook>=4.4.1->widgetsnbextension->-r /content/WeatherSoilDataProcessor/requirements.txt (line 22)) (0.21.1)\n",
            "Requirement already satisfied: nbclassic>=0.4.7 in /usr/local/lib/python3.11/dist-packages (from notebook>=4.4.1->widgetsnbextension->-r /content/WeatherSoilDataProcessor/requirements.txt (line 22)) (1.3.0)\n",
            "Requirement already satisfied: joblib>=1.2.0 in /usr/local/lib/python3.11/dist-packages (from scikit-learn<2.0.0,>=1.0.0->bayesian-optimization==2.0.3->-r /content/WeatherSoilDataProcessor/requirements.txt (line 25)) (1.4.2)\n",
            "Requirement already satisfied: threadpoolctl>=3.1.0 in /usr/local/lib/python3.11/dist-packages (from scikit-learn<2.0.0,>=1.0.0->bayesian-optimization==2.0.3->-r /content/WeatherSoilDataProcessor/requirements.txt (line 25)) (3.6.0)\n",
            "Collecting black (from bmipy->soilgrids==0.1.4->-r /content/WeatherSoilDataProcessor/requirements.txt (line 19))\n",
            "  Downloading black-25.1.0-cp311-cp311-manylinux_2_17_x86_64.manylinux2014_x86_64.manylinux_2_28_x86_64.whl.metadata (81 kB)\n",
            "\u001b[2K     \u001b[90m━━━━━━━━━━━━━━━━━━━━━━━━━━━━━━━━━━━━━━━━\u001b[0m \u001b[32m81.3/81.3 kB\u001b[0m \u001b[31m6.1 MB/s\u001b[0m eta \u001b[36m0:00:00\u001b[0m\n",
            "\u001b[?25hCollecting multiurl>=0.3.2 (from datapi->cdsapi->-r /content/WeatherSoilDataProcessor/requirements.txt (line 2))\n",
            "  Downloading multiurl-0.3.5-py3-none-any.whl.metadata (2.8 kB)\n",
            "Requirement already satisfied: typing-extensions in /usr/local/lib/python3.11/dist-packages (from datapi->cdsapi->-r /content/WeatherSoilDataProcessor/requirements.txt (line 2)) (4.13.2)\n",
            "Collecting cftime (from netcdf4->soilgrids==0.1.4->-r /content/WeatherSoilDataProcessor/requirements.txt (line 19))\n",
            "  Downloading cftime-1.6.4.post1-cp311-cp311-manylinux_2_17_x86_64.manylinux2014_x86_64.whl.metadata (8.7 kB)\n",
            "Requirement already satisfied: lxml in /usr/local/lib/python3.11/dist-packages (from owslib->soilgrids==0.1.4->-r /content/WeatherSoilDataProcessor/requirements.txt (line 19)) (5.4.0)\n",
            "Requirement already satisfied: platformdirs>=2.5 in /usr/local/lib/python3.11/dist-packages (from jupyter-core>=4.6.1->notebook>=4.4.1->widgetsnbextension->-r /content/WeatherSoilDataProcessor/requirements.txt (line 22)) (4.3.7)\n",
            "Requirement already satisfied: notebook-shim>=0.2.3 in /usr/local/lib/python3.11/dist-packages (from nbclassic>=0.4.7->notebook>=4.4.1->widgetsnbextension->-r /content/WeatherSoilDataProcessor/requirements.txt (line 22)) (0.2.4)\n",
            "Requirement already satisfied: beautifulsoup4 in /usr/local/lib/python3.11/dist-packages (from nbconvert>=5->notebook>=4.4.1->widgetsnbextension->-r /content/WeatherSoilDataProcessor/requirements.txt (line 22)) (4.13.4)\n",
            "Requirement already satisfied: bleach!=5.0.0 in /usr/local/lib/python3.11/dist-packages (from bleach[css]!=5.0.0->nbconvert>=5->notebook>=4.4.1->widgetsnbextension->-r /content/WeatherSoilDataProcessor/requirements.txt (line 22)) (6.2.0)\n",
            "Requirement already satisfied: defusedxml in /usr/local/lib/python3.11/dist-packages (from nbconvert>=5->notebook>=4.4.1->widgetsnbextension->-r /content/WeatherSoilDataProcessor/requirements.txt (line 22)) (0.7.1)\n",
            "Requirement already satisfied: jupyterlab-pygments in /usr/local/lib/python3.11/dist-packages (from nbconvert>=5->notebook>=4.4.1->widgetsnbextension->-r /content/WeatherSoilDataProcessor/requirements.txt (line 22)) (0.3.0)\n",
            "Requirement already satisfied: markupsafe>=2.0 in /usr/local/lib/python3.11/dist-packages (from nbconvert>=5->notebook>=4.4.1->widgetsnbextension->-r /content/WeatherSoilDataProcessor/requirements.txt (line 22)) (3.0.2)\n",
            "Requirement already satisfied: mistune<4,>=2.0.3 in /usr/local/lib/python3.11/dist-packages (from nbconvert>=5->notebook>=4.4.1->widgetsnbextension->-r /content/WeatherSoilDataProcessor/requirements.txt (line 22)) (3.1.3)\n",
            "Requirement already satisfied: nbclient>=0.5.0 in /usr/local/lib/python3.11/dist-packages (from nbconvert>=5->notebook>=4.4.1->widgetsnbextension->-r /content/WeatherSoilDataProcessor/requirements.txt (line 22)) (0.10.2)\n",
            "Requirement already satisfied: pandocfilters>=1.4.1 in /usr/local/lib/python3.11/dist-packages (from nbconvert>=5->notebook>=4.4.1->widgetsnbextension->-r /content/WeatherSoilDataProcessor/requirements.txt (line 22)) (1.5.1)\n",
            "Requirement already satisfied: pygments>=2.4.1 in /usr/local/lib/python3.11/dist-packages (from nbconvert>=5->notebook>=4.4.1->widgetsnbextension->-r /content/WeatherSoilDataProcessor/requirements.txt (line 22)) (2.19.1)\n",
            "Requirement already satisfied: fastjsonschema>=2.15 in /usr/local/lib/python3.11/dist-packages (from nbformat->notebook>=4.4.1->widgetsnbextension->-r /content/WeatherSoilDataProcessor/requirements.txt (line 22)) (2.21.1)\n",
            "Requirement already satisfied: jsonschema>=2.6 in /usr/local/lib/python3.11/dist-packages (from nbformat->notebook>=4.4.1->widgetsnbextension->-r /content/WeatherSoilDataProcessor/requirements.txt (line 22)) (4.23.0)\n",
            "Requirement already satisfied: ptyprocess in /usr/local/lib/python3.11/dist-packages (from terminado>=0.8.3->notebook>=4.4.1->widgetsnbextension->-r /content/WeatherSoilDataProcessor/requirements.txt (line 22)) (0.7.0)\n",
            "Requirement already satisfied: argon2-cffi-bindings in /usr/local/lib/python3.11/dist-packages (from argon2-cffi->notebook>=4.4.1->widgetsnbextension->-r /content/WeatherSoilDataProcessor/requirements.txt (line 22)) (21.2.0)\n",
            "Collecting mypy-extensions>=0.4.3 (from black->bmipy->soilgrids==0.1.4->-r /content/WeatherSoilDataProcessor/requirements.txt (line 19))\n",
            "  Downloading mypy_extensions-1.1.0-py3-none-any.whl.metadata (1.1 kB)\n",
            "Collecting pathspec>=0.9.0 (from black->bmipy->soilgrids==0.1.4->-r /content/WeatherSoilDataProcessor/requirements.txt (line 19))\n",
            "  Downloading pathspec-0.12.1-py3-none-any.whl.metadata (21 kB)\n",
            "Requirement already satisfied: debugpy>=1.0 in /usr/local/lib/python3.11/dist-packages (from ipykernel->notebook>=4.4.1->widgetsnbextension->-r /content/WeatherSoilDataProcessor/requirements.txt (line 22)) (1.8.0)\n",
            "Requirement already satisfied: ipython>=7.23.1 in /usr/local/lib/python3.11/dist-packages (from ipykernel->notebook>=4.4.1->widgetsnbextension->-r /content/WeatherSoilDataProcessor/requirements.txt (line 22)) (7.34.0)\n",
            "Requirement already satisfied: matplotlib-inline>=0.1 in /usr/local/lib/python3.11/dist-packages (from ipykernel->notebook>=4.4.1->widgetsnbextension->-r /content/WeatherSoilDataProcessor/requirements.txt (line 22)) (0.1.7)\n",
            "Requirement already satisfied: psutil in /usr/local/lib/python3.11/dist-packages (from ipykernel->notebook>=4.4.1->widgetsnbextension->-r /content/WeatherSoilDataProcessor/requirements.txt (line 22)) (5.9.5)\n",
            "Requirement already satisfied: webencodings in /usr/local/lib/python3.11/dist-packages (from bleach!=5.0.0->bleach[css]!=5.0.0->nbconvert>=5->notebook>=4.4.1->widgetsnbextension->-r /content/WeatherSoilDataProcessor/requirements.txt (line 22)) (0.5.1)\n",
            "Requirement already satisfied: tinycss2<1.5,>=1.1.0 in /usr/local/lib/python3.11/dist-packages (from bleach[css]!=5.0.0->nbconvert>=5->notebook>=4.4.1->widgetsnbextension->-r /content/WeatherSoilDataProcessor/requirements.txt (line 22)) (1.4.0)\n",
            "Requirement already satisfied: setuptools>=18.5 in /usr/local/lib/python3.11/dist-packages (from ipython>=7.23.1->ipykernel->notebook>=4.4.1->widgetsnbextension->-r /content/WeatherSoilDataProcessor/requirements.txt (line 22)) (75.2.0)\n",
            "Collecting jedi>=0.16 (from ipython>=7.23.1->ipykernel->notebook>=4.4.1->widgetsnbextension->-r /content/WeatherSoilDataProcessor/requirements.txt (line 22))\n",
            "  Downloading jedi-0.19.2-py2.py3-none-any.whl.metadata (22 kB)\n",
            "Requirement already satisfied: decorator in /usr/local/lib/python3.11/dist-packages (from ipython>=7.23.1->ipykernel->notebook>=4.4.1->widgetsnbextension->-r /content/WeatherSoilDataProcessor/requirements.txt (line 22)) (4.4.2)\n",
            "Requirement already satisfied: pickleshare in /usr/local/lib/python3.11/dist-packages (from ipython>=7.23.1->ipykernel->notebook>=4.4.1->widgetsnbextension->-r /content/WeatherSoilDataProcessor/requirements.txt (line 22)) (0.7.5)\n",
            "Requirement already satisfied: prompt-toolkit!=3.0.0,!=3.0.1,<3.1.0,>=2.0.0 in /usr/local/lib/python3.11/dist-packages (from ipython>=7.23.1->ipykernel->notebook>=4.4.1->widgetsnbextension->-r /content/WeatherSoilDataProcessor/requirements.txt (line 22)) (3.0.51)\n",
            "Requirement already satisfied: backcall in /usr/local/lib/python3.11/dist-packages (from ipython>=7.23.1->ipykernel->notebook>=4.4.1->widgetsnbextension->-r /content/WeatherSoilDataProcessor/requirements.txt (line 22)) (0.2.0)\n",
            "Requirement already satisfied: pexpect>4.3 in /usr/local/lib/python3.11/dist-packages (from ipython>=7.23.1->ipykernel->notebook>=4.4.1->widgetsnbextension->-r /content/WeatherSoilDataProcessor/requirements.txt (line 22)) (4.9.0)\n",
            "Requirement already satisfied: jsonschema-specifications>=2023.03.6 in /usr/local/lib/python3.11/dist-packages (from jsonschema>=2.6->nbformat->notebook>=4.4.1->widgetsnbextension->-r /content/WeatherSoilDataProcessor/requirements.txt (line 22)) (2025.4.1)\n",
            "Requirement already satisfied: referencing>=0.28.4 in /usr/local/lib/python3.11/dist-packages (from jsonschema>=2.6->nbformat->notebook>=4.4.1->widgetsnbextension->-r /content/WeatherSoilDataProcessor/requirements.txt (line 22)) (0.36.2)\n",
            "Requirement already satisfied: rpds-py>=0.7.1 in /usr/local/lib/python3.11/dist-packages (from jsonschema>=2.6->nbformat->notebook>=4.4.1->widgetsnbextension->-r /content/WeatherSoilDataProcessor/requirements.txt (line 22)) (0.24.0)\n",
            "Requirement already satisfied: jupyter-server<3,>=1.8 in /usr/local/lib/python3.11/dist-packages (from notebook-shim>=0.2.3->nbclassic>=0.4.7->notebook>=4.4.1->widgetsnbextension->-r /content/WeatherSoilDataProcessor/requirements.txt (line 22)) (1.16.0)\n",
            "Requirement already satisfied: cffi>=1.0.1 in /usr/local/lib/python3.11/dist-packages (from argon2-cffi-bindings->argon2-cffi->notebook>=4.4.1->widgetsnbextension->-r /content/WeatherSoilDataProcessor/requirements.txt (line 22)) (1.17.1)\n",
            "Requirement already satisfied: soupsieve>1.2 in /usr/local/lib/python3.11/dist-packages (from beautifulsoup4->nbconvert>=5->notebook>=4.4.1->widgetsnbextension->-r /content/WeatherSoilDataProcessor/requirements.txt (line 22)) (2.7)\n",
            "Requirement already satisfied: pycparser in /usr/local/lib/python3.11/dist-packages (from cffi>=1.0.1->argon2-cffi-bindings->argon2-cffi->notebook>=4.4.1->widgetsnbextension->-r /content/WeatherSoilDataProcessor/requirements.txt (line 22)) (2.22)\n",
            "Requirement already satisfied: parso<0.9.0,>=0.8.4 in /usr/local/lib/python3.11/dist-packages (from jedi>=0.16->ipython>=7.23.1->ipykernel->notebook>=4.4.1->widgetsnbextension->-r /content/WeatherSoilDataProcessor/requirements.txt (line 22)) (0.8.4)\n",
            "Requirement already satisfied: anyio>=3.1.0 in /usr/local/lib/python3.11/dist-packages (from jupyter-server<3,>=1.8->notebook-shim>=0.2.3->nbclassic>=0.4.7->notebook>=4.4.1->widgetsnbextension->-r /content/WeatherSoilDataProcessor/requirements.txt (line 22)) (4.9.0)\n",
            "Requirement already satisfied: websocket-client in /usr/local/lib/python3.11/dist-packages (from jupyter-server<3,>=1.8->notebook-shim>=0.2.3->nbclassic>=0.4.7->notebook>=4.4.1->widgetsnbextension->-r /content/WeatherSoilDataProcessor/requirements.txt (line 22)) (1.8.0)\n",
            "Requirement already satisfied: wcwidth in /usr/local/lib/python3.11/dist-packages (from prompt-toolkit!=3.0.0,!=3.0.1,<3.1.0,>=2.0.0->ipython>=7.23.1->ipykernel->notebook>=4.4.1->widgetsnbextension->-r /content/WeatherSoilDataProcessor/requirements.txt (line 22)) (0.2.13)\n",
            "Requirement already satisfied: sniffio>=1.1 in /usr/local/lib/python3.11/dist-packages (from anyio>=3.1.0->jupyter-server<3,>=1.8->notebook-shim>=0.2.3->nbclassic>=0.4.7->notebook>=4.4.1->widgetsnbextension->-r /content/WeatherSoilDataProcessor/requirements.txt (line 22)) (1.3.1)\n",
            "Downloading affine-2.4.0-py3-none-any.whl (15 kB)\n",
            "Downloading rosetta_soil-0.1.1-py3-none-any.whl (5.2 MB)\n",
            "\u001b[2K   \u001b[90m━━━━━━━━━━━━━━━━━━━━━━━━━━━━━━━━━━━━━━━━\u001b[0m \u001b[32m5.2/5.2 MB\u001b[0m \u001b[31m39.1 MB/s\u001b[0m eta \u001b[36m0:00:00\u001b[0m\n",
            "\u001b[?25hDownloading matplotlib-3.9.2-cp311-cp311-manylinux_2_17_x86_64.manylinux2014_x86_64.whl (8.3 MB)\n",
            "\u001b[2K   \u001b[90m━━━━━━━━━━━━━━━━━━━━━━━━━━━━━━━━━━━━━━━━\u001b[0m \u001b[32m8.3/8.3 MB\u001b[0m \u001b[31m99.9 MB/s\u001b[0m eta \u001b[36m0:00:00\u001b[0m\n",
            "\u001b[?25hDownloading pandas-2.2.3-cp311-cp311-manylinux_2_17_x86_64.manylinux2014_x86_64.whl (13.1 MB)\n",
            "\u001b[2K   \u001b[90m━━━━━━━━━━━━━━━━━━━━━━━━━━━━━━━━━━━━━━━━\u001b[0m \u001b[32m13.1/13.1 MB\u001b[0m \u001b[31m94.2 MB/s\u001b[0m eta \u001b[36m0:00:00\u001b[0m\n",
            "\u001b[?25hDownloading rasterio-1.4.1-cp311-cp311-manylinux_2_17_x86_64.manylinux2014_x86_64.whl (22.2 MB)\n",
            "\u001b[2K   \u001b[90m━━━━━━━━━━━━━━━━━━━━━━━━━━━━━━━━━━━━━━━━\u001b[0m \u001b[32m22.2/22.2 MB\u001b[0m \u001b[31m82.2 MB/s\u001b[0m eta \u001b[36m0:00:00\u001b[0m\n",
            "\u001b[?25hDownloading scipy-1.13.1-cp311-cp311-manylinux_2_17_x86_64.manylinux2014_x86_64.whl (38.6 MB)\n",
            "\u001b[2K   \u001b[90m━━━━━━━━━━━━━━━━━━━━━━━━━━━━━━━━━━━━━━━━\u001b[0m \u001b[32m38.6/38.6 MB\u001b[0m \u001b[31m16.1 MB/s\u001b[0m eta \u001b[36m0:00:00\u001b[0m\n",
            "\u001b[?25hDownloading soilgrids-0.1.4-py3-none-any.whl (12 kB)\n",
            "Downloading xarray-2024.7.0-py3-none-any.whl (1.2 MB)\n",
            "\u001b[2K   \u001b[90m━━━━━━━━━━━━━━━━━━━━━━━━━━━━━━━━━━━━━━━━\u001b[0m \u001b[32m1.2/1.2 MB\u001b[0m \u001b[31m59.8 MB/s\u001b[0m eta \u001b[36m0:00:00\u001b[0m\n",
            "\u001b[?25hDownloading bayesian_optimization-2.0.3-py3-none-any.whl (31 kB)\n",
            "Downloading cdsapi-0.7.5-py2.py3-none-any.whl (12 kB)\n",
            "Downloading omegaconf-2.3.0-py3-none-any.whl (79 kB)\n",
            "\u001b[2K   \u001b[90m━━━━━━━━━━━━━━━━━━━━━━━━━━━━━━━━━━━━━━━━\u001b[0m \u001b[32m79.5/79.5 kB\u001b[0m \u001b[31m6.4 MB/s\u001b[0m eta \u001b[36m0:00:00\u001b[0m\n",
            "\u001b[?25hDownloading rioxarray-0.18.2-py3-none-any.whl (61 kB)\n",
            "\u001b[2K   \u001b[90m━━━━━━━━━━━━━━━━━━━━━━━━━━━━━━━━━━━━━━━━\u001b[0m \u001b[32m61.9/61.9 kB\u001b[0m \u001b[31m5.0 MB/s\u001b[0m eta \u001b[36m0:00:00\u001b[0m\n",
            "\u001b[?25hDownloading Unidecode-1.4.0-py3-none-any.whl (235 kB)\n",
            "\u001b[2K   \u001b[90m━━━━━━━━━━━━━━━━━━━━━━━━━━━━━━━━━━━━━━━━\u001b[0m \u001b[32m235.8/235.8 kB\u001b[0m \u001b[31m17.9 MB/s\u001b[0m eta \u001b[36m0:00:00\u001b[0m\n",
            "\u001b[?25hDownloading cligj-0.7.2-py3-none-any.whl (7.1 kB)\n",
            "Downloading colorama-0.4.6-py2.py3-none-any.whl (25 kB)\n",
            "Downloading bmipy-2.0.1-py3-none-any.whl (8.4 kB)\n",
            "Downloading click_plugins-1.1.1-py2.py3-none-any.whl (7.5 kB)\n",
            "Downloading datapi-0.4.0-py3-none-any.whl (28 kB)\n",
            "Downloading netCDF4-1.7.2-cp311-cp311-manylinux_2_17_x86_64.manylinux2014_x86_64.whl (9.3 MB)\n",
            "\u001b[2K   \u001b[90m━━━━━━━━━━━━━━━━━━━━━━━━━━━━━━━━━━━━━━━━\u001b[0m \u001b[32m9.3/9.3 MB\u001b[0m \u001b[31m98.7 MB/s\u001b[0m eta \u001b[36m0:00:00\u001b[0m\n",
            "\u001b[?25hDownloading owslib-0.33.0-py3-none-any.whl (240 kB)\n",
            "\u001b[2K   \u001b[90m━━━━━━━━━━━━━━━━━━━━━━━━━━━━━━━━━━━━━━━━\u001b[0m \u001b[32m240.1/240.1 kB\u001b[0m \u001b[31m15.1 MB/s\u001b[0m eta \u001b[36m0:00:00\u001b[0m\n",
            "\u001b[?25hDownloading multiurl-0.3.5-py3-none-any.whl (21 kB)\n",
            "Downloading black-25.1.0-cp311-cp311-manylinux_2_17_x86_64.manylinux2014_x86_64.manylinux_2_28_x86_64.whl (1.7 MB)\n",
            "\u001b[2K   \u001b[90m━━━━━━━━━━━━━━━━━━━━━━━━━━━━━━━━━━━━━━━━\u001b[0m \u001b[32m1.7/1.7 MB\u001b[0m \u001b[31m66.3 MB/s\u001b[0m eta \u001b[36m0:00:00\u001b[0m\n",
            "\u001b[?25hDownloading cftime-1.6.4.post1-cp311-cp311-manylinux_2_17_x86_64.manylinux2014_x86_64.whl (1.4 MB)\n",
            "\u001b[2K   \u001b[90m━━━━━━━━━━━━━━━━━━━━━━━━━━━━━━━━━━━━━━━━\u001b[0m \u001b[32m1.4/1.4 MB\u001b[0m \u001b[31m56.5 MB/s\u001b[0m eta \u001b[36m0:00:00\u001b[0m\n",
            "\u001b[?25hDownloading mypy_extensions-1.1.0-py3-none-any.whl (5.0 kB)\n",
            "Downloading pathspec-0.12.1-py3-none-any.whl (31 kB)\n",
            "Downloading jedi-0.19.2-py2.py3-none-any.whl (1.6 MB)\n",
            "\u001b[2K   \u001b[90m━━━━━━━━━━━━━━━━━━━━━━━━━━━━━━━━━━━━━━━━\u001b[0m \u001b[32m1.6/1.6 MB\u001b[0m \u001b[31m65.0 MB/s\u001b[0m eta \u001b[36m0:00:00\u001b[0m\n",
            "\u001b[?25hBuilding wheels for collected packages: fortranformat, antlr4-python3-runtime\n",
            "  Building wheel for fortranformat (setup.py) ... \u001b[?25l\u001b[?25hdone\n",
            "  Created wheel for fortranformat: filename=fortranformat-1.2.2-py3-none-any.whl size=24519 sha256=599badc4ad120f3012859f7adb106a89777a682adceb92ef4ed85194e02289f9\n",
            "  Stored in directory: /root/.cache/pip/wheels/7a/d4/57/486bf6471d68f1ae56673f50c5b1aabc445b0a24da9a8d182d\n",
            "  Building wheel for antlr4-python3-runtime (setup.py) ... \u001b[?25l\u001b[?25hdone\n",
            "  Created wheel for antlr4-python3-runtime: filename=antlr4_python3_runtime-4.9.3-py3-none-any.whl size=144554 sha256=f5b310c9a2db083866cf6d479b75ae0a41e456f99686fcbf2083c4c93d327d79\n",
            "  Stored in directory: /root/.cache/pip/wheels/1a/97/32/461f837398029ad76911109f07047fde1d7b661a147c7c56d1\n",
            "Successfully built fortranformat antlr4-python3-runtime\n",
            "Installing collected packages: fortranformat, antlr4-python3-runtime, unidecode, scipy, rosetta-soil, pathspec, omegaconf, mypy-extensions, jedi, colorama, cligj, click-plugins, cftime, affine, rasterio, pandas, owslib, netcdf4, multiurl, matplotlib, black, xarray, datapi, bmipy, bayesian-optimization, rioxarray, cdsapi, soilgrids\n",
            "  Attempting uninstall: scipy\n",
            "    Found existing installation: scipy 1.15.2\n",
            "    Uninstalling scipy-1.15.2:\n",
            "      Successfully uninstalled scipy-1.15.2\n",
            "  Attempting uninstall: pandas\n",
            "    Found existing installation: pandas 2.2.2\n",
            "    Uninstalling pandas-2.2.2:\n",
            "      Successfully uninstalled pandas-2.2.2\n",
            "  Attempting uninstall: matplotlib\n",
            "    Found existing installation: matplotlib 3.10.0\n",
            "    Uninstalling matplotlib-3.10.0:\n",
            "      Successfully uninstalled matplotlib-3.10.0\n",
            "  Attempting uninstall: xarray\n",
            "    Found existing installation: xarray 2025.3.1\n",
            "    Uninstalling xarray-2025.3.1:\n",
            "      Successfully uninstalled xarray-2025.3.1\n",
            "\u001b[31mERROR: pip's dependency resolver does not currently take into account all the packages that are installed. This behaviour is the source of the following dependency conflicts.\n",
            "google-colab 1.0.0 requires pandas==2.2.2, but you have pandas 2.2.3 which is incompatible.\u001b[0m\u001b[31m\n",
            "\u001b[0mSuccessfully installed affine-2.4.0 antlr4-python3-runtime-4.9.3 bayesian-optimization-2.0.3 black-25.1.0 bmipy-2.0.1 cdsapi-0.7.5 cftime-1.6.4.post1 click-plugins-1.1.1 cligj-0.7.2 colorama-0.4.6 datapi-0.4.0 fortranformat-1.2.2 jedi-0.19.2 matplotlib-3.9.2 multiurl-0.3.5 mypy-extensions-1.1.0 netcdf4-1.7.2 omegaconf-2.3.0 owslib-0.33.0 pandas-2.2.3 pathspec-0.12.1 rasterio-1.4.1 rioxarray-0.18.2 rosetta-soil-0.1.1 scipy-1.13.1 soilgrids-0.1.4 unidecode-1.4.0 xarray-2024.7.0\n"
          ]
        },
        {
          "output_type": "display_data",
          "data": {
            "application/vnd.colab-display-data+json": {
              "pip_warning": {
                "packages": [
                  "pydevd_plugins"
                ]
              },
              "id": "db20a71522db4b209a6284fb44431274"
            }
          },
          "metadata": {}
        }
      ],
      "source": [
        "!git clone https://github.com/anaguilarar/WeatherSoilDataProcessor.git\n",
        "\n",
        "import os\n",
        "os.chdir('/content/WeatherSoilDataProcessor')\n",
        "\n",
        "!git clone https://github.com/anaguilarar/Py_DSSATTools.git\n",
        "\n",
        "!pip install -r /content/WeatherSoilDataProcessor/requirements.txt"
      ]
    },
    {
      "cell_type": "markdown",
      "metadata": {
        "id": "QNR390KI7qjd"
      },
      "source": [
        "## Crop modeling\n",
        "\n",
        "Once the spatial data has been configured, the next step is to define the site-specific management unit. In this example, the management unit is defined by a combination of political division (village boundaries) and soil textural classification.\n",
        "\n",
        "To specify political data, you can use the name of a feature in the geospatial file. For further spatial deatail, soil texture is used to gain a btter knowledge. Currently texture is the only grouping option available.\n",
        "\n",
        "Other parameters to configure include crop parameters and management practices. Below is an example of how to define these parameters. For more examples, please check the options/dssat_options folder.\n"
      ]
    },
    {
      "cell_type": "code",
      "source": [
        "from google.colab import drive\n",
        "drive.mount('/content/drive')"
      ],
      "metadata": {
        "colab": {
          "base_uri": "https://localhost:8080/"
        },
        "id": "NO29UmCBgG4B",
        "outputId": "10267e9e-d236-4279-ae73-f68c249ca432"
      },
      "execution_count": 2,
      "outputs": [
        {
          "output_type": "stream",
          "name": "stdout",
          "text": [
            "Mounted at /content/drive\n"
          ]
        }
      ]
    },
    {
      "cell_type": "code",
      "source": [
        "import tarfile\n",
        "path_to_zip_file = '/content/DSSAT048.tar.gz'\n",
        "directory_to_extract_to = '/content/'\n",
        "tar = tarfile.open(path_to_zip_file, 'r:gz')\n",
        "tar.extractall(directory_to_extract_to)\n",
        "tar.close()"
      ],
      "metadata": {
        "id": "clyVY6nYhkdz"
      },
      "execution_count": 3,
      "outputs": []
    },
    {
      "cell_type": "code",
      "execution_count": 1,
      "metadata": {
        "id": "D2MWo-jR7qjd"
      },
      "outputs": [],
      "source": [
        "import os\n",
        "os.chdir('/content/WeatherSoilDataProcessor')\n",
        "import sys\n",
        "sys.path.append(\"/content/WeatherSoilDataProcessor/Py_DSSATTools/\")\n",
        "from spatialdata.soil_data import TEXTURE_CLASSES\n",
        "from crop_modeling.spatial_process import SpatialCM\n",
        "\n",
        "cm_configuration = {\n",
        "    'GENERAL_INFO': {\n",
        "        'country': 'Honduras',\n",
        "        'country_code': 'HND', # crountry code\n",
        "        'working_path': 'runs', # the model outputs will be located in this path\n",
        "        'ncores': 0,\n",
        "        'model': 'dssat',\n",
        "        'bin_path': '/content/DSSAT048/dscsm048',\n",
        "        'dssat_path': '/content/DSSAT048/'\n",
        "    },\n",
        "    'SPATIAL_INFO':{\n",
        "        'geospatial_path': 'data/tb_limitealdeas.shp', # spatial file that contains the region of interest\n",
        "        'feature_name': 'GEOCODIGO', ## an unique code that represent each region of interest\n",
        "        'aggregate_by' : 'texture',\n",
        "        'soil_path' : '/content/drive/MyDrive/CIAT/agwise/hnd_soilgrids_data.nc',\n",
        "        'weather_path': '/content/drive/MyDrive/CIAT/agwise/climate_1990_2024_data_wnvp_.nc',\n",
        "        'scale_factor': 10 # scale factor for soil and weather spatial resolution combination\n",
        "    },\n",
        "    'CROP': {\n",
        "        'name': 'Maize', # crop name\n",
        "        'cultivar': 'IB1072', # cultivar\n",
        "        'cultivar_file': None # optional for the cases that you have a cultivar that is not in DSSATTools default cultivars\n",
        "    },\n",
        "    'MANAGEMENT':{\n",
        "        'planting_date': '2015-02-01',\n",
        "        'harvesting_date': '2015-06-30',\n",
        "        'plantingWindow': 35, # planting window in weeks\n",
        "        'fertilizer_schedule': {\n",
        "            'days_after_planting': None,\n",
        "            'npk': None\n",
        "        }, # It is not implemented yet\n",
        "        'index_soilwat': 1,\n",
        "        'template': 'crop_modeling/dssat/exp_files/KEAG8104.MZX'\n",
        "    }\n",
        "}\n",
        "\n"
      ]
    },
    {
      "cell_type": "code",
      "source": [
        "import shutil\n",
        "\n",
        "shutil.rmtree('/content/WeatherSoilDataProcessor/runs/180110', ignore_errors=False, onerror=None)"
      ],
      "metadata": {
        "id": "nrazGGYanI5h"
      },
      "execution_count": 2,
      "outputs": []
    },
    {
      "cell_type": "code",
      "execution_count": 3,
      "metadata": {
        "colab": {
          "base_uri": "https://localhost:8080/"
        },
        "id": "UW92BipR7qjd",
        "outputId": "9eab2a48-c91f-4ed7-bb63-30164dbf25c7"
      },
      "outputs": [
        {
          "output_type": "stream",
          "name": "stdout",
          "text": [
            "loaded from /content/drive/MyDrive/CIAT/agwise/hnd_soilgrids_data.nc\n",
            "loaded from /content/drive/MyDrive/CIAT/agwise/climate_1990_2024_data_wnvp_.nc\n"
          ]
        }
      ],
      "source": [
        "\n",
        "import numpy as np\n",
        "import pandas as pd\n",
        "\n",
        "# Initialize the spatial crop modeling class\n",
        "cm_sp = SpatialCM(configuration_dict=cm_configuration)"
      ]
    },
    {
      "cell_type": "code",
      "execution_count": 4,
      "metadata": {
        "colab": {
          "base_uri": "https://localhost:8080/",
          "height": 89
        },
        "id": "a4fwzZ-Y7qje",
        "outputId": "cee71aae-cbed-4c69-9bd5-417f4a765a1c"
      },
      "outputs": [
        {
          "output_type": "execute_result",
          "data": {
            "text/plain": [
              "     GEOCODIGO        ALDEA COD_ALDEA COD_MUNI COD_DEPTO      KM2  DENSIDAD  \\\n",
              "1113    180110  La Trinidad    180110     1801        18  139.413   32.2854   \n",
              "\n",
              "      MUNI DEPTO       AREA_HA  \\\n",
              "1113  Yoro  Yoro  13941.276738   \n",
              "\n",
              "                                               geometry  \n",
              "1113  POLYGON ((-87.36772 15.14419, -87.36869 15.145...  "
            ],
            "text/html": [
              "\n",
              "  <div id=\"df-62c07536-04c4-4388-b463-ab5144d5fd9e\" class=\"colab-df-container\">\n",
              "    <div>\n",
              "<style scoped>\n",
              "    .dataframe tbody tr th:only-of-type {\n",
              "        vertical-align: middle;\n",
              "    }\n",
              "\n",
              "    .dataframe tbody tr th {\n",
              "        vertical-align: top;\n",
              "    }\n",
              "\n",
              "    .dataframe thead th {\n",
              "        text-align: right;\n",
              "    }\n",
              "</style>\n",
              "<table border=\"1\" class=\"dataframe\">\n",
              "  <thead>\n",
              "    <tr style=\"text-align: right;\">\n",
              "      <th></th>\n",
              "      <th>GEOCODIGO</th>\n",
              "      <th>ALDEA</th>\n",
              "      <th>COD_ALDEA</th>\n",
              "      <th>COD_MUNI</th>\n",
              "      <th>COD_DEPTO</th>\n",
              "      <th>KM2</th>\n",
              "      <th>DENSIDAD</th>\n",
              "      <th>MUNI</th>\n",
              "      <th>DEPTO</th>\n",
              "      <th>AREA_HA</th>\n",
              "      <th>geometry</th>\n",
              "    </tr>\n",
              "  </thead>\n",
              "  <tbody>\n",
              "    <tr>\n",
              "      <th>1113</th>\n",
              "      <td>180110</td>\n",
              "      <td>La Trinidad</td>\n",
              "      <td>180110</td>\n",
              "      <td>1801</td>\n",
              "      <td>18</td>\n",
              "      <td>139.413</td>\n",
              "      <td>32.2854</td>\n",
              "      <td>Yoro</td>\n",
              "      <td>Yoro</td>\n",
              "      <td>13941.276738</td>\n",
              "      <td>POLYGON ((-87.36772 15.14419, -87.36869 15.145...</td>\n",
              "    </tr>\n",
              "  </tbody>\n",
              "</table>\n",
              "</div>\n",
              "    <div class=\"colab-df-buttons\">\n",
              "\n",
              "  <div class=\"colab-df-container\">\n",
              "    <button class=\"colab-df-convert\" onclick=\"convertToInteractive('df-62c07536-04c4-4388-b463-ab5144d5fd9e')\"\n",
              "            title=\"Convert this dataframe to an interactive table.\"\n",
              "            style=\"display:none;\">\n",
              "\n",
              "  <svg xmlns=\"http://www.w3.org/2000/svg\" height=\"24px\" viewBox=\"0 -960 960 960\">\n",
              "    <path d=\"M120-120v-720h720v720H120Zm60-500h600v-160H180v160Zm220 220h160v-160H400v160Zm0 220h160v-160H400v160ZM180-400h160v-160H180v160Zm440 0h160v-160H620v160ZM180-180h160v-160H180v160Zm440 0h160v-160H620v160Z\"/>\n",
              "  </svg>\n",
              "    </button>\n",
              "\n",
              "  <style>\n",
              "    .colab-df-container {\n",
              "      display:flex;\n",
              "      gap: 12px;\n",
              "    }\n",
              "\n",
              "    .colab-df-convert {\n",
              "      background-color: #E8F0FE;\n",
              "      border: none;\n",
              "      border-radius: 50%;\n",
              "      cursor: pointer;\n",
              "      display: none;\n",
              "      fill: #1967D2;\n",
              "      height: 32px;\n",
              "      padding: 0 0 0 0;\n",
              "      width: 32px;\n",
              "    }\n",
              "\n",
              "    .colab-df-convert:hover {\n",
              "      background-color: #E2EBFA;\n",
              "      box-shadow: 0px 1px 2px rgba(60, 64, 67, 0.3), 0px 1px 3px 1px rgba(60, 64, 67, 0.15);\n",
              "      fill: #174EA6;\n",
              "    }\n",
              "\n",
              "    .colab-df-buttons div {\n",
              "      margin-bottom: 4px;\n",
              "    }\n",
              "\n",
              "    [theme=dark] .colab-df-convert {\n",
              "      background-color: #3B4455;\n",
              "      fill: #D2E3FC;\n",
              "    }\n",
              "\n",
              "    [theme=dark] .colab-df-convert:hover {\n",
              "      background-color: #434B5C;\n",
              "      box-shadow: 0px 1px 3px 1px rgba(0, 0, 0, 0.15);\n",
              "      filter: drop-shadow(0px 1px 2px rgba(0, 0, 0, 0.3));\n",
              "      fill: #FFFFFF;\n",
              "    }\n",
              "  </style>\n",
              "\n",
              "    <script>\n",
              "      const buttonEl =\n",
              "        document.querySelector('#df-62c07536-04c4-4388-b463-ab5144d5fd9e button.colab-df-convert');\n",
              "      buttonEl.style.display =\n",
              "        google.colab.kernel.accessAllowed ? 'block' : 'none';\n",
              "\n",
              "      async function convertToInteractive(key) {\n",
              "        const element = document.querySelector('#df-62c07536-04c4-4388-b463-ab5144d5fd9e');\n",
              "        const dataTable =\n",
              "          await google.colab.kernel.invokeFunction('convertToInteractive',\n",
              "                                                    [key], {});\n",
              "        if (!dataTable) return;\n",
              "\n",
              "        const docLinkHtml = 'Like what you see? Visit the ' +\n",
              "          '<a target=\"_blank\" href=https://colab.research.google.com/notebooks/data_table.ipynb>data table notebook</a>'\n",
              "          + ' to learn more about interactive tables.';\n",
              "        element.innerHTML = '';\n",
              "        dataTable['output_type'] = 'display_data';\n",
              "        await google.colab.output.renderOutput(dataTable, element);\n",
              "        const docLink = document.createElement('div');\n",
              "        docLink.innerHTML = docLinkHtml;\n",
              "        element.appendChild(docLink);\n",
              "      }\n",
              "    </script>\n",
              "  </div>\n",
              "\n",
              "\n",
              "  <div id=\"id_1595a655-45df-4a52-805f-85a71337277a\">\n",
              "    <style>\n",
              "      .colab-df-generate {\n",
              "        background-color: #E8F0FE;\n",
              "        border: none;\n",
              "        border-radius: 50%;\n",
              "        cursor: pointer;\n",
              "        display: none;\n",
              "        fill: #1967D2;\n",
              "        height: 32px;\n",
              "        padding: 0 0 0 0;\n",
              "        width: 32px;\n",
              "      }\n",
              "\n",
              "      .colab-df-generate:hover {\n",
              "        background-color: #E2EBFA;\n",
              "        box-shadow: 0px 1px 2px rgba(60, 64, 67, 0.3), 0px 1px 3px 1px rgba(60, 64, 67, 0.15);\n",
              "        fill: #174EA6;\n",
              "      }\n",
              "\n",
              "      [theme=dark] .colab-df-generate {\n",
              "        background-color: #3B4455;\n",
              "        fill: #D2E3FC;\n",
              "      }\n",
              "\n",
              "      [theme=dark] .colab-df-generate:hover {\n",
              "        background-color: #434B5C;\n",
              "        box-shadow: 0px 1px 3px 1px rgba(0, 0, 0, 0.15);\n",
              "        filter: drop-shadow(0px 1px 2px rgba(0, 0, 0, 0.3));\n",
              "        fill: #FFFFFF;\n",
              "      }\n",
              "    </style>\n",
              "    <button class=\"colab-df-generate\" onclick=\"generateWithVariable('roi')\"\n",
              "            title=\"Generate code using this dataframe.\"\n",
              "            style=\"display:none;\">\n",
              "\n",
              "  <svg xmlns=\"http://www.w3.org/2000/svg\" height=\"24px\"viewBox=\"0 0 24 24\"\n",
              "       width=\"24px\">\n",
              "    <path d=\"M7,19H8.4L18.45,9,17,7.55,7,17.6ZM5,21V16.75L18.45,3.32a2,2,0,0,1,2.83,0l1.4,1.43a1.91,1.91,0,0,1,.58,1.4,1.91,1.91,0,0,1-.58,1.4L9.25,21ZM18.45,9,17,7.55Zm-12,3A5.31,5.31,0,0,0,4.9,8.1,5.31,5.31,0,0,0,1,6.5,5.31,5.31,0,0,0,4.9,4.9,5.31,5.31,0,0,0,6.5,1,5.31,5.31,0,0,0,8.1,4.9,5.31,5.31,0,0,0,12,6.5,5.46,5.46,0,0,0,6.5,12Z\"/>\n",
              "  </svg>\n",
              "    </button>\n",
              "    <script>\n",
              "      (() => {\n",
              "      const buttonEl =\n",
              "        document.querySelector('#id_1595a655-45df-4a52-805f-85a71337277a button.colab-df-generate');\n",
              "      buttonEl.style.display =\n",
              "        google.colab.kernel.accessAllowed ? 'block' : 'none';\n",
              "\n",
              "      buttonEl.onclick = () => {\n",
              "        google.colab.notebook.generateWithVariable('roi');\n",
              "      }\n",
              "      })();\n",
              "    </script>\n",
              "  </div>\n",
              "\n",
              "    </div>\n",
              "  </div>\n"
            ],
            "application/vnd.google.colaboratory.intrinsic+json": {
              "type": "dataframe",
              "variable_name": "roi",
              "repr_error": "0"
            }
          },
          "metadata": {},
          "execution_count": 4
        }
      ],
      "source": [
        "# Specify the region of interest by its geocode this can be also done using the feature index\n",
        "roi = cm_sp.geo_features.loc[cm_sp.geo_features[cm_sp.config.SPATIAL_INFO.feature_name]==str(180110)]\n",
        "roi_name = roi[cm_sp.config.SPATIAL_INFO.feature_name].values[0]\n",
        "roi"
      ]
    },
    {
      "cell_type": "code",
      "execution_count": null,
      "metadata": {
        "id": "Ojy8yVEF7qje"
      },
      "outputs": [],
      "source": [
        "\n",
        "# Create soil and weather files for the selected region\n",
        "cm_sp.set_up_folders(site = roi_name)\n",
        "\n",
        "workingpath = cm_sp.create_roi_sp_data(\n",
        "    #roi_index=roi_index,\n",
        "    roi= roi,\n",
        "    group_codes=TEXTURE_CLASSES,  # Codes for grouping data by texture\n",
        "    create_group_splayer=True,  # Option to create a grouped spatial layer\n",
        "    export_spatial_data=True\n",
        ")\n",
        "if workingpath is not None:\n",
        "    # Locate environmental working paths\n",
        "    cm_sp.model.find_envworking_paths(cm_sp._tmp_path, 'WTH')\n",
        "\n",
        "    # Set up crop files\n",
        "    cm_sp.model.set_up_crop(crop=cm_sp.crop, cultivar=cm_sp.cultivar)\n",
        "\n",
        "    # Set up management files\n",
        "    cm_sp.model.set_up_management(crop=cm_sp.crop, cultivar=cm_sp.cultivar, **cm_sp.config.MANAGEMENT)\n",
        "    dssath_path = cm_sp.config.GENERAL_INFO.get('dssat_path', None)\n",
        "    # run the simulation\n",
        "    completed_sims =cm_sp.model.run(cm_sp.model.crop_code, crop=cm_sp.crop,planting_window=cm_sp.config.MANAGEMENT.plantingWindow,\n",
        "                                    ncores = cm_sp.config.GENERAL_INFO.ncores,parallel_tr = False,\n",
        "                            bin_path = cm_sp.config.GENERAL_INFO.bin_path, dssat_path = dssath_path, remove_tmp_folder=False)\n",
        "    print(completed_sims)\n",
        "else:\n",
        "    print('there is no information')"
      ]
    },
    {
      "cell_type": "markdown",
      "metadata": {
        "id": "xHPyD2vT7qje"
      },
      "source": [
        "## Crop simulation outputs\n",
        "\n",
        "After completing the simulation, the next step is to generate output plots. Three types of plots are created:\n",
        "\n",
        " - Spatial Variable Map: Displays the spatial variable (e.g., soil texture) used to define the specific context.\n",
        " - Climate Data Time Series Plot: Shows the time series of the climate data.\n",
        " - Potential Yield Plot: Illustrates potential yield across different planting date scenarios.\n"
      ]
    },
    {
      "cell_type": "code",
      "execution_count": 8,
      "metadata": {
        "id": "s4W-LLjG7qje"
      },
      "outputs": [],
      "source": [
        "from crop_modeling.utils.output_transforms import (export_data_ascsv, update_data_using_path,\n",
        "                                                   yield_data_summarized, ColumnNames)\n",
        "\n",
        "model_data = update_data_using_path(cm_sp._tmp_path, model = cm_sp.model.name)"
      ]
    },
    {
      "cell_type": "code",
      "source": [
        "export_data_ascsv(completed_sims, model_data, cm_sp.crop.lower(), cm_sp._tmp_path, cm_sp.model.name, weather_variables2export = ['date', 'tmin', 'tmax', 'rain', 'srad'])"
      ],
      "metadata": {
        "id": "wTaKgGrImnhV"
      },
      "execution_count": 9,
      "outputs": []
    },
    {
      "cell_type": "code",
      "source": [
        "from datetime import datetime\n",
        "## define column names for dssat output\n",
        "ouput_columns = ColumnNames(cm_sp.model.name)\n",
        "groupby_colname = 'texture'\n",
        "group_dates_by = ouput_columns.growth_colnames['number_of_cycle']\n",
        "date_col_name = ouput_columns.growth_colnames['date']\n",
        "target_col_name = ouput_columns.growth_colnames['yield']\n",
        "harvest_col_name = ouput_columns.growth_colnames.get('hdate', None)\n",
        "weather_date_col_name = ouput_columns.weather_columns['date']\n",
        "potential_yield_path = os.path.join(workingpath,f'{cm_sp.crop.lower()}_potential_yield.csv')\n",
        "\n",
        "## read simulation data\n",
        "\n",
        "outputmodel_data = pd.read_csv(potential_yield_path)[[date_col_name,harvest_col_name,target_col_name,group_dates_by,groupby_colname]].dropna()\n",
        "weather = pd.read_csv(os.path.join(workingpath,'weather.csv'))\n",
        "\n",
        "# change date format\n",
        "weather[weather_date_col_name] = weather[weather_date_col_name].apply(lambda x: datetime.strptime(x, '%Y-%m-%d'))\n",
        "outputmodel_data[date_col_name] = outputmodel_data[date_col_name].apply(lambda x: datetime.strptime(x, '%Y-%m-%d'))\n",
        "outputmodel_data[harvest_col_name] = outputmodel_data[harvest_col_name].apply(lambda x: datetime.strptime(x, '%Y-%m-%d'))\n",
        "\n",
        "## export summarised data\n",
        "\n",
        "for texture_class, subset in outputmodel_data.groupby([groupby_colname]):\n",
        "    print(texture_class)\n",
        "    subset = subset.reset_index()\n",
        "    yield_data = yield_data_summarized(subset, date_column=date_col_name, yield_column=target_col_name, harvest_column=harvest_col_name)\n",
        "    yield_data[~np.isnan(yield_data['y_upper'])].rename(columns={target_col_name:'y'}).to_csv(os.path.join(workingpath, f'yield_data_{texture_class[0]}.csv'))\n",
        "\n"
      ],
      "metadata": {
        "colab": {
          "base_uri": "https://localhost:8080/"
        },
        "id": "o-LbcHEkopy4",
        "outputId": "a644c324-f595-4683-b82b-e9785922784c"
      },
      "execution_count": 10,
      "outputs": [
        {
          "output_type": "stream",
          "name": "stdout",
          "text": [
            "('clay',)\n",
            "('clayloam',)\n"
          ]
        }
      ]
    },
    {
      "cell_type": "code",
      "source": [
        "import matplotlib.pyplot as plt\n",
        "plt.figure(figsize=(25,5))\n",
        "plt.plot(yield_data.month_day.values, yield_data[target_col_name].values, c = 'r')\n",
        "plt.plot(yield_data.month_day.values, yield_data.y_lower.values, c ='gray')\n",
        "plt.plot(yield_data.month_day.values, yield_data.y_upper.values, c ='gray')\n",
        "plt.fill_between(list(range(len(yield_data[target_col_name].values))), yield_data.y_upper.values, yield_data.y_lower.values, color=\"k\", alpha=0.15)\n"
      ],
      "metadata": {
        "id": "vpZxkWyh-HjN",
        "outputId": "8eefc83c-2575-4acb-874f-fd1e0633915e",
        "colab": {
          "base_uri": "https://localhost:8080/",
          "height": 327
        }
      },
      "execution_count": 11,
      "outputs": [
        {
          "output_type": "execute_result",
          "data": {
            "text/plain": [
              "<matplotlib.collections.PolyCollection at 0x7c1f1c94bf10>"
            ]
          },
          "metadata": {},
          "execution_count": 11
        },
        {
          "output_type": "display_data",
          "data": {
            "text/plain": [
              "<Figure size 2500x500 with 1 Axes>"
            ],
            "image/png": "[encoded data removed]"
          },
          "metadata": {}
        }
      ]
    },
    {
      "cell_type": "markdown",
      "source": [],
      "metadata": {
        "id": "86mjko-3mmdg"
      }
    },
    {
      "cell_type": "code",
      "execution_count": null,
      "metadata": {
        "colab": {
          "base_uri": "https://localhost:8080/",
          "height": 666
        },
        "id": "nOqYA2P97qje",
        "outputId": "80323151-bc4b-46dd-c1c1-ac6a97526c12"
      },
      "outputs": [
        {
          "output_type": "stream",
          "name": "stderr",
          "text": [
            "/content/WeatherSoilDataProcessor/spatialdata/gis_functions.py:71: UserWarning: Geometry is in a geographic CRS. Results from 'buffer' are likely incorrect. Use 'GeoSeries.to_crs()' to re-project geometries to a projected CRS before this operation.\n",
            "\n",
            "  geo_subsetdf = geo_subsetdf.buffer(res_sp, cap_style=\"square\")\n",
            "/content/WeatherSoilDataProcessor/spatialdata/gis_functions.py:71: UserWarning: Geometry is in a geographic CRS. Results from 'buffer' are likely incorrect. Use 'GeoSeries.to_crs()' to re-project geometries to a projected CRS before this operation.\n",
            "\n",
            "  geo_subsetdf = geo_subsetdf.buffer(res_sp, cap_style=\"square\")\n"
          ]
        },
        {
          "output_type": "display_data",
          "data": {
            "text/html": [
              "<html>\n",
              "<head><meta charset=\"utf-8\" /></head>\n",
              "<body>\n",
              "    <div>            <script src=\"https://cdnjs.cloudflare.com/ajax/libs/mathjax/2.7.5/MathJax.js?config=TeX-AMS-MML_SVG\"></script><script type=\"text/javascript\">if (window.MathJax && window.MathJax.Hub && window.MathJax.Hub.Config) {window.MathJax.Hub.Config({SVG: {font: \"STIX-Web\"}});}</script>                <script type=\"text/javascript\">window.PlotlyConfig = {MathJaxConfig: 'local'};</script>\n",
              "        <script charset=\"utf-8\" src=\"https://cdn.plot.ly/plotly-2.35.2.min.js\"></script>                <div id=\"d6cb94c6-ce50-479b-b703-42be3989848e\" class=\"plotly-graph-div\" style=\"height:525px; width:100%;\"></div>            <script type=\"text/javascript\">                                    window.PLOTLYENV=window.PLOTLYENV || {};                                    if (document.getElementById(\"d6cb94c6-ce50-479b-b703-42be3989848e\")) {                    Plotly.newPlot(                        \"d6cb94c6-ce50-479b-b703-42be3989848e\",                        [{\"colorscale\":[[0.0,\"#636efa\"],[1.0,\"#636efa\"]],\"featureidkey\":\"properties.texture\",\"geojson\":{\"type\":\"FeatureCollection\",\"features\":[{\"id\":\"0\",\"type\":\"Feature\",\"properties\":{\"texture\":\"clay loam\"},\"geometry\":{\"type\":\"Polygon\",\"coordinates\":[[[-87.21424027975952,15.194802243274019],[-87.21424027975952,15.19644808412584],[-87.21424027975952,15.199739765829486],[-87.21917780231499,15.199739765829486],[-87.21917780231499,15.204677288384952],[-87.21917780231499,15.206323129236774],[-87.21917780231499,15.209614810940417],[-87.22411532487045,15.209614810940417],[-87.22411532487045,15.214552333495885],[-87.22411532487045,15.216198174347705],[-87.22411532487045,15.21948985605135],[-87.22411532487045,15.221135696903172],[-87.22411532487045,15.224427378606817],[-87.22411532487045,15.226073219458637],[-87.22411532487045,15.231010742014105],[-87.21917780231499,15.231010742014105],[-87.21753196146317,15.231010742014105],[-87.2125944389077,15.231010742014105],[-87.2125944389077,15.226073219458637],[-87.20930275720406,15.226073219458637],[-87.20765691635224,15.226073219458637],[-87.20436523464859,15.226073219458637],[-87.20436523464859,15.231010742014105],[-87.19942771209311,15.231010742014105],[-87.1977818712413,15.231010742014105],[-87.19449018953765,15.231010742014105],[-87.19449018953765,15.23594826456957],[-87.18955266698218,15.23594826456957],[-87.18790682613036,15.23594826456957],[-87.18461514442672,15.23594826456957],[-87.18461514442672,15.240885787125036],[-87.17967762187125,15.240885787125036],[-87.17803178101943,15.240885787125036],[-87.17474009931578,15.240885787125036],[-87.17309425846396,15.240885787125036],[-87.16980257676032,15.240885787125036],[-87.1681567359085,15.240885787125036],[-87.16486505420485,15.240885787125036],[-87.16321921335303,15.240885787125036],[-87.15992753164939,15.240885787125036],[-87.15828169079757,15.240885787125036],[-87.15499000909392,15.240885787125036],[-87.1533441682421,15.240885787125036],[-87.15005248653846,15.240885787125036],[-87.15005248653846,15.244177468828681],[-87.15005248653846,15.245823309680503],[-87.15005248653846,15.250760832235969],[-87.14511496398299,15.250760832235969],[-87.14346912313117,15.250760832235969],[-87.14017744142753,15.250760832235969],[-87.14017744142753,15.255698354791434],[-87.13523991887206,15.255698354791434],[-87.13523991887206,15.260635877346902],[-87.1303023963166,15.260635877346902],[-87.1303023963166,15.265573399902367],[-87.12536487376113,15.265573399902367],[-87.12536487376113,15.270510922457834],[-87.12042735120566,15.270510922457834],[-87.12042735120566,15.273802604161478],[-87.12042735120566,15.2754484450133],[-87.12042735120566,15.278740126716945],[-87.12042735120566,15.280385967568765],[-87.12042735120566,15.283677649272411],[-87.12042735120566,15.285323490124233],[-87.12042735120566,15.290261012679698],[-87.1154898286502,15.290261012679698],[-87.1154898286502,15.295198535235166],[-87.11055230609473,15.295198535235166],[-87.11055230609473,15.300136057790631],[-87.10561478353927,15.300136057790631],[-87.10396894268744,15.300136057790631],[-87.1006772609838,15.300136057790631],[-87.1006772609838,15.305073580346097],[-87.09573973842834,15.305073580346097],[-87.09573973842834,15.308365262049742],[-87.09573973842834,15.310011102901564],[-87.09573973842834,15.31494862545703],[-87.09080221587286,15.31494862545703],[-87.09080221587286,15.319886148012497],[-87.08586469331739,15.319886148012497],[-87.08421885246557,15.319886148012497],[-87.0792813299101,15.319886148012497],[-87.0792813299101,15.31494862545703],[-87.0792813299101,15.31330278460521],[-87.0792813299101,15.310011102901564],[-87.0792813299101,15.308365262049742],[-87.0792813299101,15.305073580346097],[-87.07598964820646,15.305073580346097],[-87.07434380735464,15.305073580346097],[-87.071052125651,15.305073580346097],[-87.06940628479917,15.305073580346097],[-87.0644687622437,15.305073580346097],[-87.0644687622437,15.29849021693881],[-87.06940628479917,15.29849021693881],[-87.06940628479917,15.295198535235166],[-87.06611460309553,15.295198535235166],[-87.0644687622437,15.295198535235166],[-87.06117708054006,15.295198535235166],[-87.05953123968824,15.295198535235166],[-87.05459371713278,15.295198535235166],[-87.05459371713278,15.288615171827878],[-87.05953123968824,15.288615171827878],[-87.06117708054006,15.288615171827878],[-87.0644687622437,15.288615171827878],[-87.0644687622437,15.283677649272411],[-87.06940628479917,15.283677649272411],[-87.06940628479917,15.280385967568765],[-87.06611460309553,15.280385967568765],[-87.0644687622437,15.280385967568765],[-87.06117708054006,15.280385967568765],[-87.05953123968824,15.280385967568765],[-87.0562395579846,15.280385967568765],[-87.0562395579846,15.285323490124233],[-87.05130203542913,15.285323490124233],[-87.04965619457731,15.285323490124233],[-87.04636451287367,15.285323490124233],[-87.04471867202184,15.285323490124233],[-87.03978114946638,15.285323490124233],[-87.03978114946638,15.280385967568765],[-87.03648946776273,15.280385967568765],[-87.03484362691091,15.280385967568765],[-87.02990610435545,15.280385967568765],[-87.02990610435545,15.2754484450133],[-87.0266144226518,15.2754484450133],[-87.02496858179998,15.2754484450133],[-87.02003105924452,15.2754484450133],[-87.02003105924452,15.270510922457834],[-87.01509353668905,15.270510922457834],[-87.01509353668905,15.265573399902367],[-87.01509353668905,15.263927559050547],[-87.01509353668905,15.260635877346902],[-87.0118018549854,15.260635877346902],[-87.01015601413359,15.260635877346902],[-87.00686433242994,15.260635877346902],[-87.00521849157812,15.260635877346902],[-87.00192680987448,15.260635877346902],[-87.00028096902265,15.260635877346902],[-86.99698928731901,15.260635877346902],[-86.99534344646719,15.260635877346902],[-86.99040592391172,15.260635877346902],[-86.99040592391172,15.255698354791434],[-86.99040592391172,15.254052513939614],[-86.99040592391172,15.250760832235969],[-86.98546840135626,15.250760832235969],[-86.98546840135626,15.244177468828681],[-86.99040592391172,15.244177468828681],[-86.99040592391172,15.240885787125036],[-86.98711424220808,15.240885787125036],[-86.98546840135626,15.240885787125036],[-86.98053087880079,15.240885787125036],[-86.98053087880079,15.23594826456957],[-86.97559335624531,15.23594826456957],[-86.97559335624531,15.231010742014105],[-86.97559335624531,15.229364901162283],[-86.97559335624531,15.226073219458637],[-86.97559335624531,15.224427378606817],[-86.97559335624531,15.221135696903172],[-86.97559335624531,15.21948985605135],[-86.97559335624531,15.216198174347705],[-86.97559335624531,15.214552333495885],[-86.97559335624531,15.209614810940417],[-86.98053087880079,15.209614810940417],[-86.98053087880079,15.204677288384952],[-86.98546840135626,15.204677288384952],[-86.98546840135626,15.199739765829486],[-86.99040592391172,15.199739765829486],[-86.99205176476354,15.199739765829486],[-86.99534344646719,15.199739765829486],[-86.99698928731901,15.199739765829486],[-87.00028096902265,15.199739765829486],[-87.00192680987448,15.199739765829486],[-87.00521849157812,15.199739765829486],[-87.00686433242994,15.199739765829486],[-87.01015601413359,15.199739765829486],[-87.0118018549854,15.199739765829486],[-87.01509353668905,15.199739765829486],[-87.01673937754087,15.199739765829486],[-87.02003105924452,15.199739765829486],[-87.02167690009634,15.199739765829486],[-87.02496858179998,15.199739765829486],[-87.02496858179998,15.19644808412584],[-87.02003105924452,15.19644808412584],[-87.02003105924452,15.189864720718553],[-87.02496858179998,15.189864720718553],[-87.02496858179998,15.184927198163086],[-87.02990610435545,15.184927198163086],[-87.03155194520727,15.184927198163086],[-87.03484362691091,15.184927198163086],[-87.03648946776273,15.184927198163086],[-87.03978114946638,15.184927198163086],[-87.03978114946638,15.17998967560762],[-87.04471867202184,15.17998967560762],[-87.04636451287367,15.17998967560762],[-87.04965619457731,15.17998967560762],[-87.05130203542913,15.17998967560762],[-87.05459371713278,15.17998967560762],[-87.0562395579846,15.17998967560762],[-87.05953123968824,15.17998967560762],[-87.06117708054006,15.17998967560762],[-87.0644687622437,15.17998967560762],[-87.0644687622437,15.176697993903975],[-87.0644687622437,15.175052153052155],[-87.0644687622437,15.17176047134851],[-87.0644687622437,15.170114630496688],[-87.0644687622437,15.166822948793044],[-87.0644687622437,15.165177107941222],[-87.0644687622437,15.161885426237577],[-87.0644687622437,15.160239585385757],[-87.0644687622437,15.156947903682111],[-87.0644687622437,15.15530206283029],[-87.0644687622437,15.150364540274824],[-87.06940628479917,15.150364540274824],[-87.071052125651,15.150364540274824],[-87.07598964820646,15.150364540274824],[-87.07598964820646,15.15530206283029],[-87.07598964820646,15.156947903682111],[-87.07598964820646,15.160239585385757],[-87.0792813299101,15.160239585385757],[-87.08092717076192,15.160239585385757],[-87.08421885246557,15.160239585385757],[-87.08586469331739,15.160239585385757],[-87.08915637502105,15.160239585385757],[-87.09080221587286,15.160239585385757],[-87.09409389757651,15.160239585385757],[-87.09573973842834,15.160239585385757],[-87.09903142013198,15.160239585385757],[-87.09903142013198,15.156947903682111],[-87.09903142013198,15.15530206283029],[-87.09903142013198,15.150364540274824],[-87.10396894268744,15.150364540274824],[-87.10561478353927,15.150364540274824],[-87.10890646524291,15.150364540274824],[-87.11055230609473,15.150364540274824],[-87.1154898286502,15.150364540274824],[-87.1154898286502,15.15530206283029],[-87.1154898286502,15.156947903682111],[-87.1154898286502,15.160239585385757],[-87.11878151035384,15.160239585385757],[-87.12042735120566,15.160239585385757],[-87.1237190329093,15.160239585385757],[-87.12536487376113,15.160239585385757],[-87.12865655546477,15.160239585385757],[-87.12865655546477,15.15530206283029],[-87.13359407802024,15.15530206283029],[-87.13359407802024,15.150364540274824],[-87.1385316005757,15.150364540274824],[-87.1385316005757,15.145427017719356],[-87.14346912313117,15.145427017719356],[-87.14511496398299,15.145427017719356],[-87.14840664568663,15.145427017719356],[-87.15005248653846,15.145427017719356],[-87.15499000909392,15.145427017719356],[-87.15499000909392,15.150364540274824],[-87.15499000909392,15.152010381126644],[-87.15499000909392,15.15530206283029],[-87.15499000909392,15.156947903682111],[-87.15499000909392,15.160239585385757],[-87.15499000909392,15.161885426237577],[-87.15499000909392,15.165177107941222],[-87.15992753164939,15.165177107941222],[-87.15992753164939,15.170114630496688],[-87.16486505420485,15.170114630496688],[-87.16486505420485,15.175052153052155],[-87.16980257676032,15.175052153052155],[-87.16980257676032,15.17998967560762],[-87.17309425846396,15.17998967560762],[-87.17474009931578,15.17998967560762],[-87.17967762187125,15.17998967560762],[-87.17967762187125,15.184927198163086],[-87.1829693035749,15.184927198163086],[-87.18461514442672,15.184927198163086],[-87.18790682613036,15.184927198163086],[-87.18955266698218,15.184927198163086],[-87.19284434868582,15.184927198163086],[-87.19284434868582,15.17998967560762],[-87.1977818712413,15.17998967560762],[-87.1977818712413,15.175052153052155],[-87.20271939379677,15.175052153052155],[-87.20436523464859,15.175052153052155],[-87.20930275720406,15.175052153052155],[-87.20930275720406,15.17998967560762],[-87.21424027975952,15.17998967560762],[-87.21424027975952,15.184927198163086],[-87.21424027975952,15.186573039014908],[-87.21424027975952,15.189864720718553],[-87.21424027975952,15.191510561570373],[-87.21424027975952,15.194802243274019]],[[-87.09409389757651,15.280385967568765],[-87.09409389757651,15.278740126716945],[-87.09409389757651,15.2754484450133],[-87.09080221587286,15.2754484450133],[-87.09080221587286,15.278740126716945],[-87.09080221587286,15.280385967568765],[-87.09080221587286,15.283677649272411],[-87.09409389757651,15.283677649272411],[-87.09409389757651,15.280385967568765]],[[-87.09903142013198,15.25899003649508],[-87.1006772609838,15.25899003649508],[-87.10396894268744,15.25899003649508],[-87.10561478353927,15.25899003649508],[-87.10890646524291,15.25899003649508],[-87.10890646524291,15.254052513939614],[-87.11384398779838,15.254052513939614],[-87.11384398779838,15.250760832235969],[-87.11055230609473,15.250760832235969],[-87.10890646524291,15.250760832235969],[-87.10561478353927,15.250760832235969],[-87.10396894268744,15.250760832235969],[-87.09903142013198,15.250760832235969],[-87.09903142013198,15.245823309680503],[-87.09573973842834,15.245823309680503],[-87.09409389757651,15.245823309680503],[-87.09080221587286,15.245823309680503],[-87.09080221587286,15.249114991384147],[-87.09080221587286,15.250760832235969],[-87.09080221587286,15.254052513939614],[-87.09573973842834,15.254052513939614],[-87.09573973842834,15.25899003649508],[-87.09903142013198,15.25899003649508]],[[-87.17474009931578,15.211260651792239],[-87.17474009931578,15.214552333495885],[-87.17803178101943,15.214552333495885],[-87.17803178101943,15.211260651792239],[-87.17474009931578,15.211260651792239]],[[-87.1977818712413,15.211260651792239],[-87.19449018953765,15.211260651792239],[-87.19284434868582,15.211260651792239],[-87.18955266698218,15.211260651792239],[-87.18790682613036,15.211260651792239],[-87.18461514442672,15.211260651792239],[-87.18461514442672,15.216198174347705],[-87.17967762187125,15.216198174347705],[-87.17967762187125,15.21948985605135],[-87.1829693035749,15.21948985605135],[-87.18461514442672,15.21948985605135],[-87.18790682613036,15.21948985605135],[-87.18955266698218,15.21948985605135],[-87.19284434868582,15.21948985605135],[-87.19449018953765,15.21948985605135],[-87.1977818712413,15.21948985605135],[-87.19942771209311,15.21948985605135],[-87.20271939379677,15.21948985605135],[-87.20271939379677,15.216198174347705],[-87.20271939379677,15.214552333495885],[-87.20271939379677,15.211260651792239],[-87.19942771209311,15.211260651792239],[-87.1977818712413,15.211260651792239]],[[-87.12042735120566,15.263927559050547],[-87.1237190329093,15.263927559050547],[-87.1237190329093,15.260635877346902],[-87.12042735120566,15.260635877346902],[-87.12042735120566,15.263927559050547]],[[-87.11055230609473,15.273802604161478],[-87.11384398779838,15.273802604161478],[-87.11384398779838,15.270510922457834],[-87.11055230609473,15.270510922457834],[-87.11055230609473,15.273802604161478]],[[-87.08421885246557,15.25899003649508],[-87.08586469331739,15.25899003649508],[-87.08915637502105,15.25899003649508],[-87.08915637502105,15.255698354791434],[-87.08586469331739,15.255698354791434],[-87.08421885246557,15.255698354791434],[-87.0792813299101,15.255698354791434],[-87.0792813299101,15.250760832235969],[-87.0792813299101,15.249114991384147],[-87.0792813299101,15.245823309680503],[-87.0792813299101,15.244177468828681],[-87.0792813299101,15.240885787125036],[-87.07598964820646,15.240885787125036],[-87.07598964820646,15.245823309680503],[-87.071052125651,15.245823309680503],[-87.071052125651,15.249114991384147],[-87.071052125651,15.250760832235969],[-87.071052125651,15.254052513939614],[-87.07598964820646,15.254052513939614],[-87.07598964820646,15.25899003649508],[-87.0792813299101,15.25899003649508],[-87.08092717076192,15.25899003649508],[-87.08421885246557,15.25899003649508]],[[-87.06117708054006,15.21948985605135],[-87.0644687622437,15.21948985605135],[-87.0644687622437,15.216198174347705],[-87.06117708054006,15.216198174347705],[-87.06117708054006,15.21948985605135]],[[-86.99698928731901,15.23594826456957],[-86.99698928731901,15.239239946273216],[-87.00028096902265,15.239239946273216],[-87.00028096902265,15.23594826456957],[-87.00028096902265,15.234302423717748],[-87.00028096902265,15.231010742014105],[-86.99698928731901,15.231010742014105],[-86.99698928731901,15.234302423717748],[-86.99698928731901,15.23594826456957]],[[-86.9821767196526,15.224427378606817],[-86.98711424220808,15.224427378606817],[-86.98711424220808,15.229364901162283],[-86.99040592391172,15.229364901162283],[-86.99205176476354,15.229364901162283],[-86.99534344646719,15.229364901162283],[-86.99534344646719,15.226073219458637],[-86.99040592391172,15.226073219458637],[-86.99040592391172,15.221135696903172],[-86.98711424220808,15.221135696903172],[-86.98546840135626,15.221135696903172],[-86.9821767196526,15.221135696903172],[-86.9821767196526,15.224427378606817]],[[-87.01015601413359,15.250760832235969],[-87.01015601413359,15.249114991384147],[-87.01015601413359,15.245823309680503],[-87.00686433242994,15.245823309680503],[-87.00686433242994,15.249114991384147],[-87.00686433242994,15.250760832235969],[-87.00686433242994,15.254052513939614],[-87.01015601413359,15.254052513939614],[-87.01015601413359,15.250760832235969]]]},\"bbox\":[-87.22411532487045,15.145427017719356,-86.97559335624531,15.319886148012497]},{\"id\":\"0\",\"type\":\"Feature\",\"properties\":{\"texture\":\"clay\"},\"geometry\":{\"type\":\"MultiPolygon\",\"coordinates\":[[[[-87.20436523464859,15.221135696903172],[-87.19942771209311,15.221135696903172],[-87.1977818712413,15.221135696903172],[-87.19449018953765,15.221135696903172],[-87.19284434868582,15.221135696903172],[-87.18955266698218,15.221135696903172],[-87.18790682613036,15.221135696903172],[-87.18461514442672,15.221135696903172],[-87.1829693035749,15.221135696903172],[-87.17803178101943,15.221135696903172],[-87.17803178101943,15.216198174347705],[-87.17309425846396,15.216198174347705],[-87.17309425846396,15.209614810940417],[-87.17967762187125,15.209614810940417],[-87.17967762187125,15.214552333495885],[-87.1829693035749,15.214552333495885],[-87.1829693035749,15.209614810940417],[-87.18790682613036,15.209614810940417],[-87.18955266698218,15.209614810940417],[-87.19284434868582,15.209614810940417],[-87.19449018953765,15.209614810940417],[-87.1977818712413,15.209614810940417],[-87.19942771209311,15.209614810940417],[-87.20436523464859,15.209614810940417],[-87.20436523464859,15.214552333495885],[-87.20436523464859,15.216198174347705],[-87.20436523464859,15.221135696903172]]],[[[-87.11055230609473,15.260635877346902],[-87.10561478353927,15.260635877346902],[-87.10396894268744,15.260635877346902],[-87.1006772609838,15.260635877346902],[-87.09903142013198,15.260635877346902],[-87.09409389757651,15.260635877346902],[-87.09409389757651,15.255698354791434],[-87.09080221587286,15.255698354791434],[-87.09080221587286,15.260635877346902],[-87.08586469331739,15.260635877346902],[-87.08421885246557,15.260635877346902],[-87.08092717076192,15.260635877346902],[-87.0792813299101,15.260635877346902],[-87.07434380735464,15.260635877346902],[-87.07434380735464,15.255698354791434],[-87.06940628479917,15.255698354791434],[-87.06940628479917,15.250760832235969],[-87.06940628479917,15.249114991384147],[-87.06940628479917,15.244177468828681],[-87.07434380735464,15.244177468828681],[-87.07434380735464,15.239239946273216],[-87.08092717076192,15.239239946273216],[-87.08092717076192,15.244177468828681],[-87.08092717076192,15.245823309680503],[-87.08092717076192,15.249114991384147],[-87.08092717076192,15.250760832235969],[-87.08092717076192,15.254052513939614],[-87.08421885246557,15.254052513939614],[-87.08586469331739,15.254052513939614],[-87.08915637502105,15.254052513939614],[-87.08915637502105,15.250760832235969],[-87.08915637502105,15.249114991384147],[-87.08915637502105,15.244177468828681],[-87.09409389757651,15.244177468828681],[-87.09573973842834,15.244177468828681],[-87.1006772609838,15.244177468828681],[-87.1006772609838,15.249114991384147],[-87.10396894268744,15.249114991384147],[-87.10561478353927,15.249114991384147],[-87.10890646524291,15.249114991384147],[-87.11055230609473,15.249114991384147],[-87.1154898286502,15.249114991384147],[-87.1154898286502,15.255698354791434],[-87.11055230609473,15.255698354791434],[-87.11055230609473,15.260635877346902]]],[[[-87.12536487376113,15.25899003649508],[-87.12536487376113,15.265573399902367],[-87.11878151035384,15.265573399902367],[-87.11878151035384,15.25899003649508],[-87.12536487376113,15.25899003649508]]],[[[-87.1154898286502,15.268865081606013],[-87.1154898286502,15.2754484450133],[-87.10890646524291,15.2754484450133],[-87.10890646524291,15.268865081606013],[-87.1154898286502,15.268865081606013]]],[[[-87.08915637502105,15.285323490124233],[-87.08915637502105,15.280385967568765],[-87.08915637502105,15.278740126716945],[-87.08915637502105,15.273802604161478],[-87.09573973842834,15.273802604161478],[-87.09573973842834,15.278740126716945],[-87.09573973842834,15.280385967568765],[-87.09573973842834,15.285323490124233],[-87.08915637502105,15.285323490124233]]],[[[-87.06117708054006,15.290261012679698],[-87.05953123968824,15.290261012679698],[-87.0562395579846,15.290261012679698],[-87.05459371713278,15.290261012679698],[-87.04965619457731,15.290261012679698],[-87.04965619457731,15.283677649272411],[-87.05459371713278,15.283677649272411],[-87.05459371713278,15.278740126716945],[-87.05953123968824,15.278740126716945],[-87.06117708054006,15.278740126716945],[-87.0644687622437,15.278740126716945],[-87.06611460309553,15.278740126716945],[-87.071052125651,15.278740126716945],[-87.071052125651,15.285323490124233],[-87.06611460309553,15.285323490124233],[-87.06611460309553,15.290261012679698],[-87.06117708054006,15.290261012679698]]],[[[-87.0644687622437,15.300136057790631],[-87.05953123968824,15.300136057790631],[-87.05953123968824,15.293552694383344],[-87.0644687622437,15.293552694383344],[-87.06611460309553,15.293552694383344],[-87.071052125651,15.293552694383344],[-87.071052125651,15.300136057790631],[-87.06611460309553,15.300136057790631],[-87.0644687622437,15.300136057790631]]],[[[-87.08915637502105,15.324823670567962],[-87.08915637502105,15.319886148012497],[-87.08915637502105,15.318240307160675],[-87.08915637502105,15.31330278460521],[-87.09573973842834,15.31330278460521],[-87.09573973842834,15.318240307160675],[-87.09573973842834,15.319886148012497],[-87.09573973842834,15.324823670567962],[-87.08915637502105,15.324823670567962]]],[[[-86.98711424220808,15.199739765829486],[-86.98711424220808,15.206323129236774],[-86.98053087880079,15.206323129236774],[-86.98053087880079,15.199739765829486],[-86.98711424220808,15.199739765829486]]],[[[-87.06611460309553,15.214552333495885],[-87.06611460309553,15.221135696903172],[-87.05953123968824,15.221135696903172],[-87.05953123968824,15.214552333495885],[-87.06611460309553,15.214552333495885]]],[[[-86.98546840135626,15.21948985605135],[-86.98711424220808,15.21948985605135],[-86.99205176476354,15.21948985605135],[-86.99205176476354,15.224427378606817],[-86.99698928731901,15.224427378606817],[-86.99698928731901,15.229364901162283],[-87.00192680987448,15.229364901162283],[-87.00192680987448,15.234302423717748],[-87.00192680987448,15.23594826456957],[-87.00192680987448,15.240885787125036],[-86.99534344646719,15.240885787125036],[-86.99534344646719,15.23594826456957],[-86.99534344646719,15.234302423717748],[-86.99534344646719,15.231010742014105],[-86.99205176476354,15.231010742014105],[-86.99040592391172,15.231010742014105],[-86.98546840135626,15.231010742014105],[-86.98546840135626,15.226073219458637],[-86.98053087880079,15.226073219458637],[-86.98053087880079,15.21948985605135],[-86.98546840135626,15.21948985605135]]],[[[-86.9821767196526,15.234302423717748],[-86.9821767196526,15.240885787125036],[-86.97559335624531,15.240885787125036],[-86.97559335624531,15.234302423717748],[-86.9821767196526,15.234302423717748]]],[[[-86.99205176476354,15.239239946273216],[-86.99205176476354,15.245823309680503],[-86.98546840135626,15.245823309680503],[-86.98546840135626,15.239239946273216],[-86.99205176476354,15.239239946273216]]],[[[-87.0118018549854,15.250760832235969],[-87.0118018549854,15.255698354791434],[-87.00521849157812,15.255698354791434],[-87.00521849157812,15.250760832235969],[-87.00521849157812,15.249114991384147],[-87.00521849157812,15.244177468828681],[-87.0118018549854,15.244177468828681],[-87.0118018549854,15.249114991384147],[-87.0118018549854,15.250760832235969]]],[[[-87.01673937754087,15.25899003649508],[-87.01673937754087,15.265573399902367],[-87.01015601413359,15.265573399902367],[-87.01015601413359,15.25899003649508],[-87.01673937754087,15.25899003649508]]]]},\"bbox\":[-87.20436523464859,15.199739765829486,-86.97559335624531,15.324823670567962]}],\"bbox\":[-87.22411532487045,15.145427017719356,-86.97559335624531,15.324823670567962]},\"hovertemplate\":\"texture=%{location}\\u003cextra\\u003e\\u003c\\u002fextra\\u003e\",\"locations\":[\"clay loam\"],\"marker\":{\"opacity\":0.5},\"name\":\"clay loam\",\"showlegend\":true,\"showscale\":false,\"subplot\":\"map\",\"z\":[1],\"type\":\"choroplethmap\"},{\"colorscale\":[[0.0,\"#EF553B\"],[1.0,\"#EF553B\"]],\"featureidkey\":\"properties.texture\",\"geojson\":{\"type\":\"FeatureCollection\",\"features\":[{\"id\":\"0\",\"type\":\"Feature\",\"properties\":{\"texture\":\"clay loam\"},\"geometry\":{\"type\":\"Polygon\",\"coordinates\":[[[-87.21424027975952,15.194802243274019],[-87.21424027975952,15.19644808412584],[-87.21424027975952,15.199739765829486],[-87.21917780231499,15.199739765829486],[-87.21917780231499,15.204677288384952],[-87.21917780231499,15.206323129236774],[-87.21917780231499,15.209614810940417],[-87.22411532487045,15.209614810940417],[-87.22411532487045,15.214552333495885],[-87.22411532487045,15.216198174347705],[-87.22411532487045,15.21948985605135],[-87.22411532487045,15.221135696903172],[-87.22411532487045,15.224427378606817],[-87.22411532487045,15.226073219458637],[-87.22411532487045,15.231010742014105],[-87.21917780231499,15.231010742014105],[-87.21753196146317,15.231010742014105],[-87.2125944389077,15.231010742014105],[-87.2125944389077,15.226073219458637],[-87.20930275720406,15.226073219458637],[-87.20765691635224,15.226073219458637],[-87.20436523464859,15.226073219458637],[-87.20436523464859,15.231010742014105],[-87.19942771209311,15.231010742014105],[-87.1977818712413,15.231010742014105],[-87.19449018953765,15.231010742014105],[-87.19449018953765,15.23594826456957],[-87.18955266698218,15.23594826456957],[-87.18790682613036,15.23594826456957],[-87.18461514442672,15.23594826456957],[-87.18461514442672,15.240885787125036],[-87.17967762187125,15.240885787125036],[-87.17803178101943,15.240885787125036],[-87.17474009931578,15.240885787125036],[-87.17309425846396,15.240885787125036],[-87.16980257676032,15.240885787125036],[-87.1681567359085,15.240885787125036],[-87.16486505420485,15.240885787125036],[-87.16321921335303,15.240885787125036],[-87.15992753164939,15.240885787125036],[-87.15828169079757,15.240885787125036],[-87.15499000909392,15.240885787125036],[-87.1533441682421,15.240885787125036],[-87.15005248653846,15.240885787125036],[-87.15005248653846,15.244177468828681],[-87.15005248653846,15.245823309680503],[-87.15005248653846,15.250760832235969],[-87.14511496398299,15.250760832235969],[-87.14346912313117,15.250760832235969],[-87.14017744142753,15.250760832235969],[-87.14017744142753,15.255698354791434],[-87.13523991887206,15.255698354791434],[-87.13523991887206,15.260635877346902],[-87.1303023963166,15.260635877346902],[-87.1303023963166,15.265573399902367],[-87.12536487376113,15.265573399902367],[-87.12536487376113,15.270510922457834],[-87.12042735120566,15.270510922457834],[-87.12042735120566,15.273802604161478],[-87.12042735120566,15.2754484450133],[-87.12042735120566,15.278740126716945],[-87.12042735120566,15.280385967568765],[-87.12042735120566,15.283677649272411],[-87.12042735120566,15.285323490124233],[-87.12042735120566,15.290261012679698],[-87.1154898286502,15.290261012679698],[-87.1154898286502,15.295198535235166],[-87.11055230609473,15.295198535235166],[-87.11055230609473,15.300136057790631],[-87.10561478353927,15.300136057790631],[-87.10396894268744,15.300136057790631],[-87.1006772609838,15.300136057790631],[-87.1006772609838,15.305073580346097],[-87.09573973842834,15.305073580346097],[-87.09573973842834,15.308365262049742],[-87.09573973842834,15.310011102901564],[-87.09573973842834,15.31494862545703],[-87.09080221587286,15.31494862545703],[-87.09080221587286,15.319886148012497],[-87.08586469331739,15.319886148012497],[-87.08421885246557,15.319886148012497],[-87.0792813299101,15.319886148012497],[-87.0792813299101,15.31494862545703],[-87.0792813299101,15.31330278460521],[-87.0792813299101,15.310011102901564],[-87.0792813299101,15.308365262049742],[-87.0792813299101,15.305073580346097],[-87.07598964820646,15.305073580346097],[-87.07434380735464,15.305073580346097],[-87.071052125651,15.305073580346097],[-87.06940628479917,15.305073580346097],[-87.0644687622437,15.305073580346097],[-87.0644687622437,15.29849021693881],[-87.06940628479917,15.29849021693881],[-87.06940628479917,15.295198535235166],[-87.06611460309553,15.295198535235166],[-87.0644687622437,15.295198535235166],[-87.06117708054006,15.295198535235166],[-87.05953123968824,15.295198535235166],[-87.05459371713278,15.295198535235166],[-87.05459371713278,15.288615171827878],[-87.05953123968824,15.288615171827878],[-87.06117708054006,15.288615171827878],[-87.0644687622437,15.288615171827878],[-87.0644687622437,15.283677649272411],[-87.06940628479917,15.283677649272411],[-87.06940628479917,15.280385967568765],[-87.06611460309553,15.280385967568765],[-87.0644687622437,15.280385967568765],[-87.06117708054006,15.280385967568765],[-87.05953123968824,15.280385967568765],[-87.0562395579846,15.280385967568765],[-87.0562395579846,15.285323490124233],[-87.05130203542913,15.285323490124233],[-87.04965619457731,15.285323490124233],[-87.04636451287367,15.285323490124233],[-87.04471867202184,15.285323490124233],[-87.03978114946638,15.285323490124233],[-87.03978114946638,15.280385967568765],[-87.03648946776273,15.280385967568765],[-87.03484362691091,15.280385967568765],[-87.02990610435545,15.280385967568765],[-87.02990610435545,15.2754484450133],[-87.0266144226518,15.2754484450133],[-87.02496858179998,15.2754484450133],[-87.02003105924452,15.2754484450133],[-87.02003105924452,15.270510922457834],[-87.01509353668905,15.270510922457834],[-87.01509353668905,15.265573399902367],[-87.01509353668905,15.263927559050547],[-87.01509353668905,15.260635877346902],[-87.0118018549854,15.260635877346902],[-87.01015601413359,15.260635877346902],[-87.00686433242994,15.260635877346902],[-87.00521849157812,15.260635877346902],[-87.00192680987448,15.260635877346902],[-87.00028096902265,15.260635877346902],[-86.99698928731901,15.260635877346902],[-86.99534344646719,15.260635877346902],[-86.99040592391172,15.260635877346902],[-86.99040592391172,15.255698354791434],[-86.99040592391172,15.254052513939614],[-86.99040592391172,15.250760832235969],[-86.98546840135626,15.250760832235969],[-86.98546840135626,15.244177468828681],[-86.99040592391172,15.244177468828681],[-86.99040592391172,15.240885787125036],[-86.98711424220808,15.240885787125036],[-86.98546840135626,15.240885787125036],[-86.98053087880079,15.240885787125036],[-86.98053087880079,15.23594826456957],[-86.97559335624531,15.23594826456957],[-86.97559335624531,15.231010742014105],[-86.97559335624531,15.229364901162283],[-86.97559335624531,15.226073219458637],[-86.97559335624531,15.224427378606817],[-86.97559335624531,15.221135696903172],[-86.97559335624531,15.21948985605135],[-86.97559335624531,15.216198174347705],[-86.97559335624531,15.214552333495885],[-86.97559335624531,15.209614810940417],[-86.98053087880079,15.209614810940417],[-86.98053087880079,15.204677288384952],[-86.98546840135626,15.204677288384952],[-86.98546840135626,15.199739765829486],[-86.99040592391172,15.199739765829486],[-86.99205176476354,15.199739765829486],[-86.99534344646719,15.199739765829486],[-86.99698928731901,15.199739765829486],[-87.00028096902265,15.199739765829486],[-87.00192680987448,15.199739765829486],[-87.00521849157812,15.199739765829486],[-87.00686433242994,15.199739765829486],[-87.01015601413359,15.199739765829486],[-87.0118018549854,15.199739765829486],[-87.01509353668905,15.199739765829486],[-87.01673937754087,15.199739765829486],[-87.02003105924452,15.199739765829486],[-87.02167690009634,15.199739765829486],[-87.02496858179998,15.199739765829486],[-87.02496858179998,15.19644808412584],[-87.02003105924452,15.19644808412584],[-87.02003105924452,15.189864720718553],[-87.02496858179998,15.189864720718553],[-87.02496858179998,15.184927198163086],[-87.02990610435545,15.184927198163086],[-87.03155194520727,15.184927198163086],[-87.03484362691091,15.184927198163086],[-87.03648946776273,15.184927198163086],[-87.03978114946638,15.184927198163086],[-87.03978114946638,15.17998967560762],[-87.04471867202184,15.17998967560762],[-87.04636451287367,15.17998967560762],[-87.04965619457731,15.17998967560762],[-87.05130203542913,15.17998967560762],[-87.05459371713278,15.17998967560762],[-87.0562395579846,15.17998967560762],[-87.05953123968824,15.17998967560762],[-87.06117708054006,15.17998967560762],[-87.0644687622437,15.17998967560762],[-87.0644687622437,15.176697993903975],[-87.0644687622437,15.175052153052155],[-87.0644687622437,15.17176047134851],[-87.0644687622437,15.170114630496688],[-87.0644687622437,15.166822948793044],[-87.0644687622437,15.165177107941222],[-87.0644687622437,15.161885426237577],[-87.0644687622437,15.160239585385757],[-87.0644687622437,15.156947903682111],[-87.0644687622437,15.15530206283029],[-87.0644687622437,15.150364540274824],[-87.06940628479917,15.150364540274824],[-87.071052125651,15.150364540274824],[-87.07598964820646,15.150364540274824],[-87.07598964820646,15.15530206283029],[-87.07598964820646,15.156947903682111],[-87.07598964820646,15.160239585385757],[-87.0792813299101,15.160239585385757],[-87.08092717076192,15.160239585385757],[-87.08421885246557,15.160239585385757],[-87.08586469331739,15.160239585385757],[-87.08915637502105,15.160239585385757],[-87.09080221587286,15.160239585385757],[-87.09409389757651,15.160239585385757],[-87.09573973842834,15.160239585385757],[-87.09903142013198,15.160239585385757],[-87.09903142013198,15.156947903682111],[-87.09903142013198,15.15530206283029],[-87.09903142013198,15.150364540274824],[-87.10396894268744,15.150364540274824],[-87.10561478353927,15.150364540274824],[-87.10890646524291,15.150364540274824],[-87.11055230609473,15.150364540274824],[-87.1154898286502,15.150364540274824],[-87.1154898286502,15.15530206283029],[-87.1154898286502,15.156947903682111],[-87.1154898286502,15.160239585385757],[-87.11878151035384,15.160239585385757],[-87.12042735120566,15.160239585385757],[-87.1237190329093,15.160239585385757],[-87.12536487376113,15.160239585385757],[-87.12865655546477,15.160239585385757],[-87.12865655546477,15.15530206283029],[-87.13359407802024,15.15530206283029],[-87.13359407802024,15.150364540274824],[-87.1385316005757,15.150364540274824],[-87.1385316005757,15.145427017719356],[-87.14346912313117,15.145427017719356],[-87.14511496398299,15.145427017719356],[-87.14840664568663,15.145427017719356],[-87.15005248653846,15.145427017719356],[-87.15499000909392,15.145427017719356],[-87.15499000909392,15.150364540274824],[-87.15499000909392,15.152010381126644],[-87.15499000909392,15.15530206283029],[-87.15499000909392,15.156947903682111],[-87.15499000909392,15.160239585385757],[-87.15499000909392,15.161885426237577],[-87.15499000909392,15.165177107941222],[-87.15992753164939,15.165177107941222],[-87.15992753164939,15.170114630496688],[-87.16486505420485,15.170114630496688],[-87.16486505420485,15.175052153052155],[-87.16980257676032,15.175052153052155],[-87.16980257676032,15.17998967560762],[-87.17309425846396,15.17998967560762],[-87.17474009931578,15.17998967560762],[-87.17967762187125,15.17998967560762],[-87.17967762187125,15.184927198163086],[-87.1829693035749,15.184927198163086],[-87.18461514442672,15.184927198163086],[-87.18790682613036,15.184927198163086],[-87.18955266698218,15.184927198163086],[-87.19284434868582,15.184927198163086],[-87.19284434868582,15.17998967560762],[-87.1977818712413,15.17998967560762],[-87.1977818712413,15.175052153052155],[-87.20271939379677,15.175052153052155],[-87.20436523464859,15.175052153052155],[-87.20930275720406,15.175052153052155],[-87.20930275720406,15.17998967560762],[-87.21424027975952,15.17998967560762],[-87.21424027975952,15.184927198163086],[-87.21424027975952,15.186573039014908],[-87.21424027975952,15.189864720718553],[-87.21424027975952,15.191510561570373],[-87.21424027975952,15.194802243274019]],[[-87.09409389757651,15.280385967568765],[-87.09409389757651,15.278740126716945],[-87.09409389757651,15.2754484450133],[-87.09080221587286,15.2754484450133],[-87.09080221587286,15.278740126716945],[-87.09080221587286,15.280385967568765],[-87.09080221587286,15.283677649272411],[-87.09409389757651,15.283677649272411],[-87.09409389757651,15.280385967568765]],[[-87.09903142013198,15.25899003649508],[-87.1006772609838,15.25899003649508],[-87.10396894268744,15.25899003649508],[-87.10561478353927,15.25899003649508],[-87.10890646524291,15.25899003649508],[-87.10890646524291,15.254052513939614],[-87.11384398779838,15.254052513939614],[-87.11384398779838,15.250760832235969],[-87.11055230609473,15.250760832235969],[-87.10890646524291,15.250760832235969],[-87.10561478353927,15.250760832235969],[-87.10396894268744,15.250760832235969],[-87.09903142013198,15.250760832235969],[-87.09903142013198,15.245823309680503],[-87.09573973842834,15.245823309680503],[-87.09409389757651,15.245823309680503],[-87.09080221587286,15.245823309680503],[-87.09080221587286,15.249114991384147],[-87.09080221587286,15.250760832235969],[-87.09080221587286,15.254052513939614],[-87.09573973842834,15.254052513939614],[-87.09573973842834,15.25899003649508],[-87.09903142013198,15.25899003649508]],[[-87.17474009931578,15.211260651792239],[-87.17474009931578,15.214552333495885],[-87.17803178101943,15.214552333495885],[-87.17803178101943,15.211260651792239],[-87.17474009931578,15.211260651792239]],[[-87.1977818712413,15.211260651792239],[-87.19449018953765,15.211260651792239],[-87.19284434868582,15.211260651792239],[-87.18955266698218,15.211260651792239],[-87.18790682613036,15.211260651792239],[-87.18461514442672,15.211260651792239],[-87.18461514442672,15.216198174347705],[-87.17967762187125,15.216198174347705],[-87.17967762187125,15.21948985605135],[-87.1829693035749,15.21948985605135],[-87.18461514442672,15.21948985605135],[-87.18790682613036,15.21948985605135],[-87.18955266698218,15.21948985605135],[-87.19284434868582,15.21948985605135],[-87.19449018953765,15.21948985605135],[-87.1977818712413,15.21948985605135],[-87.19942771209311,15.21948985605135],[-87.20271939379677,15.21948985605135],[-87.20271939379677,15.216198174347705],[-87.20271939379677,15.214552333495885],[-87.20271939379677,15.211260651792239],[-87.19942771209311,15.211260651792239],[-87.1977818712413,15.211260651792239]],[[-87.12042735120566,15.263927559050547],[-87.1237190329093,15.263927559050547],[-87.1237190329093,15.260635877346902],[-87.12042735120566,15.260635877346902],[-87.12042735120566,15.263927559050547]],[[-87.11055230609473,15.273802604161478],[-87.11384398779838,15.273802604161478],[-87.11384398779838,15.270510922457834],[-87.11055230609473,15.270510922457834],[-87.11055230609473,15.273802604161478]],[[-87.08421885246557,15.25899003649508],[-87.08586469331739,15.25899003649508],[-87.08915637502105,15.25899003649508],[-87.08915637502105,15.255698354791434],[-87.08586469331739,15.255698354791434],[-87.08421885246557,15.255698354791434],[-87.0792813299101,15.255698354791434],[-87.0792813299101,15.250760832235969],[-87.0792813299101,15.249114991384147],[-87.0792813299101,15.245823309680503],[-87.0792813299101,15.244177468828681],[-87.0792813299101,15.240885787125036],[-87.07598964820646,15.240885787125036],[-87.07598964820646,15.245823309680503],[-87.071052125651,15.245823309680503],[-87.071052125651,15.249114991384147],[-87.071052125651,15.250760832235969],[-87.071052125651,15.254052513939614],[-87.07598964820646,15.254052513939614],[-87.07598964820646,15.25899003649508],[-87.0792813299101,15.25899003649508],[-87.08092717076192,15.25899003649508],[-87.08421885246557,15.25899003649508]],[[-87.06117708054006,15.21948985605135],[-87.0644687622437,15.21948985605135],[-87.0644687622437,15.216198174347705],[-87.06117708054006,15.216198174347705],[-87.06117708054006,15.21948985605135]],[[-86.99698928731901,15.23594826456957],[-86.99698928731901,15.239239946273216],[-87.00028096902265,15.239239946273216],[-87.00028096902265,15.23594826456957],[-87.00028096902265,15.234302423717748],[-87.00028096902265,15.231010742014105],[-86.99698928731901,15.231010742014105],[-86.99698928731901,15.234302423717748],[-86.99698928731901,15.23594826456957]],[[-86.9821767196526,15.224427378606817],[-86.98711424220808,15.224427378606817],[-86.98711424220808,15.229364901162283],[-86.99040592391172,15.229364901162283],[-86.99205176476354,15.229364901162283],[-86.99534344646719,15.229364901162283],[-86.99534344646719,15.226073219458637],[-86.99040592391172,15.226073219458637],[-86.99040592391172,15.221135696903172],[-86.98711424220808,15.221135696903172],[-86.98546840135626,15.221135696903172],[-86.9821767196526,15.221135696903172],[-86.9821767196526,15.224427378606817]],[[-87.01015601413359,15.250760832235969],[-87.01015601413359,15.249114991384147],[-87.01015601413359,15.245823309680503],[-87.00686433242994,15.245823309680503],[-87.00686433242994,15.249114991384147],[-87.00686433242994,15.250760832235969],[-87.00686433242994,15.254052513939614],[-87.01015601413359,15.254052513939614],[-87.01015601413359,15.250760832235969]]]},\"bbox\":[-87.22411532487045,15.145427017719356,-86.97559335624531,15.319886148012497]},{\"id\":\"0\",\"type\":\"Feature\",\"properties\":{\"texture\":\"clay\"},\"geometry\":{\"type\":\"MultiPolygon\",\"coordinates\":[[[[-87.20436523464859,15.221135696903172],[-87.19942771209311,15.221135696903172],[-87.1977818712413,15.221135696903172],[-87.19449018953765,15.221135696903172],[-87.19284434868582,15.221135696903172],[-87.18955266698218,15.221135696903172],[-87.18790682613036,15.221135696903172],[-87.18461514442672,15.221135696903172],[-87.1829693035749,15.221135696903172],[-87.17803178101943,15.221135696903172],[-87.17803178101943,15.216198174347705],[-87.17309425846396,15.216198174347705],[-87.17309425846396,15.209614810940417],[-87.17967762187125,15.209614810940417],[-87.17967762187125,15.214552333495885],[-87.1829693035749,15.214552333495885],[-87.1829693035749,15.209614810940417],[-87.18790682613036,15.209614810940417],[-87.18955266698218,15.209614810940417],[-87.19284434868582,15.209614810940417],[-87.19449018953765,15.209614810940417],[-87.1977818712413,15.209614810940417],[-87.19942771209311,15.209614810940417],[-87.20436523464859,15.209614810940417],[-87.20436523464859,15.214552333495885],[-87.20436523464859,15.216198174347705],[-87.20436523464859,15.221135696903172]]],[[[-87.11055230609473,15.260635877346902],[-87.10561478353927,15.260635877346902],[-87.10396894268744,15.260635877346902],[-87.1006772609838,15.260635877346902],[-87.09903142013198,15.260635877346902],[-87.09409389757651,15.260635877346902],[-87.09409389757651,15.255698354791434],[-87.09080221587286,15.255698354791434],[-87.09080221587286,15.260635877346902],[-87.08586469331739,15.260635877346902],[-87.08421885246557,15.260635877346902],[-87.08092717076192,15.260635877346902],[-87.0792813299101,15.260635877346902],[-87.07434380735464,15.260635877346902],[-87.07434380735464,15.255698354791434],[-87.06940628479917,15.255698354791434],[-87.06940628479917,15.250760832235969],[-87.06940628479917,15.249114991384147],[-87.06940628479917,15.244177468828681],[-87.07434380735464,15.244177468828681],[-87.07434380735464,15.239239946273216],[-87.08092717076192,15.239239946273216],[-87.08092717076192,15.244177468828681],[-87.08092717076192,15.245823309680503],[-87.08092717076192,15.249114991384147],[-87.08092717076192,15.250760832235969],[-87.08092717076192,15.254052513939614],[-87.08421885246557,15.254052513939614],[-87.08586469331739,15.254052513939614],[-87.08915637502105,15.254052513939614],[-87.08915637502105,15.250760832235969],[-87.08915637502105,15.249114991384147],[-87.08915637502105,15.244177468828681],[-87.09409389757651,15.244177468828681],[-87.09573973842834,15.244177468828681],[-87.1006772609838,15.244177468828681],[-87.1006772609838,15.249114991384147],[-87.10396894268744,15.249114991384147],[-87.10561478353927,15.249114991384147],[-87.10890646524291,15.249114991384147],[-87.11055230609473,15.249114991384147],[-87.1154898286502,15.249114991384147],[-87.1154898286502,15.255698354791434],[-87.11055230609473,15.255698354791434],[-87.11055230609473,15.260635877346902]]],[[[-87.12536487376113,15.25899003649508],[-87.12536487376113,15.265573399902367],[-87.11878151035384,15.265573399902367],[-87.11878151035384,15.25899003649508],[-87.12536487376113,15.25899003649508]]],[[[-87.1154898286502,15.268865081606013],[-87.1154898286502,15.2754484450133],[-87.10890646524291,15.2754484450133],[-87.10890646524291,15.268865081606013],[-87.1154898286502,15.268865081606013]]],[[[-87.08915637502105,15.285323490124233],[-87.08915637502105,15.280385967568765],[-87.08915637502105,15.278740126716945],[-87.08915637502105,15.273802604161478],[-87.09573973842834,15.273802604161478],[-87.09573973842834,15.278740126716945],[-87.09573973842834,15.280385967568765],[-87.09573973842834,15.285323490124233],[-87.08915637502105,15.285323490124233]]],[[[-87.06117708054006,15.290261012679698],[-87.05953123968824,15.290261012679698],[-87.0562395579846,15.290261012679698],[-87.05459371713278,15.290261012679698],[-87.04965619457731,15.290261012679698],[-87.04965619457731,15.283677649272411],[-87.05459371713278,15.283677649272411],[-87.05459371713278,15.278740126716945],[-87.05953123968824,15.278740126716945],[-87.06117708054006,15.278740126716945],[-87.0644687622437,15.278740126716945],[-87.06611460309553,15.278740126716945],[-87.071052125651,15.278740126716945],[-87.071052125651,15.285323490124233],[-87.06611460309553,15.285323490124233],[-87.06611460309553,15.290261012679698],[-87.06117708054006,15.290261012679698]]],[[[-87.0644687622437,15.300136057790631],[-87.05953123968824,15.300136057790631],[-87.05953123968824,15.293552694383344],[-87.0644687622437,15.293552694383344],[-87.06611460309553,15.293552694383344],[-87.071052125651,15.293552694383344],[-87.071052125651,15.300136057790631],[-87.06611460309553,15.300136057790631],[-87.0644687622437,15.300136057790631]]],[[[-87.08915637502105,15.324823670567962],[-87.08915637502105,15.319886148012497],[-87.08915637502105,15.318240307160675],[-87.08915637502105,15.31330278460521],[-87.09573973842834,15.31330278460521],[-87.09573973842834,15.318240307160675],[-87.09573973842834,15.319886148012497],[-87.09573973842834,15.324823670567962],[-87.08915637502105,15.324823670567962]]],[[[-86.98711424220808,15.199739765829486],[-86.98711424220808,15.206323129236774],[-86.98053087880079,15.206323129236774],[-86.98053087880079,15.199739765829486],[-86.98711424220808,15.199739765829486]]],[[[-87.06611460309553,15.214552333495885],[-87.06611460309553,15.221135696903172],[-87.05953123968824,15.221135696903172],[-87.05953123968824,15.214552333495885],[-87.06611460309553,15.214552333495885]]],[[[-86.98546840135626,15.21948985605135],[-86.98711424220808,15.21948985605135],[-86.99205176476354,15.21948985605135],[-86.99205176476354,15.224427378606817],[-86.99698928731901,15.224427378606817],[-86.99698928731901,15.229364901162283],[-87.00192680987448,15.229364901162283],[-87.00192680987448,15.234302423717748],[-87.00192680987448,15.23594826456957],[-87.00192680987448,15.240885787125036],[-86.99534344646719,15.240885787125036],[-86.99534344646719,15.23594826456957],[-86.99534344646719,15.234302423717748],[-86.99534344646719,15.231010742014105],[-86.99205176476354,15.231010742014105],[-86.99040592391172,15.231010742014105],[-86.98546840135626,15.231010742014105],[-86.98546840135626,15.226073219458637],[-86.98053087880079,15.226073219458637],[-86.98053087880079,15.21948985605135],[-86.98546840135626,15.21948985605135]]],[[[-86.9821767196526,15.234302423717748],[-86.9821767196526,15.240885787125036],[-86.97559335624531,15.240885787125036],[-86.97559335624531,15.234302423717748],[-86.9821767196526,15.234302423717748]]],[[[-86.99205176476354,15.239239946273216],[-86.99205176476354,15.245823309680503],[-86.98546840135626,15.245823309680503],[-86.98546840135626,15.239239946273216],[-86.99205176476354,15.239239946273216]]],[[[-87.0118018549854,15.250760832235969],[-87.0118018549854,15.255698354791434],[-87.00521849157812,15.255698354791434],[-87.00521849157812,15.250760832235969],[-87.00521849157812,15.249114991384147],[-87.00521849157812,15.244177468828681],[-87.0118018549854,15.244177468828681],[-87.0118018549854,15.249114991384147],[-87.0118018549854,15.250760832235969]]],[[[-87.01673937754087,15.25899003649508],[-87.01673937754087,15.265573399902367],[-87.01015601413359,15.265573399902367],[-87.01015601413359,15.25899003649508],[-87.01673937754087,15.25899003649508]]]]},\"bbox\":[-87.20436523464859,15.199739765829486,-86.97559335624531,15.324823670567962]}],\"bbox\":[-87.22411532487045,15.145427017719356,-86.97559335624531,15.324823670567962]},\"hovertemplate\":\"texture=%{location}\\u003cextra\\u003e\\u003c\\u002fextra\\u003e\",\"locations\":[\"clay\"],\"marker\":{\"opacity\":0.5},\"name\":\"clay\",\"showlegend\":true,\"showscale\":false,\"subplot\":\"map\",\"z\":[1],\"type\":\"choroplethmap\"}],                        {\"template\":{\"data\":{\"histogram2dcontour\":[{\"type\":\"histogram2dcontour\",\"colorbar\":{\"outlinewidth\":0,\"ticks\":\"\"},\"colorscale\":[[0.0,\"#0d0887\"],[0.1111111111111111,\"#46039f\"],[0.2222222222222222,\"#7201a8\"],[0.3333333333333333,\"#9c179e\"],[0.4444444444444444,\"#bd3786\"],[0.5555555555555556,\"#d8576b\"],[0.6666666666666666,\"#ed7953\"],[0.7777777777777778,\"#fb9f3a\"],[0.8888888888888888,\"#fdca26\"],[1.0,\"#f0f921\"]]}],\"choropleth\":[{\"type\":\"choropleth\",\"colorbar\":{\"outlinewidth\":0,\"ticks\":\"\"}}],\"histogram2d\":[{\"type\":\"histogram2d\",\"colorbar\":{\"outlinewidth\":0,\"ticks\":\"\"},\"colorscale\":[[0.0,\"#0d0887\"],[0.1111111111111111,\"#46039f\"],[0.2222222222222222,\"#7201a8\"],[0.3333333333333333,\"#9c179e\"],[0.4444444444444444,\"#bd3786\"],[0.5555555555555556,\"#d8576b\"],[0.6666666666666666,\"#ed7953\"],[0.7777777777777778,\"#fb9f3a\"],[0.8888888888888888,\"#fdca26\"],[1.0,\"#f0f921\"]]}],\"heatmap\":[{\"type\":\"heatmap\",\"colorbar\":{\"outlinewidth\":0,\"ticks\":\"\"},\"colorscale\":[[0.0,\"#0d0887\"],[0.1111111111111111,\"#46039f\"],[0.2222222222222222,\"#7201a8\"],[0.3333333333333333,\"#9c179e\"],[0.4444444444444444,\"#bd3786\"],[0.5555555555555556,\"#d8576b\"],[0.6666666666666666,\"#ed7953\"],[0.7777777777777778,\"#fb9f3a\"],[0.8888888888888888,\"#fdca26\"],[1.0,\"#f0f921\"]]}],\"heatmapgl\":[{\"type\":\"heatmapgl\",\"colorbar\":{\"outlinewidth\":0,\"ticks\":\"\"},\"colorscale\":[[0.0,\"#0d0887\"],[0.1111111111111111,\"#46039f\"],[0.2222222222222222,\"#7201a8\"],[0.3333333333333333,\"#9c179e\"],[0.4444444444444444,\"#bd3786\"],[0.5555555555555556,\"#d8576b\"],[0.6666666666666666,\"#ed7953\"],[0.7777777777777778,\"#fb9f3a\"],[0.8888888888888888,\"#fdca26\"],[1.0,\"#f0f921\"]]}],\"contourcarpet\":[{\"type\":\"contourcarpet\",\"colorbar\":{\"outlinewidth\":0,\"ticks\":\"\"}}],\"contour\":[{\"type\":\"contour\",\"colorbar\":{\"outlinewidth\":0,\"ticks\":\"\"},\"colorscale\":[[0.0,\"#0d0887\"],[0.1111111111111111,\"#46039f\"],[0.2222222222222222,\"#7201a8\"],[0.3333333333333333,\"#9c179e\"],[0.4444444444444444,\"#bd3786\"],[0.5555555555555556,\"#d8576b\"],[0.6666666666666666,\"#ed7953\"],[0.7777777777777778,\"#fb9f3a\"],[0.8888888888888888,\"#fdca26\"],[1.0,\"#f0f921\"]]}],\"surface\":[{\"type\":\"surface\",\"colorbar\":{\"outlinewidth\":0,\"ticks\":\"\"},\"colorscale\":[[0.0,\"#0d0887\"],[0.1111111111111111,\"#46039f\"],[0.2222222222222222,\"#7201a8\"],[0.3333333333333333,\"#9c179e\"],[0.4444444444444444,\"#bd3786\"],[0.5555555555555556,\"#d8576b\"],[0.6666666666666666,\"#ed7953\"],[0.7777777777777778,\"#fb9f3a\"],[0.8888888888888888,\"#fdca26\"],[1.0,\"#f0f921\"]]}],\"mesh3d\":[{\"type\":\"mesh3d\",\"colorbar\":{\"outlinewidth\":0,\"ticks\":\"\"}}],\"scatter\":[{\"fillpattern\":{\"fillmode\":\"overlay\",\"size\":10,\"solidity\":0.2},\"type\":\"scatter\"}],\"parcoords\":[{\"type\":\"parcoords\",\"line\":{\"colorbar\":{\"outlinewidth\":0,\"ticks\":\"\"}}}],\"scatterpolargl\":[{\"type\":\"scatterpolargl\",\"marker\":{\"colorbar\":{\"outlinewidth\":0,\"ticks\":\"\"}}}],\"bar\":[{\"error_x\":{\"color\":\"#2a3f5f\"},\"error_y\":{\"color\":\"#2a3f5f\"},\"marker\":{\"line\":{\"color\":\"#E5ECF6\",\"width\":0.5},\"pattern\":{\"fillmode\":\"overlay\",\"size\":10,\"solidity\":0.2}},\"type\":\"bar\"}],\"scattergeo\":[{\"type\":\"scattergeo\",\"marker\":{\"colorbar\":{\"outlinewidth\":0,\"ticks\":\"\"}}}],\"scatterpolar\":[{\"type\":\"scatterpolar\",\"marker\":{\"colorbar\":{\"outlinewidth\":0,\"ticks\":\"\"}}}],\"histogram\":[{\"marker\":{\"pattern\":{\"fillmode\":\"overlay\",\"size\":10,\"solidity\":0.2}},\"type\":\"histogram\"}],\"scattergl\":[{\"type\":\"scattergl\",\"marker\":{\"colorbar\":{\"outlinewidth\":0,\"ticks\":\"\"}}}],\"scatter3d\":[{\"type\":\"scatter3d\",\"line\":{\"colorbar\":{\"outlinewidth\":0,\"ticks\":\"\"}},\"marker\":{\"colorbar\":{\"outlinewidth\":0,\"ticks\":\"\"}}}],\"scattermapbox\":[{\"type\":\"scattermapbox\",\"marker\":{\"colorbar\":{\"outlinewidth\":0,\"ticks\":\"\"}}}],\"scatterternary\":[{\"type\":\"scatterternary\",\"marker\":{\"colorbar\":{\"outlinewidth\":0,\"ticks\":\"\"}}}],\"scattercarpet\":[{\"type\":\"scattercarpet\",\"marker\":{\"colorbar\":{\"outlinewidth\":0,\"ticks\":\"\"}}}],\"carpet\":[{\"aaxis\":{\"endlinecolor\":\"#2a3f5f\",\"gridcolor\":\"white\",\"linecolor\":\"white\",\"minorgridcolor\":\"white\",\"startlinecolor\":\"#2a3f5f\"},\"baxis\":{\"endlinecolor\":\"#2a3f5f\",\"gridcolor\":\"white\",\"linecolor\":\"white\",\"minorgridcolor\":\"white\",\"startlinecolor\":\"#2a3f5f\"},\"type\":\"carpet\"}],\"table\":[{\"cells\":{\"fill\":{\"color\":\"#EBF0F8\"},\"line\":{\"color\":\"white\"}},\"header\":{\"fill\":{\"color\":\"#C8D4E3\"},\"line\":{\"color\":\"white\"}},\"type\":\"table\"}],\"barpolar\":[{\"marker\":{\"line\":{\"color\":\"#E5ECF6\",\"width\":0.5},\"pattern\":{\"fillmode\":\"overlay\",\"size\":10,\"solidity\":0.2}},\"type\":\"barpolar\"}],\"pie\":[{\"automargin\":true,\"type\":\"pie\"}]},\"layout\":{\"autotypenumbers\":\"strict\",\"colorway\":[\"#636efa\",\"#EF553B\",\"#00cc96\",\"#ab63fa\",\"#FFA15A\",\"#19d3f3\",\"#FF6692\",\"#B6E880\",\"#FF97FF\",\"#FECB52\"],\"font\":{\"color\":\"#2a3f5f\"},\"hovermode\":\"closest\",\"hoverlabel\":{\"align\":\"left\"},\"paper_bgcolor\":\"white\",\"plot_bgcolor\":\"#E5ECF6\",\"polar\":{\"bgcolor\":\"#E5ECF6\",\"angularaxis\":{\"gridcolor\":\"white\",\"linecolor\":\"white\",\"ticks\":\"\"},\"radialaxis\":{\"gridcolor\":\"white\",\"linecolor\":\"white\",\"ticks\":\"\"}},\"ternary\":{\"bgcolor\":\"#E5ECF6\",\"aaxis\":{\"gridcolor\":\"white\",\"linecolor\":\"white\",\"ticks\":\"\"},\"baxis\":{\"gridcolor\":\"white\",\"linecolor\":\"white\",\"ticks\":\"\"},\"caxis\":{\"gridcolor\":\"white\",\"linecolor\":\"white\",\"ticks\":\"\"}},\"coloraxis\":{\"colorbar\":{\"outlinewidth\":0,\"ticks\":\"\"}},\"colorscale\":{\"sequential\":[[0.0,\"#0d0887\"],[0.1111111111111111,\"#46039f\"],[0.2222222222222222,\"#7201a8\"],[0.3333333333333333,\"#9c179e\"],[0.4444444444444444,\"#bd3786\"],[0.5555555555555556,\"#d8576b\"],[0.6666666666666666,\"#ed7953\"],[0.7777777777777778,\"#fb9f3a\"],[0.8888888888888888,\"#fdca26\"],[1.0,\"#f0f921\"]],\"sequentialminus\":[[0.0,\"#0d0887\"],[0.1111111111111111,\"#46039f\"],[0.2222222222222222,\"#7201a8\"],[0.3333333333333333,\"#9c179e\"],[0.4444444444444444,\"#bd3786\"],[0.5555555555555556,\"#d8576b\"],[0.6666666666666666,\"#ed7953\"],[0.7777777777777778,\"#fb9f3a\"],[0.8888888888888888,\"#fdca26\"],[1.0,\"#f0f921\"]],\"diverging\":[[0,\"#8e0152\"],[0.1,\"#c51b7d\"],[0.2,\"#de77ae\"],[0.3,\"#f1b6da\"],[0.4,\"#fde0ef\"],[0.5,\"#f7f7f7\"],[0.6,\"#e6f5d0\"],[0.7,\"#b8e186\"],[0.8,\"#7fbc41\"],[0.9,\"#4d9221\"],[1,\"#276419\"]]},\"xaxis\":{\"gridcolor\":\"white\",\"linecolor\":\"white\",\"ticks\":\"\",\"title\":{\"standoff\":15},\"zerolinecolor\":\"white\",\"automargin\":true,\"zerolinewidth\":2},\"yaxis\":{\"gridcolor\":\"white\",\"linecolor\":\"white\",\"ticks\":\"\",\"title\":{\"standoff\":15},\"zerolinecolor\":\"white\",\"automargin\":true,\"zerolinewidth\":2},\"scene\":{\"xaxis\":{\"backgroundcolor\":\"#E5ECF6\",\"gridcolor\":\"white\",\"linecolor\":\"white\",\"showbackground\":true,\"ticks\":\"\",\"zerolinecolor\":\"white\",\"gridwidth\":2},\"yaxis\":{\"backgroundcolor\":\"#E5ECF6\",\"gridcolor\":\"white\",\"linecolor\":\"white\",\"showbackground\":true,\"ticks\":\"\",\"zerolinecolor\":\"white\",\"gridwidth\":2},\"zaxis\":{\"backgroundcolor\":\"#E5ECF6\",\"gridcolor\":\"white\",\"linecolor\":\"white\",\"showbackground\":true,\"ticks\":\"\",\"zerolinecolor\":\"white\",\"gridwidth\":2}},\"shapedefaults\":{\"line\":{\"color\":\"#2a3f5f\"}},\"annotationdefaults\":{\"arrowcolor\":\"#2a3f5f\",\"arrowhead\":0,\"arrowwidth\":1},\"geo\":{\"bgcolor\":\"white\",\"landcolor\":\"#E5ECF6\",\"subunitcolor\":\"white\",\"showland\":true,\"showlakes\":true,\"lakecolor\":\"white\"},\"title\":{\"x\":0.05},\"mapbox\":{\"style\":\"light\"}}},\"map\":{\"domain\":{\"x\":[0.0,1.0],\"y\":[0.0,1.0]},\"center\":{\"lat\":15.235898641227305,\"lon\":-87.08920599836331},\"zoom\":10},\"legend\":{\"title\":{\"text\":\"texture\"},\"tracegroupgap\":0},\"margin\":{\"t\":5,\"l\":20,\"r\":20,\"b\":5},\"mapbox\":{\"center\":{\"lat\":15.235898641227305,\"lon\":-87.08920599836331},\"zoom\":10},\"geo\":{\"fitbounds\":\"locations\",\"visible\":false}},                        {\"responsive\": true}                    ).then(function(){\n",
              "                            \n",
              "var gd = document.getElementById('d6cb94c6-ce50-479b-b703-42be3989848e');\n",
              "var x = new MutationObserver(function (mutations, observer) {{\n",
              "        var display = window.getComputedStyle(gd).display;\n",
              "        if (!display || display === 'none') {{\n",
              "            console.log([gd, 'removed!']);\n",
              "            Plotly.purge(gd);\n",
              "            observer.disconnect();\n",
              "        }}\n",
              "}});\n",
              "\n",
              "// Listen for the removal of the full notebook cells\n",
              "var notebookContainer = gd.closest('#notebook-container');\n",
              "if (notebookContainer) {{\n",
              "    x.observe(notebookContainer, {childList: true});\n",
              "}}\n",
              "\n",
              "// Listen for the clearing of the current output cell\n",
              "var outputEl = gd.closest('.output');\n",
              "if (outputEl) {{\n",
              "    x.observe(outputEl, {childList: true});\n",
              "}}\n",
              "\n",
              "                        })                };                            </script>        </div>\n",
              "</body>\n",
              "</html>"
            ]
          },
          "metadata": {}
        }
      ],
      "source": [
        "## texture layer\n",
        "from spatialdata.gis_functions import xrarray_to_categorical_polygon\n",
        "import rioxarray\n",
        "import plotly.graph_objects as go\n",
        "\n",
        "## convert from tif to vector format\n",
        "textdata = rioxarray.open_rasterio(os.path.join(cm_sp._tmp_path, \"texture.tif\"))\n",
        "textdata = textdata.where(textdata < 1.79769313e38, np.nan)\n",
        "texture_geo = xrarray_to_categorical_polygon(textdata.isel(band=0), \"band_data\")\n",
        "texture_geo = texture_geo.rename(columns={\"band_data\": \"texture\"})\n",
        "texture_geo[\"texture\"] = texture_geo[\"texture\"].map(lambda x: TEXTURE_CLASSES[int(x)])\n",
        "\n",
        "texture_geo = texture_geo.to_crs('EPSG:4326')\n",
        "\n",
        "x = np.mean(texture_geo.get_coordinates().x.values)\n",
        "y = np.mean(texture_geo.get_coordinates().y.values)\n",
        "fig = px.choropleth_map(\n",
        "    texture_geo,\n",
        "    geojson=texture_geo,\n",
        "    color=\"texture\", locations=\"texture\", featureidkey=\"properties.texture\", opacity=0.5,\n",
        "    zoom=10, center={\"lat\": y, \"lon\": x},\n",
        ")\n",
        "fig.update_geos(fitbounds=\"locations\", visible=False)\n",
        "fig.update_layout(margin=dict(l=20, r=20, t=5, b=5))"
      ]
    },
    {
      "cell_type": "code",
      "execution_count": null,
      "metadata": {
        "colab": {
          "base_uri": "https://localhost:8080/",
          "height": 698
        },
        "id": "Jav00TLG7qje",
        "outputId": "25eb801a-0a76-4f77-cd74-321dcf696b13"
      },
      "outputs": [
        {
          "output_type": "stream",
          "name": "stdout",
          "text": [
            ".WTH\n"
          ]
        },
        {
          "output_type": "stream",
          "name": "stderr",
          "text": [
            "<ipython-input-10-63a003927c5c>:15: SettingWithCopyWarning:\n",
            "\n",
            "\n",
            "A value is trying to be set on a copy of a slice from a DataFrame.\n",
            "Try using .loc[row_indexer,col_indexer] = value instead\n",
            "\n",
            "See the caveats in the documentation: https://pandas.pydata.org/pandas-docs/stable/user_guide/indexing.html#returning-a-view-versus-a-copy\n",
            "\n"
          ]
        },
        {
          "output_type": "display_data",
          "data": {
            "text/html": [
              "<html>\n",
              "<head><meta charset=\"utf-8\" /></head>\n",
              "<body>\n",
              "    <div>            <script src=\"https://cdnjs.cloudflare.com/ajax/libs/mathjax/2.7.5/MathJax.js?config=TeX-AMS-MML_SVG\"></script><script type=\"text/javascript\">if (window.MathJax && window.MathJax.Hub && window.MathJax.Hub.Config) {window.MathJax.Hub.Config({SVG: {font: \"STIX-Web\"}});}</script>                <script type=\"text/javascript\">window.PlotlyConfig = {MathJaxConfig: 'local'};</script>\n",
              "        <script charset=\"utf-8\" src=\"https://cdn.plot.ly/plotly-2.35.2.min.js\"></script>                <div id=\"64215bde-f69c-43ec-a2ed-3d4e0ca494fd\" class=\"plotly-graph-div\" style=\"height:525px; width:100%;\"></div>            <script type=\"text/javascript\">                                    window.PLOTLYENV=window.PLOTLYENV || {};                                    if (document.getElementById(\"64215bde-f69c-43ec-a2ed-3d4e0ca494fd\")) {                    Plotly.newPlot(                        \"64215bde-f69c-43ec-a2ed-3d4e0ca494fd\",                        [{\"hovertemplate\":\"variable=TMIN\\u003cbr\\u003eyear=2001\\u003cbr\\u003emonthday=%{x}\\u003cbr\\u003evalue=%{y}\\u003cextra\\u003e\\u003c\\u002fextra\\u003e\",\"legendgroup\":\"TMIN\",\"line\":{\"color\":\"#636efa\",\"dash\":\"solid\"},\"marker\":{\"symbol\":\"circle\"},\"mode\":\"lines\",\"name\":\"TMIN\",\"orientation\":\"v\",\"showlegend\":true,\"x\":[\"Jan-01\",\"Jan-02\",\"Jan-03\",\"Jan-04\",\"Jan-05\",\"Jan-06\",\"Jan-07\",\"Jan-08\",\"Jan-09\",\"Jan-10\",\"Jan-11\",\"Jan-12\",\"Jan-13\",\"Jan-14\",\"Jan-15\",\"Jan-16\",\"Jan-17\",\"Jan-18\",\"Jan-19\",\"Jan-20\",\"Jan-21\",\"Jan-22\",\"Jan-23\",\"Jan-24\",\"Jan-25\",\"Jan-26\",\"Jan-27\",\"Jan-28\",\"Jan-29\",\"Jan-30\",\"Jan-31\",\"Feb-01\",\"Feb-02\",\"Feb-03\",\"Feb-04\",\"Feb-05\",\"Feb-06\",\"Feb-07\",\"Feb-08\",\"Feb-09\",\"Feb-10\",\"Feb-11\",\"Feb-12\",\"Feb-13\",\"Feb-14\",\"Feb-15\",\"Feb-16\",\"Feb-17\",\"Feb-18\",\"Feb-19\",\"Feb-20\",\"Feb-21\",\"Feb-22\",\"Feb-23\",\"Feb-24\",\"Feb-25\",\"Feb-26\",\"Feb-27\",\"Feb-28\",\"Mar-01\",\"Mar-02\",\"Mar-03\",\"Mar-04\",\"Mar-05\",\"Mar-06\",\"Mar-07\",\"Mar-08\",\"Mar-09\",\"Mar-10\",\"Mar-11\",\"Mar-12\",\"Mar-13\",\"Mar-14\",\"Mar-15\",\"Mar-16\",\"Mar-17\",\"Mar-18\",\"Mar-19\",\"Mar-20\",\"Mar-21\",\"Mar-22\",\"Mar-23\",\"Mar-24\",\"Mar-25\",\"Mar-26\",\"Mar-27\",\"Mar-28\",\"Mar-29\",\"Mar-30\",\"Mar-31\",\"Apr-01\",\"Apr-02\",\"Apr-03\",\"Apr-04\",\"Apr-05\",\"Apr-06\",\"Apr-07\",\"Apr-08\",\"Apr-09\",\"Apr-10\",\"Apr-11\",\"Apr-12\",\"Apr-13\",\"Apr-14\",\"Apr-15\",\"Apr-16\",\"Apr-17\",\"Apr-18\",\"Apr-19\",\"Apr-20\",\"Apr-21\",\"Apr-22\",\"Apr-23\",\"Apr-24\",\"Apr-25\",\"Apr-26\",\"Apr-27\",\"Apr-28\",\"Apr-29\",\"Apr-30\",\"May-01\",\"May-02\",\"May-03\",\"May-04\",\"May-05\",\"May-06\",\"May-07\",\"May-08\",\"May-09\",\"May-10\",\"May-11\",\"May-12\",\"May-13\",\"May-14\",\"May-15\",\"May-16\",\"May-17\",\"May-18\",\"May-19\",\"May-20\",\"May-21\",\"May-22\",\"May-23\",\"May-24\",\"May-25\",\"May-26\",\"May-27\",\"May-28\",\"May-29\",\"May-30\",\"May-31\",\"Jun-01\",\"Jun-02\",\"Jun-03\",\"Jun-04\",\"Jun-05\",\"Jun-06\",\"Jun-07\",\"Jun-08\",\"Jun-09\",\"Jun-10\",\"Jun-11\",\"Jun-12\",\"Jun-13\",\"Jun-14\",\"Jun-15\",\"Jun-16\",\"Jun-17\",\"Jun-18\",\"Jun-19\",\"Jun-20\",\"Jun-21\",\"Jun-22\",\"Jun-23\",\"Jun-24\",\"Jun-25\",\"Jun-26\",\"Jun-27\",\"Jun-28\",\"Jun-29\",\"Jun-30\",\"Jul-01\",\"Jul-02\",\"Jul-03\",\"Jul-04\",\"Jul-05\",\"Jul-06\",\"Jul-07\",\"Jul-08\",\"Jul-09\",\"Jul-10\",\"Jul-11\",\"Jul-12\",\"Jul-13\",\"Jul-14\",\"Jul-15\",\"Jul-16\",\"Jul-17\",\"Jul-18\",\"Jul-19\",\"Jul-20\",\"Jul-21\",\"Jul-22\",\"Jul-23\",\"Jul-24\",\"Jul-25\",\"Jul-26\",\"Jul-27\",\"Jul-28\",\"Jul-29\",\"Jul-30\",\"Jul-31\",\"Aug-01\",\"Aug-02\",\"Aug-03\",\"Aug-04\",\"Aug-05\",\"Aug-06\",\"Aug-07\",\"Aug-08\",\"Aug-09\",\"Aug-10\",\"Aug-11\",\"Aug-12\",\"Aug-13\",\"Aug-14\",\"Aug-15\",\"Aug-16\",\"Aug-17\",\"Aug-18\",\"Aug-19\",\"Aug-20\",\"Aug-21\",\"Aug-22\",\"Aug-23\",\"Aug-24\",\"Aug-25\",\"Aug-26\",\"Aug-27\",\"Aug-28\",\"Aug-29\",\"Aug-30\",\"Aug-31\",\"Sep-01\",\"Sep-02\",\"Sep-03\",\"Sep-04\",\"Sep-05\",\"Sep-06\",\"Sep-07\",\"Sep-08\",\"Sep-09\",\"Sep-10\",\"Sep-11\",\"Sep-12\",\"Sep-13\",\"Sep-14\",\"Sep-15\",\"Sep-16\",\"Sep-17\",\"Sep-18\",\"Sep-19\",\"Sep-20\",\"Sep-21\",\"Sep-22\",\"Sep-23\",\"Sep-24\",\"Sep-25\",\"Sep-26\",\"Sep-27\",\"Sep-28\",\"Sep-29\",\"Sep-30\",\"Oct-01\",\"Oct-02\",\"Oct-03\",\"Oct-04\",\"Oct-05\",\"Oct-06\",\"Oct-07\",\"Oct-08\",\"Oct-09\",\"Oct-10\",\"Oct-11\",\"Oct-12\",\"Oct-13\",\"Oct-14\",\"Oct-15\",\"Oct-16\",\"Oct-17\",\"Oct-18\",\"Oct-19\",\"Oct-20\",\"Oct-21\",\"Oct-22\",\"Oct-23\",\"Oct-24\",\"Oct-25\",\"Oct-26\",\"Oct-27\",\"Oct-28\",\"Oct-29\",\"Oct-30\",\"Oct-31\",\"Nov-01\",\"Nov-02\",\"Nov-03\",\"Nov-04\",\"Nov-05\",\"Nov-06\",\"Nov-07\",\"Nov-08\",\"Nov-09\",\"Nov-10\",\"Nov-11\",\"Nov-12\",\"Nov-13\",\"Nov-14\",\"Nov-15\",\"Nov-16\",\"Nov-17\",\"Nov-18\",\"Nov-19\",\"Nov-20\",\"Nov-21\",\"Nov-22\",\"Nov-23\",\"Nov-24\",\"Nov-25\",\"Nov-26\",\"Nov-27\",\"Nov-28\",\"Nov-29\",\"Nov-30\",\"Dec-01\",\"Dec-02\",\"Dec-03\",\"Dec-04\",\"Dec-05\",\"Dec-06\",\"Dec-07\",\"Dec-08\",\"Dec-09\",\"Dec-10\",\"Dec-11\",\"Dec-12\",\"Dec-13\",\"Dec-14\",\"Dec-15\",\"Dec-16\",\"Dec-17\",\"Dec-18\",\"Dec-19\",\"Dec-20\",\"Dec-21\",\"Dec-22\",\"Dec-23\",\"Dec-24\",\"Dec-25\",\"Dec-26\",\"Dec-27\",\"Dec-28\",\"Dec-29\",\"Dec-30\",\"Dec-31\"],\"xaxis\":\"x\",\"y\":[19.5,18.6,16.2,18.4,13.7,18.1,17.3,16.8,19.2,18.8,15.5,17.0,18.7,18.6,14.6,16.8,18.1,14.5,16.8,18.1,18.9,17.0,17.9,16.6,18.5,18.2,17.2,19.3,17.3,15.1,18.7,19.3,16.7,19.4,19.0,18.7,20.2,19.3,18.5,18.3,18.8,14.3,17.9,15.3,17.8,17.4,18.1,16.2,19.7,16.8,17.5,17.5,16.6,16.1,16.5,18.2,20.2,18.9,16.0,12.8,18.8,17.1,18.4,16.2,18.8,17.5,15.7,15.5,18.0,16.7,14.7,13.7,16.5,19.4,15.0,18.3,16.2,14.9,19.1,17.6,17.0,13.0,15.0,16.8,17.1,15.0,19.2,16.7,19.7,18.6,17.4,19.3,15.7,17.3,17.1,16.0,15.2,16.5,19.4,18.1,15.6,18.1,18.3,18.9,18.3,18.0,16.0,16.9,18.1,15.3,13.5,15.0,15.6,19.2,15.5,19.0,16.4,17.6,19.5,18.4,17.1,15.7,18.9,18.4,17.9,16.6,16.2,19.2,16.9,14.5,18.4,18.5,19.7,20.2,17.5,18.7,19.1,18.3,18.6,15.7,16.2,15.3,14.6,15.1,18.9,19.0,17.6,14.8,18.2,18.7,18.7,14.8,14.5,19.0,15.0,18.1,15.8,17.2,15.9,17.1,18.0,18.2,16.6,17.8,15.6,18.7,14.6,13.8,17.4,18.6,18.0,18.0,17.9,16.1,19.4,18.7,16.2,14.6,15.8,13.2,17.3,18.1,18.1,17.1,17.7,16.4,16.4,19.3,18.7,18.4,19.1,16.2,13.7,18.6,16.9,18.5,18.1,13.7,16.8,18.4,18.7,17.7,17.9,15.9,17.7,18.1,19.2,13.6,18.8,18.8,18.6,16.7,13.7,15.3,19.2,18.6,19.6,15.8,18.1,19.6,19.1,18.7,16.2,17.8,19.3,18.4,17.3,18.8,17.9,16.7,19.1,18.6,17.6,19.2,19.0,15.3,18.2,17.1,18.9,17.2,17.9,15.0,15.6,16.5,18.2,17.5,15.6,19.5,18.6,19.5,17.7,18.8,15.6,19.6,18.3,13.1,19.1,14.6,16.3,18.3,19.1,17.7,15.9,18.2,16.4,17.6,16.9,19.3,19.9,18.6,18.7,17.7,17.7,17.0,15.7,17.4,16.7,17.6,18.0,18.3,18.1,17.4,16.4,16.2,13.7,15.1,15.1,18.8,16.9,15.5,18.6,16.3,14.2,19.4,19.0,15.9,18.8,13.6,18.4,18.9,17.6,18.4,18.4,18.0,16.0,18.5,18.5,15.8,16.8,16.1,18.4,17.4,16.6,17.9,17.8,16.6,18.7,16.4,17.2,18.5,17.4,16.8,19.5,18.4,19.4,19.1,19.2,17.6,15.3,16.1,14.6,17.7,14.1,17.5,17.7,18.4,18.6,15.8,17.4,17.3,14.2,17.7,19.4,18.2,17.9,16.4,18.7,11.9,13.2,16.7,15.7,19.4,16.7,16.1,17.9,16.0,19.1,16.1,18.7,18.4,17.8,15.9,16.5,18.9,17.8],\"yaxis\":\"y\",\"type\":\"scatter\"},{\"hovertemplate\":\"variable=TMAX\\u003cbr\\u003eyear=2001\\u003cbr\\u003emonthday=%{x}\\u003cbr\\u003evalue=%{y}\\u003cextra\\u003e\\u003c\\u002fextra\\u003e\",\"legendgroup\":\"TMAX\",\"line\":{\"color\":\"#EF553B\",\"dash\":\"solid\"},\"marker\":{\"symbol\":\"circle\"},\"mode\":\"lines\",\"name\":\"TMAX\",\"orientation\":\"v\",\"showlegend\":true,\"x\":[\"Jan-01\",\"Jan-02\",\"Jan-03\",\"Jan-04\",\"Jan-05\",\"Jan-06\",\"Jan-07\",\"Jan-08\",\"Jan-09\",\"Jan-10\",\"Jan-11\",\"Jan-12\",\"Jan-13\",\"Jan-14\",\"Jan-15\",\"Jan-16\",\"Jan-17\",\"Jan-18\",\"Jan-19\",\"Jan-20\",\"Jan-21\",\"Jan-22\",\"Jan-23\",\"Jan-24\",\"Jan-25\",\"Jan-26\",\"Jan-27\",\"Jan-28\",\"Jan-29\",\"Jan-30\",\"Jan-31\",\"Feb-01\",\"Feb-02\",\"Feb-03\",\"Feb-04\",\"Feb-05\",\"Feb-06\",\"Feb-07\",\"Feb-08\",\"Feb-09\",\"Feb-10\",\"Feb-11\",\"Feb-12\",\"Feb-13\",\"Feb-14\",\"Feb-15\",\"Feb-16\",\"Feb-17\",\"Feb-18\",\"Feb-19\",\"Feb-20\",\"Feb-21\",\"Feb-22\",\"Feb-23\",\"Feb-24\",\"Feb-25\",\"Feb-26\",\"Feb-27\",\"Feb-28\",\"Mar-01\",\"Mar-02\",\"Mar-03\",\"Mar-04\",\"Mar-05\",\"Mar-06\",\"Mar-07\",\"Mar-08\",\"Mar-09\",\"Mar-10\",\"Mar-11\",\"Mar-12\",\"Mar-13\",\"Mar-14\",\"Mar-15\",\"Mar-16\",\"Mar-17\",\"Mar-18\",\"Mar-19\",\"Mar-20\",\"Mar-21\",\"Mar-22\",\"Mar-23\",\"Mar-24\",\"Mar-25\",\"Mar-26\",\"Mar-27\",\"Mar-28\",\"Mar-29\",\"Mar-30\",\"Mar-31\",\"Apr-01\",\"Apr-02\",\"Apr-03\",\"Apr-04\",\"Apr-05\",\"Apr-06\",\"Apr-07\",\"Apr-08\",\"Apr-09\",\"Apr-10\",\"Apr-11\",\"Apr-12\",\"Apr-13\",\"Apr-14\",\"Apr-15\",\"Apr-16\",\"Apr-17\",\"Apr-18\",\"Apr-19\",\"Apr-20\",\"Apr-21\",\"Apr-22\",\"Apr-23\",\"Apr-24\",\"Apr-25\",\"Apr-26\",\"Apr-27\",\"Apr-28\",\"Apr-29\",\"Apr-30\",\"May-01\",\"May-02\",\"May-03\",\"May-04\",\"May-05\",\"May-06\",\"May-07\",\"May-08\",\"May-09\",\"May-10\",\"May-11\",\"May-12\",\"May-13\",\"May-14\",\"May-15\",\"May-16\",\"May-17\",\"May-18\",\"May-19\",\"May-20\",\"May-21\",\"May-22\",\"May-23\",\"May-24\",\"May-25\",\"May-26\",\"May-27\",\"May-28\",\"May-29\",\"May-30\",\"May-31\",\"Jun-01\",\"Jun-02\",\"Jun-03\",\"Jun-04\",\"Jun-05\",\"Jun-06\",\"Jun-07\",\"Jun-08\",\"Jun-09\",\"Jun-10\",\"Jun-11\",\"Jun-12\",\"Jun-13\",\"Jun-14\",\"Jun-15\",\"Jun-16\",\"Jun-17\",\"Jun-18\",\"Jun-19\",\"Jun-20\",\"Jun-21\",\"Jun-22\",\"Jun-23\",\"Jun-24\",\"Jun-25\",\"Jun-26\",\"Jun-27\",\"Jun-28\",\"Jun-29\",\"Jun-30\",\"Jul-01\",\"Jul-02\",\"Jul-03\",\"Jul-04\",\"Jul-05\",\"Jul-06\",\"Jul-07\",\"Jul-08\",\"Jul-09\",\"Jul-10\",\"Jul-11\",\"Jul-12\",\"Jul-13\",\"Jul-14\",\"Jul-15\",\"Jul-16\",\"Jul-17\",\"Jul-18\",\"Jul-19\",\"Jul-20\",\"Jul-21\",\"Jul-22\",\"Jul-23\",\"Jul-24\",\"Jul-25\",\"Jul-26\",\"Jul-27\",\"Jul-28\",\"Jul-29\",\"Jul-30\",\"Jul-31\",\"Aug-01\",\"Aug-02\",\"Aug-03\",\"Aug-04\",\"Aug-05\",\"Aug-06\",\"Aug-07\",\"Aug-08\",\"Aug-09\",\"Aug-10\",\"Aug-11\",\"Aug-12\",\"Aug-13\",\"Aug-14\",\"Aug-15\",\"Aug-16\",\"Aug-17\",\"Aug-18\",\"Aug-19\",\"Aug-20\",\"Aug-21\",\"Aug-22\",\"Aug-23\",\"Aug-24\",\"Aug-25\",\"Aug-26\",\"Aug-27\",\"Aug-28\",\"Aug-29\",\"Aug-30\",\"Aug-31\",\"Sep-01\",\"Sep-02\",\"Sep-03\",\"Sep-04\",\"Sep-05\",\"Sep-06\",\"Sep-07\",\"Sep-08\",\"Sep-09\",\"Sep-10\",\"Sep-11\",\"Sep-12\",\"Sep-13\",\"Sep-14\",\"Sep-15\",\"Sep-16\",\"Sep-17\",\"Sep-18\",\"Sep-19\",\"Sep-20\",\"Sep-21\",\"Sep-22\",\"Sep-23\",\"Sep-24\",\"Sep-25\",\"Sep-26\",\"Sep-27\",\"Sep-28\",\"Sep-29\",\"Sep-30\",\"Oct-01\",\"Oct-02\",\"Oct-03\",\"Oct-04\",\"Oct-05\",\"Oct-06\",\"Oct-07\",\"Oct-08\",\"Oct-09\",\"Oct-10\",\"Oct-11\",\"Oct-12\",\"Oct-13\",\"Oct-14\",\"Oct-15\",\"Oct-16\",\"Oct-17\",\"Oct-18\",\"Oct-19\",\"Oct-20\",\"Oct-21\",\"Oct-22\",\"Oct-23\",\"Oct-24\",\"Oct-25\",\"Oct-26\",\"Oct-27\",\"Oct-28\",\"Oct-29\",\"Oct-30\",\"Oct-31\",\"Nov-01\",\"Nov-02\",\"Nov-03\",\"Nov-04\",\"Nov-05\",\"Nov-06\",\"Nov-07\",\"Nov-08\",\"Nov-09\",\"Nov-10\",\"Nov-11\",\"Nov-12\",\"Nov-13\",\"Nov-14\",\"Nov-15\",\"Nov-16\",\"Nov-17\",\"Nov-18\",\"Nov-19\",\"Nov-20\",\"Nov-21\",\"Nov-22\",\"Nov-23\",\"Nov-24\",\"Nov-25\",\"Nov-26\",\"Nov-27\",\"Nov-28\",\"Nov-29\",\"Nov-30\",\"Dec-01\",\"Dec-02\",\"Dec-03\",\"Dec-04\",\"Dec-05\",\"Dec-06\",\"Dec-07\",\"Dec-08\",\"Dec-09\",\"Dec-10\",\"Dec-11\",\"Dec-12\",\"Dec-13\",\"Dec-14\",\"Dec-15\",\"Dec-16\",\"Dec-17\",\"Dec-18\",\"Dec-19\",\"Dec-20\",\"Dec-21\",\"Dec-22\",\"Dec-23\",\"Dec-24\",\"Dec-25\",\"Dec-26\",\"Dec-27\",\"Dec-28\",\"Dec-29\",\"Dec-30\",\"Dec-31\"],\"xaxis\":\"x\",\"y\":[31.3,27.1,18.0,24.2,30.2,30.5,28.6,29.1,29.9,22.2,23.7,22.2,24.8,29.7,26.0,21.4,25.8,17.5,23.1,24.9,30.1,29.5,24.9,29.6,22.8,30.2,27.7,22.5,25.3,27.1,24.5,30.3,27.9,22.3,30.0,22.0,31.4,31.2,28.4,28.6,26.2,26.4,31.9,25.5,24.3,26.9,25.0,22.2,23.8,27.9,24.4,30.1,29.5,25.0,21.7,32.1,26.5,21.2,31.0,27.0,28.6,30.0,27.9,29.7,25.1,27.6,28.4,22.7,31.0,28.8,29.0,25.0,23.9,19.8,24.0,22.3,27.2,27.7,26.4,26.7,29.8,28.4,29.4,33.1,26.5,28.6,30.7,29.3,31.2,29.8,28.8,27.2,31.1,18.3,31.8,31.3,28.8,28.1,30.9,27.9,26.9,24.5,21.8,26.7,28.4,26.1,25.3,28.1,24.3,32.5,32.2,28.7,31.1,29.0,29.9,23.7,27.9,28.6,27.0,28.3,24.3,28.5,30.1,27.0,31.0,30.3,19.7,28.2,30.4,22.3,28.5,28.0,31.4,30.4,28.6,19.7,30.6,30.7,30.9,27.4,22.0,29.0,30.8,32.7,28.4,28.2,30.6,28.7,23.3,22.4,24.3,29.1,22.2,29.7,28.8,24.0,26.8,24.4,29.0,30.0,31.0,31.7,27.6,23.4,29.6,25.1,31.4,30.0,29.3,23.6,21.3,26.2,27.0,21.9,19.9,29.0,31.1,30.4,30.1,26.1,24.7,26.8,26.1,28.5,25.6,24.0,20.7,29.0,32.8,28.6,33.3,26.2,20.2,26.8,27.0,24.3,22.4,30.5,28.1,21.0,28.5,31.5,20.0,29.5,29.1,31.2,28.2,23.5,26.7,33.7,29.8,24.2,26.7,25.8,29.0,31.4,31.2,24.4,22.3,23.9,30.2,19.7,23.9,27.5,25.8,22.3,21.6,24.4,21.8,25.0,25.7,27.3,29.0,27.1,27.4,29.1,29.3,29.5,30.4,24.4,31.2,30.0,29.8,29.0,28.8,30.5,31.7,29.1,28.6,29.4,19.6,30.6,24.2,22.3,27.9,22.3,28.2,23.4,30.0,21.2,30.4,26.2,30.9,30.2,28.7,29.2,24.7,22.7,27.5,28.5,22.1,28.0,23.4,28.2,21.8,28.3,28.6,29.5,29.0,28.5,25.6,28.3,21.4,30.9,27.5,19.2,27.3,21.5,25.7,30.6,28.2,21.9,28.1,30.4,24.0,27.7,20.1,22.3,25.2,30.9,23.3,29.9,28.8,23.3,25.2,25.4,27.9,22.1,24.4,31.7,28.5,20.1,29.5,31.4,24.0,25.0,29.4,21.2,28.6,20.0,27.1,27.9,30.6,30.1,29.2,27.3,29.3,24.9,24.2,25.5,25.3,26.9,23.7,23.0,19.6,29.3,20.8,18.7,22.4,28.6,29.6,21.7,26.4,29.2,31.4,25.4,28.7,28.4,22.0,27.4,31.2,25.3,28.5,30.0,29.5,28.0,20.0,27.9,27.5,30.5,23.5,22.2,29.6,22.9,22.7],\"yaxis\":\"y\",\"type\":\"scatter\"},{\"alignmentgroup\":\"True\",\"hovertemplate\":\"Variable=Precipitation\\u003cbr\\u003eyear=2001\\u003cbr\\u003eDate=%{x}\\u003cbr\\u003ePrecipitation (mm) \\u003cbr\\u003eTemperature (°C)=%{y}\\u003cextra\\u003e\\u003c\\u002fextra\\u003e\",\"legendgroup\":\"Precipitation\",\"marker\":{\"color\":\"#636efa\",\"pattern\":{\"shape\":\"\"}},\"name\":\"Precipitation\",\"offsetgroup\":\"Precipitation\",\"orientation\":\"v\",\"showlegend\":true,\"textposition\":\"auto\",\"x\":[\"Jan-01\",\"Jan-02\",\"Jan-03\",\"Jan-04\",\"Jan-05\",\"Jan-06\",\"Jan-07\",\"Jan-08\",\"Jan-09\",\"Jan-10\",\"Jan-11\",\"Jan-12\",\"Jan-13\",\"Jan-14\",\"Jan-15\",\"Jan-16\",\"Jan-17\",\"Jan-18\",\"Jan-19\",\"Jan-20\",\"Jan-21\",\"Jan-22\",\"Jan-23\",\"Jan-24\",\"Jan-25\",\"Jan-26\",\"Jan-27\",\"Jan-28\",\"Jan-29\",\"Jan-30\",\"Jan-31\",\"Feb-01\",\"Feb-02\",\"Feb-03\",\"Feb-04\",\"Feb-05\",\"Feb-06\",\"Feb-07\",\"Feb-08\",\"Feb-09\",\"Feb-10\",\"Feb-11\",\"Feb-12\",\"Feb-13\",\"Feb-14\",\"Feb-15\",\"Feb-16\",\"Feb-17\",\"Feb-18\",\"Feb-19\",\"Feb-20\",\"Feb-21\",\"Feb-22\",\"Feb-23\",\"Feb-24\",\"Feb-25\",\"Feb-26\",\"Feb-27\",\"Feb-28\",\"Mar-01\",\"Mar-02\",\"Mar-03\",\"Mar-04\",\"Mar-05\",\"Mar-06\",\"Mar-07\",\"Mar-08\",\"Mar-09\",\"Mar-10\",\"Mar-11\",\"Mar-12\",\"Mar-13\",\"Mar-14\",\"Mar-15\",\"Mar-16\",\"Mar-17\",\"Mar-18\",\"Mar-19\",\"Mar-20\",\"Mar-21\",\"Mar-22\",\"Mar-23\",\"Mar-24\",\"Mar-25\",\"Mar-26\",\"Mar-27\",\"Mar-28\",\"Mar-29\",\"Mar-30\",\"Mar-31\",\"Apr-01\",\"Apr-02\",\"Apr-03\",\"Apr-04\",\"Apr-05\",\"Apr-06\",\"Apr-07\",\"Apr-08\",\"Apr-09\",\"Apr-10\",\"Apr-11\",\"Apr-12\",\"Apr-13\",\"Apr-14\",\"Apr-15\",\"Apr-16\",\"Apr-17\",\"Apr-18\",\"Apr-19\",\"Apr-20\",\"Apr-21\",\"Apr-22\",\"Apr-23\",\"Apr-24\",\"Apr-25\",\"Apr-26\",\"Apr-27\",\"Apr-28\",\"Apr-29\",\"Apr-30\",\"May-01\",\"May-02\",\"May-03\",\"May-04\",\"May-05\",\"May-06\",\"May-07\",\"May-08\",\"May-09\",\"May-10\",\"May-11\",\"May-12\",\"May-13\",\"May-14\",\"May-15\",\"May-16\",\"May-17\",\"May-18\",\"May-19\",\"May-20\",\"May-21\",\"May-22\",\"May-23\",\"May-24\",\"May-25\",\"May-26\",\"May-27\",\"May-28\",\"May-29\",\"May-30\",\"May-31\",\"Jun-01\",\"Jun-02\",\"Jun-03\",\"Jun-04\",\"Jun-05\",\"Jun-06\",\"Jun-07\",\"Jun-08\",\"Jun-09\",\"Jun-10\",\"Jun-11\",\"Jun-12\",\"Jun-13\",\"Jun-14\",\"Jun-15\",\"Jun-16\",\"Jun-17\",\"Jun-18\",\"Jun-19\",\"Jun-20\",\"Jun-21\",\"Jun-22\",\"Jun-23\",\"Jun-24\",\"Jun-25\",\"Jun-26\",\"Jun-27\",\"Jun-28\",\"Jun-29\",\"Jun-30\",\"Jul-01\",\"Jul-02\",\"Jul-03\",\"Jul-04\",\"Jul-05\",\"Jul-06\",\"Jul-07\",\"Jul-08\",\"Jul-09\",\"Jul-10\",\"Jul-11\",\"Jul-12\",\"Jul-13\",\"Jul-14\",\"Jul-15\",\"Jul-16\",\"Jul-17\",\"Jul-18\",\"Jul-19\",\"Jul-20\",\"Jul-21\",\"Jul-22\",\"Jul-23\",\"Jul-24\",\"Jul-25\",\"Jul-26\",\"Jul-27\",\"Jul-28\",\"Jul-29\",\"Jul-30\",\"Jul-31\",\"Aug-01\",\"Aug-02\",\"Aug-03\",\"Aug-04\",\"Aug-05\",\"Aug-06\",\"Aug-07\",\"Aug-08\",\"Aug-09\",\"Aug-10\",\"Aug-11\",\"Aug-12\",\"Aug-13\",\"Aug-14\",\"Aug-15\",\"Aug-16\",\"Aug-17\",\"Aug-18\",\"Aug-19\",\"Aug-20\",\"Aug-21\",\"Aug-22\",\"Aug-23\",\"Aug-24\",\"Aug-25\",\"Aug-26\",\"Aug-27\",\"Aug-28\",\"Aug-29\",\"Aug-30\",\"Aug-31\",\"Sep-01\",\"Sep-02\",\"Sep-03\",\"Sep-04\",\"Sep-05\",\"Sep-06\",\"Sep-07\",\"Sep-08\",\"Sep-09\",\"Sep-10\",\"Sep-11\",\"Sep-12\",\"Sep-13\",\"Sep-14\",\"Sep-15\",\"Sep-16\",\"Sep-17\",\"Sep-18\",\"Sep-19\",\"Sep-20\",\"Sep-21\",\"Sep-22\",\"Sep-23\",\"Sep-24\",\"Sep-25\",\"Sep-26\",\"Sep-27\",\"Sep-28\",\"Sep-29\",\"Sep-30\",\"Oct-01\",\"Oct-02\",\"Oct-03\",\"Oct-04\",\"Oct-05\",\"Oct-06\",\"Oct-07\",\"Oct-08\",\"Oct-09\",\"Oct-10\",\"Oct-11\",\"Oct-12\",\"Oct-13\",\"Oct-14\",\"Oct-15\",\"Oct-16\",\"Oct-17\",\"Oct-18\",\"Oct-19\",\"Oct-20\",\"Oct-21\",\"Oct-22\",\"Oct-23\",\"Oct-24\",\"Oct-25\",\"Oct-26\",\"Oct-27\",\"Oct-28\",\"Oct-29\",\"Oct-30\",\"Oct-31\",\"Nov-01\",\"Nov-02\",\"Nov-03\",\"Nov-04\",\"Nov-05\",\"Nov-06\",\"Nov-07\",\"Nov-08\",\"Nov-09\",\"Nov-10\",\"Nov-11\",\"Nov-12\",\"Nov-13\",\"Nov-14\",\"Nov-15\",\"Nov-16\",\"Nov-17\",\"Nov-18\",\"Nov-19\",\"Nov-20\",\"Nov-21\",\"Nov-22\",\"Nov-23\",\"Nov-24\",\"Nov-25\",\"Nov-26\",\"Nov-27\",\"Nov-28\",\"Nov-29\",\"Nov-30\",\"Dec-01\",\"Dec-02\",\"Dec-03\",\"Dec-04\",\"Dec-05\",\"Dec-06\",\"Dec-07\",\"Dec-08\",\"Dec-09\",\"Dec-10\",\"Dec-11\",\"Dec-12\",\"Dec-13\",\"Dec-14\",\"Dec-15\",\"Dec-16\",\"Dec-17\",\"Dec-18\",\"Dec-19\",\"Dec-20\",\"Dec-21\",\"Dec-22\",\"Dec-23\",\"Dec-24\",\"Dec-25\",\"Dec-26\",\"Dec-27\",\"Dec-28\",\"Dec-29\",\"Dec-30\",\"Dec-31\"],\"xaxis\":\"x\",\"y\":[\"0.3\",\"0.0\",\"0.0\",\"0.0\",\"0.0\",\"3.4\",\"0.0\",\"0.0\",\"6.1\",\"0.0\",\"0.0\",\"0.0\",\"0.0\",\"5.6\",\"0.0\",\"11.8\",\"0.0\",\"21.7\",\"0.0\",\"0.6\",\"0.0\",\"16.8\",\"19.6\",\"0.0\",\"1.2\",\"10.3\",\"0.0\",\"32.4\",\"0.0\",\"0.0\",\"0.0\",\"0.0\",\"1.1\",\"9.7\",\"6.4\",\"0.0\",\"0.0\",\"0.0\",\"0.0\",\"0.3\",\"0.0\",\"0.0\",\"0.0\",\"0.0\",\"0.0\",\"0.0\",\"0.0\",\"6.6\",\"0.0\",\"0.0\",\"0.0\",\"0.7\",\"0.0\",\"0.0\",\"0.0\",\"0.0\",\"0.0\",\"0.0\",\"0.0\",\"0.0\",\"0.0\",\"5.9\",\"10.9\",\"0.2\",\"0.0\",\"7.1\",\"0.0\",\"0.0\",\"0.0\",\"14.7\",\"0.0\",\"5.0\",\"5.0\",\"0.0\",\"8.5\",\"0.0\",\"0.0\",\"5.3\",\"8.9\",\"0.0\",\"15.1\",\"0.0\",\"0.0\",\"18.5\",\"1.2\",\"0.0\",\"0.0\",\"0.0\",\"0.0\",\"0.0\",\"0.0\",\"0.0\",\"0.0\",\"5.6\",\"0.4\",\"36.6\",\"0.0\",\"0.0\",\"4.7\",\"0.0\",\"44.9\",\"0.0\",\"5.1\",\"22.2\",\"0.0\",\"0.0\",\"18.4\",\"0.0\",\"3.2\",\"9.5\",\"8.4\",\"0.0\",\"0.0\",\"0.0\",\"0.0\",\"0.0\",\"0.0\",\"0.0\",\"34.6\",\"0.0\",\"11.8\",\"0.0\",\"0.0\",\"13.2\",\"0.0\",\"0.0\",\"0.0\",\"0.0\",\"0.0\",\"0.0\",\"0.0\",\"0.0\",\"0.1\",\"0.0\",\"0.0\",\"0.0\",\"0.0\",\"0.0\",\"0.0\",\"0.0\",\"0.0\",\"9.1\",\"0.0\",\"0.0\",\"0.0\",\"5.1\",\"0.0\",\"0.0\",\"0.0\",\"0.2\",\"0.0\",\"0.0\",\"0.0\",\"0.0\",\"5.3\",\"0.0\",\"0.0\",\"8.6\",\"0.0\",\"0.1\",\"0.0\",\"0.0\",\"11.7\",\"0.0\",\"4.2\",\"5.3\",\"0.0\",\"0.0\",\"1.6\",\"0.0\",\"0.0\",\"0.1\",\"0.0\",\"0.0\",\"0.0\",\"33.2\",\"0.0\",\"0.0\",\"7.7\",\"4.8\",\"0.0\",\"7.6\",\"0.0\",\"0.0\",\"0.0\",\"0.0\",\"0.0\",\"0.0\",\"0.0\",\"0.0\",\"0.0\",\"0.0\",\"0.0\",\"4.0\",\"0.0\",\"7.0\",\"0.0\",\"0.0\",\"0.0\",\"0.0\",\"0.0\",\"0.0\",\"0.0\",\"0.0\",\"8.5\",\"10.0\",\"11.9\",\"0.0\",\"0.0\",\"0.0\",\"0.0\",\"0.0\",\"0.0\",\"4.3\",\"0.0\",\"0.0\",\"5.6\",\"2.1\",\"1.0\",\"0.0\",\"0.0\",\"0.0\",\"21.7\",\"0.0\",\"0.0\",\"12.9\",\"0.0\",\"0.1\",\"0.0\",\"0.9\",\"0.0\",\"0.0\",\"0.1\",\"0.0\",\"0.0\",\"0.0\",\"0.0\",\"0.0\",\"0.0\",\"1.9\",\"0.0\",\"0.0\",\"5.8\",\"0.0\",\"58.8\",\"0.0\",\"0.0\",\"0.0\",\"0.0\",\"26.6\",\"2.3\",\"3.4\",\"0.0\",\"0.0\",\"0.0\",\"3.8\",\"0.9\",\"0.3\",\"0.0\",\"0.0\",\"1.3\",\"0.0\",\"4.9\",\"0.0\",\"0.4\",\"0.0\",\"94.9\",\"0.1\",\"0.0\",\"0.0\",\"6.8\",\"1.1\",\"0.0\",\"2.3\",\"0.1\",\"0.0\",\"1.7\",\"0.0\",\"0.0\",\"4.8\",\"0.0\",\"15.9\",\"0.4\",\"2.5\",\"0.9\",\"2.3\",\"0.0\",\"18.1\",\"0.0\",\"7.6\",\"0.0\",\"0.6\",\"0.0\",\"22.7\",\"0.0\",\"0.0\",\"11.9\",\"0.0\",\"0.0\",\"0.0\",\"0.0\",\"0.0\",\"0.0\",\"2.7\",\"6.0\",\"0.0\",\"0.0\",\"2.7\",\"0.0\",\"0.0\",\"0.8\",\"0.0\",\"10.1\",\"0.0\",\"3.4\",\"0.0\",\"0.0\",\"10.4\",\"0.0\",\"0.0\",\"0.0\",\"0.0\",\"0.0\",\"0.0\",\"0.0\",\"0.0\",\"0.0\",\"40.0\",\"0.7\",\"1.8\",\"15.9\",\"0.0\",\"9.4\",\"0.0\",\"0.0\",\"6.9\",\"0.0\",\"7.8\",\"0.0\",\"2.9\",\"0.0\",\"0.0\",\"0.0\",\"0.0\",\"4.4\",\"0.0\",\"0.0\",\"0.0\",\"0.0\",\"5.0\",\"0.0\",\"0.0\",\"0.0\",\"0.0\",\"0.0\",\"0.0\",\"0.0\",\"5.8\",\"0.0\",\"0.0\",\"0.0\",\"0.0\",\"0.0\",\"11.2\",\"0.4\"],\"yaxis\":\"y\",\"type\":\"bar\"}],                        {\"barmode\":\"relative\",\"legend\":{\"title\":{\"text\":\"Variable\"},\"tracegroupgap\":0},\"margin\":{\"t\":60},\"template\":{\"data\":{\"barpolar\":[{\"marker\":{\"line\":{\"color\":\"#E5ECF6\",\"width\":0.5},\"pattern\":{\"fillmode\":\"overlay\",\"size\":10,\"solidity\":0.2}},\"type\":\"barpolar\"}],\"bar\":[{\"error_x\":{\"color\":\"#2a3f5f\"},\"error_y\":{\"color\":\"#2a3f5f\"},\"marker\":{\"line\":{\"color\":\"#E5ECF6\",\"width\":0.5},\"pattern\":{\"fillmode\":\"overlay\",\"size\":10,\"solidity\":0.2}},\"type\":\"bar\"}],\"carpet\":[{\"aaxis\":{\"endlinecolor\":\"#2a3f5f\",\"gridcolor\":\"white\",\"linecolor\":\"white\",\"minorgridcolor\":\"white\",\"startlinecolor\":\"#2a3f5f\"},\"baxis\":{\"endlinecolor\":\"#2a3f5f\",\"gridcolor\":\"white\",\"linecolor\":\"white\",\"minorgridcolor\":\"white\",\"startlinecolor\":\"#2a3f5f\"},\"type\":\"carpet\"}],\"choropleth\":[{\"colorbar\":{\"outlinewidth\":0,\"ticks\":\"\"},\"type\":\"choropleth\"}],\"contourcarpet\":[{\"colorbar\":{\"outlinewidth\":0,\"ticks\":\"\"},\"type\":\"contourcarpet\"}],\"contour\":[{\"colorbar\":{\"outlinewidth\":0,\"ticks\":\"\"},\"colorscale\":[[0.0,\"#0d0887\"],[0.1111111111111111,\"#46039f\"],[0.2222222222222222,\"#7201a8\"],[0.3333333333333333,\"#9c179e\"],[0.4444444444444444,\"#bd3786\"],[0.5555555555555556,\"#d8576b\"],[0.6666666666666666,\"#ed7953\"],[0.7777777777777778,\"#fb9f3a\"],[0.8888888888888888,\"#fdca26\"],[1.0,\"#f0f921\"]],\"type\":\"contour\"}],\"heatmapgl\":[{\"colorbar\":{\"outlinewidth\":0,\"ticks\":\"\"},\"colorscale\":[[0.0,\"#0d0887\"],[0.1111111111111111,\"#46039f\"],[0.2222222222222222,\"#7201a8\"],[0.3333333333333333,\"#9c179e\"],[0.4444444444444444,\"#bd3786\"],[0.5555555555555556,\"#d8576b\"],[0.6666666666666666,\"#ed7953\"],[0.7777777777777778,\"#fb9f3a\"],[0.8888888888888888,\"#fdca26\"],[1.0,\"#f0f921\"]],\"type\":\"heatmapgl\"}],\"heatmap\":[{\"colorbar\":{\"outlinewidth\":0,\"ticks\":\"\"},\"colorscale\":[[0.0,\"#0d0887\"],[0.1111111111111111,\"#46039f\"],[0.2222222222222222,\"#7201a8\"],[0.3333333333333333,\"#9c179e\"],[0.4444444444444444,\"#bd3786\"],[0.5555555555555556,\"#d8576b\"],[0.6666666666666666,\"#ed7953\"],[0.7777777777777778,\"#fb9f3a\"],[0.8888888888888888,\"#fdca26\"],[1.0,\"#f0f921\"]],\"type\":\"heatmap\"}],\"histogram2dcontour\":[{\"colorbar\":{\"outlinewidth\":0,\"ticks\":\"\"},\"colorscale\":[[0.0,\"#0d0887\"],[0.1111111111111111,\"#46039f\"],[0.2222222222222222,\"#7201a8\"],[0.3333333333333333,\"#9c179e\"],[0.4444444444444444,\"#bd3786\"],[0.5555555555555556,\"#d8576b\"],[0.6666666666666666,\"#ed7953\"],[0.7777777777777778,\"#fb9f3a\"],[0.8888888888888888,\"#fdca26\"],[1.0,\"#f0f921\"]],\"type\":\"histogram2dcontour\"}],\"histogram2d\":[{\"colorbar\":{\"outlinewidth\":0,\"ticks\":\"\"},\"colorscale\":[[0.0,\"#0d0887\"],[0.1111111111111111,\"#46039f\"],[0.2222222222222222,\"#7201a8\"],[0.3333333333333333,\"#9c179e\"],[0.4444444444444444,\"#bd3786\"],[0.5555555555555556,\"#d8576b\"],[0.6666666666666666,\"#ed7953\"],[0.7777777777777778,\"#fb9f3a\"],[0.8888888888888888,\"#fdca26\"],[1.0,\"#f0f921\"]],\"type\":\"histogram2d\"}],\"histogram\":[{\"marker\":{\"pattern\":{\"fillmode\":\"overlay\",\"size\":10,\"solidity\":0.2}},\"type\":\"histogram\"}],\"mesh3d\":[{\"colorbar\":{\"outlinewidth\":0,\"ticks\":\"\"},\"type\":\"mesh3d\"}],\"parcoords\":[{\"line\":{\"colorbar\":{\"outlinewidth\":0,\"ticks\":\"\"}},\"type\":\"parcoords\"}],\"pie\":[{\"automargin\":true,\"type\":\"pie\"}],\"scatter3d\":[{\"line\":{\"colorbar\":{\"outlinewidth\":0,\"ticks\":\"\"}},\"marker\":{\"colorbar\":{\"outlinewidth\":0,\"ticks\":\"\"}},\"type\":\"scatter3d\"}],\"scattercarpet\":[{\"marker\":{\"colorbar\":{\"outlinewidth\":0,\"ticks\":\"\"}},\"type\":\"scattercarpet\"}],\"scattergeo\":[{\"marker\":{\"colorbar\":{\"outlinewidth\":0,\"ticks\":\"\"}},\"type\":\"scattergeo\"}],\"scattergl\":[{\"marker\":{\"colorbar\":{\"outlinewidth\":0,\"ticks\":\"\"}},\"type\":\"scattergl\"}],\"scattermapbox\":[{\"marker\":{\"colorbar\":{\"outlinewidth\":0,\"ticks\":\"\"}},\"type\":\"scattermapbox\"}],\"scatterpolargl\":[{\"marker\":{\"colorbar\":{\"outlinewidth\":0,\"ticks\":\"\"}},\"type\":\"scatterpolargl\"}],\"scatterpolar\":[{\"marker\":{\"colorbar\":{\"outlinewidth\":0,\"ticks\":\"\"}},\"type\":\"scatterpolar\"}],\"scatter\":[{\"fillpattern\":{\"fillmode\":\"overlay\",\"size\":10,\"solidity\":0.2},\"type\":\"scatter\"}],\"scatterternary\":[{\"marker\":{\"colorbar\":{\"outlinewidth\":0,\"ticks\":\"\"}},\"type\":\"scatterternary\"}],\"surface\":[{\"colorbar\":{\"outlinewidth\":0,\"ticks\":\"\"},\"colorscale\":[[0.0,\"#0d0887\"],[0.1111111111111111,\"#46039f\"],[0.2222222222222222,\"#7201a8\"],[0.3333333333333333,\"#9c179e\"],[0.4444444444444444,\"#bd3786\"],[0.5555555555555556,\"#d8576b\"],[0.6666666666666666,\"#ed7953\"],[0.7777777777777778,\"#fb9f3a\"],[0.8888888888888888,\"#fdca26\"],[1.0,\"#f0f921\"]],\"type\":\"surface\"}],\"table\":[{\"cells\":{\"fill\":{\"color\":\"#EBF0F8\"},\"line\":{\"color\":\"white\"}},\"header\":{\"fill\":{\"color\":\"#C8D4E3\"},\"line\":{\"color\":\"white\"}},\"type\":\"table\"}]},\"layout\":{\"annotationdefaults\":{\"arrowcolor\":\"#2a3f5f\",\"arrowhead\":0,\"arrowwidth\":1},\"autotypenumbers\":\"strict\",\"coloraxis\":{\"colorbar\":{\"outlinewidth\":0,\"ticks\":\"\"}},\"colorscale\":{\"diverging\":[[0,\"#8e0152\"],[0.1,\"#c51b7d\"],[0.2,\"#de77ae\"],[0.3,\"#f1b6da\"],[0.4,\"#fde0ef\"],[0.5,\"#f7f7f7\"],[0.6,\"#e6f5d0\"],[0.7,\"#b8e186\"],[0.8,\"#7fbc41\"],[0.9,\"#4d9221\"],[1,\"#276419\"]],\"sequential\":[[0.0,\"#0d0887\"],[0.1111111111111111,\"#46039f\"],[0.2222222222222222,\"#7201a8\"],[0.3333333333333333,\"#9c179e\"],[0.4444444444444444,\"#bd3786\"],[0.5555555555555556,\"#d8576b\"],[0.6666666666666666,\"#ed7953\"],[0.7777777777777778,\"#fb9f3a\"],[0.8888888888888888,\"#fdca26\"],[1.0,\"#f0f921\"]],\"sequentialminus\":[[0.0,\"#0d0887\"],[0.1111111111111111,\"#46039f\"],[0.2222222222222222,\"#7201a8\"],[0.3333333333333333,\"#9c179e\"],[0.4444444444444444,\"#bd3786\"],[0.5555555555555556,\"#d8576b\"],[0.6666666666666666,\"#ed7953\"],[0.7777777777777778,\"#fb9f3a\"],[0.8888888888888888,\"#fdca26\"],[1.0,\"#f0f921\"]]},\"colorway\":[\"#636efa\",\"#EF553B\",\"#00cc96\",\"#ab63fa\",\"#FFA15A\",\"#19d3f3\",\"#FF6692\",\"#B6E880\",\"#FF97FF\",\"#FECB52\"],\"font\":{\"color\":\"#2a3f5f\"},\"geo\":{\"bgcolor\":\"white\",\"lakecolor\":\"white\",\"landcolor\":\"#E5ECF6\",\"showlakes\":true,\"showland\":true,\"subunitcolor\":\"white\"},\"hoverlabel\":{\"align\":\"left\"},\"hovermode\":\"closest\",\"mapbox\":{\"style\":\"light\"},\"paper_bgcolor\":\"white\",\"plot_bgcolor\":\"#E5ECF6\",\"polar\":{\"angularaxis\":{\"gridcolor\":\"white\",\"linecolor\":\"white\",\"ticks\":\"\"},\"bgcolor\":\"#E5ECF6\",\"radialaxis\":{\"gridcolor\":\"white\",\"linecolor\":\"white\",\"ticks\":\"\"}},\"scene\":{\"xaxis\":{\"backgroundcolor\":\"#E5ECF6\",\"gridcolor\":\"white\",\"gridwidth\":2,\"linecolor\":\"white\",\"showbackground\":true,\"ticks\":\"\",\"zerolinecolor\":\"white\"},\"yaxis\":{\"backgroundcolor\":\"#E5ECF6\",\"gridcolor\":\"white\",\"gridwidth\":2,\"linecolor\":\"white\",\"showbackground\":true,\"ticks\":\"\",\"zerolinecolor\":\"white\"},\"zaxis\":{\"backgroundcolor\":\"#E5ECF6\",\"gridcolor\":\"white\",\"gridwidth\":2,\"linecolor\":\"white\",\"showbackground\":true,\"ticks\":\"\",\"zerolinecolor\":\"white\"}},\"shapedefaults\":{\"line\":{\"color\":\"#2a3f5f\"}},\"ternary\":{\"aaxis\":{\"gridcolor\":\"white\",\"linecolor\":\"white\",\"ticks\":\"\"},\"baxis\":{\"gridcolor\":\"white\",\"linecolor\":\"white\",\"ticks\":\"\"},\"bgcolor\":\"#E5ECF6\",\"caxis\":{\"gridcolor\":\"white\",\"linecolor\":\"white\",\"ticks\":\"\"}},\"title\":{\"x\":0.05},\"xaxis\":{\"automargin\":true,\"gridcolor\":\"white\",\"linecolor\":\"white\",\"ticks\":\"\",\"title\":{\"standoff\":15},\"zerolinecolor\":\"white\",\"zerolinewidth\":2},\"yaxis\":{\"automargin\":true,\"gridcolor\":\"white\",\"linecolor\":\"white\",\"ticks\":\"\",\"title\":{\"standoff\":15},\"zerolinecolor\":\"white\",\"zerolinewidth\":2}}},\"xaxis\":{\"anchor\":\"y\",\"domain\":[0.0,1.0],\"title\":{\"text\":\"Date\"}},\"yaxis\":{\"anchor\":\"x\",\"domain\":[0.0,1.0],\"title\":{\"text\":\"Precipitation (mm) \\u003cbr\\u003eTemperature (°C)\"}}},                        {\"responsive\": true}                    ).then(function(){\n",
              "                            \n",
              "var gd = document.getElementById('64215bde-f69c-43ec-a2ed-3d4e0ca494fd');\n",
              "var x = new MutationObserver(function (mutations, observer) {{\n",
              "        var display = window.getComputedStyle(gd).display;\n",
              "        if (!display || display === 'none') {{\n",
              "            console.log([gd, 'removed!']);\n",
              "            Plotly.purge(gd);\n",
              "            observer.disconnect();\n",
              "        }}\n",
              "}});\n",
              "\n",
              "// Listen for the removal of the full notebook cells\n",
              "var notebookContainer = gd.closest('#notebook-container');\n",
              "if (notebookContainer) {{\n",
              "    x.observe(notebookContainer, {childList: true});\n",
              "}}\n",
              "\n",
              "// Listen for the clearing of the current output cell\n",
              "var outputEl = gd.closest('.output');\n",
              "if (outputEl) {{\n",
              "    x.observe(outputEl, {childList: true});\n",
              "}}\n",
              "\n",
              "                        })                };                            </script>        </div>\n",
              "</body>\n",
              "</html>"
            ]
          },
          "metadata": {}
        }
      ],
      "source": [
        "## weather plot\n",
        "\n",
        "labels = {'RAIN': \"Precipitation (mm) <br>Temperature (°C)\", \"monthday\": \"Date\" }\n",
        "weatherdatatoviz =output_data['clay'].weather_data()\n",
        "\n",
        "weatherdatatoviz['year'] = weatherdatatoviz.DATE.dt.year\n",
        "\n",
        "weatherdatatoviz[\"TMIN\"] = weatherdatatoviz[\"TMIN\"].map(lambda x: float(x))\n",
        "weatherdatatoviz[\"TMAX\"] = weatherdatatoviz[\"TMAX\"].map(lambda x: float(x))\n",
        "weatherdatatoviz = pd.melt(weatherdatatoviz.loc[:,['DATE','year', 'TMIN', 'TMAX','RAIN']], id_vars=['DATE','year','RAIN'], value_vars=['TMIN','TMAX'])\n",
        "weatherdatatoviz['monthday'] = weatherdatatoviz.DATE.dt.strftime('%b-%d')\n",
        "\n",
        "figwt = px.line(weatherdatatoviz, x=\"monthday\", y=\"value\", animation_frame=\"year\",color = 'variable')\n",
        "weatherdatatoviz = weatherdatatoviz.loc[weatherdatatoviz.variable == 'TMIN']\n",
        "weatherdatatoviz.loc[:,'Variable'] = 'Precipitation'\n",
        "figwr = px.bar(weatherdatatoviz, x=\"monthday\", y=\"RAIN\", animation_frame=\"year\",color = 'Variable',\n",
        "                        labels = labels)\n",
        "\n",
        "figw = go.Figure(\n",
        "    data=figwt.data + figwr.data,\n",
        "    frames=[\n",
        "        go.Frame(data=fr1.data + fr2.data, name=fr1.name)\n",
        "        for fr1, fr2 in zip(figwt.frames, figwr.frames)\n",
        "    ],\n",
        "    layout=figwr.layout,\n",
        ")\n",
        "figw.show()"
      ]
    },
    {
      "cell_type": "code",
      "execution_count": null,
      "metadata": {
        "colab": {
          "base_uri": "https://localhost:8080/",
          "height": 577
        },
        "id": "9X2lcoUH7qjf",
        "outputId": "f38de1a2-3434-438f-b2f7-0bc28ec60070"
      },
      "outputs": [
        {
          "output_type": "stream",
          "name": "stdout",
          "text": [
            ".OUT\n",
            ".OUT\n"
          ]
        },
        {
          "output_type": "display_data",
          "data": {
            "text/html": [
              "<html>\n",
              "<head><meta charset=\"utf-8\" /></head>\n",
              "<body>\n",
              "    <div>            <script src=\"https://cdnjs.cloudflare.com/ajax/libs/mathjax/2.7.5/MathJax.js?config=TeX-AMS-MML_SVG\"></script><script type=\"text/javascript\">if (window.MathJax && window.MathJax.Hub && window.MathJax.Hub.Config) {window.MathJax.Hub.Config({SVG: {font: \"STIX-Web\"}});}</script>                <script type=\"text/javascript\">window.PlotlyConfig = {MathJaxConfig: 'local'};</script>\n",
              "        <script charset=\"utf-8\" src=\"https://cdn.plot.ly/plotly-2.35.2.min.js\"></script>                <div id=\"79f13bff-beb9-446a-b5a2-686202ad143e\" class=\"plotly-graph-div\" style=\"height:525px; width:100%;\"></div>            <script type=\"text/javascript\">                                    window.PLOTLYENV=window.PLOTLYENV || {};                                    if (document.getElementById(\"79f13bff-beb9-446a-b5a2-686202ad143e\")) {                    Plotly.newPlot(                        \"79f13bff-beb9-446a-b5a2-686202ad143e\",                        [{\"hovertemplate\":\"texture=clayloam\\u003cbr\\u003eyear=2001\\u003cbr\\u003ePlanting Date=%{x}\\u003cbr\\u003eYield at harvest (Kg \\u002f ha)=%{y}\\u003cextra\\u003e\\u003c\\u002fextra\\u003e\",\"legendgroup\":\"clayloam\",\"line\":{\"color\":\"#636efa\",\"dash\":\"solid\"},\"marker\":{\"symbol\":\"circle\"},\"mode\":\"lines\",\"name\":\"clayloam\",\"orientation\":\"v\",\"showlegend\":true,\"x\":[\"Apr-01\",\"Apr-08\",\"Apr-15\",\"Apr-22\",\"Apr-29\",\"May-06\",\"May-13\",\"May-20\",\"May-27\",\"Jun-03\",\"Jun-10\",\"Jun-17\",\"Jun-24\",\"Jul-01\",\"Jul-08\"],\"xaxis\":\"x\",\"y\":[3022.0,3074.0,2269.0,3893.0,4936.0,4335.0,3443.0,4443.0,5485.0,5904.0,6992.0,6133.0,6383.0,8836.0,8466.0],\"yaxis\":\"y\",\"type\":\"scatter\"},{\"hovertemplate\":\"texture=clay\\u003cbr\\u003eyear=2001\\u003cbr\\u003ePlanting Date=%{x}\\u003cbr\\u003eYield at harvest (Kg \\u002f ha)=%{y}\\u003cextra\\u003e\\u003c\\u002fextra\\u003e\",\"legendgroup\":\"clay\",\"line\":{\"color\":\"#EF553B\",\"dash\":\"solid\"},\"marker\":{\"symbol\":\"circle\"},\"mode\":\"lines\",\"name\":\"clay\",\"orientation\":\"v\",\"showlegend\":true,\"x\":[\"Apr-01\",\"Apr-08\",\"Apr-15\",\"Apr-22\",\"Apr-29\",\"May-06\",\"May-13\",\"May-20\",\"May-27\",\"Jun-03\",\"Jun-10\",\"Jun-17\",\"Jun-24\",\"Jul-01\",\"Jul-08\"],\"xaxis\":\"x\",\"y\":[3169.0,3275.0,2264.0,3586.0,4583.0,3865.0,3152.0,4269.0,5381.0,5902.0,6805.0,5879.0,5731.0,8155.0,8534.0],\"yaxis\":\"y\",\"type\":\"scatter\"}],                        {\"template\":{\"data\":{\"histogram2dcontour\":[{\"type\":\"histogram2dcontour\",\"colorbar\":{\"outlinewidth\":0,\"ticks\":\"\"},\"colorscale\":[[0.0,\"#0d0887\"],[0.1111111111111111,\"#46039f\"],[0.2222222222222222,\"#7201a8\"],[0.3333333333333333,\"#9c179e\"],[0.4444444444444444,\"#bd3786\"],[0.5555555555555556,\"#d8576b\"],[0.6666666666666666,\"#ed7953\"],[0.7777777777777778,\"#fb9f3a\"],[0.8888888888888888,\"#fdca26\"],[1.0,\"#f0f921\"]]}],\"choropleth\":[{\"type\":\"choropleth\",\"colorbar\":{\"outlinewidth\":0,\"ticks\":\"\"}}],\"histogram2d\":[{\"type\":\"histogram2d\",\"colorbar\":{\"outlinewidth\":0,\"ticks\":\"\"},\"colorscale\":[[0.0,\"#0d0887\"],[0.1111111111111111,\"#46039f\"],[0.2222222222222222,\"#7201a8\"],[0.3333333333333333,\"#9c179e\"],[0.4444444444444444,\"#bd3786\"],[0.5555555555555556,\"#d8576b\"],[0.6666666666666666,\"#ed7953\"],[0.7777777777777778,\"#fb9f3a\"],[0.8888888888888888,\"#fdca26\"],[1.0,\"#f0f921\"]]}],\"heatmap\":[{\"type\":\"heatmap\",\"colorbar\":{\"outlinewidth\":0,\"ticks\":\"\"},\"colorscale\":[[0.0,\"#0d0887\"],[0.1111111111111111,\"#46039f\"],[0.2222222222222222,\"#7201a8\"],[0.3333333333333333,\"#9c179e\"],[0.4444444444444444,\"#bd3786\"],[0.5555555555555556,\"#d8576b\"],[0.6666666666666666,\"#ed7953\"],[0.7777777777777778,\"#fb9f3a\"],[0.8888888888888888,\"#fdca26\"],[1.0,\"#f0f921\"]]}],\"heatmapgl\":[{\"type\":\"heatmapgl\",\"colorbar\":{\"outlinewidth\":0,\"ticks\":\"\"},\"colorscale\":[[0.0,\"#0d0887\"],[0.1111111111111111,\"#46039f\"],[0.2222222222222222,\"#7201a8\"],[0.3333333333333333,\"#9c179e\"],[0.4444444444444444,\"#bd3786\"],[0.5555555555555556,\"#d8576b\"],[0.6666666666666666,\"#ed7953\"],[0.7777777777777778,\"#fb9f3a\"],[0.8888888888888888,\"#fdca26\"],[1.0,\"#f0f921\"]]}],\"contourcarpet\":[{\"type\":\"contourcarpet\",\"colorbar\":{\"outlinewidth\":0,\"ticks\":\"\"}}],\"contour\":[{\"type\":\"contour\",\"colorbar\":{\"outlinewidth\":0,\"ticks\":\"\"},\"colorscale\":[[0.0,\"#0d0887\"],[0.1111111111111111,\"#46039f\"],[0.2222222222222222,\"#7201a8\"],[0.3333333333333333,\"#9c179e\"],[0.4444444444444444,\"#bd3786\"],[0.5555555555555556,\"#d8576b\"],[0.6666666666666666,\"#ed7953\"],[0.7777777777777778,\"#fb9f3a\"],[0.8888888888888888,\"#fdca26\"],[1.0,\"#f0f921\"]]}],\"surface\":[{\"type\":\"surface\",\"colorbar\":{\"outlinewidth\":0,\"ticks\":\"\"},\"colorscale\":[[0.0,\"#0d0887\"],[0.1111111111111111,\"#46039f\"],[0.2222222222222222,\"#7201a8\"],[0.3333333333333333,\"#9c179e\"],[0.4444444444444444,\"#bd3786\"],[0.5555555555555556,\"#d8576b\"],[0.6666666666666666,\"#ed7953\"],[0.7777777777777778,\"#fb9f3a\"],[0.8888888888888888,\"#fdca26\"],[1.0,\"#f0f921\"]]}],\"mesh3d\":[{\"type\":\"mesh3d\",\"colorbar\":{\"outlinewidth\":0,\"ticks\":\"\"}}],\"scatter\":[{\"fillpattern\":{\"fillmode\":\"overlay\",\"size\":10,\"solidity\":0.2},\"type\":\"scatter\"}],\"parcoords\":[{\"type\":\"parcoords\",\"line\":{\"colorbar\":{\"outlinewidth\":0,\"ticks\":\"\"}}}],\"scatterpolargl\":[{\"type\":\"scatterpolargl\",\"marker\":{\"colorbar\":{\"outlinewidth\":0,\"ticks\":\"\"}}}],\"bar\":[{\"error_x\":{\"color\":\"#2a3f5f\"},\"error_y\":{\"color\":\"#2a3f5f\"},\"marker\":{\"line\":{\"color\":\"#E5ECF6\",\"width\":0.5},\"pattern\":{\"fillmode\":\"overlay\",\"size\":10,\"solidity\":0.2}},\"type\":\"bar\"}],\"scattergeo\":[{\"type\":\"scattergeo\",\"marker\":{\"colorbar\":{\"outlinewidth\":0,\"ticks\":\"\"}}}],\"scatterpolar\":[{\"type\":\"scatterpolar\",\"marker\":{\"colorbar\":{\"outlinewidth\":0,\"ticks\":\"\"}}}],\"histogram\":[{\"marker\":{\"pattern\":{\"fillmode\":\"overlay\",\"size\":10,\"solidity\":0.2}},\"type\":\"histogram\"}],\"scattergl\":[{\"type\":\"scattergl\",\"marker\":{\"colorbar\":{\"outlinewidth\":0,\"ticks\":\"\"}}}],\"scatter3d\":[{\"type\":\"scatter3d\",\"line\":{\"colorbar\":{\"outlinewidth\":0,\"ticks\":\"\"}},\"marker\":{\"colorbar\":{\"outlinewidth\":0,\"ticks\":\"\"}}}],\"scattermapbox\":[{\"type\":\"scattermapbox\",\"marker\":{\"colorbar\":{\"outlinewidth\":0,\"ticks\":\"\"}}}],\"scatterternary\":[{\"type\":\"scatterternary\",\"marker\":{\"colorbar\":{\"outlinewidth\":0,\"ticks\":\"\"}}}],\"scattercarpet\":[{\"type\":\"scattercarpet\",\"marker\":{\"colorbar\":{\"outlinewidth\":0,\"ticks\":\"\"}}}],\"carpet\":[{\"aaxis\":{\"endlinecolor\":\"#2a3f5f\",\"gridcolor\":\"white\",\"linecolor\":\"white\",\"minorgridcolor\":\"white\",\"startlinecolor\":\"#2a3f5f\"},\"baxis\":{\"endlinecolor\":\"#2a3f5f\",\"gridcolor\":\"white\",\"linecolor\":\"white\",\"minorgridcolor\":\"white\",\"startlinecolor\":\"#2a3f5f\"},\"type\":\"carpet\"}],\"table\":[{\"cells\":{\"fill\":{\"color\":\"#EBF0F8\"},\"line\":{\"color\":\"white\"}},\"header\":{\"fill\":{\"color\":\"#C8D4E3\"},\"line\":{\"color\":\"white\"}},\"type\":\"table\"}],\"barpolar\":[{\"marker\":{\"line\":{\"color\":\"#E5ECF6\",\"width\":0.5},\"pattern\":{\"fillmode\":\"overlay\",\"size\":10,\"solidity\":0.2}},\"type\":\"barpolar\"}],\"pie\":[{\"automargin\":true,\"type\":\"pie\"}]},\"layout\":{\"autotypenumbers\":\"strict\",\"colorway\":[\"#636efa\",\"#EF553B\",\"#00cc96\",\"#ab63fa\",\"#FFA15A\",\"#19d3f3\",\"#FF6692\",\"#B6E880\",\"#FF97FF\",\"#FECB52\"],\"font\":{\"color\":\"#2a3f5f\"},\"hovermode\":\"closest\",\"hoverlabel\":{\"align\":\"left\"},\"paper_bgcolor\":\"white\",\"plot_bgcolor\":\"#E5ECF6\",\"polar\":{\"bgcolor\":\"#E5ECF6\",\"angularaxis\":{\"gridcolor\":\"white\",\"linecolor\":\"white\",\"ticks\":\"\"},\"radialaxis\":{\"gridcolor\":\"white\",\"linecolor\":\"white\",\"ticks\":\"\"}},\"ternary\":{\"bgcolor\":\"#E5ECF6\",\"aaxis\":{\"gridcolor\":\"white\",\"linecolor\":\"white\",\"ticks\":\"\"},\"baxis\":{\"gridcolor\":\"white\",\"linecolor\":\"white\",\"ticks\":\"\"},\"caxis\":{\"gridcolor\":\"white\",\"linecolor\":\"white\",\"ticks\":\"\"}},\"coloraxis\":{\"colorbar\":{\"outlinewidth\":0,\"ticks\":\"\"}},\"colorscale\":{\"sequential\":[[0.0,\"#0d0887\"],[0.1111111111111111,\"#46039f\"],[0.2222222222222222,\"#7201a8\"],[0.3333333333333333,\"#9c179e\"],[0.4444444444444444,\"#bd3786\"],[0.5555555555555556,\"#d8576b\"],[0.6666666666666666,\"#ed7953\"],[0.7777777777777778,\"#fb9f3a\"],[0.8888888888888888,\"#fdca26\"],[1.0,\"#f0f921\"]],\"sequentialminus\":[[0.0,\"#0d0887\"],[0.1111111111111111,\"#46039f\"],[0.2222222222222222,\"#7201a8\"],[0.3333333333333333,\"#9c179e\"],[0.4444444444444444,\"#bd3786\"],[0.5555555555555556,\"#d8576b\"],[0.6666666666666666,\"#ed7953\"],[0.7777777777777778,\"#fb9f3a\"],[0.8888888888888888,\"#fdca26\"],[1.0,\"#f0f921\"]],\"diverging\":[[0,\"#8e0152\"],[0.1,\"#c51b7d\"],[0.2,\"#de77ae\"],[0.3,\"#f1b6da\"],[0.4,\"#fde0ef\"],[0.5,\"#f7f7f7\"],[0.6,\"#e6f5d0\"],[0.7,\"#b8e186\"],[0.8,\"#7fbc41\"],[0.9,\"#4d9221\"],[1,\"#276419\"]]},\"xaxis\":{\"gridcolor\":\"white\",\"linecolor\":\"white\",\"ticks\":\"\",\"title\":{\"standoff\":15},\"zerolinecolor\":\"white\",\"automargin\":true,\"zerolinewidth\":2},\"yaxis\":{\"gridcolor\":\"white\",\"linecolor\":\"white\",\"ticks\":\"\",\"title\":{\"standoff\":15},\"zerolinecolor\":\"white\",\"automargin\":true,\"zerolinewidth\":2},\"scene\":{\"xaxis\":{\"backgroundcolor\":\"#E5ECF6\",\"gridcolor\":\"white\",\"linecolor\":\"white\",\"showbackground\":true,\"ticks\":\"\",\"zerolinecolor\":\"white\",\"gridwidth\":2},\"yaxis\":{\"backgroundcolor\":\"#E5ECF6\",\"gridcolor\":\"white\",\"linecolor\":\"white\",\"showbackground\":true,\"ticks\":\"\",\"zerolinecolor\":\"white\",\"gridwidth\":2},\"zaxis\":{\"backgroundcolor\":\"#E5ECF6\",\"gridcolor\":\"white\",\"linecolor\":\"white\",\"showbackground\":true,\"ticks\":\"\",\"zerolinecolor\":\"white\",\"gridwidth\":2}},\"shapedefaults\":{\"line\":{\"color\":\"#2a3f5f\"}},\"annotationdefaults\":{\"arrowcolor\":\"#2a3f5f\",\"arrowhead\":0,\"arrowwidth\":1},\"geo\":{\"bgcolor\":\"white\",\"landcolor\":\"#E5ECF6\",\"subunitcolor\":\"white\",\"showland\":true,\"showlakes\":true,\"lakecolor\":\"white\"},\"title\":{\"x\":0.05},\"mapbox\":{\"style\":\"light\"}}},\"xaxis\":{\"anchor\":\"y\",\"domain\":[0.0,1.0],\"title\":{\"text\":\"Planting Date\"}},\"yaxis\":{\"anchor\":\"x\",\"domain\":[0.0,1.0],\"title\":{\"text\":\"Yield at harvest (Kg \\u002f ha)\"}},\"legend\":{\"title\":{\"text\":\"texture\"},\"tracegroupgap\":0},\"margin\":{\"t\":60}},                        {\"responsive\": true}                    ).then(function(){\n",
              "                            \n",
              "var gd = document.getElementById('79f13bff-beb9-446a-b5a2-686202ad143e');\n",
              "var x = new MutationObserver(function (mutations, observer) {{\n",
              "        var display = window.getComputedStyle(gd).display;\n",
              "        if (!display || display === 'none') {{\n",
              "            console.log([gd, 'removed!']);\n",
              "            Plotly.purge(gd);\n",
              "            observer.disconnect();\n",
              "        }}\n",
              "}});\n",
              "\n",
              "// Listen for the removal of the full notebook cells\n",
              "var notebookContainer = gd.closest('#notebook-container');\n",
              "if (notebookContainer) {{\n",
              "    x.observe(notebookContainer, {childList: true});\n",
              "}}\n",
              "\n",
              "// Listen for the clearing of the current output cell\n",
              "var outputEl = gd.closest('.output');\n",
              "if (outputEl) {{\n",
              "    x.observe(outputEl, {childList: true});\n",
              "}}\n",
              "\n",
              "                        })                };                            </script>        </div>\n",
              "</body>\n",
              "</html>"
            ]
          },
          "metadata": {}
        }
      ],
      "source": [
        "## potential yield\n",
        "labels = {'HWAH': \"Yield at harvest (Kg / ha)\", \"monthday\": \"Planting Date\" }\n",
        "completedgroups = [k for k,v in completed_sims.items() if v]\n",
        "potentialyield_data = []\n",
        "for gval in completedgroups:\n",
        "    dftmp = output_data[gval].output_data().sort_values(\"PDAT\").loc[:,[\"PDAT\",\"HWAH\"]]\n",
        "    dftmp = dftmp.loc[dftmp.HWAH != 0]\n",
        "    dftmp['texture'] = gval\n",
        "    potentialyield_data.append(dftmp)\n",
        "\n",
        "potentialyield_data = pd.concat(potentialyield_data)# fig.show()\n",
        "potentialyield_data['year'] = potentialyield_data.PDAT.dt.year\n",
        "potentialyield_data['monthday'] = potentialyield_data.PDAT.dt.strftime('%b-%d')\n",
        "datatoplot = potentialyield_data.sort_values(\"PDAT\")\n",
        "fig = px.line(datatoplot, x=\"monthday\", y=\"HWAH\", animation_frame=\"year\",\n",
        "            color=\"texture\",  labels = labels)\n",
        "fig.show()"
      ]
    },
    {
      "cell_type": "code",
      "execution_count": null,
      "metadata": {
        "id": "DJORkM7O7qjf",
        "outputId": "365e09a2-3da5-4a54-e3b8-de2e88196552",
        "colab": {
          "base_uri": "https://localhost:8080/"
        }
      },
      "outputs": [
        {
          "output_type": "stream",
          "name": "stdout",
          "text": [
            ".WTH\n",
            ".OUT\n",
            ".OUT\n"
          ]
        }
      ],
      "source": [
        "### exporting the weather and potential yield outputs as data frames\n",
        "\n",
        "completedgroups = [k for k,v in completed_sims.items() if v]\n",
        "\n",
        "output_data[completedgroups[0]].weather_data().to_csv(os.path.join(cm_sp._tmp_path, 'weather.csv'))\n",
        "\n",
        "potentialyield_data = []\n",
        "for gval in completedgroups:\n",
        "    dftmp = output_data[gval].output_data().sort_values(\"PDAT\")\n",
        "    dftmp = dftmp.loc[dftmp.HWAH != 0]\n",
        "    dftmp['texture'] = gval\n",
        "    potentialyield_data.append(dftmp)\n",
        "\n",
        "potentialyield_data = pd.concat(potentialyield_data)\n",
        "\n",
        "potentialyield_data.to_csv(os.path.join(cm_sp._tmp_path, 'potential_yield.csv'))"
      ]
    },
    {
      "cell_type": "markdown",
      "source": [
        "### Cassava example"
      ],
      "metadata": {
        "id": "b6jKGZWHoudI"
      }
    },
    {
      "cell_type": "code",
      "source": [
        "import os\n",
        "os.chdir('/content/WeatherSoilDataProcessor')\n",
        "import sys\n",
        "sys.path.append(\"/content/WeatherSoilDataProcessor/Py_DSSATTools/\")\n",
        "from spatialdata.soil_data import TEXTURE_CLASSES\n",
        "from crop_modeling.spatial_process import SpatialCM\n",
        "import pandas as pd\n",
        "\n",
        "cm_configuration = {\n",
        "    'GENERAL_INFO': {\n",
        "        'country': 'Honduras',\n",
        "        'country_code': 'HND', # crountry code\n",
        "        'working_path': 'runs', # the model outputs will be located in this path\n",
        "        'ncores': 10,\n",
        "        'model': 'dssat',\n",
        "        'bin_path': None\n",
        "    },\n",
        "    'SPATIAL_INFO':{\n",
        "        'geospatial_path': 'data/tb_limitealdeas.shp', # spatial file that contains the region of interest\n",
        "        'feature_name': 'GEOCODIGO', ## an unique code that represent each region of interest\n",
        "        'aggregate_by' : 'texture',\n",
        "        'soil_path' : 'soil/soil_hnd.nc',\n",
        "        'weather_path': 'weather/weather_hnd.nc',\n",
        "        'scale_factor': 10 # scale factor for soil and weather spatial resolution combination\n",
        "    },\n",
        "    'CROP': {\n",
        "        'name': 'Cassava', # crop name\n",
        "        'cultivar': 'UC0008', # cultivar\n",
        "        'cultivar_file': None # optional for the cases that you have a cultivar that is not in DSSATTools default cultivars\n",
        "    },\n",
        "    'MANAGEMENT':{\n",
        "        'planting_date': '2001-02-01',\n",
        "        'harvesting_date': '2001-10-30',\n",
        "        'plantingWindow': 4, # planting window in weeks\n",
        "        'fertilizer': False, # It is not implemented yet\n",
        "        'index_soilwat': 1,\n",
        "        'template': 'crop_modeling/dssat/exp_files/AGRW2409.CSX'\n",
        "    }\n",
        "}\n",
        "\n"
      ],
      "metadata": {
        "id": "HUagHIq7oxeY"
      },
      "execution_count": null,
      "outputs": []
    },
    {
      "cell_type": "code",
      "source": [
        "## delete previous runs\n",
        "import shutil\n",
        "if os.path.exists('runs'):\n",
        "  shutil.rmtree('runs', ignore_errors=False, onerror=None)\n",
        "\n",
        "cm_sp = SpatialCM(configuration_dict=cm_configuration)\n",
        "\n",
        "# Specify the region of interest by its geocode this can be also done using the feature index\n",
        "roi = cm_sp.geo_features.loc[cm_sp.geo_features['GEOCODIGO']==str(180106)]\n",
        "roi\n",
        "\n"
      ],
      "metadata": {
        "id": "BxrJfcYso_Ck",
        "outputId": "99bb2703-374b-4ed7-f20f-770ed64ca8e8",
        "colab": {
          "base_uri": "https://localhost:8080/",
          "height": 124
        }
      },
      "execution_count": null,
      "outputs": [
        {
          "output_type": "stream",
          "name": "stdout",
          "text": [
            "loaded from soil/soil_hnd.nc\n",
            "loaded from weather/weather_hnd.nc\n"
          ]
        },
        {
          "output_type": "execute_result",
          "data": {
            "text/plain": [
              "    GEOCODIGO     ALDEA COD_ALDEA COD_MUNI COD_DEPTO      KM2  DENSIDAD  MUNI  \\\n",
              "978    180106  La Guata    180106     1801        18  252.262   14.7664  Yoro   \n",
              "\n",
              "    DEPTO       AREA_HA                                           geometry  \n",
              "978  Yoro  25226.152619  POLYGON ((-87.09383 15.32276, -87.09383 15.322...  "
            ],
            "text/html": [
              "\n",
              "  <div id=\"df-5873712b-438b-4d9c-a798-f73a0c7b3908\" class=\"colab-df-container\">\n",
              "    <div>\n",
              "<style scoped>\n",
              "    .dataframe tbody tr th:only-of-type {\n",
              "        vertical-align: middle;\n",
              "    }\n",
              "\n",
              "    .dataframe tbody tr th {\n",
              "        vertical-align: top;\n",
              "    }\n",
              "\n",
              "    .dataframe thead th {\n",
              "        text-align: right;\n",
              "    }\n",
              "</style>\n",
              "<table border=\"1\" class=\"dataframe\">\n",
              "  <thead>\n",
              "    <tr style=\"text-align: right;\">\n",
              "      <th></th>\n",
              "      <th>GEOCODIGO</th>\n",
              "      <th>ALDEA</th>\n",
              "      <th>COD_ALDEA</th>\n",
              "      <th>COD_MUNI</th>\n",
              "      <th>COD_DEPTO</th>\n",
              "      <th>KM2</th>\n",
              "      <th>DENSIDAD</th>\n",
              "      <th>MUNI</th>\n",
              "      <th>DEPTO</th>\n",
              "      <th>AREA_HA</th>\n",
              "      <th>geometry</th>\n",
              "    </tr>\n",
              "  </thead>\n",
              "  <tbody>\n",
              "    <tr>\n",
              "      <th>978</th>\n",
              "      <td>180106</td>\n",
              "      <td>La Guata</td>\n",
              "      <td>180106</td>\n",
              "      <td>1801</td>\n",
              "      <td>18</td>\n",
              "      <td>252.262</td>\n",
              "      <td>14.7664</td>\n",
              "      <td>Yoro</td>\n",
              "      <td>Yoro</td>\n",
              "      <td>25226.152619</td>\n",
              "      <td>POLYGON ((-87.09383 15.32276, -87.09383 15.322...</td>\n",
              "    </tr>\n",
              "  </tbody>\n",
              "</table>\n",
              "</div>\n",
              "    <div class=\"colab-df-buttons\">\n",
              "\n",
              "  <div class=\"colab-df-container\">\n",
              "    <button class=\"colab-df-convert\" onclick=\"convertToInteractive('df-5873712b-438b-4d9c-a798-f73a0c7b3908')\"\n",
              "            title=\"Convert this dataframe to an interactive table.\"\n",
              "            style=\"display:none;\">\n",
              "\n",
              "  <svg xmlns=\"http://www.w3.org/2000/svg\" height=\"24px\" viewBox=\"0 -960 960 960\">\n",
              "    <path d=\"M120-120v-720h720v720H120Zm60-500h600v-160H180v160Zm220 220h160v-160H400v160Zm0 220h160v-160H400v160ZM180-400h160v-160H180v160Zm440 0h160v-160H620v160ZM180-180h160v-160H180v160Zm440 0h160v-160H620v160Z\"/>\n",
              "  </svg>\n",
              "    </button>\n",
              "\n",
              "  <style>\n",
              "    .colab-df-container {\n",
              "      display:flex;\n",
              "      gap: 12px;\n",
              "    }\n",
              "\n",
              "    .colab-df-convert {\n",
              "      background-color: #E8F0FE;\n",
              "      border: none;\n",
              "      border-radius: 50%;\n",
              "      cursor: pointer;\n",
              "      display: none;\n",
              "      fill: #1967D2;\n",
              "      height: 32px;\n",
              "      padding: 0 0 0 0;\n",
              "      width: 32px;\n",
              "    }\n",
              "\n",
              "    .colab-df-convert:hover {\n",
              "      background-color: #E2EBFA;\n",
              "      box-shadow: 0px 1px 2px rgba(60, 64, 67, 0.3), 0px 1px 3px 1px rgba(60, 64, 67, 0.15);\n",
              "      fill: #174EA6;\n",
              "    }\n",
              "\n",
              "    .colab-df-buttons div {\n",
              "      margin-bottom: 4px;\n",
              "    }\n",
              "\n",
              "    [theme=dark] .colab-df-convert {\n",
              "      background-color: #3B4455;\n",
              "      fill: #D2E3FC;\n",
              "    }\n",
              "\n",
              "    [theme=dark] .colab-df-convert:hover {\n",
              "      background-color: #434B5C;\n",
              "      box-shadow: 0px 1px 3px 1px rgba(0, 0, 0, 0.15);\n",
              "      filter: drop-shadow(0px 1px 2px rgba(0, 0, 0, 0.3));\n",
              "      fill: #FFFFFF;\n",
              "    }\n",
              "  </style>\n",
              "\n",
              "    <script>\n",
              "      const buttonEl =\n",
              "        document.querySelector('#df-5873712b-438b-4d9c-a798-f73a0c7b3908 button.colab-df-convert');\n",
              "      buttonEl.style.display =\n",
              "        google.colab.kernel.accessAllowed ? 'block' : 'none';\n",
              "\n",
              "      async function convertToInteractive(key) {\n",
              "        const element = document.querySelector('#df-5873712b-438b-4d9c-a798-f73a0c7b3908');\n",
              "        const dataTable =\n",
              "          await google.colab.kernel.invokeFunction('convertToInteractive',\n",
              "                                                    [key], {});\n",
              "        if (!dataTable) return;\n",
              "\n",
              "        const docLinkHtml = 'Like what you see? Visit the ' +\n",
              "          '<a target=\"_blank\" href=https://colab.research.google.com/notebooks/data_table.ipynb>data table notebook</a>'\n",
              "          + ' to learn more about interactive tables.';\n",
              "        element.innerHTML = '';\n",
              "        dataTable['output_type'] = 'display_data';\n",
              "        await google.colab.output.renderOutput(dataTable, element);\n",
              "        const docLink = document.createElement('div');\n",
              "        docLink.innerHTML = docLinkHtml;\n",
              "        element.appendChild(docLink);\n",
              "      }\n",
              "    </script>\n",
              "  </div>\n",
              "\n",
              "\n",
              "  <div id=\"id_1baab0ce-48bc-4416-960b-b3519dc132d0\">\n",
              "    <style>\n",
              "      .colab-df-generate {\n",
              "        background-color: #E8F0FE;\n",
              "        border: none;\n",
              "        border-radius: 50%;\n",
              "        cursor: pointer;\n",
              "        display: none;\n",
              "        fill: #1967D2;\n",
              "        height: 32px;\n",
              "        padding: 0 0 0 0;\n",
              "        width: 32px;\n",
              "      }\n",
              "\n",
              "      .colab-df-generate:hover {\n",
              "        background-color: #E2EBFA;\n",
              "        box-shadow: 0px 1px 2px rgba(60, 64, 67, 0.3), 0px 1px 3px 1px rgba(60, 64, 67, 0.15);\n",
              "        fill: #174EA6;\n",
              "      }\n",
              "\n",
              "      [theme=dark] .colab-df-generate {\n",
              "        background-color: #3B4455;\n",
              "        fill: #D2E3FC;\n",
              "      }\n",
              "\n",
              "      [theme=dark] .colab-df-generate:hover {\n",
              "        background-color: #434B5C;\n",
              "        box-shadow: 0px 1px 3px 1px rgba(0, 0, 0, 0.15);\n",
              "        filter: drop-shadow(0px 1px 2px rgba(0, 0, 0, 0.3));\n",
              "        fill: #FFFFFF;\n",
              "      }\n",
              "    </style>\n",
              "    <button class=\"colab-df-generate\" onclick=\"generateWithVariable('roi')\"\n",
              "            title=\"Generate code using this dataframe.\"\n",
              "            style=\"display:none;\">\n",
              "\n",
              "  <svg xmlns=\"http://www.w3.org/2000/svg\" height=\"24px\"viewBox=\"0 0 24 24\"\n",
              "       width=\"24px\">\n",
              "    <path d=\"M7,19H8.4L18.45,9,17,7.55,7,17.6ZM5,21V16.75L18.45,3.32a2,2,0,0,1,2.83,0l1.4,1.43a1.91,1.91,0,0,1,.58,1.4,1.91,1.91,0,0,1-.58,1.4L9.25,21ZM18.45,9,17,7.55Zm-12,3A5.31,5.31,0,0,0,4.9,8.1,5.31,5.31,0,0,0,1,6.5,5.31,5.31,0,0,0,4.9,4.9,5.31,5.31,0,0,0,6.5,1,5.31,5.31,0,0,0,8.1,4.9,5.31,5.31,0,0,0,12,6.5,5.46,5.46,0,0,0,6.5,12Z\"/>\n",
              "  </svg>\n",
              "    </button>\n",
              "    <script>\n",
              "      (() => {\n",
              "      const buttonEl =\n",
              "        document.querySelector('#id_1baab0ce-48bc-4416-960b-b3519dc132d0 button.colab-df-generate');\n",
              "      buttonEl.style.display =\n",
              "        google.colab.kernel.accessAllowed ? 'block' : 'none';\n",
              "\n",
              "      buttonEl.onclick = () => {\n",
              "        google.colab.notebook.generateWithVariable('roi');\n",
              "      }\n",
              "      })();\n",
              "    </script>\n",
              "  </div>\n",
              "\n",
              "    </div>\n",
              "  </div>\n"
            ],
            "application/vnd.google.colaboratory.intrinsic+json": {
              "type": "dataframe",
              "variable_name": "roi",
              "repr_error": "0"
            }
          },
          "metadata": {},
          "execution_count": 5
        }
      ]
    },
    {
      "cell_type": "code",
      "source": [
        "\n",
        "# Create soil and weather files for the selected region\n",
        "workingpath = cm_sp.create_roi_sp_data(\n",
        "    #roi_index=roi_index,\n",
        "    roi= roi,\n",
        "    group_codes=TEXTURE_CLASSES,  # Codes for grouping data by texture\n",
        "    create_group_splayer=True  # Option to create a grouped spatial layer\n",
        ")\n",
        "if workingpath is not None:\n",
        "    # Locate environmental working paths\n",
        "    cm_sp.model.find_envworking_paths(cm_sp._tmp_path, 'WTH')\n",
        "\n",
        "    # Set up crop files\n",
        "    cm_sp.model.set_up_crop(crop=cm_sp.crop, cultivar=cm_sp.cultivar)\n",
        "\n",
        "    # Set up management files\n",
        "    cm_sp.model.set_up_management(crop=cm_sp.crop, cultivar=cm_sp.cultivar, **cm_sp.config.MANAGEMENT)\n",
        "\n",
        "    # run the simulation\n",
        "    completed_sims =cm_sp.model.run(cm_sp.model.crop_code, crop=cm_sp.crop,planting_window=cm_sp.config.MANAGEMENT.plantingWindow,\n",
        "                                        bin_path = cm_sp.config.GENERAL_INFO.bin_path, remove_tmp_folder=True)\n",
        "    print(completed_sims)\n",
        "else:\n",
        "    print('there is no information')"
      ],
      "metadata": {
        "id": "5gBDhOBlpn_E",
        "outputId": "cb447049-a1c4-489d-fb5f-7bb584250c41",
        "colab": {
          "base_uri": "https://localhost:8080/"
        }
      },
      "execution_count": null,
      "outputs": [
        {
          "output_type": "stream",
          "name": "stdout",
          "text": [
            "sand 31.9144287109375 clay 37.006649017333984\n",
            "sand 30.098114013671875 clay 40.83773422241211\n",
            "Configuration file written: runs/180106/clay/experimental_file_config.yaml\n",
            "experimental file created: ['runs/180106/clay/EXPS0001.CSX']\n",
            "Configuration file written: runs/180106/clayloam/experimental_file_config.yaml\n",
            "experimental file created: ['runs/180106/clayloam/EXPS0001.CSX']\n",
            "{'clay': True, 'clayloam': True}\n"
          ]
        }
      ]
    },
    {
      "cell_type": "code",
      "source": [
        "from crop_modeling.dssat.output import DSSATOutputData\n",
        "import plotly.express as px\n",
        "\n",
        "## load the results\n",
        "\n",
        "groupclasses = [\n",
        "        i for i in os.listdir(cm_sp._tmp_path) if os.path.isdir(os.path.join(cm_sp._tmp_path, i))\n",
        "    ]\n",
        "\n",
        "output_data = {\n",
        "groupclasses[i]: DSSATOutputData(os.path.join(cm_sp._tmp_path, groupclasses[i]))\n",
        "        for i in range(len(groupclasses))\n",
        "}"
      ],
      "metadata": {
        "id": "Od2-zOVXyr0f",
        "outputId": "794239f2-1ed0-4fc1-9b9b-c96c463774db",
        "colab": {
          "base_uri": "https://localhost:8080/"
        }
      },
      "execution_count": null,
      "outputs": [
        {
          "output_type": "stream",
          "name": "stdout",
          "text": [
            "runs/180106/clay\n",
            "runs/180106/clayloam\n"
          ]
        }
      ]
    },
    {
      "cell_type": "code",
      "source": [
        "## potential yield\n",
        "labels = {'HWAH': \"Yield at harvest (Kg / ha)\", \"monthday\": \"Planting Date\" }\n",
        "completedgroups = [k for k,v in completed_sims.items() if v]\n",
        "potentialyield_data = []\n",
        "for gval in completedgroups:\n",
        "    dftmp = output_data[gval].output_data().sort_values(\"PDAT\").loc[:,[\"PDAT\",\"HWAH\"]]\n",
        "    dftmp = dftmp.loc[dftmp.HWAH != 0]\n",
        "    dftmp['texture'] = gval\n",
        "    potentialyield_data.append(dftmp)\n",
        "\n",
        "potentialyield_data = pd.concat(potentialyield_data)# fig.show()\n",
        "potentialyield_data['year'] = potentialyield_data.PDAT.dt.year\n",
        "potentialyield_data['monthday'] = potentialyield_data.PDAT.dt.strftime('%b-%d')\n",
        "datatoplot = potentialyield_data.sort_values(\"PDAT\")\n",
        "fig = px.line(datatoplot, x=\"monthday\", y=\"HWAH\", animation_frame=\"year\",\n",
        "            color=\"texture\",  labels = labels)\n",
        "fig.show()"
      ],
      "metadata": {
        "id": "nxies7MmpviV",
        "outputId": "d0ae2a68-7be8-444a-cd17-3671cf88625a",
        "colab": {
          "base_uri": "https://localhost:8080/",
          "height": 577
        }
      },
      "execution_count": null,
      "outputs": [
        {
          "output_type": "stream",
          "name": "stdout",
          "text": [
            ".OUT\n",
            ".OUT\n"
          ]
        },
        {
          "output_type": "display_data",
          "data": {
            "text/html": [
              "<html>\n",
              "<head><meta charset=\"utf-8\" /></head>\n",
              "<body>\n",
              "    <div>            <script src=\"https://cdnjs.cloudflare.com/ajax/libs/mathjax/2.7.5/MathJax.js?config=TeX-AMS-MML_SVG\"></script><script type=\"text/javascript\">if (window.MathJax && window.MathJax.Hub && window.MathJax.Hub.Config) {window.MathJax.Hub.Config({SVG: {font: \"STIX-Web\"}});}</script>                <script type=\"text/javascript\">window.PlotlyConfig = {MathJaxConfig: 'local'};</script>\n",
              "        <script charset=\"utf-8\" src=\"https://cdn.plot.ly/plotly-2.35.2.min.js\"></script>                <div id=\"4a732dc4-fc2e-42ca-a54e-d00d7e21a08c\" class=\"plotly-graph-div\" style=\"height:525px; width:100%;\"></div>            <script type=\"text/javascript\">                                    window.PLOTLYENV=window.PLOTLYENV || {};                                    if (document.getElementById(\"4a732dc4-fc2e-42ca-a54e-d00d7e21a08c\")) {                    Plotly.newPlot(                        \"4a732dc4-fc2e-42ca-a54e-d00d7e21a08c\",                        [{\"hovertemplate\":\"texture=clay\\u003cbr\\u003eyear=2001\\u003cbr\\u003ePlanting Date=%{x}\\u003cbr\\u003eYield at harvest (Kg \\u002f ha)=%{y}\\u003cextra\\u003e\\u003c\\u002fextra\\u003e\",\"legendgroup\":\"clay\",\"line\":{\"color\":\"#636efa\",\"dash\":\"solid\"},\"marker\":{\"symbol\":\"circle\"},\"mode\":\"lines\",\"name\":\"clay\",\"orientation\":\"v\",\"showlegend\":true,\"x\":[\"Feb-01\",\"Feb-08\",\"Feb-15\",\"Feb-22\"],\"xaxis\":\"x\",\"y\":[9323.0,9363.0,9282.0,9364.0],\"yaxis\":\"y\",\"type\":\"scatter\"},{\"hovertemplate\":\"texture=clayloam\\u003cbr\\u003eyear=2001\\u003cbr\\u003ePlanting Date=%{x}\\u003cbr\\u003eYield at harvest (Kg \\u002f ha)=%{y}\\u003cextra\\u003e\\u003c\\u002fextra\\u003e\",\"legendgroup\":\"clayloam\",\"line\":{\"color\":\"#EF553B\",\"dash\":\"solid\"},\"marker\":{\"symbol\":\"circle\"},\"mode\":\"lines\",\"name\":\"clayloam\",\"orientation\":\"v\",\"showlegend\":true,\"x\":[\"Feb-01\",\"Feb-08\",\"Feb-15\",\"Feb-22\"],\"xaxis\":\"x\",\"y\":[9006.0,9052.0,8944.0,9009.0],\"yaxis\":\"y\",\"type\":\"scatter\"}],                        {\"template\":{\"data\":{\"histogram2dcontour\":[{\"type\":\"histogram2dcontour\",\"colorbar\":{\"outlinewidth\":0,\"ticks\":\"\"},\"colorscale\":[[0.0,\"#0d0887\"],[0.1111111111111111,\"#46039f\"],[0.2222222222222222,\"#7201a8\"],[0.3333333333333333,\"#9c179e\"],[0.4444444444444444,\"#bd3786\"],[0.5555555555555556,\"#d8576b\"],[0.6666666666666666,\"#ed7953\"],[0.7777777777777778,\"#fb9f3a\"],[0.8888888888888888,\"#fdca26\"],[1.0,\"#f0f921\"]]}],\"choropleth\":[{\"type\":\"choropleth\",\"colorbar\":{\"outlinewidth\":0,\"ticks\":\"\"}}],\"histogram2d\":[{\"type\":\"histogram2d\",\"colorbar\":{\"outlinewidth\":0,\"ticks\":\"\"},\"colorscale\":[[0.0,\"#0d0887\"],[0.1111111111111111,\"#46039f\"],[0.2222222222222222,\"#7201a8\"],[0.3333333333333333,\"#9c179e\"],[0.4444444444444444,\"#bd3786\"],[0.5555555555555556,\"#d8576b\"],[0.6666666666666666,\"#ed7953\"],[0.7777777777777778,\"#fb9f3a\"],[0.8888888888888888,\"#fdca26\"],[1.0,\"#f0f921\"]]}],\"heatmap\":[{\"type\":\"heatmap\",\"colorbar\":{\"outlinewidth\":0,\"ticks\":\"\"},\"colorscale\":[[0.0,\"#0d0887\"],[0.1111111111111111,\"#46039f\"],[0.2222222222222222,\"#7201a8\"],[0.3333333333333333,\"#9c179e\"],[0.4444444444444444,\"#bd3786\"],[0.5555555555555556,\"#d8576b\"],[0.6666666666666666,\"#ed7953\"],[0.7777777777777778,\"#fb9f3a\"],[0.8888888888888888,\"#fdca26\"],[1.0,\"#f0f921\"]]}],\"heatmapgl\":[{\"type\":\"heatmapgl\",\"colorbar\":{\"outlinewidth\":0,\"ticks\":\"\"},\"colorscale\":[[0.0,\"#0d0887\"],[0.1111111111111111,\"#46039f\"],[0.2222222222222222,\"#7201a8\"],[0.3333333333333333,\"#9c179e\"],[0.4444444444444444,\"#bd3786\"],[0.5555555555555556,\"#d8576b\"],[0.6666666666666666,\"#ed7953\"],[0.7777777777777778,\"#fb9f3a\"],[0.8888888888888888,\"#fdca26\"],[1.0,\"#f0f921\"]]}],\"contourcarpet\":[{\"type\":\"contourcarpet\",\"colorbar\":{\"outlinewidth\":0,\"ticks\":\"\"}}],\"contour\":[{\"type\":\"contour\",\"colorbar\":{\"outlinewidth\":0,\"ticks\":\"\"},\"colorscale\":[[0.0,\"#0d0887\"],[0.1111111111111111,\"#46039f\"],[0.2222222222222222,\"#7201a8\"],[0.3333333333333333,\"#9c179e\"],[0.4444444444444444,\"#bd3786\"],[0.5555555555555556,\"#d8576b\"],[0.6666666666666666,\"#ed7953\"],[0.7777777777777778,\"#fb9f3a\"],[0.8888888888888888,\"#fdca26\"],[1.0,\"#f0f921\"]]}],\"surface\":[{\"type\":\"surface\",\"colorbar\":{\"outlinewidth\":0,\"ticks\":\"\"},\"colorscale\":[[0.0,\"#0d0887\"],[0.1111111111111111,\"#46039f\"],[0.2222222222222222,\"#7201a8\"],[0.3333333333333333,\"#9c179e\"],[0.4444444444444444,\"#bd3786\"],[0.5555555555555556,\"#d8576b\"],[0.6666666666666666,\"#ed7953\"],[0.7777777777777778,\"#fb9f3a\"],[0.8888888888888888,\"#fdca26\"],[1.0,\"#f0f921\"]]}],\"mesh3d\":[{\"type\":\"mesh3d\",\"colorbar\":{\"outlinewidth\":0,\"ticks\":\"\"}}],\"scatter\":[{\"fillpattern\":{\"fillmode\":\"overlay\",\"size\":10,\"solidity\":0.2},\"type\":\"scatter\"}],\"parcoords\":[{\"type\":\"parcoords\",\"line\":{\"colorbar\":{\"outlinewidth\":0,\"ticks\":\"\"}}}],\"scatterpolargl\":[{\"type\":\"scatterpolargl\",\"marker\":{\"colorbar\":{\"outlinewidth\":0,\"ticks\":\"\"}}}],\"bar\":[{\"error_x\":{\"color\":\"#2a3f5f\"},\"error_y\":{\"color\":\"#2a3f5f\"},\"marker\":{\"line\":{\"color\":\"#E5ECF6\",\"width\":0.5},\"pattern\":{\"fillmode\":\"overlay\",\"size\":10,\"solidity\":0.2}},\"type\":\"bar\"}],\"scattergeo\":[{\"type\":\"scattergeo\",\"marker\":{\"colorbar\":{\"outlinewidth\":0,\"ticks\":\"\"}}}],\"scatterpolar\":[{\"type\":\"scatterpolar\",\"marker\":{\"colorbar\":{\"outlinewidth\":0,\"ticks\":\"\"}}}],\"histogram\":[{\"marker\":{\"pattern\":{\"fillmode\":\"overlay\",\"size\":10,\"solidity\":0.2}},\"type\":\"histogram\"}],\"scattergl\":[{\"type\":\"scattergl\",\"marker\":{\"colorbar\":{\"outlinewidth\":0,\"ticks\":\"\"}}}],\"scatter3d\":[{\"type\":\"scatter3d\",\"line\":{\"colorbar\":{\"outlinewidth\":0,\"ticks\":\"\"}},\"marker\":{\"colorbar\":{\"outlinewidth\":0,\"ticks\":\"\"}}}],\"scattermapbox\":[{\"type\":\"scattermapbox\",\"marker\":{\"colorbar\":{\"outlinewidth\":0,\"ticks\":\"\"}}}],\"scatterternary\":[{\"type\":\"scatterternary\",\"marker\":{\"colorbar\":{\"outlinewidth\":0,\"ticks\":\"\"}}}],\"scattercarpet\":[{\"type\":\"scattercarpet\",\"marker\":{\"colorbar\":{\"outlinewidth\":0,\"ticks\":\"\"}}}],\"carpet\":[{\"aaxis\":{\"endlinecolor\":\"#2a3f5f\",\"gridcolor\":\"white\",\"linecolor\":\"white\",\"minorgridcolor\":\"white\",\"startlinecolor\":\"#2a3f5f\"},\"baxis\":{\"endlinecolor\":\"#2a3f5f\",\"gridcolor\":\"white\",\"linecolor\":\"white\",\"minorgridcolor\":\"white\",\"startlinecolor\":\"#2a3f5f\"},\"type\":\"carpet\"}],\"table\":[{\"cells\":{\"fill\":{\"color\":\"#EBF0F8\"},\"line\":{\"color\":\"white\"}},\"header\":{\"fill\":{\"color\":\"#C8D4E3\"},\"line\":{\"color\":\"white\"}},\"type\":\"table\"}],\"barpolar\":[{\"marker\":{\"line\":{\"color\":\"#E5ECF6\",\"width\":0.5},\"pattern\":{\"fillmode\":\"overlay\",\"size\":10,\"solidity\":0.2}},\"type\":\"barpolar\"}],\"pie\":[{\"automargin\":true,\"type\":\"pie\"}]},\"layout\":{\"autotypenumbers\":\"strict\",\"colorway\":[\"#636efa\",\"#EF553B\",\"#00cc96\",\"#ab63fa\",\"#FFA15A\",\"#19d3f3\",\"#FF6692\",\"#B6E880\",\"#FF97FF\",\"#FECB52\"],\"font\":{\"color\":\"#2a3f5f\"},\"hovermode\":\"closest\",\"hoverlabel\":{\"align\":\"left\"},\"paper_bgcolor\":\"white\",\"plot_bgcolor\":\"#E5ECF6\",\"polar\":{\"bgcolor\":\"#E5ECF6\",\"angularaxis\":{\"gridcolor\":\"white\",\"linecolor\":\"white\",\"ticks\":\"\"},\"radialaxis\":{\"gridcolor\":\"white\",\"linecolor\":\"white\",\"ticks\":\"\"}},\"ternary\":{\"bgcolor\":\"#E5ECF6\",\"aaxis\":{\"gridcolor\":\"white\",\"linecolor\":\"white\",\"ticks\":\"\"},\"baxis\":{\"gridcolor\":\"white\",\"linecolor\":\"white\",\"ticks\":\"\"},\"caxis\":{\"gridcolor\":\"white\",\"linecolor\":\"white\",\"ticks\":\"\"}},\"coloraxis\":{\"colorbar\":{\"outlinewidth\":0,\"ticks\":\"\"}},\"colorscale\":{\"sequential\":[[0.0,\"#0d0887\"],[0.1111111111111111,\"#46039f\"],[0.2222222222222222,\"#7201a8\"],[0.3333333333333333,\"#9c179e\"],[0.4444444444444444,\"#bd3786\"],[0.5555555555555556,\"#d8576b\"],[0.6666666666666666,\"#ed7953\"],[0.7777777777777778,\"#fb9f3a\"],[0.8888888888888888,\"#fdca26\"],[1.0,\"#f0f921\"]],\"sequentialminus\":[[0.0,\"#0d0887\"],[0.1111111111111111,\"#46039f\"],[0.2222222222222222,\"#7201a8\"],[0.3333333333333333,\"#9c179e\"],[0.4444444444444444,\"#bd3786\"],[0.5555555555555556,\"#d8576b\"],[0.6666666666666666,\"#ed7953\"],[0.7777777777777778,\"#fb9f3a\"],[0.8888888888888888,\"#fdca26\"],[1.0,\"#f0f921\"]],\"diverging\":[[0,\"#8e0152\"],[0.1,\"#c51b7d\"],[0.2,\"#de77ae\"],[0.3,\"#f1b6da\"],[0.4,\"#fde0ef\"],[0.5,\"#f7f7f7\"],[0.6,\"#e6f5d0\"],[0.7,\"#b8e186\"],[0.8,\"#7fbc41\"],[0.9,\"#4d9221\"],[1,\"#276419\"]]},\"xaxis\":{\"gridcolor\":\"white\",\"linecolor\":\"white\",\"ticks\":\"\",\"title\":{\"standoff\":15},\"zerolinecolor\":\"white\",\"automargin\":true,\"zerolinewidth\":2},\"yaxis\":{\"gridcolor\":\"white\",\"linecolor\":\"white\",\"ticks\":\"\",\"title\":{\"standoff\":15},\"zerolinecolor\":\"white\",\"automargin\":true,\"zerolinewidth\":2},\"scene\":{\"xaxis\":{\"backgroundcolor\":\"#E5ECF6\",\"gridcolor\":\"white\",\"linecolor\":\"white\",\"showbackground\":true,\"ticks\":\"\",\"zerolinecolor\":\"white\",\"gridwidth\":2},\"yaxis\":{\"backgroundcolor\":\"#E5ECF6\",\"gridcolor\":\"white\",\"linecolor\":\"white\",\"showbackground\":true,\"ticks\":\"\",\"zerolinecolor\":\"white\",\"gridwidth\":2},\"zaxis\":{\"backgroundcolor\":\"#E5ECF6\",\"gridcolor\":\"white\",\"linecolor\":\"white\",\"showbackground\":true,\"ticks\":\"\",\"zerolinecolor\":\"white\",\"gridwidth\":2}},\"shapedefaults\":{\"line\":{\"color\":\"#2a3f5f\"}},\"annotationdefaults\":{\"arrowcolor\":\"#2a3f5f\",\"arrowhead\":0,\"arrowwidth\":1},\"geo\":{\"bgcolor\":\"white\",\"landcolor\":\"#E5ECF6\",\"subunitcolor\":\"white\",\"showland\":true,\"showlakes\":true,\"lakecolor\":\"white\"},\"title\":{\"x\":0.05},\"mapbox\":{\"style\":\"light\"}}},\"xaxis\":{\"anchor\":\"y\",\"domain\":[0.0,1.0],\"title\":{\"text\":\"Planting Date\"}},\"yaxis\":{\"anchor\":\"x\",\"domain\":[0.0,1.0],\"title\":{\"text\":\"Yield at harvest (Kg \\u002f ha)\"}},\"legend\":{\"title\":{\"text\":\"texture\"},\"tracegroupgap\":0},\"margin\":{\"t\":60}},                        {\"responsive\": true}                    ).then(function(){\n",
              "                            \n",
              "var gd = document.getElementById('4a732dc4-fc2e-42ca-a54e-d00d7e21a08c');\n",
              "var x = new MutationObserver(function (mutations, observer) {{\n",
              "        var display = window.getComputedStyle(gd).display;\n",
              "        if (!display || display === 'none') {{\n",
              "            console.log([gd, 'removed!']);\n",
              "            Plotly.purge(gd);\n",
              "            observer.disconnect();\n",
              "        }}\n",
              "}});\n",
              "\n",
              "// Listen for the removal of the full notebook cells\n",
              "var notebookContainer = gd.closest('#notebook-container');\n",
              "if (notebookContainer) {{\n",
              "    x.observe(notebookContainer, {childList: true});\n",
              "}}\n",
              "\n",
              "// Listen for the clearing of the current output cell\n",
              "var outputEl = gd.closest('.output');\n",
              "if (outputEl) {{\n",
              "    x.observe(outputEl, {childList: true});\n",
              "}}\n",
              "\n",
              "                        })                };                            </script>        </div>\n",
              "</body>\n",
              "</html>"
            ]
          },
          "metadata": {}
        }
      ]
    },
    {
      "cell_type": "markdown",
      "source": [
        "### Beans example"
      ],
      "metadata": {
        "id": "zFgRQQyEp8-M"
      }
    },
    {
      "cell_type": "code",
      "source": [
        "import os\n",
        "os.chdir('/content/WeatherSoilDataProcessor')\n",
        "import sys\n",
        "sys.path.append(\"/content/WeatherSoilDataProcessor/Py_DSSATTools/\")\n",
        "from spatialdata.soil_data import TEXTURE_CLASSES\n",
        "from crop_modeling.spatial_process import SpatialCM\n",
        "import pandas as pd\n",
        "\n",
        "\n",
        "cm_configuration = {\n",
        "    'GENERAL_INFO': {\n",
        "        'country': 'Honduras',\n",
        "        'country_code': 'HND', # crountry code\n",
        "        'working_path': 'runs', # the model outputs will be located in this path\n",
        "        'ncores': 10,\n",
        "        'model': 'dssat',\n",
        "        'bin_path': None\n",
        "    },\n",
        "    'SPATIAL_INFO':{\n",
        "        'geospatial_path': 'data/tb_limitealdeas.shp', # spatial file that contains the region of interest\n",
        "        'feature_name': 'GEOCODIGO', ## an unique code that represent each region of interest\n",
        "        'aggregate_by' : 'texture',\n",
        "        'soil_path' : 'soil/soil_hnd.nc',\n",
        "        'weather_path': 'weather/weather_hnd.nc',\n",
        "        'scale_factor': 10 # scale factor for soil and weather spatial resolution combination\n",
        "    },\n",
        "    'CROP': {\n",
        "        'name': 'Bean', # crop name\n",
        "        'cultivar': 'IB0006', # cultivar\n",
        "        'cultivar_file': None # optional for the cases that you have a cultivar that is not in DSSATTools default cultivars\n",
        "    },\n",
        "    'MANAGEMENT':{\n",
        "        'planting_date': '2001-05-01',\n",
        "        'harvesting_date': '2001-08-30',\n",
        "        'plantingWindow': 15, # planting window in weeks\n",
        "        'fertilizer': False, # It is not implemented yet\n",
        "        'index_soilwat': 1,\n",
        "        'template': 'crop_modeling/dssat/exp_files/KEAG0003.BNX'\n",
        "    }\n",
        "}\n",
        "\n",
        "\n"
      ],
      "metadata": {
        "id": "iIBk9u6MqA4v"
      },
      "execution_count": null,
      "outputs": []
    },
    {
      "cell_type": "code",
      "source": [
        "## delete previous runs\n",
        "import shutil\n",
        "if os.path.exists('runs'):\n",
        "  shutil.rmtree('runs', ignore_errors=False, onerror=None)\n",
        "\n",
        "cm_sp = SpatialCM(configuration_dict=cm_configuration)\n",
        "\n",
        "# Specify the region of interest by its geocode this can be also done using the feature index\n",
        "roi = cm_sp.geo_features.loc[cm_sp.geo_features['GEOCODIGO']==str(180106)]\n",
        "roi"
      ],
      "metadata": {
        "id": "oga6V6kNp8JN",
        "outputId": "cefb2eee-b8ff-4e39-c5a7-0e1cb279c524",
        "colab": {
          "base_uri": "https://localhost:8080/",
          "height": 124
        }
      },
      "execution_count": null,
      "outputs": [
        {
          "output_type": "stream",
          "name": "stdout",
          "text": [
            "loaded from soil/soil_hnd.nc\n",
            "loaded from weather/weather_hnd.nc\n"
          ]
        },
        {
          "output_type": "execute_result",
          "data": {
            "text/plain": [
              "    GEOCODIGO     ALDEA COD_ALDEA COD_MUNI COD_DEPTO      KM2  DENSIDAD  MUNI  \\\n",
              "978    180106  La Guata    180106     1801        18  252.262   14.7664  Yoro   \n",
              "\n",
              "    DEPTO       AREA_HA                                           geometry  \n",
              "978  Yoro  25226.152619  POLYGON ((-87.09383 15.32276, -87.09383 15.322...  "
            ],
            "text/html": [
              "\n",
              "  <div id=\"df-56a9f703-35b1-4377-8eef-97493cf30880\" class=\"colab-df-container\">\n",
              "    <div>\n",
              "<style scoped>\n",
              "    .dataframe tbody tr th:only-of-type {\n",
              "        vertical-align: middle;\n",
              "    }\n",
              "\n",
              "    .dataframe tbody tr th {\n",
              "        vertical-align: top;\n",
              "    }\n",
              "\n",
              "    .dataframe thead th {\n",
              "        text-align: right;\n",
              "    }\n",
              "</style>\n",
              "<table border=\"1\" class=\"dataframe\">\n",
              "  <thead>\n",
              "    <tr style=\"text-align: right;\">\n",
              "      <th></th>\n",
              "      <th>GEOCODIGO</th>\n",
              "      <th>ALDEA</th>\n",
              "      <th>COD_ALDEA</th>\n",
              "      <th>COD_MUNI</th>\n",
              "      <th>COD_DEPTO</th>\n",
              "      <th>KM2</th>\n",
              "      <th>DENSIDAD</th>\n",
              "      <th>MUNI</th>\n",
              "      <th>DEPTO</th>\n",
              "      <th>AREA_HA</th>\n",
              "      <th>geometry</th>\n",
              "    </tr>\n",
              "  </thead>\n",
              "  <tbody>\n",
              "    <tr>\n",
              "      <th>978</th>\n",
              "      <td>180106</td>\n",
              "      <td>La Guata</td>\n",
              "      <td>180106</td>\n",
              "      <td>1801</td>\n",
              "      <td>18</td>\n",
              "      <td>252.262</td>\n",
              "      <td>14.7664</td>\n",
              "      <td>Yoro</td>\n",
              "      <td>Yoro</td>\n",
              "      <td>25226.152619</td>\n",
              "      <td>POLYGON ((-87.09383 15.32276, -87.09383 15.322...</td>\n",
              "    </tr>\n",
              "  </tbody>\n",
              "</table>\n",
              "</div>\n",
              "    <div class=\"colab-df-buttons\">\n",
              "\n",
              "  <div class=\"colab-df-container\">\n",
              "    <button class=\"colab-df-convert\" onclick=\"convertToInteractive('df-56a9f703-35b1-4377-8eef-97493cf30880')\"\n",
              "            title=\"Convert this dataframe to an interactive table.\"\n",
              "            style=\"display:none;\">\n",
              "\n",
              "  <svg xmlns=\"http://www.w3.org/2000/svg\" height=\"24px\" viewBox=\"0 -960 960 960\">\n",
              "    <path d=\"M120-120v-720h720v720H120Zm60-500h600v-160H180v160Zm220 220h160v-160H400v160Zm0 220h160v-160H400v160ZM180-400h160v-160H180v160Zm440 0h160v-160H620v160ZM180-180h160v-160H180v160Zm440 0h160v-160H620v160Z\"/>\n",
              "  </svg>\n",
              "    </button>\n",
              "\n",
              "  <style>\n",
              "    .colab-df-container {\n",
              "      display:flex;\n",
              "      gap: 12px;\n",
              "    }\n",
              "\n",
              "    .colab-df-convert {\n",
              "      background-color: #E8F0FE;\n",
              "      border: none;\n",
              "      border-radius: 50%;\n",
              "      cursor: pointer;\n",
              "      display: none;\n",
              "      fill: #1967D2;\n",
              "      height: 32px;\n",
              "      padding: 0 0 0 0;\n",
              "      width: 32px;\n",
              "    }\n",
              "\n",
              "    .colab-df-convert:hover {\n",
              "      background-color: #E2EBFA;\n",
              "      box-shadow: 0px 1px 2px rgba(60, 64, 67, 0.3), 0px 1px 3px 1px rgba(60, 64, 67, 0.15);\n",
              "      fill: #174EA6;\n",
              "    }\n",
              "\n",
              "    .colab-df-buttons div {\n",
              "      margin-bottom: 4px;\n",
              "    }\n",
              "\n",
              "    [theme=dark] .colab-df-convert {\n",
              "      background-color: #3B4455;\n",
              "      fill: #D2E3FC;\n",
              "    }\n",
              "\n",
              "    [theme=dark] .colab-df-convert:hover {\n",
              "      background-color: #434B5C;\n",
              "      box-shadow: 0px 1px 3px 1px rgba(0, 0, 0, 0.15);\n",
              "      filter: drop-shadow(0px 1px 2px rgba(0, 0, 0, 0.3));\n",
              "      fill: #FFFFFF;\n",
              "    }\n",
              "  </style>\n",
              "\n",
              "    <script>\n",
              "      const buttonEl =\n",
              "        document.querySelector('#df-56a9f703-35b1-4377-8eef-97493cf30880 button.colab-df-convert');\n",
              "      buttonEl.style.display =\n",
              "        google.colab.kernel.accessAllowed ? 'block' : 'none';\n",
              "\n",
              "      async function convertToInteractive(key) {\n",
              "        const element = document.querySelector('#df-56a9f703-35b1-4377-8eef-97493cf30880');\n",
              "        const dataTable =\n",
              "          await google.colab.kernel.invokeFunction('convertToInteractive',\n",
              "                                                    [key], {});\n",
              "        if (!dataTable) return;\n",
              "\n",
              "        const docLinkHtml = 'Like what you see? Visit the ' +\n",
              "          '<a target=\"_blank\" href=https://colab.research.google.com/notebooks/data_table.ipynb>data table notebook</a>'\n",
              "          + ' to learn more about interactive tables.';\n",
              "        element.innerHTML = '';\n",
              "        dataTable['output_type'] = 'display_data';\n",
              "        await google.colab.output.renderOutput(dataTable, element);\n",
              "        const docLink = document.createElement('div');\n",
              "        docLink.innerHTML = docLinkHtml;\n",
              "        element.appendChild(docLink);\n",
              "      }\n",
              "    </script>\n",
              "  </div>\n",
              "\n",
              "\n",
              "  <div id=\"id_ef33f64b-397f-489d-9e02-e5466a5bc35f\">\n",
              "    <style>\n",
              "      .colab-df-generate {\n",
              "        background-color: #E8F0FE;\n",
              "        border: none;\n",
              "        border-radius: 50%;\n",
              "        cursor: pointer;\n",
              "        display: none;\n",
              "        fill: #1967D2;\n",
              "        height: 32px;\n",
              "        padding: 0 0 0 0;\n",
              "        width: 32px;\n",
              "      }\n",
              "\n",
              "      .colab-df-generate:hover {\n",
              "        background-color: #E2EBFA;\n",
              "        box-shadow: 0px 1px 2px rgba(60, 64, 67, 0.3), 0px 1px 3px 1px rgba(60, 64, 67, 0.15);\n",
              "        fill: #174EA6;\n",
              "      }\n",
              "\n",
              "      [theme=dark] .colab-df-generate {\n",
              "        background-color: #3B4455;\n",
              "        fill: #D2E3FC;\n",
              "      }\n",
              "\n",
              "      [theme=dark] .colab-df-generate:hover {\n",
              "        background-color: #434B5C;\n",
              "        box-shadow: 0px 1px 3px 1px rgba(0, 0, 0, 0.15);\n",
              "        filter: drop-shadow(0px 1px 2px rgba(0, 0, 0, 0.3));\n",
              "        fill: #FFFFFF;\n",
              "      }\n",
              "    </style>\n",
              "    <button class=\"colab-df-generate\" onclick=\"generateWithVariable('roi')\"\n",
              "            title=\"Generate code using this dataframe.\"\n",
              "            style=\"display:none;\">\n",
              "\n",
              "  <svg xmlns=\"http://www.w3.org/2000/svg\" height=\"24px\"viewBox=\"0 0 24 24\"\n",
              "       width=\"24px\">\n",
              "    <path d=\"M7,19H8.4L18.45,9,17,7.55,7,17.6ZM5,21V16.75L18.45,3.32a2,2,0,0,1,2.83,0l1.4,1.43a1.91,1.91,0,0,1,.58,1.4,1.91,1.91,0,0,1-.58,1.4L9.25,21ZM18.45,9,17,7.55Zm-12,3A5.31,5.31,0,0,0,4.9,8.1,5.31,5.31,0,0,0,1,6.5,5.31,5.31,0,0,0,4.9,4.9,5.31,5.31,0,0,0,6.5,1,5.31,5.31,0,0,0,8.1,4.9,5.31,5.31,0,0,0,12,6.5,5.46,5.46,0,0,0,6.5,12Z\"/>\n",
              "  </svg>\n",
              "    </button>\n",
              "    <script>\n",
              "      (() => {\n",
              "      const buttonEl =\n",
              "        document.querySelector('#id_ef33f64b-397f-489d-9e02-e5466a5bc35f button.colab-df-generate');\n",
              "      buttonEl.style.display =\n",
              "        google.colab.kernel.accessAllowed ? 'block' : 'none';\n",
              "\n",
              "      buttonEl.onclick = () => {\n",
              "        google.colab.notebook.generateWithVariable('roi');\n",
              "      }\n",
              "      })();\n",
              "    </script>\n",
              "  </div>\n",
              "\n",
              "    </div>\n",
              "  </div>\n"
            ],
            "application/vnd.google.colaboratory.intrinsic+json": {
              "type": "dataframe",
              "variable_name": "roi",
              "repr_error": "0"
            }
          },
          "metadata": {},
          "execution_count": 2
        }
      ]
    },
    {
      "cell_type": "code",
      "source": [
        "\n",
        "# Create soil and weather files for the selected region\n",
        "workingpath = cm_sp.create_roi_sp_data(\n",
        "    #roi_index=roi_index,\n",
        "    roi= roi,\n",
        "    group_codes=TEXTURE_CLASSES,  # Codes for grouping data by texture\n",
        "    create_group_splayer=True  # Option to create a grouped spatial layer\n",
        ")\n",
        "if workingpath is not None:\n",
        "    # Locate environmental working paths\n",
        "    cm_sp.model.find_envworking_paths(cm_sp._tmp_path, 'WTH')\n",
        "\n",
        "    # Set up crop files\n",
        "    cm_sp.model.set_up_crop(crop=cm_sp.crop, cultivar=cm_sp.cultivar)\n",
        "\n",
        "    # Set up management files\n",
        "    cm_sp.model.set_up_management(crop=cm_sp.crop, cultivar=cm_sp.cultivar, **cm_sp.config.MANAGEMENT)\n",
        "\n",
        "    # run the simulation\n",
        "    completed_sims =cm_sp.model.run(cm_sp.model.crop_code, crop=cm_sp.crop,planting_window=cm_sp.config.MANAGEMENT.plantingWindow,\n",
        "                                        bin_path = cm_sp.config.GENERAL_INFO.bin_path, remove_tmp_folder=True)\n",
        "    print(completed_sims)\n",
        "else:\n",
        "    print('there is no information')\n",
        "\n"
      ],
      "metadata": {
        "id": "YNZt2Mqhql9I",
        "outputId": "69a786e9-f21e-4a3b-a14b-a4396d995575",
        "colab": {
          "base_uri": "https://localhost:8080/"
        }
      },
      "execution_count": null,
      "outputs": [
        {
          "output_type": "stream",
          "name": "stdout",
          "text": [
            "sand 31.9144287109375 clay 37.006649017333984\n",
            "sand 30.098114013671875 clay 40.83773422241211\n",
            "Configuration file written: runs/180106/clay/experimental_file_config.yaml\n",
            "experimental file created: ['runs/180106/clay/EXPS0001.BNX']\n",
            "Configuration file written: runs/180106/clayloam/experimental_file_config.yaml\n",
            "experimental file created: ['runs/180106/clayloam/EXPS0001.BNX']\n",
            "{'clay': True, 'clayloam': True}\n"
          ]
        }
      ]
    },
    {
      "cell_type": "code",
      "source": [
        "from crop_modeling.dssat.output import DSSATOutputData\n",
        "import plotly.express as px\n",
        "\n",
        "## load the results\n",
        "\n",
        "groupclasses = [\n",
        "        i for i in os.listdir(cm_sp._tmp_path) if os.path.isdir(os.path.join(cm_sp._tmp_path, i))\n",
        "    ]\n",
        "\n",
        "output_data = {\n",
        "groupclasses[i]: DSSATOutputData(os.path.join(cm_sp._tmp_path, groupclasses[i]))\n",
        "        for i in range(len(groupclasses))\n",
        "}"
      ],
      "metadata": {
        "id": "EvE7YgFL1lZK",
        "outputId": "218844f3-deb9-4bc1-ed62-518de0209d7a",
        "colab": {
          "base_uri": "https://localhost:8080/"
        }
      },
      "execution_count": null,
      "outputs": [
        {
          "output_type": "stream",
          "name": "stdout",
          "text": [
            "runs/180106/clay\n",
            "runs/180106/clayloam\n"
          ]
        }
      ]
    },
    {
      "cell_type": "code",
      "source": [
        "## potential yield\n",
        "labels = {'HWAH': \"Yield at harvest (Kg / ha)\", \"monthday\": \"Planting Date\" }\n",
        "completedgroups = [k for k,v in completed_sims.items() if v]\n",
        "potentialyield_data = []\n",
        "for gval in completedgroups:\n",
        "    dftmp = output_data[gval].output_data().sort_values(\"PDAT\").loc[:,[\"PDAT\",\"HWAH\"]]\n",
        "    dftmp = dftmp.loc[dftmp.HWAH != 0]\n",
        "    dftmp['texture'] = gval\n",
        "    potentialyield_data.append(dftmp)\n",
        "\n",
        "potentialyield_data = pd.concat(potentialyield_data)# fig.show()\n",
        "potentialyield_data['year'] = potentialyield_data.PDAT.dt.year\n",
        "potentialyield_data['monthday'] = potentialyield_data.PDAT.dt.strftime('%b-%d')\n",
        "datatoplot = potentialyield_data.sort_values(\"PDAT\")\n",
        "fig = px.line(datatoplot, x=\"monthday\", y=\"HWAH\", animation_frame=\"year\",\n",
        "            color=\"texture\",  labels = labels)\n",
        "fig.show()"
      ],
      "metadata": {
        "id": "aCIYy1b_qnEk",
        "outputId": "08b8b7bd-1fb2-4f88-b331-601297a9f63f",
        "colab": {
          "base_uri": "https://localhost:8080/",
          "height": 577
        }
      },
      "execution_count": null,
      "outputs": [
        {
          "output_type": "stream",
          "name": "stdout",
          "text": [
            ".OUT\n",
            ".OUT\n"
          ]
        },
        {
          "output_type": "display_data",
          "data": {
            "text/html": [
              "<html>\n",
              "<head><meta charset=\"utf-8\" /></head>\n",
              "<body>\n",
              "    <div>            <script src=\"https://cdnjs.cloudflare.com/ajax/libs/mathjax/2.7.5/MathJax.js?config=TeX-AMS-MML_SVG\"></script><script type=\"text/javascript\">if (window.MathJax && window.MathJax.Hub && window.MathJax.Hub.Config) {window.MathJax.Hub.Config({SVG: {font: \"STIX-Web\"}});}</script>                <script type=\"text/javascript\">window.PlotlyConfig = {MathJaxConfig: 'local'};</script>\n",
              "        <script charset=\"utf-8\" src=\"https://cdn.plot.ly/plotly-2.35.2.min.js\"></script>                <div id=\"83a4c1d3-1bf2-4e15-8bbe-f87d76249b3a\" class=\"plotly-graph-div\" style=\"height:525px; width:100%;\"></div>            <script type=\"text/javascript\">                                    window.PLOTLYENV=window.PLOTLYENV || {};                                    if (document.getElementById(\"83a4c1d3-1bf2-4e15-8bbe-f87d76249b3a\")) {                    Plotly.newPlot(                        \"83a4c1d3-1bf2-4e15-8bbe-f87d76249b3a\",                        [{\"hovertemplate\":\"texture=clay\\u003cbr\\u003eyear=2001\\u003cbr\\u003ePlanting Date=%{x}\\u003cbr\\u003eYield at harvest (Kg \\u002f ha)=%{y}\\u003cextra\\u003e\\u003c\\u002fextra\\u003e\",\"legendgroup\":\"clay\",\"line\":{\"color\":\"#636efa\",\"dash\":\"solid\"},\"marker\":{\"symbol\":\"circle\"},\"mode\":\"lines\",\"name\":\"clay\",\"orientation\":\"v\",\"showlegend\":true,\"x\":[\"May-01\",\"May-08\",\"May-15\",\"May-22\",\"May-29\",\"Jun-05\",\"Jun-12\",\"Jun-19\",\"Jun-26\",\"Jul-03\",\"Jul-10\",\"Jul-17\",\"Jul-24\",\"Jul-31\",\"Aug-07\"],\"xaxis\":\"x\",\"y\":[1406.0,1584.0,2083.0,2292.0,2539.0,2424.0,2404.0,2296.0,2113.0,1877.0,1955.0,1929.0,2054.0,2021.0,1499.0],\"yaxis\":\"y\",\"type\":\"scatter\"},{\"hovertemplate\":\"texture=clayloam\\u003cbr\\u003eyear=2001\\u003cbr\\u003ePlanting Date=%{x}\\u003cbr\\u003eYield at harvest (Kg \\u002f ha)=%{y}\\u003cextra\\u003e\\u003c\\u002fextra\\u003e\",\"legendgroup\":\"clayloam\",\"line\":{\"color\":\"#EF553B\",\"dash\":\"solid\"},\"marker\":{\"symbol\":\"circle\"},\"mode\":\"lines\",\"name\":\"clayloam\",\"orientation\":\"v\",\"showlegend\":true,\"x\":[\"May-01\",\"May-08\",\"May-15\",\"May-22\",\"May-29\",\"Jun-05\",\"Jun-12\",\"Jun-19\",\"Jun-26\",\"Jul-03\",\"Jul-10\",\"Jul-17\",\"Jul-24\",\"Jul-31\",\"Aug-07\"],\"xaxis\":\"x\",\"y\":[1079.0,1218.0,1792.0,2211.0,2519.0,2420.0,2542.0,2355.0,2064.0,1829.0,1870.0,1907.0,2004.0,2004.0,1496.0],\"yaxis\":\"y\",\"type\":\"scatter\"}],                        {\"template\":{\"data\":{\"histogram2dcontour\":[{\"type\":\"histogram2dcontour\",\"colorbar\":{\"outlinewidth\":0,\"ticks\":\"\"},\"colorscale\":[[0.0,\"#0d0887\"],[0.1111111111111111,\"#46039f\"],[0.2222222222222222,\"#7201a8\"],[0.3333333333333333,\"#9c179e\"],[0.4444444444444444,\"#bd3786\"],[0.5555555555555556,\"#d8576b\"],[0.6666666666666666,\"#ed7953\"],[0.7777777777777778,\"#fb9f3a\"],[0.8888888888888888,\"#fdca26\"],[1.0,\"#f0f921\"]]}],\"choropleth\":[{\"type\":\"choropleth\",\"colorbar\":{\"outlinewidth\":0,\"ticks\":\"\"}}],\"histogram2d\":[{\"type\":\"histogram2d\",\"colorbar\":{\"outlinewidth\":0,\"ticks\":\"\"},\"colorscale\":[[0.0,\"#0d0887\"],[0.1111111111111111,\"#46039f\"],[0.2222222222222222,\"#7201a8\"],[0.3333333333333333,\"#9c179e\"],[0.4444444444444444,\"#bd3786\"],[0.5555555555555556,\"#d8576b\"],[0.6666666666666666,\"#ed7953\"],[0.7777777777777778,\"#fb9f3a\"],[0.8888888888888888,\"#fdca26\"],[1.0,\"#f0f921\"]]}],\"heatmap\":[{\"type\":\"heatmap\",\"colorbar\":{\"outlinewidth\":0,\"ticks\":\"\"},\"colorscale\":[[0.0,\"#0d0887\"],[0.1111111111111111,\"#46039f\"],[0.2222222222222222,\"#7201a8\"],[0.3333333333333333,\"#9c179e\"],[0.4444444444444444,\"#bd3786\"],[0.5555555555555556,\"#d8576b\"],[0.6666666666666666,\"#ed7953\"],[0.7777777777777778,\"#fb9f3a\"],[0.8888888888888888,\"#fdca26\"],[1.0,\"#f0f921\"]]}],\"heatmapgl\":[{\"type\":\"heatmapgl\",\"colorbar\":{\"outlinewidth\":0,\"ticks\":\"\"},\"colorscale\":[[0.0,\"#0d0887\"],[0.1111111111111111,\"#46039f\"],[0.2222222222222222,\"#7201a8\"],[0.3333333333333333,\"#9c179e\"],[0.4444444444444444,\"#bd3786\"],[0.5555555555555556,\"#d8576b\"],[0.6666666666666666,\"#ed7953\"],[0.7777777777777778,\"#fb9f3a\"],[0.8888888888888888,\"#fdca26\"],[1.0,\"#f0f921\"]]}],\"contourcarpet\":[{\"type\":\"contourcarpet\",\"colorbar\":{\"outlinewidth\":0,\"ticks\":\"\"}}],\"contour\":[{\"type\":\"contour\",\"colorbar\":{\"outlinewidth\":0,\"ticks\":\"\"},\"colorscale\":[[0.0,\"#0d0887\"],[0.1111111111111111,\"#46039f\"],[0.2222222222222222,\"#7201a8\"],[0.3333333333333333,\"#9c179e\"],[0.4444444444444444,\"#bd3786\"],[0.5555555555555556,\"#d8576b\"],[0.6666666666666666,\"#ed7953\"],[0.7777777777777778,\"#fb9f3a\"],[0.8888888888888888,\"#fdca26\"],[1.0,\"#f0f921\"]]}],\"surface\":[{\"type\":\"surface\",\"colorbar\":{\"outlinewidth\":0,\"ticks\":\"\"},\"colorscale\":[[0.0,\"#0d0887\"],[0.1111111111111111,\"#46039f\"],[0.2222222222222222,\"#7201a8\"],[0.3333333333333333,\"#9c179e\"],[0.4444444444444444,\"#bd3786\"],[0.5555555555555556,\"#d8576b\"],[0.6666666666666666,\"#ed7953\"],[0.7777777777777778,\"#fb9f3a\"],[0.8888888888888888,\"#fdca26\"],[1.0,\"#f0f921\"]]}],\"mesh3d\":[{\"type\":\"mesh3d\",\"colorbar\":{\"outlinewidth\":0,\"ticks\":\"\"}}],\"scatter\":[{\"fillpattern\":{\"fillmode\":\"overlay\",\"size\":10,\"solidity\":0.2},\"type\":\"scatter\"}],\"parcoords\":[{\"type\":\"parcoords\",\"line\":{\"colorbar\":{\"outlinewidth\":0,\"ticks\":\"\"}}}],\"scatterpolargl\":[{\"type\":\"scatterpolargl\",\"marker\":{\"colorbar\":{\"outlinewidth\":0,\"ticks\":\"\"}}}],\"bar\":[{\"error_x\":{\"color\":\"#2a3f5f\"},\"error_y\":{\"color\":\"#2a3f5f\"},\"marker\":{\"line\":{\"color\":\"#E5ECF6\",\"width\":0.5},\"pattern\":{\"fillmode\":\"overlay\",\"size\":10,\"solidity\":0.2}},\"type\":\"bar\"}],\"scattergeo\":[{\"type\":\"scattergeo\",\"marker\":{\"colorbar\":{\"outlinewidth\":0,\"ticks\":\"\"}}}],\"scatterpolar\":[{\"type\":\"scatterpolar\",\"marker\":{\"colorbar\":{\"outlinewidth\":0,\"ticks\":\"\"}}}],\"histogram\":[{\"marker\":{\"pattern\":{\"fillmode\":\"overlay\",\"size\":10,\"solidity\":0.2}},\"type\":\"histogram\"}],\"scattergl\":[{\"type\":\"scattergl\",\"marker\":{\"colorbar\":{\"outlinewidth\":0,\"ticks\":\"\"}}}],\"scatter3d\":[{\"type\":\"scatter3d\",\"line\":{\"colorbar\":{\"outlinewidth\":0,\"ticks\":\"\"}},\"marker\":{\"colorbar\":{\"outlinewidth\":0,\"ticks\":\"\"}}}],\"scattermapbox\":[{\"type\":\"scattermapbox\",\"marker\":{\"colorbar\":{\"outlinewidth\":0,\"ticks\":\"\"}}}],\"scatterternary\":[{\"type\":\"scatterternary\",\"marker\":{\"colorbar\":{\"outlinewidth\":0,\"ticks\":\"\"}}}],\"scattercarpet\":[{\"type\":\"scattercarpet\",\"marker\":{\"colorbar\":{\"outlinewidth\":0,\"ticks\":\"\"}}}],\"carpet\":[{\"aaxis\":{\"endlinecolor\":\"#2a3f5f\",\"gridcolor\":\"white\",\"linecolor\":\"white\",\"minorgridcolor\":\"white\",\"startlinecolor\":\"#2a3f5f\"},\"baxis\":{\"endlinecolor\":\"#2a3f5f\",\"gridcolor\":\"white\",\"linecolor\":\"white\",\"minorgridcolor\":\"white\",\"startlinecolor\":\"#2a3f5f\"},\"type\":\"carpet\"}],\"table\":[{\"cells\":{\"fill\":{\"color\":\"#EBF0F8\"},\"line\":{\"color\":\"white\"}},\"header\":{\"fill\":{\"color\":\"#C8D4E3\"},\"line\":{\"color\":\"white\"}},\"type\":\"table\"}],\"barpolar\":[{\"marker\":{\"line\":{\"color\":\"#E5ECF6\",\"width\":0.5},\"pattern\":{\"fillmode\":\"overlay\",\"size\":10,\"solidity\":0.2}},\"type\":\"barpolar\"}],\"pie\":[{\"automargin\":true,\"type\":\"pie\"}]},\"layout\":{\"autotypenumbers\":\"strict\",\"colorway\":[\"#636efa\",\"#EF553B\",\"#00cc96\",\"#ab63fa\",\"#FFA15A\",\"#19d3f3\",\"#FF6692\",\"#B6E880\",\"#FF97FF\",\"#FECB52\"],\"font\":{\"color\":\"#2a3f5f\"},\"hovermode\":\"closest\",\"hoverlabel\":{\"align\":\"left\"},\"paper_bgcolor\":\"white\",\"plot_bgcolor\":\"#E5ECF6\",\"polar\":{\"bgcolor\":\"#E5ECF6\",\"angularaxis\":{\"gridcolor\":\"white\",\"linecolor\":\"white\",\"ticks\":\"\"},\"radialaxis\":{\"gridcolor\":\"white\",\"linecolor\":\"white\",\"ticks\":\"\"}},\"ternary\":{\"bgcolor\":\"#E5ECF6\",\"aaxis\":{\"gridcolor\":\"white\",\"linecolor\":\"white\",\"ticks\":\"\"},\"baxis\":{\"gridcolor\":\"white\",\"linecolor\":\"white\",\"ticks\":\"\"},\"caxis\":{\"gridcolor\":\"white\",\"linecolor\":\"white\",\"ticks\":\"\"}},\"coloraxis\":{\"colorbar\":{\"outlinewidth\":0,\"ticks\":\"\"}},\"colorscale\":{\"sequential\":[[0.0,\"#0d0887\"],[0.1111111111111111,\"#46039f\"],[0.2222222222222222,\"#7201a8\"],[0.3333333333333333,\"#9c179e\"],[0.4444444444444444,\"#bd3786\"],[0.5555555555555556,\"#d8576b\"],[0.6666666666666666,\"#ed7953\"],[0.7777777777777778,\"#fb9f3a\"],[0.8888888888888888,\"#fdca26\"],[1.0,\"#f0f921\"]],\"sequentialminus\":[[0.0,\"#0d0887\"],[0.1111111111111111,\"#46039f\"],[0.2222222222222222,\"#7201a8\"],[0.3333333333333333,\"#9c179e\"],[0.4444444444444444,\"#bd3786\"],[0.5555555555555556,\"#d8576b\"],[0.6666666666666666,\"#ed7953\"],[0.7777777777777778,\"#fb9f3a\"],[0.8888888888888888,\"#fdca26\"],[1.0,\"#f0f921\"]],\"diverging\":[[0,\"#8e0152\"],[0.1,\"#c51b7d\"],[0.2,\"#de77ae\"],[0.3,\"#f1b6da\"],[0.4,\"#fde0ef\"],[0.5,\"#f7f7f7\"],[0.6,\"#e6f5d0\"],[0.7,\"#b8e186\"],[0.8,\"#7fbc41\"],[0.9,\"#4d9221\"],[1,\"#276419\"]]},\"xaxis\":{\"gridcolor\":\"white\",\"linecolor\":\"white\",\"ticks\":\"\",\"title\":{\"standoff\":15},\"zerolinecolor\":\"white\",\"automargin\":true,\"zerolinewidth\":2},\"yaxis\":{\"gridcolor\":\"white\",\"linecolor\":\"white\",\"ticks\":\"\",\"title\":{\"standoff\":15},\"zerolinecolor\":\"white\",\"automargin\":true,\"zerolinewidth\":2},\"scene\":{\"xaxis\":{\"backgroundcolor\":\"#E5ECF6\",\"gridcolor\":\"white\",\"linecolor\":\"white\",\"showbackground\":true,\"ticks\":\"\",\"zerolinecolor\":\"white\",\"gridwidth\":2},\"yaxis\":{\"backgroundcolor\":\"#E5ECF6\",\"gridcolor\":\"white\",\"linecolor\":\"white\",\"showbackground\":true,\"ticks\":\"\",\"zerolinecolor\":\"white\",\"gridwidth\":2},\"zaxis\":{\"backgroundcolor\":\"#E5ECF6\",\"gridcolor\":\"white\",\"linecolor\":\"white\",\"showbackground\":true,\"ticks\":\"\",\"zerolinecolor\":\"white\",\"gridwidth\":2}},\"shapedefaults\":{\"line\":{\"color\":\"#2a3f5f\"}},\"annotationdefaults\":{\"arrowcolor\":\"#2a3f5f\",\"arrowhead\":0,\"arrowwidth\":1},\"geo\":{\"bgcolor\":\"white\",\"landcolor\":\"#E5ECF6\",\"subunitcolor\":\"white\",\"showland\":true,\"showlakes\":true,\"lakecolor\":\"white\"},\"title\":{\"x\":0.05},\"mapbox\":{\"style\":\"light\"}}},\"xaxis\":{\"anchor\":\"y\",\"domain\":[0.0,1.0],\"title\":{\"text\":\"Planting Date\"}},\"yaxis\":{\"anchor\":\"x\",\"domain\":[0.0,1.0],\"title\":{\"text\":\"Yield at harvest (Kg \\u002f ha)\"}},\"legend\":{\"title\":{\"text\":\"texture\"},\"tracegroupgap\":0},\"margin\":{\"t\":60}},                        {\"responsive\": true}                    ).then(function(){\n",
              "                            \n",
              "var gd = document.getElementById('83a4c1d3-1bf2-4e15-8bbe-f87d76249b3a');\n",
              "var x = new MutationObserver(function (mutations, observer) {{\n",
              "        var display = window.getComputedStyle(gd).display;\n",
              "        if (!display || display === 'none') {{\n",
              "            console.log([gd, 'removed!']);\n",
              "            Plotly.purge(gd);\n",
              "            observer.disconnect();\n",
              "        }}\n",
              "}});\n",
              "\n",
              "// Listen for the removal of the full notebook cells\n",
              "var notebookContainer = gd.closest('#notebook-container');\n",
              "if (notebookContainer) {{\n",
              "    x.observe(notebookContainer, {childList: true});\n",
              "}}\n",
              "\n",
              "// Listen for the clearing of the current output cell\n",
              "var outputEl = gd.closest('.output');\n",
              "if (outputEl) {{\n",
              "    x.observe(outputEl, {childList: true});\n",
              "}}\n",
              "\n",
              "                        })                };                            </script>        </div>\n",
              "</body>\n",
              "</html>"
            ]
          },
          "metadata": {}
        }
      ]
    }
  ],
  "metadata": {
    "kernelspec": {
      "display_name": "agwise",
      "language": "python",
      "name": "python3"
    },
    "language_info": {
      "codemirror_mode": {
        "name": "ipython",
        "version": 3
      },
      "file_extension": ".py",
      "mimetype": "text/x-python",
      "name": "python",
      "nbconvert_exporter": "python",
      "pygments_lexer": "ipython3",
      "version": "3.9.20"
    },
    "colab": {
      "provenance": [],
      "include_colab_link": true
    }
  },
  "nbformat": 4,
  "nbformat_minor": 0
}