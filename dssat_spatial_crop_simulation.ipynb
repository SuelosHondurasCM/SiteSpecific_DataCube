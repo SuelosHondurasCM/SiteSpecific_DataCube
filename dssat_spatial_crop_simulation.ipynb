{
 "cells": [
  {
   "cell_type": "markdown",
   "metadata": {},
   "source": [
    "# Run site-specific spatial Crop Simulation using region of interest\n",
    "\n",
    "In this example, we aim to simulate the potential yield of a specific crop for a defined region of interest. The simulation requires detailed information about soil and weather conditions, as well as the management practices used.\n",
    "\n",
    "In a previous example, we explained how to download soil and climate data from global spatial products such as CHIRPS and save them as NetCDF files.\n",
    "\n",
    "For this module, a configuration file is required to specify the type of experiment the user intends to implement. This file contains the necessary parameters to guide the simulation process.\n"
   ]
  },
  {
   "cell_type": "code",
   "execution_count": null,
   "metadata": {},
   "outputs": [],
   "source": [
    "!git clone https://github.com/anaguilarar/WeatherSoilDataProcessor.git\n",
    "\n",
    "import os\n",
    "\n",
    "os.chdir('/content/WeatherSoilDataProcessor')\n",
    "\n",
    "!pip install -r requirements.txt"
   ]
  },
  {
   "cell_type": "markdown",
   "metadata": {},
   "source": [
    "## Spatial data\n",
    "\n",
    "To implement this, it is necessary to have spatial information for soil and climate. We can create a datacube with dimensions height, width, channel, and date for weather, and height, width, channel, and depth for soil. Assuming these datasets have already been downloaded (refer to this [example](https://github.com/anaguilarar/WeatherSoilDataProcessor/blob/main/weathersoildata_processor_example.ipynb) for more details), we will create a NetCDF file and save it for crop simulation.\n",
    "\n",
    "An example of the spatial configuration is available in the options folder. Here, we will define it as a dictionary variable."
   ]
  },
  {
   "cell_type": "code",
   "execution_count": 1,
   "metadata": {},
   "outputs": [],
   "source": [
    "## creating\n",
    "\n",
    "configuration_info = {\n",
    "    'GENERAL_INFO': {'projected_crs':'ESRI:54052'},\n",
    "    'SPATIAL_VECTOR': {\n",
    "        'boundaries': \"data/country.shp\" # geo spatial file that will define the spatial boundaries\n",
    "    },\n",
    "    'WEATHER': { ## weather information\n",
    "        'setup_parameters': { # parameters to create the datacube\n",
    "            'paths':{ # path that allows each one of the meteorological variables information\n",
    "                'precipitation': \"weather/precipitation_hnd_raw\",\n",
    "                'srad': \"weather/solar_radiation_hnd_raw\",\n",
    "                'tmax': \"weather/temperature_tmax_hnd_raw\",\n",
    "                'tmin': \"weather/temperature_tmin_hnd_raw\"\n",
    "            },\n",
    "            'crs': 'EPSG:4326', ## spatial coordinates system\n",
    "            'period': ['2001-01-01', '2001-12-31'] ,\n",
    "            'reference_variable': 'precipitation' # variable used as spatial resolution reference\n",
    "        }, \n",
    "        'data_cube_path' : None # path to the data cube information if it was already created\n",
    "    },\n",
    "    'SOIL': {\n",
    "        'setup_parameters': { # parameters to create the datacube\n",
    "            'path': \"soil/hnd/\",\n",
    "            'variables': [\"bdod\",\"clay\",\"sand\", \"silt\"],\n",
    "            'depths': [\"0-5\",\"5-15\",\"15-30\",\"30-60\"],\n",
    "            'crs': 'ESRI:54052', ## SOILGRIDS spatial coordinates system\n",
    "            'reference_variable': 'sand' # variable used as spatial resolution reference\n",
    "        },\n",
    "        'data_cube_path' : None # path to the data cube information if it was already created\n",
    "    }\n",
    "}"
   ]
  },
  {
   "cell_type": "code",
   "execution_count": null,
   "metadata": {},
   "outputs": [
    {
     "name": "stdout",
     "output_type": "stream",
     "text": [
      "weather/precipitation_hnd_raw\\2001\n",
      "weather/solar_radiation_hnd_raw\\2001\n",
      "weather/temperature_tmax_hnd_raw\\2001\n",
      "weather/temperature_tmin_hnd_raw\\2001\n"
     ]
    },
    {
     "name": "stderr",
     "output_type": "stream",
     "text": [
      "100%|██████████| 365/365 [00:55<00:00,  6.61it/s]\n",
      "100%|██████████| 365/365 [00:00<00:00, 2000.46it/s]\n",
      "100%|██████████| 4/4 [00:08<00:00,  2.23s/it]\n"
     ]
    },
    {
     "name": "stdout",
     "output_type": "stream",
     "text": [
      "PROJCS[\"Interrupted_Goode_Homolosine\",GEOGCS[\"WGS 84\",DATUM[\"WGS_1984\",SPHEROID[\"WGS 84\",6378137,298.257223563,AUTHORITY[\"EPSG\",\"7030\"]],AUTHORITY[\"EPSG\",\"6326\"]],PRIMEM[\"Greenwich\",0],UNIT[\"Degree\",0.0174532925199433]],PROJECTION[\"Interrupted_Goode_Homolosine\"],UNIT[\"metre\",1,AUTHORITY[\"EPSG\",\"9001\"]],AXIS[\"Easting\",EAST],AXIS[\"Northing\",NORTH]]\n",
      "PROJCS[\"Interrupted_Goode_Homolosine\",GEOGCS[\"WGS 84\",DATUM[\"WGS_1984\",SPHEROID[\"WGS 84\",6378137,298.257223563,AUTHORITY[\"EPSG\",\"7030\"]],AUTHORITY[\"EPSG\",\"6326\"]],PRIMEM[\"Greenwich\",0],UNIT[\"Degree\",0.0174532925199433]],PROJECTION[\"Interrupted_Goode_Homolosine\"],UNIT[\"metre\",1,AUTHORITY[\"EPSG\",\"9001\"]],AXIS[\"Easting\",EAST],AXIS[\"Northing\",NORTH]]\n",
      "PROJCS[\"Interrupted_Goode_Homolosine\",GEOGCS[\"WGS 84\",DATUM[\"WGS_1984\",SPHEROID[\"WGS 84\",6378137,298.257223563,AUTHORITY[\"EPSG\",\"7030\"]],AUTHORITY[\"EPSG\",\"6326\"]],PRIMEM[\"Greenwich\",0],UNIT[\"Degree\",0.0174532925199433]],PROJECTION[\"Interrupted_Goode_Homolosine\"],UNIT[\"metre\",1,AUTHORITY[\"EPSG\",\"9001\"]],AXIS[\"Easting\",EAST],AXIS[\"Northing\",NORTH]]\n",
      "PROJCS[\"Interrupted_Goode_Homolosine\",GEOGCS[\"WGS 84\",DATUM[\"WGS_1984\",SPHEROID[\"WGS 84\",6378137,298.257223563,AUTHORITY[\"EPSG\",\"7030\"]],AUTHORITY[\"EPSG\",\"6326\"]],PRIMEM[\"Greenwich\",0],UNIT[\"Degree\",0.0174532925199433]],PROJECTION[\"Interrupted_Goode_Homolosine\"],UNIT[\"metre\",1,AUTHORITY[\"EPSG\",\"9001\"]],AXIS[\"Easting\",EAST],AXIS[\"Northing\",NORTH]]\n"
     ]
    },
    {
     "name": "stderr",
     "output_type": "stream",
     "text": [
      "100%|██████████| 4/4 [00:00<?, ?it/s]\n"
     ]
    }
   ],
   "source": [
    "from crop_modeling.spatial_process import SpatialData\n",
    "\n",
    "\n",
    "# Initialize SpatialData with the configuration dictionary\n",
    "spdata = SpatialData(configuration_dict=configuration_info)\n",
    "\n",
    "# Retrieve climate data\n",
    "spdata.get_climate_data()\n",
    "\n",
    "# Retrieve soil data\n",
    "spdata.get_soil_data()"
   ]
  },
  {
   "cell_type": "code",
   "execution_count": 3,
   "metadata": {},
   "outputs": [
    {
     "name": "stderr",
     "output_type": "stream",
     "text": [
      "c:\\Users\\AndresAguilar\\AppData\\Local\\miniconda3\\envs\\agwise\\lib\\site-packages\\matplotlib\\colors.py:744: RuntimeWarning: overflow encountered in multiply\n",
      "  xa *= self.N\n"
     ]
    },
    {
     "data": {
      "image/png": "[encoded data removed]",
      "text/plain": [
       "<Figure size 1000x600 with 7 Axes>"
      ]
     },
     "metadata": {},
     "output_type": "display_data"
    }
   ],
   "source": [
    "## plots\n",
    "\n",
    "#spdata.climate.precipitation.isel(date = 200).plot(vmax = 100)\n",
    "g_simple = spdata.climate.tmin.isel(date = list(range(5))).plot(x=\"x\", y=\"y\", col=\"date\", col_wrap=3, vmax = 300)"
   ]
  },
  {
   "cell_type": "code",
   "execution_count": 4,
   "metadata": {},
   "outputs": [
    {
     "data": {
      "image/png": "[encoded data removed]",
      "text/plain": [
       "<Figure size 700x600 with 5 Axes>"
      ]
     },
     "metadata": {},
     "output_type": "display_data"
    }
   ],
   "source": [
    "# texture values in soil grids data is multiply by 10\n",
    "g_simple = spdata.soil.clay.plot(x=\"x\", y=\"y\", col=\"depth\", col_wrap=2, vmax = 600)"
   ]
  },
  {
   "cell_type": "code",
   "execution_count": 5,
   "metadata": {},
   "outputs": [],
   "source": [
    "# save data as datacubes\n",
    "spdata._save_asnc(spdata.soil, fn = 'soil/soil_hnd.nc')\n",
    "spdata._save_asnc(spdata.climate, fn = 'weather/weather_hnd.nc')"
   ]
  },
  {
   "cell_type": "markdown",
   "metadata": {},
   "source": [
    "## Crop modeling\n",
    "\n",
    "Once the spatial data has been configured, the next step is to define the site-specific management unit. In this example, the management unit is defined by a combination of political division (village boundaries) and soil textural classification.\n",
    "\n",
    "To specify political data, you can use the name of a feature in the geospatial file. For further spatial deatail, soil texture is used to gain a btter knowledge. Currently texture is the only grouping option available.\n",
    "\n",
    "Other parameters to configure include crop parameters and management practices. Below is an example of how to define these parameters. For more examples, please check the options/dssat_options folder.\n"
   ]
  },
  {
   "cell_type": "code",
   "execution_count": null,
   "metadata": {},
   "outputs": [],
   "source": [
    "cm_configuration = {   \n",
    "    'GENERAL_INFO': {\n",
    "        'country': 'Honduras',\n",
    "        'country_code': 'HND', # crountry code\n",
    "        'working_path': 'runs', # the model outputs will be located in this path\n",
    "        'ncores': 10,\n",
    "        'model': 'dssat',\n",
    "        'bin_path': 'C:/DSSAT48/DSCSM048.exe'\n",
    "    },\n",
    "    'SPATIAL_INFO':{\n",
    "        'geospatial_path': 'data/tb_limitealdeas.shp', # spatial file that contains the region of interest\n",
    "        'feature_name': 'GEOCODIGO', ## an unique code that represent each region of interest\n",
    "        'aggregate_by' : 'texture',\n",
    "        'soil_path' : 'soil/soil_hnd.nc', \n",
    "        'weather_path': 'weather/weather_hnd.nc',\n",
    "        'scale_factor': 10 # scale factor for soil and weather spatial resolution combination\n",
    "    },\n",
    "    'CROP': {\n",
    "        'name': 'Maize', # crop name\n",
    "        'cultivar': '990002', # cultivar\n",
    "        'cultivar_file': None # optional for the cases that you have a cultivar that is not in DSSATTools default cultivars\n",
    "    },\n",
    "    'MANAGEMENT':{\n",
    "        'planting_date': '2001-04-01',\n",
    "        'harvesting_date': '2001-08-30',\n",
    "        'plantingWindow': 15, # planting window in weeks\n",
    "        'fertilizer': False, # It is not implemented yet\n",
    "        'index_soilwat': 1, \n",
    "        'template': 'crop_modeling/dssat/exp_files/KEAG8104.MZX'\n",
    "    }\n",
    "}"
   ]
  },
  {
   "cell_type": "code",
   "execution_count": 8,
   "metadata": {},
   "outputs": [
    {
     "name": "stdout",
     "output_type": "stream",
     "text": [
      "loaded from soil/soil_hnd.nc\n",
      "loaded from weather/weather_hnd.nc\n"
     ]
    }
   ],
   "source": [
    "from spatialdata.soil_data import TEXTURE_CLASSES\n",
    "from crop_modeling.spatial_process import SpatialCM\n",
    "import os\n",
    "\n",
    "# Initialize the spatial crop modeling class\n",
    "cm_sp = SpatialCM(configuration_dict=cm_configuration)   "
   ]
  },
  {
   "cell_type": "code",
   "execution_count": 9,
   "metadata": {},
   "outputs": [
    {
     "name": "stdout",
     "output_type": "stream",
     "text": [
      "sand 29.238096237182617 clay 38.990474700927734\n",
      "sand 28.0134334564209 clay 42.07612228393555\n",
      "Configuration file written: runs\\010424\\clay\\experimental_file_config.yaml\n",
      "experimental file created: ['runs\\\\010424\\\\clay\\\\EXPS0001.MZX']\n",
      "Configuration file written: runs\\010424\\clayloam\\experimental_file_config.yaml\n",
      "experimental file created: ['runs\\\\010424\\\\clayloam\\\\EXPS0001.MZX']\n"
     ]
    }
   ],
   "source": [
    "# Specify the region of interest by its index\n",
    "roi_index = 180\n",
    "\n",
    "# Create soil and weather files for the selected region\n",
    "cm_sp.create_roi_sp_data(\n",
    "    roi_index=roi_index, \n",
    "    group_codes=TEXTURE_CLASSES,  # Codes for grouping data by texture\n",
    "    create_group_splayer=True  # Option to create a grouped spatial layer\n",
    ")\n",
    "\n",
    "# Locate environmental working paths\n",
    "cm_sp.find_envworking_paths()\n",
    "\n",
    "# Set up crop files\n",
    "cm_sp.set_up_crop(crop=cm_sp.crop, cultivar=cm_sp.cultivar)\n",
    "\n",
    "# Set up management files\n",
    "cm_sp.set_up_management(crop=cm_sp.crop, cultivar=cm_sp.cultivar, **cm_sp.config.MANAGEMENT)\n",
    "\n",
    "# run the simulation\n",
    "completed_sims =cm_sp.run(cm_sp.crop_code, planting_window=cm_sp.config.MANAGEMENT.plantingWindow, bin_path = cm_sp.config.GENERAL_INFO.bin_path, remove_tmp_folder=True)"
   ]
  },
  {
   "cell_type": "code",
   "execution_count": 4,
   "metadata": {},
   "outputs": [
    {
     "data": {
      "text/plain": [
       "{'clay': True, 'clayloam': True}"
      ]
     },
     "execution_count": 4,
     "metadata": {},
     "output_type": "execute_result"
    }
   ],
   "source": [
    "completed_sims"
   ]
  },
  {
   "cell_type": "markdown",
   "metadata": {},
   "source": [
    "## Crop simulation outputs\n",
    "\n",
    "After completing the simulation, the next step is to generate output plots. Three types of plots are created:\n",
    "\n",
    " - Spatial Variable Map: Displays the spatial variable (e.g., soil texture) used to define the specific context.\n",
    " - Climate Data Time Series Plot: Shows the time series of the climate data.\n",
    " - Potential Yield Plot: Illustrates potential yield across different planting date scenarios.\n"
   ]
  },
  {
   "cell_type": "code",
   "execution_count": 21,
   "metadata": {},
   "outputs": [
    {
     "name": "stdout",
     "output_type": "stream",
     "text": [
      "runs\\021001\\clay\n",
      "runs\\021001\\clayloam\n"
     ]
    }
   ],
   "source": [
    "from crop_modeling.dssat.output import DSSATOutputData\n",
    "import plotly.express as px\n",
    "\n",
    "## load the results\n",
    "\n",
    "groupclasses = [\n",
    "        i for i in os.listdir(cm_sp._tmp_path) if os.path.isdir(os.path.join(cm_sp._tmp_path, i))\n",
    "    ]\n",
    "\n",
    "output_data = {\n",
    "groupclasses[i]: DSSATOutputData(os.path.join(cm_sp._tmp_path, groupclasses[i]))\n",
    "        for i in range(len(groupclasses))\n",
    "}        "
   ]
  },
  {
   "cell_type": "code",
   "execution_count": 22,
   "metadata": {},
   "outputs": [
    {
     "name": "stderr",
     "output_type": "stream",
     "text": [
      "d:\\OneDrive - CGIAR\\scripts\\agwise\\WeatherSoilDataProcessor\\spatialdata\\gis_functions.py:71: UserWarning:\n",
      "\n",
      "Geometry is in a geographic CRS. Results from 'buffer' are likely incorrect. Use 'GeoSeries.to_crs()' to re-project geometries to a projected CRS before this operation.\n",
      "\n",
      "\n",
      "d:\\OneDrive - CGIAR\\scripts\\agwise\\WeatherSoilDataProcessor\\spatialdata\\gis_functions.py:71: UserWarning:\n",
      "\n",
      "Geometry is in a geographic CRS. Results from 'buffer' are likely incorrect. Use 'GeoSeries.to_crs()' to re-project geometries to a projected CRS before this operation.\n",
      "\n",
      "\n"
     ]
    },
    {
     "data": {
      "application/vnd.plotly.v1+json": {
       "config": {
        "plotlyServerURL": "https://plot.ly"
       },
       "data": [
        {
         "colorscale": [
          [
           0,
           "#636efa"
          ],
          [
           1,
           "#636efa"
          ]
         ],
         "featureidkey": "properties.texture",
         "geojson": {
          "bbox": [
           -85.77188491770781,
           15.719137601395687,
           -85.7028578418007,
           15.788164677302799
          ],
          "features": [
           {
            "bbox": [
             -85.75743739019237,
             15.738400971416274,
             -85.7028578418007,
             15.773717149787359
            ],
            "geometry": {
             "coordinates": [
              [
               [
                [
                 -85.75262154768723,
                 15.738400971416274
                ],
                [
                 -85.75262154768723,
                 15.743216813921421
                ],
                [
                 -85.75743739019237,
                 15.743216813921421
                ],
                [
                 -85.75743739019237,
                 15.748032656426568
                ],
                [
                 -85.75743739019237,
                 15.749637937261625
                ],
                [
                 -85.75743739019237,
                 15.754453779766772
                ],
                [
                 -85.75262154768723,
                 15.754453779766772
                ],
                [
                 -85.75101626685216,
                 15.754453779766772
                ],
                [
                 -85.74620042434702,
                 15.754453779766772
                ],
                [
                 -85.74620042434702,
                 15.748032656426568
                ],
                [
                 -85.75101626685216,
                 15.748032656426568
                ],
                [
                 -85.75101626685216,
                 15.744822094756477
                ],
                [
                 -85.74620042434702,
                 15.744822094756477
                ],
                [
                 -85.74620042434702,
                 15.738400971416274
                ],
                [
                 -85.75262154768723,
                 15.738400971416274
                ]
               ]
              ],
              [
               [
                [
                 -85.7092789651409,
                 15.744822094756477
                ],
                [
                 -85.7028578418007,
                 15.744822094756477
                ],
                [
                 -85.7028578418007,
                 15.738400971416274
                ],
                [
                 -85.7092789651409,
                 15.738400971416274
                ],
                [
                 -85.7092789651409,
                 15.744822094756477
                ]
               ]
              ],
              [
               [
                [
                 -85.74780570518207,
                 15.773717149787359
                ],
                [
                 -85.74138458184187,
                 15.773717149787359
                ],
                [
                 -85.74138458184187,
                 15.767296026447156
                ],
                [
                 -85.74780570518207,
                 15.767296026447156
                ],
                [
                 -85.74780570518207,
                 15.773717149787359
                ]
               ]
              ]
             ],
             "type": "MultiPolygon"
            },
            "id": "0",
            "properties": {
             "texture": "clay loam"
            },
            "type": "Feature"
           },
           {
            "bbox": [
             -85.77188491770781,
             15.719137601395687,
             -85.7028578418007,
             15.788164677302799
            ],
            "geometry": {
             "coordinates": [
              [
               [
                -85.75262154768723,
                15.749637937261625
               ],
               [
                -85.74780570518207,
                15.749637937261625
               ],
               [
                -85.74780570518207,
                15.752848498931716
               ],
               [
                -85.75101626685216,
                15.752848498931716
               ],
               [
                -85.75262154768723,
                15.752848498931716
               ],
               [
                -85.75583210935731,
                15.752848498931716
               ],
               [
                -85.75583210935731,
                15.748032656426568
               ],
               [
                -85.76225323269752,
                15.748032656426568
               ],
               [
                -85.76225323269752,
                15.752848498931716
               ],
               [
                -85.76706907520266,
                15.752848498931716
               ],
               [
                -85.76706907520266,
                15.757664341436861
               ],
               [
                -85.77188491770781,
                15.757664341436861
               ],
               [
                -85.77188491770781,
                15.762480183942008
               ],
               [
                -85.77188491770781,
                15.764085464777065
               ],
               [
                -85.77188491770781,
                15.767296026447156
               ],
               [
                -85.77188491770781,
                15.768901307282212
               ],
               [
                -85.77188491770781,
                15.773717149787359
               ],
               [
                -85.76706907520266,
                15.773717149787359
               ],
               [
                -85.76706907520266,
                15.778532992292506
               ],
               [
                -85.76225323269752,
                15.778532992292506
               ],
               [
                -85.76225323269752,
                15.783348834797652
               ],
               [
                -85.75743739019237,
                15.783348834797652
               ],
               [
                -85.75583210935731,
                15.783348834797652
               ],
               [
                -85.75262154768723,
                15.783348834797652
               ],
               [
                -85.75101626685216,
                15.783348834797652
               ],
               [
                -85.74780570518207,
                15.783348834797652
               ],
               [
                -85.74780570518207,
                15.788164677302799
               ],
               [
                -85.74298986267692,
                15.788164677302799
               ],
               [
                -85.74138458184187,
                15.788164677302799
               ],
               [
                -85.73656873933672,
                15.788164677302799
               ],
               [
                -85.73656873933672,
                15.783348834797652
               ],
               [
                -85.73175289683158,
                15.783348834797652
               ],
               [
                -85.73175289683158,
                15.778532992292506
               ],
               [
                -85.72693705432643,
                15.778532992292506
               ],
               [
                -85.72693705432643,
                15.773717149787359
               ],
               [
                -85.72212121182129,
                15.773717149787359
               ],
               [
                -85.72212121182129,
                15.768901307282212
               ],
               [
                -85.71730536931614,
                15.768901307282212
               ],
               [
                -85.71730536931614,
                15.764085464777065
               ],
               [
                -85.71248952681098,
                15.764085464777065
               ],
               [
                -85.71248952681098,
                15.759269622271919
               ],
               [
                -85.70767368430585,
                15.759269622271919
               ],
               [
                -85.70767368430585,
                15.754453779766772
               ],
               [
                -85.7028578418007,
                15.754453779766772
               ],
               [
                -85.7028578418007,
                15.749637937261625
               ],
               [
                -85.7028578418007,
                15.748032656426568
               ],
               [
                -85.7028578418007,
                15.743216813921421
               ],
               [
                -85.70767368430585,
                15.743216813921421
               ],
               [
                -85.70767368430585,
                15.738400971416274
               ],
               [
                -85.71248952681098,
                15.738400971416274
               ],
               [
                -85.71409480764605,
                15.738400971416274
               ],
               [
                -85.71730536931614,
                15.738400971416274
               ],
               [
                -85.71730536931614,
                15.735190409746185
               ],
               [
                -85.71730536931614,
                15.733585128911127
               ],
               [
                -85.71730536931614,
                15.730374567241038
               ],
               [
                -85.71730536931614,
                15.728769286405981
               ],
               [
                -85.71730536931614,
                15.72555872473589
               ],
               [
                -85.71730536931614,
                15.723953443900834
               ],
               [
                -85.71730536931614,
                15.719137601395687
               ],
               [
                -85.72212121182129,
                15.719137601395687
               ],
               [
                -85.72372649265634,
                15.719137601395687
               ],
               [
                -85.72693705432643,
                15.719137601395687
               ],
               [
                -85.72854233516149,
                15.719137601395687
               ],
               [
                -85.73175289683158,
                15.719137601395687
               ],
               [
                -85.73335817766663,
                15.719137601395687
               ],
               [
                -85.73817402017178,
                15.719137601395687
               ],
               [
                -85.73817402017178,
                15.723953443900834
               ],
               [
                -85.74138458184187,
                15.723953443900834
               ],
               [
                -85.74298986267692,
                15.723953443900834
               ],
               [
                -85.74780570518207,
                15.723953443900834
               ],
               [
                -85.74780570518207,
                15.728769286405981
               ],
               [
                -85.74780570518207,
                15.730374567241038
               ],
               [
                -85.74780570518207,
                15.733585128911127
               ],
               [
                -85.75262154768723,
                15.733585128911127
               ],
               [
                -85.75262154768723,
                15.74000625225133
               ],
               [
                -85.74780570518207,
                15.74000625225133
               ],
               [
                -85.74780570518207,
                15.743216813921421
               ],
               [
                -85.75262154768723,
                15.743216813921421
               ],
               [
                -85.75262154768723,
                15.749637937261625
               ]
              ],
              [
               [
                -85.74138458184187,
                15.748032656426568
               ],
               [
                -85.74138458184187,
                15.744822094756477
               ],
               [
                -85.73817402017178,
                15.744822094756477
               ],
               [
                -85.73817402017178,
                15.748032656426568
               ],
               [
                -85.74138458184187,
                15.748032656426568
               ]
              ],
              [
               [
                -85.74298986267692,
                15.768901307282212
               ],
               [
                -85.74298986267692,
                15.772111868952303
               ],
               [
                -85.74620042434702,
                15.772111868952303
               ],
               [
                -85.74620042434702,
                15.768901307282212
               ],
               [
                -85.74298986267692,
                15.768901307282212
               ]
              ]
             ],
             "type": "Polygon"
            },
            "id": "0",
            "properties": {
             "texture": "clay"
            },
            "type": "Feature"
           }
          ],
          "type": "FeatureCollection"
         },
         "hovertemplate": "texture=%{location}<extra></extra>",
         "locations": [
          "clay loam"
         ],
         "marker": {
          "opacity": 0.5
         },
         "name": "clay loam",
         "showlegend": true,
         "showscale": false,
         "subplot": "map",
         "type": "choroplethmap",
         "z": [
          1
         ]
        },
        {
         "colorscale": [
          [
           0,
           "#EF553B"
          ],
          [
           1,
           "#EF553B"
          ]
         ],
         "featureidkey": "properties.texture",
         "geojson": {
          "bbox": [
           -85.77188491770781,
           15.719137601395687,
           -85.7028578418007,
           15.788164677302799
          ],
          "features": [
           {
            "bbox": [
             -85.75743739019237,
             15.738400971416274,
             -85.7028578418007,
             15.773717149787359
            ],
            "geometry": {
             "coordinates": [
              [
               [
                [
                 -85.75262154768723,
                 15.738400971416274
                ],
                [
                 -85.75262154768723,
                 15.743216813921421
                ],
                [
                 -85.75743739019237,
                 15.743216813921421
                ],
                [
                 -85.75743739019237,
                 15.748032656426568
                ],
                [
                 -85.75743739019237,
                 15.749637937261625
                ],
                [
                 -85.75743739019237,
                 15.754453779766772
                ],
                [
                 -85.75262154768723,
                 15.754453779766772
                ],
                [
                 -85.75101626685216,
                 15.754453779766772
                ],
                [
                 -85.74620042434702,
                 15.754453779766772
                ],
                [
                 -85.74620042434702,
                 15.748032656426568
                ],
                [
                 -85.75101626685216,
                 15.748032656426568
                ],
                [
                 -85.75101626685216,
                 15.744822094756477
                ],
                [
                 -85.74620042434702,
                 15.744822094756477
                ],
                [
                 -85.74620042434702,
                 15.738400971416274
                ],
                [
                 -85.75262154768723,
                 15.738400971416274
                ]
               ]
              ],
              [
               [
                [
                 -85.7092789651409,
                 15.744822094756477
                ],
                [
                 -85.7028578418007,
                 15.744822094756477
                ],
                [
                 -85.7028578418007,
                 15.738400971416274
                ],
                [
                 -85.7092789651409,
                 15.738400971416274
                ],
                [
                 -85.7092789651409,
                 15.744822094756477
                ]
               ]
              ],
              [
               [
                [
                 -85.74780570518207,
                 15.773717149787359
                ],
                [
                 -85.74138458184187,
                 15.773717149787359
                ],
                [
                 -85.74138458184187,
                 15.767296026447156
                ],
                [
                 -85.74780570518207,
                 15.767296026447156
                ],
                [
                 -85.74780570518207,
                 15.773717149787359
                ]
               ]
              ]
             ],
             "type": "MultiPolygon"
            },
            "id": "0",
            "properties": {
             "texture": "clay loam"
            },
            "type": "Feature"
           },
           {
            "bbox": [
             -85.77188491770781,
             15.719137601395687,
             -85.7028578418007,
             15.788164677302799
            ],
            "geometry": {
             "coordinates": [
              [
               [
                -85.75262154768723,
                15.749637937261625
               ],
               [
                -85.74780570518207,
                15.749637937261625
               ],
               [
                -85.74780570518207,
                15.752848498931716
               ],
               [
                -85.75101626685216,
                15.752848498931716
               ],
               [
                -85.75262154768723,
                15.752848498931716
               ],
               [
                -85.75583210935731,
                15.752848498931716
               ],
               [
                -85.75583210935731,
                15.748032656426568
               ],
               [
                -85.76225323269752,
                15.748032656426568
               ],
               [
                -85.76225323269752,
                15.752848498931716
               ],
               [
                -85.76706907520266,
                15.752848498931716
               ],
               [
                -85.76706907520266,
                15.757664341436861
               ],
               [
                -85.77188491770781,
                15.757664341436861
               ],
               [
                -85.77188491770781,
                15.762480183942008
               ],
               [
                -85.77188491770781,
                15.764085464777065
               ],
               [
                -85.77188491770781,
                15.767296026447156
               ],
               [
                -85.77188491770781,
                15.768901307282212
               ],
               [
                -85.77188491770781,
                15.773717149787359
               ],
               [
                -85.76706907520266,
                15.773717149787359
               ],
               [
                -85.76706907520266,
                15.778532992292506
               ],
               [
                -85.76225323269752,
                15.778532992292506
               ],
               [
                -85.76225323269752,
                15.783348834797652
               ],
               [
                -85.75743739019237,
                15.783348834797652
               ],
               [
                -85.75583210935731,
                15.783348834797652
               ],
               [
                -85.75262154768723,
                15.783348834797652
               ],
               [
                -85.75101626685216,
                15.783348834797652
               ],
               [
                -85.74780570518207,
                15.783348834797652
               ],
               [
                -85.74780570518207,
                15.788164677302799
               ],
               [
                -85.74298986267692,
                15.788164677302799
               ],
               [
                -85.74138458184187,
                15.788164677302799
               ],
               [
                -85.73656873933672,
                15.788164677302799
               ],
               [
                -85.73656873933672,
                15.783348834797652
               ],
               [
                -85.73175289683158,
                15.783348834797652
               ],
               [
                -85.73175289683158,
                15.778532992292506
               ],
               [
                -85.72693705432643,
                15.778532992292506
               ],
               [
                -85.72693705432643,
                15.773717149787359
               ],
               [
                -85.72212121182129,
                15.773717149787359
               ],
               [
                -85.72212121182129,
                15.768901307282212
               ],
               [
                -85.71730536931614,
                15.768901307282212
               ],
               [
                -85.71730536931614,
                15.764085464777065
               ],
               [
                -85.71248952681098,
                15.764085464777065
               ],
               [
                -85.71248952681098,
                15.759269622271919
               ],
               [
                -85.70767368430585,
                15.759269622271919
               ],
               [
                -85.70767368430585,
                15.754453779766772
               ],
               [
                -85.7028578418007,
                15.754453779766772
               ],
               [
                -85.7028578418007,
                15.749637937261625
               ],
               [
                -85.7028578418007,
                15.748032656426568
               ],
               [
                -85.7028578418007,
                15.743216813921421
               ],
               [
                -85.70767368430585,
                15.743216813921421
               ],
               [
                -85.70767368430585,
                15.738400971416274
               ],
               [
                -85.71248952681098,
                15.738400971416274
               ],
               [
                -85.71409480764605,
                15.738400971416274
               ],
               [
                -85.71730536931614,
                15.738400971416274
               ],
               [
                -85.71730536931614,
                15.735190409746185
               ],
               [
                -85.71730536931614,
                15.733585128911127
               ],
               [
                -85.71730536931614,
                15.730374567241038
               ],
               [
                -85.71730536931614,
                15.728769286405981
               ],
               [
                -85.71730536931614,
                15.72555872473589
               ],
               [
                -85.71730536931614,
                15.723953443900834
               ],
               [
                -85.71730536931614,
                15.719137601395687
               ],
               [
                -85.72212121182129,
                15.719137601395687
               ],
               [
                -85.72372649265634,
                15.719137601395687
               ],
               [
                -85.72693705432643,
                15.719137601395687
               ],
               [
                -85.72854233516149,
                15.719137601395687
               ],
               [
                -85.73175289683158,
                15.719137601395687
               ],
               [
                -85.73335817766663,
                15.719137601395687
               ],
               [
                -85.73817402017178,
                15.719137601395687
               ],
               [
                -85.73817402017178,
                15.723953443900834
               ],
               [
                -85.74138458184187,
                15.723953443900834
               ],
               [
                -85.74298986267692,
                15.723953443900834
               ],
               [
                -85.74780570518207,
                15.723953443900834
               ],
               [
                -85.74780570518207,
                15.728769286405981
               ],
               [
                -85.74780570518207,
                15.730374567241038
               ],
               [
                -85.74780570518207,
                15.733585128911127
               ],
               [
                -85.75262154768723,
                15.733585128911127
               ],
               [
                -85.75262154768723,
                15.74000625225133
               ],
               [
                -85.74780570518207,
                15.74000625225133
               ],
               [
                -85.74780570518207,
                15.743216813921421
               ],
               [
                -85.75262154768723,
                15.743216813921421
               ],
               [
                -85.75262154768723,
                15.749637937261625
               ]
              ],
              [
               [
                -85.74138458184187,
                15.748032656426568
               ],
               [
                -85.74138458184187,
                15.744822094756477
               ],
               [
                -85.73817402017178,
                15.744822094756477
               ],
               [
                -85.73817402017178,
                15.748032656426568
               ],
               [
                -85.74138458184187,
                15.748032656426568
               ]
              ],
              [
               [
                -85.74298986267692,
                15.768901307282212
               ],
               [
                -85.74298986267692,
                15.772111868952303
               ],
               [
                -85.74620042434702,
                15.772111868952303
               ],
               [
                -85.74620042434702,
                15.768901307282212
               ],
               [
                -85.74298986267692,
                15.768901307282212
               ]
              ]
             ],
             "type": "Polygon"
            },
            "id": "0",
            "properties": {
             "texture": "clay"
            },
            "type": "Feature"
           }
          ],
          "type": "FeatureCollection"
         },
         "hovertemplate": "texture=%{location}<extra></extra>",
         "locations": [
          "clay"
         ],
         "marker": {
          "opacity": 0.5
         },
         "name": "clay",
         "showlegend": true,
         "showscale": false,
         "subplot": "map",
         "type": "choroplethmap",
         "z": [
          1
         ]
        }
       ],
       "layout": {
        "geo": {
         "fitbounds": "locations",
         "visible": false
        },
        "legend": {
         "title": {
          "text": "texture"
         },
         "tracegroupgap": 0
        },
        "map": {
         "center": {
          "lat": 15.752397893785039,
          "lon": -85.73942726573596
         },
         "domain": {
          "x": [
           0,
           1
          ],
          "y": [
           0,
           1
          ]
         },
         "zoom": 10
        },
        "mapbox": {
         "center": {
          "lat": 15.752397893785039,
          "lon": -85.73942726573596
         },
         "zoom": 10
        },
        "margin": {
         "b": 5,
         "l": 20,
         "r": 20,
         "t": 5
        },
        "template": {
         "data": {
          "bar": [
           {
            "error_x": {
             "color": "#2a3f5f"
            },
            "error_y": {
             "color": "#2a3f5f"
            },
            "marker": {
             "line": {
              "color": "#E5ECF6",
              "width": 0.5
             },
             "pattern": {
              "fillmode": "overlay",
              "size": 10,
              "solidity": 0.2
             }
            },
            "type": "bar"
           }
          ],
          "barpolar": [
           {
            "marker": {
             "line": {
              "color": "#E5ECF6",
              "width": 0.5
             },
             "pattern": {
              "fillmode": "overlay",
              "size": 10,
              "solidity": 0.2
             }
            },
            "type": "barpolar"
           }
          ],
          "carpet": [
           {
            "aaxis": {
             "endlinecolor": "#2a3f5f",
             "gridcolor": "white",
             "linecolor": "white",
             "minorgridcolor": "white",
             "startlinecolor": "#2a3f5f"
            },
            "baxis": {
             "endlinecolor": "#2a3f5f",
             "gridcolor": "white",
             "linecolor": "white",
             "minorgridcolor": "white",
             "startlinecolor": "#2a3f5f"
            },
            "type": "carpet"
           }
          ],
          "choropleth": [
           {
            "colorbar": {
             "outlinewidth": 0,
             "ticks": ""
            },
            "type": "choropleth"
           }
          ],
          "contour": [
           {
            "colorbar": {
             "outlinewidth": 0,
             "ticks": ""
            },
            "colorscale": [
             [
              0,
              "#0d0887"
             ],
             [
              0.1111111111111111,
              "#46039f"
             ],
             [
              0.2222222222222222,
              "#7201a8"
             ],
             [
              0.3333333333333333,
              "#9c179e"
             ],
             [
              0.4444444444444444,
              "#bd3786"
             ],
             [
              0.5555555555555556,
              "#d8576b"
             ],
             [
              0.6666666666666666,
              "#ed7953"
             ],
             [
              0.7777777777777778,
              "#fb9f3a"
             ],
             [
              0.8888888888888888,
              "#fdca26"
             ],
             [
              1,
              "#f0f921"
             ]
            ],
            "type": "contour"
           }
          ],
          "contourcarpet": [
           {
            "colorbar": {
             "outlinewidth": 0,
             "ticks": ""
            },
            "type": "contourcarpet"
           }
          ],
          "heatmap": [
           {
            "colorbar": {
             "outlinewidth": 0,
             "ticks": ""
            },
            "colorscale": [
             [
              0,
              "#0d0887"
             ],
             [
              0.1111111111111111,
              "#46039f"
             ],
             [
              0.2222222222222222,
              "#7201a8"
             ],
             [
              0.3333333333333333,
              "#9c179e"
             ],
             [
              0.4444444444444444,
              "#bd3786"
             ],
             [
              0.5555555555555556,
              "#d8576b"
             ],
             [
              0.6666666666666666,
              "#ed7953"
             ],
             [
              0.7777777777777778,
              "#fb9f3a"
             ],
             [
              0.8888888888888888,
              "#fdca26"
             ],
             [
              1,
              "#f0f921"
             ]
            ],
            "type": "heatmap"
           }
          ],
          "heatmapgl": [
           {
            "colorbar": {
             "outlinewidth": 0,
             "ticks": ""
            },
            "colorscale": [
             [
              0,
              "#0d0887"
             ],
             [
              0.1111111111111111,
              "#46039f"
             ],
             [
              0.2222222222222222,
              "#7201a8"
             ],
             [
              0.3333333333333333,
              "#9c179e"
             ],
             [
              0.4444444444444444,
              "#bd3786"
             ],
             [
              0.5555555555555556,
              "#d8576b"
             ],
             [
              0.6666666666666666,
              "#ed7953"
             ],
             [
              0.7777777777777778,
              "#fb9f3a"
             ],
             [
              0.8888888888888888,
              "#fdca26"
             ],
             [
              1,
              "#f0f921"
             ]
            ],
            "type": "heatmapgl"
           }
          ],
          "histogram": [
           {
            "marker": {
             "pattern": {
              "fillmode": "overlay",
              "size": 10,
              "solidity": 0.2
             }
            },
            "type": "histogram"
           }
          ],
          "histogram2d": [
           {
            "colorbar": {
             "outlinewidth": 0,
             "ticks": ""
            },
            "colorscale": [
             [
              0,
              "#0d0887"
             ],
             [
              0.1111111111111111,
              "#46039f"
             ],
             [
              0.2222222222222222,
              "#7201a8"
             ],
             [
              0.3333333333333333,
              "#9c179e"
             ],
             [
              0.4444444444444444,
              "#bd3786"
             ],
             [
              0.5555555555555556,
              "#d8576b"
             ],
             [
              0.6666666666666666,
              "#ed7953"
             ],
             [
              0.7777777777777778,
              "#fb9f3a"
             ],
             [
              0.8888888888888888,
              "#fdca26"
             ],
             [
              1,
              "#f0f921"
             ]
            ],
            "type": "histogram2d"
           }
          ],
          "histogram2dcontour": [
           {
            "colorbar": {
             "outlinewidth": 0,
             "ticks": ""
            },
            "colorscale": [
             [
              0,
              "#0d0887"
             ],
             [
              0.1111111111111111,
              "#46039f"
             ],
             [
              0.2222222222222222,
              "#7201a8"
             ],
             [
              0.3333333333333333,
              "#9c179e"
             ],
             [
              0.4444444444444444,
              "#bd3786"
             ],
             [
              0.5555555555555556,
              "#d8576b"
             ],
             [
              0.6666666666666666,
              "#ed7953"
             ],
             [
              0.7777777777777778,
              "#fb9f3a"
             ],
             [
              0.8888888888888888,
              "#fdca26"
             ],
             [
              1,
              "#f0f921"
             ]
            ],
            "type": "histogram2dcontour"
           }
          ],
          "mesh3d": [
           {
            "colorbar": {
             "outlinewidth": 0,
             "ticks": ""
            },
            "type": "mesh3d"
           }
          ],
          "parcoords": [
           {
            "line": {
             "colorbar": {
              "outlinewidth": 0,
              "ticks": ""
             }
            },
            "type": "parcoords"
           }
          ],
          "pie": [
           {
            "automargin": true,
            "type": "pie"
           }
          ],
          "scatter": [
           {
            "fillpattern": {
             "fillmode": "overlay",
             "size": 10,
             "solidity": 0.2
            },
            "type": "scatter"
           }
          ],
          "scatter3d": [
           {
            "line": {
             "colorbar": {
              "outlinewidth": 0,
              "ticks": ""
             }
            },
            "marker": {
             "colorbar": {
              "outlinewidth": 0,
              "ticks": ""
             }
            },
            "type": "scatter3d"
           }
          ],
          "scattercarpet": [
           {
            "marker": {
             "colorbar": {
              "outlinewidth": 0,
              "ticks": ""
             }
            },
            "type": "scattercarpet"
           }
          ],
          "scattergeo": [
           {
            "marker": {
             "colorbar": {
              "outlinewidth": 0,
              "ticks": ""
             }
            },
            "type": "scattergeo"
           }
          ],
          "scattergl": [
           {
            "marker": {
             "colorbar": {
              "outlinewidth": 0,
              "ticks": ""
             }
            },
            "type": "scattergl"
           }
          ],
          "scattermapbox": [
           {
            "marker": {
             "colorbar": {
              "outlinewidth": 0,
              "ticks": ""
             }
            },
            "type": "scattermapbox"
           }
          ],
          "scatterpolar": [
           {
            "marker": {
             "colorbar": {
              "outlinewidth": 0,
              "ticks": ""
             }
            },
            "type": "scatterpolar"
           }
          ],
          "scatterpolargl": [
           {
            "marker": {
             "colorbar": {
              "outlinewidth": 0,
              "ticks": ""
             }
            },
            "type": "scatterpolargl"
           }
          ],
          "scatterternary": [
           {
            "marker": {
             "colorbar": {
              "outlinewidth": 0,
              "ticks": ""
             }
            },
            "type": "scatterternary"
           }
          ],
          "surface": [
           {
            "colorbar": {
             "outlinewidth": 0,
             "ticks": ""
            },
            "colorscale": [
             [
              0,
              "#0d0887"
             ],
             [
              0.1111111111111111,
              "#46039f"
             ],
             [
              0.2222222222222222,
              "#7201a8"
             ],
             [
              0.3333333333333333,
              "#9c179e"
             ],
             [
              0.4444444444444444,
              "#bd3786"
             ],
             [
              0.5555555555555556,
              "#d8576b"
             ],
             [
              0.6666666666666666,
              "#ed7953"
             ],
             [
              0.7777777777777778,
              "#fb9f3a"
             ],
             [
              0.8888888888888888,
              "#fdca26"
             ],
             [
              1,
              "#f0f921"
             ]
            ],
            "type": "surface"
           }
          ],
          "table": [
           {
            "cells": {
             "fill": {
              "color": "#EBF0F8"
             },
             "line": {
              "color": "white"
             }
            },
            "header": {
             "fill": {
              "color": "#C8D4E3"
             },
             "line": {
              "color": "white"
             }
            },
            "type": "table"
           }
          ]
         },
         "layout": {
          "annotationdefaults": {
           "arrowcolor": "#2a3f5f",
           "arrowhead": 0,
           "arrowwidth": 1
          },
          "autotypenumbers": "strict",
          "coloraxis": {
           "colorbar": {
            "outlinewidth": 0,
            "ticks": ""
           }
          },
          "colorscale": {
           "diverging": [
            [
             0,
             "#8e0152"
            ],
            [
             0.1,
             "#c51b7d"
            ],
            [
             0.2,
             "#de77ae"
            ],
            [
             0.3,
             "#f1b6da"
            ],
            [
             0.4,
             "#fde0ef"
            ],
            [
             0.5,
             "#f7f7f7"
            ],
            [
             0.6,
             "#e6f5d0"
            ],
            [
             0.7,
             "#b8e186"
            ],
            [
             0.8,
             "#7fbc41"
            ],
            [
             0.9,
             "#4d9221"
            ],
            [
             1,
             "#276419"
            ]
           ],
           "sequential": [
            [
             0,
             "#0d0887"
            ],
            [
             0.1111111111111111,
             "#46039f"
            ],
            [
             0.2222222222222222,
             "#7201a8"
            ],
            [
             0.3333333333333333,
             "#9c179e"
            ],
            [
             0.4444444444444444,
             "#bd3786"
            ],
            [
             0.5555555555555556,
             "#d8576b"
            ],
            [
             0.6666666666666666,
             "#ed7953"
            ],
            [
             0.7777777777777778,
             "#fb9f3a"
            ],
            [
             0.8888888888888888,
             "#fdca26"
            ],
            [
             1,
             "#f0f921"
            ]
           ],
           "sequentialminus": [
            [
             0,
             "#0d0887"
            ],
            [
             0.1111111111111111,
             "#46039f"
            ],
            [
             0.2222222222222222,
             "#7201a8"
            ],
            [
             0.3333333333333333,
             "#9c179e"
            ],
            [
             0.4444444444444444,
             "#bd3786"
            ],
            [
             0.5555555555555556,
             "#d8576b"
            ],
            [
             0.6666666666666666,
             "#ed7953"
            ],
            [
             0.7777777777777778,
             "#fb9f3a"
            ],
            [
             0.8888888888888888,
             "#fdca26"
            ],
            [
             1,
             "#f0f921"
            ]
           ]
          },
          "colorway": [
           "#636efa",
           "#EF553B",
           "#00cc96",
           "#ab63fa",
           "#FFA15A",
           "#19d3f3",
           "#FF6692",
           "#B6E880",
           "#FF97FF",
           "#FECB52"
          ],
          "font": {
           "color": "#2a3f5f"
          },
          "geo": {
           "bgcolor": "white",
           "lakecolor": "white",
           "landcolor": "#E5ECF6",
           "showlakes": true,
           "showland": true,
           "subunitcolor": "white"
          },
          "hoverlabel": {
           "align": "left"
          },
          "hovermode": "closest",
          "mapbox": {
           "style": "light"
          },
          "paper_bgcolor": "white",
          "plot_bgcolor": "#E5ECF6",
          "polar": {
           "angularaxis": {
            "gridcolor": "white",
            "linecolor": "white",
            "ticks": ""
           },
           "bgcolor": "#E5ECF6",
           "radialaxis": {
            "gridcolor": "white",
            "linecolor": "white",
            "ticks": ""
           }
          },
          "scene": {
           "xaxis": {
            "backgroundcolor": "#E5ECF6",
            "gridcolor": "white",
            "gridwidth": 2,
            "linecolor": "white",
            "showbackground": true,
            "ticks": "",
            "zerolinecolor": "white"
           },
           "yaxis": {
            "backgroundcolor": "#E5ECF6",
            "gridcolor": "white",
            "gridwidth": 2,
            "linecolor": "white",
            "showbackground": true,
            "ticks": "",
            "zerolinecolor": "white"
           },
           "zaxis": {
            "backgroundcolor": "#E5ECF6",
            "gridcolor": "white",
            "gridwidth": 2,
            "linecolor": "white",
            "showbackground": true,
            "ticks": "",
            "zerolinecolor": "white"
           }
          },
          "shapedefaults": {
           "line": {
            "color": "#2a3f5f"
           }
          },
          "ternary": {
           "aaxis": {
            "gridcolor": "white",
            "linecolor": "white",
            "ticks": ""
           },
           "baxis": {
            "gridcolor": "white",
            "linecolor": "white",
            "ticks": ""
           },
           "bgcolor": "#E5ECF6",
           "caxis": {
            "gridcolor": "white",
            "linecolor": "white",
            "ticks": ""
           }
          },
          "title": {
           "x": 0.05
          },
          "xaxis": {
           "automargin": true,
           "gridcolor": "white",
           "linecolor": "white",
           "ticks": "",
           "title": {
            "standoff": 15
           },
           "zerolinecolor": "white",
           "zerolinewidth": 2
          },
          "yaxis": {
           "automargin": true,
           "gridcolor": "white",
           "linecolor": "white",
           "ticks": "",
           "title": {
            "standoff": 15
           },
           "zerolinecolor": "white",
           "zerolinewidth": 2
          }
         }
        }
       }
      }
     },
     "metadata": {},
     "output_type": "display_data"
    }
   ],
   "source": [
    "## texture layer\n",
    "from spatialdata.gis_functions import xrarray_to_categorical_polygon\n",
    "import rioxarray\n",
    "import numpy as np\n",
    "import pandas as pd\n",
    "import plotly.graph_objects as go\n",
    "\n",
    "## convert from tif to vector format\n",
    "textdata = rioxarray.open_rasterio(os.path.join(cm_sp._tmp_path, \"texture.tif\"))\n",
    "textdata = textdata.where(textdata < 1.79769313e38, np.nan)\n",
    "texture_geo = xrarray_to_categorical_polygon(textdata.isel(band=0), \"band_data\")\n",
    "texture_geo = texture_geo.rename(columns={\"band_data\": \"texture\"})\n",
    "texture_geo[\"texture\"] = texture_geo[\"texture\"].map(lambda x: TEXTURE_CLASSES[int(x)])\n",
    "\n",
    "texture_geo = texture_geo.to_crs('EPSG:4326')\n",
    "\n",
    "x = np.mean(texture_geo.get_coordinates().x.values)\n",
    "y = np.mean(texture_geo.get_coordinates().y.values)\n",
    "fig = px.choropleth_map(\n",
    "    texture_geo,\n",
    "    geojson=texture_geo,\n",
    "    color=\"texture\", locations=\"texture\", featureidkey=\"properties.texture\", opacity=0.5,\n",
    "    zoom=10, center={\"lat\": y, \"lon\": x},\n",
    ")\n",
    "fig.update_geos(fitbounds=\"locations\", visible=False)\n",
    "fig.update_layout(margin=dict(l=20, r=20, t=5, b=5))"
   ]
  },
  {
   "cell_type": "code",
   "execution_count": null,
   "metadata": {},
   "outputs": [
    {
     "data": {
      "application/vnd.plotly.v1+json": {
       "config": {
        "plotlyServerURL": "https://plot.ly"
       },
       "data": [
        {
         "hovertemplate": "variable=TMIN<br>year=2001<br>monthday=%{x}<br>value=%{y}<extra></extra>",
         "legendgroup": "TMIN",
         "line": {
          "color": "#636efa",
          "dash": "solid"
         },
         "marker": {
          "symbol": "circle"
         },
         "mode": "lines",
         "name": "TMIN",
         "orientation": "v",
         "showlegend": true,
         "type": "scatter",
         "x": [
          "Jan-01",
          "Jan-02",
          "Jan-03",
          "Jan-04",
          "Jan-05",
          "Jan-06",
          "Jan-07",
          "Jan-08",
          "Jan-09",
          "Jan-10",
          "Jan-11",
          "Jan-12",
          "Jan-13",
          "Jan-14",
          "Jan-15",
          "Jan-16",
          "Jan-17",
          "Jan-18",
          "Jan-19",
          "Jan-20",
          "Jan-21",
          "Jan-22",
          "Jan-23",
          "Jan-24",
          "Jan-25",
          "Jan-26",
          "Jan-27",
          "Jan-28",
          "Jan-29",
          "Jan-30",
          "Jan-31",
          "Feb-01",
          "Feb-02",
          "Feb-03",
          "Feb-04",
          "Feb-05",
          "Feb-06",
          "Feb-07",
          "Feb-08",
          "Feb-09",
          "Feb-10",
          "Feb-11",
          "Feb-12",
          "Feb-13",
          "Feb-14",
          "Feb-15",
          "Feb-16",
          "Feb-17",
          "Feb-18",
          "Feb-19",
          "Feb-20",
          "Feb-21",
          "Feb-22",
          "Feb-23",
          "Feb-24",
          "Feb-25",
          "Feb-26",
          "Feb-27",
          "Feb-28",
          "Mar-01",
          "Mar-02",
          "Mar-03",
          "Mar-04",
          "Mar-05",
          "Mar-06",
          "Mar-07",
          "Mar-08",
          "Mar-09",
          "Mar-10",
          "Mar-11",
          "Mar-12",
          "Mar-13",
          "Mar-14",
          "Mar-15",
          "Mar-16",
          "Mar-17",
          "Mar-18",
          "Mar-19",
          "Mar-20",
          "Mar-21",
          "Mar-22",
          "Mar-23",
          "Mar-24",
          "Mar-25",
          "Mar-26",
          "Mar-27",
          "Mar-28",
          "Mar-29",
          "Mar-30",
          "Mar-31",
          "Apr-01",
          "Apr-02",
          "Apr-03",
          "Apr-04",
          "Apr-05",
          "Apr-06",
          "Apr-07",
          "Apr-08",
          "Apr-09",
          "Apr-10",
          "Apr-11",
          "Apr-12",
          "Apr-13",
          "Apr-14",
          "Apr-15",
          "Apr-16",
          "Apr-17",
          "Apr-18",
          "Apr-19",
          "Apr-20",
          "Apr-21",
          "Apr-22",
          "Apr-23",
          "Apr-24",
          "Apr-25",
          "Apr-26",
          "Apr-27",
          "Apr-28",
          "Apr-29",
          "Apr-30",
          "May-01",
          "May-02",
          "May-03",
          "May-04",
          "May-05",
          "May-06",
          "May-07",
          "May-08",
          "May-09",
          "May-10",
          "May-11",
          "May-12",
          "May-13",
          "May-14",
          "May-15",
          "May-16",
          "May-17",
          "May-18",
          "May-19",
          "May-20",
          "May-21",
          "May-22",
          "May-23",
          "May-24",
          "May-25",
          "May-26",
          "May-27",
          "May-28",
          "May-29",
          "May-30",
          "May-31",
          "Jun-01",
          "Jun-02",
          "Jun-03",
          "Jun-04",
          "Jun-05",
          "Jun-06",
          "Jun-07",
          "Jun-08",
          "Jun-09",
          "Jun-10",
          "Jun-11",
          "Jun-12",
          "Jun-13",
          "Jun-14",
          "Jun-15",
          "Jun-16",
          "Jun-17",
          "Jun-18",
          "Jun-19",
          "Jun-20",
          "Jun-21",
          "Jun-22",
          "Jun-23",
          "Jun-24",
          "Jun-25",
          "Jun-26",
          "Jun-27",
          "Jun-28",
          "Jun-29",
          "Jun-30",
          "Jul-01",
          "Jul-02",
          "Jul-03",
          "Jul-04",
          "Jul-05",
          "Jul-06",
          "Jul-07",
          "Jul-08",
          "Jul-09",
          "Jul-10",
          "Jul-11",
          "Jul-12",
          "Jul-13",
          "Jul-14",
          "Jul-15",
          "Jul-16",
          "Jul-17",
          "Jul-18",
          "Jul-19",
          "Jul-20",
          "Jul-21",
          "Jul-22",
          "Jul-23",
          "Jul-24",
          "Jul-25",
          "Jul-26",
          "Jul-27",
          "Jul-28",
          "Jul-29",
          "Jul-30",
          "Jul-31",
          "Aug-01",
          "Aug-02",
          "Aug-03",
          "Aug-04",
          "Aug-05",
          "Aug-06",
          "Aug-07",
          "Aug-08",
          "Aug-09",
          "Aug-10",
          "Aug-11",
          "Aug-12",
          "Aug-13",
          "Aug-14",
          "Aug-15",
          "Aug-16",
          "Aug-17",
          "Aug-18",
          "Aug-19",
          "Aug-20",
          "Aug-21",
          "Aug-22",
          "Aug-23",
          "Aug-24",
          "Aug-25",
          "Aug-26",
          "Aug-27",
          "Aug-28",
          "Aug-29",
          "Aug-30",
          "Aug-31",
          "Sep-01",
          "Sep-02",
          "Sep-03",
          "Sep-04",
          "Sep-05",
          "Sep-06",
          "Sep-07",
          "Sep-08",
          "Sep-09",
          "Sep-10",
          "Sep-11",
          "Sep-12",
          "Sep-13",
          "Sep-14",
          "Sep-15",
          "Sep-16",
          "Sep-17",
          "Sep-18",
          "Sep-19",
          "Sep-20",
          "Sep-21",
          "Sep-22",
          "Sep-23",
          "Sep-24",
          "Sep-25",
          "Sep-26",
          "Sep-27",
          "Sep-28",
          "Sep-29",
          "Sep-30",
          "Oct-01",
          "Oct-02",
          "Oct-03",
          "Oct-04",
          "Oct-05",
          "Oct-06",
          "Oct-07",
          "Oct-08",
          "Oct-09",
          "Oct-10",
          "Oct-11",
          "Oct-12",
          "Oct-13",
          "Oct-14",
          "Oct-15",
          "Oct-16",
          "Oct-17",
          "Oct-18",
          "Oct-19",
          "Oct-20",
          "Oct-21",
          "Oct-22",
          "Oct-23",
          "Oct-24",
          "Oct-25",
          "Oct-26",
          "Oct-27",
          "Oct-28",
          "Oct-29",
          "Oct-30",
          "Oct-31",
          "Nov-01",
          "Nov-02",
          "Nov-03",
          "Nov-04",
          "Nov-05",
          "Nov-06",
          "Nov-07",
          "Nov-08",
          "Nov-09",
          "Nov-10",
          "Nov-11",
          "Nov-12",
          "Nov-13",
          "Nov-14",
          "Nov-15",
          "Nov-16",
          "Nov-17",
          "Nov-18",
          "Nov-19",
          "Nov-20",
          "Nov-21",
          "Nov-22",
          "Nov-23",
          "Nov-24",
          "Nov-25",
          "Nov-26",
          "Nov-27",
          "Nov-28",
          "Nov-29",
          "Nov-30",
          "Dec-01",
          "Dec-02",
          "Dec-03",
          "Dec-04",
          "Dec-05",
          "Dec-06",
          "Dec-07",
          "Dec-08",
          "Dec-09",
          "Dec-10",
          "Dec-11",
          "Dec-12",
          "Dec-13",
          "Dec-14",
          "Dec-15",
          "Dec-16",
          "Dec-17",
          "Dec-18",
          "Dec-19",
          "Dec-20",
          "Dec-21",
          "Dec-22",
          "Dec-23",
          "Dec-24",
          "Dec-25",
          "Dec-26",
          "Dec-27",
          "Dec-28",
          "Dec-29",
          "Dec-30",
          "Dec-31"
         ],
         "xaxis": "x",
         "y": [
          19.4,
          19.9,
          20.2,
          18.8,
          18.6,
          17.6,
          17.7,
          17.1,
          18.9,
          19.4,
          18.5,
          19.1,
          18.9,
          16.9,
          16.4,
          16.2,
          16.3,
          17.7,
          17,
          19,
          18.7,
          17.4,
          16.6,
          17.1,
          16.4,
          16.5,
          18.5,
          19.4,
          18.7,
          19.4,
          20.1,
          19.6,
          19.2,
          18.7,
          18.8,
          19.3,
          18.9,
          18,
          19.1,
          18.8,
          18.9,
          18.9,
          19.6,
          18.7,
          19.1,
          18.4,
          17.3,
          17,
          18.3,
          19.5,
          18.4,
          17.9,
          17.9,
          18.3,
          19.4,
          19.7,
          19.3,
          17.7,
          18.6,
          18.7,
          19.4,
          18.4,
          18.9,
          19.8,
          17.5,
          16.6,
          16.2,
          16.6,
          17.7,
          19.9,
          20.7,
          19.8,
          18.5,
          19.2,
          19.9,
          20.7,
          20,
          20.2,
          19.6,
          16.8,
          15.3,
          16.7,
          15.6,
          16.6,
          17.4,
          16.7,
          18.5,
          20.5,
          20.7,
          21.5,
          22.7,
          21.2,
          20,
          20.3,
          20.4,
          19.7,
          20,
          19.6,
          20.9,
          20.5,
          20.6,
          20.4,
          19.6,
          19.1,
          19.8,
          20.1,
          20.8,
          19.9,
          19.7,
          19.5,
          19.4,
          19.2,
          18.8,
          20.3,
          20.7,
          19.8,
          20.7,
          19.4,
          21,
          20.7,
          20.3,
          20.5,
          21.7,
          21.9,
          22.5,
          21.3,
          20,
          19.7,
          19.5,
          19.2,
          20.4,
          21.2,
          21,
          21.5,
          21,
          20.6,
          20.9,
          20.9,
          21.7,
          21.8,
          20.6,
          22.6,
          22.3,
          21.3,
          22.5,
          21.4,
          21.8,
          22.2,
          22.5,
          21.4,
          21.9,
          20.9,
          21.9,
          22.9,
          22.2,
          22.2,
          22,
          21.9,
          21.9,
          22,
          22.3,
          22.1,
          22.8,
          22.7,
          21.1,
          21.4,
          21.6,
          21.8,
          22,
          21.5,
          21.9,
          21.9,
          21.1,
          21.9,
          21.6,
          21.8,
          21.8,
          21.9,
          21.8,
          20.7,
          21.1,
          20.5,
          21.9,
          22.2,
          22,
          21.8,
          22.1,
          21.7,
          21.3,
          21.4,
          20.3,
          21.4,
          22.3,
          21.1,
          22.2,
          21.5,
          22.4,
          21.9,
          22.2,
          21.8,
          20.8,
          21.6,
          20.4,
          22.2,
          21.5,
          22.5,
          22.4,
          22.3,
          21.9,
          21.9,
          21.6,
          21.5,
          22,
          22.2,
          21.5,
          21.5,
          21.6,
          22.4,
          22.4,
          21.9,
          22.2,
          21,
          21.4,
          21.7,
          21.9,
          21.5,
          21.5,
          21.5,
          22.3,
          22.5,
          23.1,
          22.6,
          22.4,
          22.5,
          22.1,
          22.5,
          22.3,
          20.6,
          21.2,
          21.3,
          20.4,
          21.7,
          21.7,
          22.4,
          22.4,
          21.8,
          21.1,
          22.2,
          21.9,
          21.8,
          22.4,
          21.9,
          22,
          21.1,
          21.7,
          21.2,
          21.9,
          21.3,
          22.3,
          21.6,
          22.7,
          22.3,
          21.4,
          20.9,
          21.3,
          21.3,
          21.9,
          22.3,
          21.3,
          22,
          23,
          22.8,
          21.2,
          21.1,
          20.7,
          21.1,
          22,
          21.7,
          21.6,
          21.5,
          22,
          21.4,
          21.6,
          21.5,
          21.4,
          22.1,
          22.4,
          22.6,
          22.4,
          22.1,
          21.7,
          21.6,
          21.2,
          21.1,
          20.8,
          20.9,
          21.6,
          22.1,
          21.6,
          21.4,
          21.3,
          21.2,
          20.5,
          21,
          21.6,
          21.4,
          22.4,
          21.7,
          20.8,
          19.8,
          19.9,
          19.2,
          20.5,
          20.1,
          19.7,
          19.7,
          19.2,
          19.9,
          18.8,
          20.4,
          20.2,
          20,
          19.8,
          19.1,
          19.1,
          18.2,
          17.6,
          20.3,
          21.2,
          20.8,
          18.8,
          20.7,
          20.8,
          19.7,
          18.3,
          17.6,
          19.7,
          20.1,
          19.6,
          19.8,
          19.1,
          19.3,
          19.5,
          20,
          20,
          19.9,
          20.2,
          18.9,
          19.9,
          19.5,
          19.7,
          19.6,
          19.9,
          20.9,
          20.7,
          20.3,
          20,
          20.5,
          20.7,
          20,
          19.7,
          18.6,
          20.7,
          20.6,
          19.6
         ],
         "yaxis": "y"
        },
        {
         "hovertemplate": "variable=TMAX<br>year=2001<br>monthday=%{x}<br>value=%{y}<extra></extra>",
         "legendgroup": "TMAX",
         "line": {
          "color": "#EF553B",
          "dash": "solid"
         },
         "marker": {
          "symbol": "circle"
         },
         "mode": "lines",
         "name": "TMAX",
         "orientation": "v",
         "showlegend": true,
         "type": "scatter",
         "x": [
          "Jan-01",
          "Jan-02",
          "Jan-03",
          "Jan-04",
          "Jan-05",
          "Jan-06",
          "Jan-07",
          "Jan-08",
          "Jan-09",
          "Jan-10",
          "Jan-11",
          "Jan-12",
          "Jan-13",
          "Jan-14",
          "Jan-15",
          "Jan-16",
          "Jan-17",
          "Jan-18",
          "Jan-19",
          "Jan-20",
          "Jan-21",
          "Jan-22",
          "Jan-23",
          "Jan-24",
          "Jan-25",
          "Jan-26",
          "Jan-27",
          "Jan-28",
          "Jan-29",
          "Jan-30",
          "Jan-31",
          "Feb-01",
          "Feb-02",
          "Feb-03",
          "Feb-04",
          "Feb-05",
          "Feb-06",
          "Feb-07",
          "Feb-08",
          "Feb-09",
          "Feb-10",
          "Feb-11",
          "Feb-12",
          "Feb-13",
          "Feb-14",
          "Feb-15",
          "Feb-16",
          "Feb-17",
          "Feb-18",
          "Feb-19",
          "Feb-20",
          "Feb-21",
          "Feb-22",
          "Feb-23",
          "Feb-24",
          "Feb-25",
          "Feb-26",
          "Feb-27",
          "Feb-28",
          "Mar-01",
          "Mar-02",
          "Mar-03",
          "Mar-04",
          "Mar-05",
          "Mar-06",
          "Mar-07",
          "Mar-08",
          "Mar-09",
          "Mar-10",
          "Mar-11",
          "Mar-12",
          "Mar-13",
          "Mar-14",
          "Mar-15",
          "Mar-16",
          "Mar-17",
          "Mar-18",
          "Mar-19",
          "Mar-20",
          "Mar-21",
          "Mar-22",
          "Mar-23",
          "Mar-24",
          "Mar-25",
          "Mar-26",
          "Mar-27",
          "Mar-28",
          "Mar-29",
          "Mar-30",
          "Mar-31",
          "Apr-01",
          "Apr-02",
          "Apr-03",
          "Apr-04",
          "Apr-05",
          "Apr-06",
          "Apr-07",
          "Apr-08",
          "Apr-09",
          "Apr-10",
          "Apr-11",
          "Apr-12",
          "Apr-13",
          "Apr-14",
          "Apr-15",
          "Apr-16",
          "Apr-17",
          "Apr-18",
          "Apr-19",
          "Apr-20",
          "Apr-21",
          "Apr-22",
          "Apr-23",
          "Apr-24",
          "Apr-25",
          "Apr-26",
          "Apr-27",
          "Apr-28",
          "Apr-29",
          "Apr-30",
          "May-01",
          "May-02",
          "May-03",
          "May-04",
          "May-05",
          "May-06",
          "May-07",
          "May-08",
          "May-09",
          "May-10",
          "May-11",
          "May-12",
          "May-13",
          "May-14",
          "May-15",
          "May-16",
          "May-17",
          "May-18",
          "May-19",
          "May-20",
          "May-21",
          "May-22",
          "May-23",
          "May-24",
          "May-25",
          "May-26",
          "May-27",
          "May-28",
          "May-29",
          "May-30",
          "May-31",
          "Jun-01",
          "Jun-02",
          "Jun-03",
          "Jun-04",
          "Jun-05",
          "Jun-06",
          "Jun-07",
          "Jun-08",
          "Jun-09",
          "Jun-10",
          "Jun-11",
          "Jun-12",
          "Jun-13",
          "Jun-14",
          "Jun-15",
          "Jun-16",
          "Jun-17",
          "Jun-18",
          "Jun-19",
          "Jun-20",
          "Jun-21",
          "Jun-22",
          "Jun-23",
          "Jun-24",
          "Jun-25",
          "Jun-26",
          "Jun-27",
          "Jun-28",
          "Jun-29",
          "Jun-30",
          "Jul-01",
          "Jul-02",
          "Jul-03",
          "Jul-04",
          "Jul-05",
          "Jul-06",
          "Jul-07",
          "Jul-08",
          "Jul-09",
          "Jul-10",
          "Jul-11",
          "Jul-12",
          "Jul-13",
          "Jul-14",
          "Jul-15",
          "Jul-16",
          "Jul-17",
          "Jul-18",
          "Jul-19",
          "Jul-20",
          "Jul-21",
          "Jul-22",
          "Jul-23",
          "Jul-24",
          "Jul-25",
          "Jul-26",
          "Jul-27",
          "Jul-28",
          "Jul-29",
          "Jul-30",
          "Jul-31",
          "Aug-01",
          "Aug-02",
          "Aug-03",
          "Aug-04",
          "Aug-05",
          "Aug-06",
          "Aug-07",
          "Aug-08",
          "Aug-09",
          "Aug-10",
          "Aug-11",
          "Aug-12",
          "Aug-13",
          "Aug-14",
          "Aug-15",
          "Aug-16",
          "Aug-17",
          "Aug-18",
          "Aug-19",
          "Aug-20",
          "Aug-21",
          "Aug-22",
          "Aug-23",
          "Aug-24",
          "Aug-25",
          "Aug-26",
          "Aug-27",
          "Aug-28",
          "Aug-29",
          "Aug-30",
          "Aug-31",
          "Sep-01",
          "Sep-02",
          "Sep-03",
          "Sep-04",
          "Sep-05",
          "Sep-06",
          "Sep-07",
          "Sep-08",
          "Sep-09",
          "Sep-10",
          "Sep-11",
          "Sep-12",
          "Sep-13",
          "Sep-14",
          "Sep-15",
          "Sep-16",
          "Sep-17",
          "Sep-18",
          "Sep-19",
          "Sep-20",
          "Sep-21",
          "Sep-22",
          "Sep-23",
          "Sep-24",
          "Sep-25",
          "Sep-26",
          "Sep-27",
          "Sep-28",
          "Sep-29",
          "Sep-30",
          "Oct-01",
          "Oct-02",
          "Oct-03",
          "Oct-04",
          "Oct-05",
          "Oct-06",
          "Oct-07",
          "Oct-08",
          "Oct-09",
          "Oct-10",
          "Oct-11",
          "Oct-12",
          "Oct-13",
          "Oct-14",
          "Oct-15",
          "Oct-16",
          "Oct-17",
          "Oct-18",
          "Oct-19",
          "Oct-20",
          "Oct-21",
          "Oct-22",
          "Oct-23",
          "Oct-24",
          "Oct-25",
          "Oct-26",
          "Oct-27",
          "Oct-28",
          "Oct-29",
          "Oct-30",
          "Oct-31",
          "Nov-01",
          "Nov-02",
          "Nov-03",
          "Nov-04",
          "Nov-05",
          "Nov-06",
          "Nov-07",
          "Nov-08",
          "Nov-09",
          "Nov-10",
          "Nov-11",
          "Nov-12",
          "Nov-13",
          "Nov-14",
          "Nov-15",
          "Nov-16",
          "Nov-17",
          "Nov-18",
          "Nov-19",
          "Nov-20",
          "Nov-21",
          "Nov-22",
          "Nov-23",
          "Nov-24",
          "Nov-25",
          "Nov-26",
          "Nov-27",
          "Nov-28",
          "Nov-29",
          "Nov-30",
          "Dec-01",
          "Dec-02",
          "Dec-03",
          "Dec-04",
          "Dec-05",
          "Dec-06",
          "Dec-07",
          "Dec-08",
          "Dec-09",
          "Dec-10",
          "Dec-11",
          "Dec-12",
          "Dec-13",
          "Dec-14",
          "Dec-15",
          "Dec-16",
          "Dec-17",
          "Dec-18",
          "Dec-19",
          "Dec-20",
          "Dec-21",
          "Dec-22",
          "Dec-23",
          "Dec-24",
          "Dec-25",
          "Dec-26",
          "Dec-27",
          "Dec-28",
          "Dec-29",
          "Dec-30",
          "Dec-31"
         ],
         "xaxis": "x",
         "y": [
          23.9,
          24.5,
          24.6,
          23.5,
          22.2,
          23.6,
          25.1,
          27.4,
          25.7,
          22.5,
          26.8,
          26,
          25.6,
          24.8,
          25.2,
          25.3,
          28,
          28.8,
          29.8,
          24.4,
          20.5,
          20.3,
          20.8,
          23,
          22.3,
          22.7,
          24.5,
          26.5,
          27.8,
          29.5,
          28.5,
          28,
          26.7,
          25.3,
          26.5,
          24.2,
          26.6,
          27,
          27.2,
          27.7,
          27.3,
          26.7,
          25.8,
          27,
          27.5,
          27.7,
          28.9,
          26.1,
          26.2,
          26.6,
          26.4,
          26.4,
          27.4,
          28.1,
          28.3,
          27.6,
          27,
          28.3,
          28.3,
          30,
          31.2,
          32.6,
          33.1,
          27.6,
          23.8,
          24.4,
          25.3,
          29.4,
          28.6,
          31.8,
          33,
          32.9,
          31.2,
          33.5,
          32.8,
          32.6,
          33.2,
          29.4,
          28.1,
          22.7,
          24.1,
          26.3,
          27.3,
          27.9,
          27.2,
          28,
          30.1,
          34.9,
          34.9,
          35.7,
          30.5,
          32.4,
          32.7,
          31.8,
          29.4,
          28.9,
          30.2,
          31.8,
          31.7,
          31.5,
          34.2,
          31.8,
          31.3,
          30.8,
          31.8,
          33.1,
          31.4,
          28.7,
          27,
          28.2,
          29.2,
          29.9,
          31.6,
          31.4,
          31.3,
          30.2,
          29.3,
          30.2,
          29.5,
          29.3,
          28.9,
          31.1,
          32.6,
          32.6,
          31.6,
          30.7,
          28.5,
          28.6,
          27.8,
          28.8,
          28.8,
          29.4,
          27.6,
          27.6,
          27.2,
          28.1,
          30.4,
          30.5,
          30.6,
          30.2,
          32.6,
          33.3,
          27.5,
          29.9,
          30.8,
          29.8,
          30.6,
          30.7,
          30.6,
          31,
          31.1,
          32.2,
          33,
          33,
          29.6,
          32,
          31.2,
          31.7,
          31.8,
          32.2,
          32.1,
          31.9,
          33.2,
          33.6,
          32.4,
          29.9,
          29.7,
          29.5,
          28.5,
          29.7,
          29.4,
          29,
          29.9,
          30.9,
          31.7,
          30.1,
          31.3,
          30.1,
          31.1,
          29.7,
          29.5,
          30,
          31.1,
          31.4,
          30.4,
          30.3,
          29.4,
          29.1,
          30.1,
          30.1,
          31.8,
          31.8,
          30.3,
          30.6,
          32.1,
          33.1,
          32.7,
          31.9,
          30.9,
          31.1,
          31.2,
          31.3,
          32.6,
          32.2,
          34.4,
          32.7,
          33.3,
          31.5,
          31.4,
          29.2,
          30.5,
          29.6,
          28.7,
          29.9,
          32.3,
          31.5,
          32.5,
          31,
          30.2,
          28.4,
          27.4,
          29.9,
          30.6,
          30.2,
          28.5,
          29.3,
          30.5,
          30.7,
          29.3,
          29.2,
          29.1,
          31.1,
          29.8,
          29.5,
          30.3,
          30.6,
          30,
          29.8,
          30,
          30.2,
          30.1,
          30.1,
          30.6,
          31.5,
          31.4,
          30.8,
          28.9,
          30.3,
          28.1,
          29.3,
          31.3,
          32.4,
          32.3,
          32.8,
          32.4,
          29.9,
          30.8,
          31.1,
          30.1,
          31.8,
          32.9,
          29,
          24,
          29.4,
          30.6,
          30.7,
          32.3,
          30.7,
          31.6,
          32,
          32.8,
          29.2,
          25.4,
          25.2,
          26.8,
          28.1,
          28.1,
          29.9,
          29.6,
          28.4,
          25.8,
          29.6,
          29.1,
          27.9,
          29.7,
          32.2,
          32.4,
          30.4,
          29.4,
          28,
          27.5,
          26,
          27.6,
          28,
          28,
          29.5,
          31,
          29.8,
          27.9,
          26.7,
          24.8,
          23.3,
          22.5,
          23,
          23.3,
          25.8,
          26.5,
          27.5,
          24.4,
          25,
          25.8,
          25.4,
          21.9,
          22.2,
          24.6,
          26.2,
          25.3,
          24.8,
          25.9,
          24.2,
          23,
          26,
          25.7,
          25.2,
          25.4,
          26.3,
          28.5,
          29.7,
          28.4,
          26.8,
          28.6,
          28.5,
          28.8,
          27,
          25.8,
          25,
          25.9,
          26.2,
          25.8,
          26,
          25.9,
          25.4,
          25.1,
          25.9,
          26.7,
          27.4,
          27.6,
          27.9,
          26.9,
          27.4,
          27.4,
          26.7,
          26.8,
          25.3,
          25.3,
          26.1,
          27.1,
          27.4,
          27,
          25.3,
          24.1,
          25.3,
          27.7,
          27,
          27.8
         ],
         "yaxis": "y"
        },
        {
         "alignmentgroup": "True",
         "hovertemplate": "Variable=Precipitation<br>year=2001<br>Date=%{x}<br>Precipitation (mm) <br>Temperature (°C)=%{y}<extra></extra>",
         "legendgroup": "Precipitation",
         "marker": {
          "color": "#636efa",
          "pattern": {
           "shape": ""
          }
         },
         "name": "Precipitation",
         "offsetgroup": "Precipitation",
         "orientation": "v",
         "showlegend": true,
         "textposition": "auto",
         "type": "bar",
         "x": [
          "Jan-01",
          "Jan-02",
          "Jan-03",
          "Jan-04",
          "Jan-05",
          "Jan-06",
          "Jan-07",
          "Jan-08",
          "Jan-09",
          "Jan-10",
          "Jan-11",
          "Jan-12",
          "Jan-13",
          "Jan-14",
          "Jan-15",
          "Jan-16",
          "Jan-17",
          "Jan-18",
          "Jan-19",
          "Jan-20",
          "Jan-21",
          "Jan-22",
          "Jan-23",
          "Jan-24",
          "Jan-25",
          "Jan-26",
          "Jan-27",
          "Jan-28",
          "Jan-29",
          "Jan-30",
          "Jan-31",
          "Feb-01",
          "Feb-02",
          "Feb-03",
          "Feb-04",
          "Feb-05",
          "Feb-06",
          "Feb-07",
          "Feb-08",
          "Feb-09",
          "Feb-10",
          "Feb-11",
          "Feb-12",
          "Feb-13",
          "Feb-14",
          "Feb-15",
          "Feb-16",
          "Feb-17",
          "Feb-18",
          "Feb-19",
          "Feb-20",
          "Feb-21",
          "Feb-22",
          "Feb-23",
          "Feb-24",
          "Feb-25",
          "Feb-26",
          "Feb-27",
          "Feb-28",
          "Mar-01",
          "Mar-02",
          "Mar-03",
          "Mar-04",
          "Mar-05",
          "Mar-06",
          "Mar-07",
          "Mar-08",
          "Mar-09",
          "Mar-10",
          "Mar-11",
          "Mar-12",
          "Mar-13",
          "Mar-14",
          "Mar-15",
          "Mar-16",
          "Mar-17",
          "Mar-18",
          "Mar-19",
          "Mar-20",
          "Mar-21",
          "Mar-22",
          "Mar-23",
          "Mar-24",
          "Mar-25",
          "Mar-26",
          "Mar-27",
          "Mar-28",
          "Mar-29",
          "Mar-30",
          "Mar-31",
          "Apr-01",
          "Apr-02",
          "Apr-03",
          "Apr-04",
          "Apr-05",
          "Apr-06",
          "Apr-07",
          "Apr-08",
          "Apr-09",
          "Apr-10",
          "Apr-11",
          "Apr-12",
          "Apr-13",
          "Apr-14",
          "Apr-15",
          "Apr-16",
          "Apr-17",
          "Apr-18",
          "Apr-19",
          "Apr-20",
          "Apr-21",
          "Apr-22",
          "Apr-23",
          "Apr-24",
          "Apr-25",
          "Apr-26",
          "Apr-27",
          "Apr-28",
          "Apr-29",
          "Apr-30",
          "May-01",
          "May-02",
          "May-03",
          "May-04",
          "May-05",
          "May-06",
          "May-07",
          "May-08",
          "May-09",
          "May-10",
          "May-11",
          "May-12",
          "May-13",
          "May-14",
          "May-15",
          "May-16",
          "May-17",
          "May-18",
          "May-19",
          "May-20",
          "May-21",
          "May-22",
          "May-23",
          "May-24",
          "May-25",
          "May-26",
          "May-27",
          "May-28",
          "May-29",
          "May-30",
          "May-31",
          "Jun-01",
          "Jun-02",
          "Jun-03",
          "Jun-04",
          "Jun-05",
          "Jun-06",
          "Jun-07",
          "Jun-08",
          "Jun-09",
          "Jun-10",
          "Jun-11",
          "Jun-12",
          "Jun-13",
          "Jun-14",
          "Jun-15",
          "Jun-16",
          "Jun-17",
          "Jun-18",
          "Jun-19",
          "Jun-20",
          "Jun-21",
          "Jun-22",
          "Jun-23",
          "Jun-24",
          "Jun-25",
          "Jun-26",
          "Jun-27",
          "Jun-28",
          "Jun-29",
          "Jun-30",
          "Jul-01",
          "Jul-02",
          "Jul-03",
          "Jul-04",
          "Jul-05",
          "Jul-06",
          "Jul-07",
          "Jul-08",
          "Jul-09",
          "Jul-10",
          "Jul-11",
          "Jul-12",
          "Jul-13",
          "Jul-14",
          "Jul-15",
          "Jul-16",
          "Jul-17",
          "Jul-18",
          "Jul-19",
          "Jul-20",
          "Jul-21",
          "Jul-22",
          "Jul-23",
          "Jul-24",
          "Jul-25",
          "Jul-26",
          "Jul-27",
          "Jul-28",
          "Jul-29",
          "Jul-30",
          "Jul-31",
          "Aug-01",
          "Aug-02",
          "Aug-03",
          "Aug-04",
          "Aug-05",
          "Aug-06",
          "Aug-07",
          "Aug-08",
          "Aug-09",
          "Aug-10",
          "Aug-11",
          "Aug-12",
          "Aug-13",
          "Aug-14",
          "Aug-15",
          "Aug-16",
          "Aug-17",
          "Aug-18",
          "Aug-19",
          "Aug-20",
          "Aug-21",
          "Aug-22",
          "Aug-23",
          "Aug-24",
          "Aug-25",
          "Aug-26",
          "Aug-27",
          "Aug-28",
          "Aug-29",
          "Aug-30",
          "Aug-31",
          "Sep-01",
          "Sep-02",
          "Sep-03",
          "Sep-04",
          "Sep-05",
          "Sep-06",
          "Sep-07",
          "Sep-08",
          "Sep-09",
          "Sep-10",
          "Sep-11",
          "Sep-12",
          "Sep-13",
          "Sep-14",
          "Sep-15",
          "Sep-16",
          "Sep-17",
          "Sep-18",
          "Sep-19",
          "Sep-20",
          "Sep-21",
          "Sep-22",
          "Sep-23",
          "Sep-24",
          "Sep-25",
          "Sep-26",
          "Sep-27",
          "Sep-28",
          "Sep-29",
          "Sep-30",
          "Oct-01",
          "Oct-02",
          "Oct-03",
          "Oct-04",
          "Oct-05",
          "Oct-06",
          "Oct-07",
          "Oct-08",
          "Oct-09",
          "Oct-10",
          "Oct-11",
          "Oct-12",
          "Oct-13",
          "Oct-14",
          "Oct-15",
          "Oct-16",
          "Oct-17",
          "Oct-18",
          "Oct-19",
          "Oct-20",
          "Oct-21",
          "Oct-22",
          "Oct-23",
          "Oct-24",
          "Oct-25",
          "Oct-26",
          "Oct-27",
          "Oct-28",
          "Oct-29",
          "Oct-30",
          "Oct-31",
          "Nov-01",
          "Nov-02",
          "Nov-03",
          "Nov-04",
          "Nov-05",
          "Nov-06",
          "Nov-07",
          "Nov-08",
          "Nov-09",
          "Nov-10",
          "Nov-11",
          "Nov-12",
          "Nov-13",
          "Nov-14",
          "Nov-15",
          "Nov-16",
          "Nov-17",
          "Nov-18",
          "Nov-19",
          "Nov-20",
          "Nov-21",
          "Nov-22",
          "Nov-23",
          "Nov-24",
          "Nov-25",
          "Nov-26",
          "Nov-27",
          "Nov-28",
          "Nov-29",
          "Nov-30",
          "Dec-01",
          "Dec-02",
          "Dec-03",
          "Dec-04",
          "Dec-05",
          "Dec-06",
          "Dec-07",
          "Dec-08",
          "Dec-09",
          "Dec-10",
          "Dec-11",
          "Dec-12",
          "Dec-13",
          "Dec-14",
          "Dec-15",
          "Dec-16",
          "Dec-17",
          "Dec-18",
          "Dec-19",
          "Dec-20",
          "Dec-21",
          "Dec-22",
          "Dec-23",
          "Dec-24",
          "Dec-25",
          "Dec-26",
          "Dec-27",
          "Dec-28",
          "Dec-29",
          "Dec-30",
          "Dec-31"
         ],
         "xaxis": "x",
         "y": [
          "0.0",
          "0.6",
          "4.2",
          "12.9",
          "10.5",
          "2.6",
          "0.0",
          "0.0",
          "0.0",
          "12.0",
          "0.0",
          "3.9",
          "0.0",
          "0.0",
          "0.0",
          "0.0",
          "0.0",
          "0.0",
          "0.0",
          "6.5",
          "26.6",
          "35.2",
          "2.3",
          "2.2",
          "5.9",
          "4.3",
          "0.0",
          "0.0",
          "0.0",
          "0.0",
          "0.0",
          "0.0",
          "0.0",
          "15.8",
          "11.8",
          "0.0",
          "8.8",
          "0.0",
          "6.7",
          "0.0",
          "0.0",
          "6.9",
          "11.0",
          "1.1",
          "0.0",
          "0.0",
          "0.0",
          "0.0",
          "0.0",
          "0.0",
          "8.4",
          "0.0",
          "0.0",
          "7.0",
          "0.0",
          "3.5",
          "0.0",
          "0.0",
          "0.0",
          "0.0",
          "0.0",
          "0.0",
          "0.0",
          "11.6",
          "11.0",
          "0.0",
          "0.0",
          "0.0",
          "0.0",
          "0.0",
          "0.0",
          "0.0",
          "0.0",
          "1.4",
          "0.0",
          "0.0",
          "0.0",
          "0.0",
          "10.4",
          "13.8",
          "0.0",
          "0.0",
          "0.0",
          "0.0",
          "7.2",
          "0.0",
          "3.6",
          "0.0",
          "0.0",
          "0.0",
          "0.0",
          "0.0",
          "0.0",
          "0.0",
          "0.0",
          "0.0",
          "0.0",
          "0.0",
          "0.0",
          "0.0",
          "0.0",
          "0.0",
          "0.0",
          "0.0",
          "0.0",
          "0.0",
          "0.0",
          "0.0",
          "0.0",
          "0.0",
          "0.0",
          "0.0",
          "0.0",
          "0.0",
          "0.0",
          "0.0",
          "0.0",
          "0.0",
          "26.1",
          "0.0",
          "0.0",
          "0.0",
          "0.0",
          "0.0",
          "0.0",
          "0.0",
          "0.0",
          "0.0",
          "0.0",
          "0.0",
          "0.0",
          "0.0",
          "20.5",
          "20.5",
          "10.2",
          "0.0",
          "0.0",
          "0.0",
          "0.0",
          "0.0",
          "0.0",
          "0.0",
          "26.1",
          "19.0",
          "57.1",
          "0.0",
          "0.0",
          "0.0",
          "26.9",
          "4.9",
          "0.0",
          "1.7",
          "0.0",
          "0.0",
          "13.4",
          "0.0",
          "0.0",
          "0.0",
          "0.0",
          "0.0",
          "0.0",
          "0.0",
          "0.0",
          "0.0",
          "0.0",
          "7.3",
          "0.0",
          "10.5",
          "0.0",
          "21.0",
          "0.0",
          "56.8",
          "0.0",
          "0.0",
          "0.0",
          "15.7",
          "4.7",
          "12.1",
          "0.0",
          "0.0",
          "4.3",
          "7.0",
          "3.5",
          "0.0",
          "0.0",
          "1.1",
          "6.6",
          "15.7",
          "2.4",
          "2.4",
          "0.0",
          "3.6",
          "4.2",
          "0.7",
          "0.0",
          "0.0",
          "2.4",
          "4.9",
          "2.4",
          "0.0",
          "3.8",
          "4.3",
          "0.0",
          "0.0",
          "0.0",
          "0.0",
          "4.8",
          "1.2",
          "0.0",
          "5.6",
          "9.2",
          "0.0",
          "0.0",
          "0.0",
          "2.5",
          "26.0",
          "0.0",
          "10.0",
          "7.2",
          "7.2",
          "7.2",
          "19.7",
          "0.0",
          "9.0",
          "27.0",
          "18.0",
          "9.0",
          "0.0",
          "8.6",
          "0.0",
          "0.0",
          "0.0",
          "10.3",
          "11.9",
          "4.0",
          "1.8",
          "8.6",
          "1.4",
          "8.7",
          "17.3",
          "0.0",
          "2.3",
          "0.0",
          "6.6",
          "6.6",
          "0.0",
          "7.7",
          "11.9",
          "8.5",
          "17.0",
          "0.0",
          "0.0",
          "0.0",
          "0.0",
          "0.0",
          "0.0",
          "3.1",
          "3.1",
          "8.9",
          "0.0",
          "0.0",
          "2.1",
          "37.0",
          "0.0",
          "0.0",
          "0.0",
          "0.0",
          "0.0",
          "0.0",
          "0.0",
          "0.0",
          "17.2",
          "7.0",
          "0.0",
          "0.0",
          "0.0",
          "45.9",
          "0.0",
          "0.0",
          "0.0",
          "48.5",
          "17.0",
          "0.0",
          "24.4",
          "21.0",
          "0.0",
          "0.0",
          "0.0",
          "0.0",
          "0.0",
          "0.0",
          "26.1",
          "26.1",
          "0.0",
          "0.0",
          "66.1",
          "19.7",
          "0.0",
          "0.0",
          "0.0",
          "0.0",
          "15.7",
          "28.8",
          "135.2",
          "70.3",
          "117.2",
          "0.0",
          "0.0",
          "0.0",
          "0.0",
          "0.0",
          "0.0",
          "0.0",
          "3.3",
          "0.0",
          "0.0",
          "0.0",
          "0.0",
          "0.0",
          "0.0",
          "0.0",
          "0.0",
          "0.0",
          "0.0",
          "0.0",
          "0.0",
          "0.0",
          "0.0",
          "0.0",
          "16.8",
          "0.0",
          "0.0",
          "0.0",
          "0.0",
          "0.0",
          "0.0",
          "9.4",
          "5.8",
          "7.6",
          "5.4",
          "0.0",
          "0.0",
          "2.9",
          "10.6",
          "9.7",
          "0.0",
          "0.0",
          "0.0",
          "0.0",
          "0.0",
          "0.0",
          "0.0",
          "3.8",
          "26.0",
          "36.4",
          "5.1",
          "6.4",
          "0.0",
          "0.0",
          "12.5",
          "26.2",
          "0.0",
          "0.0",
          "5.3",
          "0.0"
         ],
         "yaxis": "y"
        }
       ],
       "layout": {
        "barmode": "relative",
        "legend": {
         "title": {
          "text": "Variable"
         },
         "tracegroupgap": 0
        },
        "margin": {
         "t": 60
        },
        "template": {
         "data": {
          "bar": [
           {
            "error_x": {
             "color": "#2a3f5f"
            },
            "error_y": {
             "color": "#2a3f5f"
            },
            "marker": {
             "line": {
              "color": "#E5ECF6",
              "width": 0.5
             },
             "pattern": {
              "fillmode": "overlay",
              "size": 10,
              "solidity": 0.2
             }
            },
            "type": "bar"
           }
          ],
          "barpolar": [
           {
            "marker": {
             "line": {
              "color": "#E5ECF6",
              "width": 0.5
             },
             "pattern": {
              "fillmode": "overlay",
              "size": 10,
              "solidity": 0.2
             }
            },
            "type": "barpolar"
           }
          ],
          "carpet": [
           {
            "aaxis": {
             "endlinecolor": "#2a3f5f",
             "gridcolor": "white",
             "linecolor": "white",
             "minorgridcolor": "white",
             "startlinecolor": "#2a3f5f"
            },
            "baxis": {
             "endlinecolor": "#2a3f5f",
             "gridcolor": "white",
             "linecolor": "white",
             "minorgridcolor": "white",
             "startlinecolor": "#2a3f5f"
            },
            "type": "carpet"
           }
          ],
          "choropleth": [
           {
            "colorbar": {
             "outlinewidth": 0,
             "ticks": ""
            },
            "type": "choropleth"
           }
          ],
          "contour": [
           {
            "colorbar": {
             "outlinewidth": 0,
             "ticks": ""
            },
            "colorscale": [
             [
              0,
              "#0d0887"
             ],
             [
              0.1111111111111111,
              "#46039f"
             ],
             [
              0.2222222222222222,
              "#7201a8"
             ],
             [
              0.3333333333333333,
              "#9c179e"
             ],
             [
              0.4444444444444444,
              "#bd3786"
             ],
             [
              0.5555555555555556,
              "#d8576b"
             ],
             [
              0.6666666666666666,
              "#ed7953"
             ],
             [
              0.7777777777777778,
              "#fb9f3a"
             ],
             [
              0.8888888888888888,
              "#fdca26"
             ],
             [
              1,
              "#f0f921"
             ]
            ],
            "type": "contour"
           }
          ],
          "contourcarpet": [
           {
            "colorbar": {
             "outlinewidth": 0,
             "ticks": ""
            },
            "type": "contourcarpet"
           }
          ],
          "heatmap": [
           {
            "colorbar": {
             "outlinewidth": 0,
             "ticks": ""
            },
            "colorscale": [
             [
              0,
              "#0d0887"
             ],
             [
              0.1111111111111111,
              "#46039f"
             ],
             [
              0.2222222222222222,
              "#7201a8"
             ],
             [
              0.3333333333333333,
              "#9c179e"
             ],
             [
              0.4444444444444444,
              "#bd3786"
             ],
             [
              0.5555555555555556,
              "#d8576b"
             ],
             [
              0.6666666666666666,
              "#ed7953"
             ],
             [
              0.7777777777777778,
              "#fb9f3a"
             ],
             [
              0.8888888888888888,
              "#fdca26"
             ],
             [
              1,
              "#f0f921"
             ]
            ],
            "type": "heatmap"
           }
          ],
          "heatmapgl": [
           {
            "colorbar": {
             "outlinewidth": 0,
             "ticks": ""
            },
            "colorscale": [
             [
              0,
              "#0d0887"
             ],
             [
              0.1111111111111111,
              "#46039f"
             ],
             [
              0.2222222222222222,
              "#7201a8"
             ],
             [
              0.3333333333333333,
              "#9c179e"
             ],
             [
              0.4444444444444444,
              "#bd3786"
             ],
             [
              0.5555555555555556,
              "#d8576b"
             ],
             [
              0.6666666666666666,
              "#ed7953"
             ],
             [
              0.7777777777777778,
              "#fb9f3a"
             ],
             [
              0.8888888888888888,
              "#fdca26"
             ],
             [
              1,
              "#f0f921"
             ]
            ],
            "type": "heatmapgl"
           }
          ],
          "histogram": [
           {
            "marker": {
             "pattern": {
              "fillmode": "overlay",
              "size": 10,
              "solidity": 0.2
             }
            },
            "type": "histogram"
           }
          ],
          "histogram2d": [
           {
            "colorbar": {
             "outlinewidth": 0,
             "ticks": ""
            },
            "colorscale": [
             [
              0,
              "#0d0887"
             ],
             [
              0.1111111111111111,
              "#46039f"
             ],
             [
              0.2222222222222222,
              "#7201a8"
             ],
             [
              0.3333333333333333,
              "#9c179e"
             ],
             [
              0.4444444444444444,
              "#bd3786"
             ],
             [
              0.5555555555555556,
              "#d8576b"
             ],
             [
              0.6666666666666666,
              "#ed7953"
             ],
             [
              0.7777777777777778,
              "#fb9f3a"
             ],
             [
              0.8888888888888888,
              "#fdca26"
             ],
             [
              1,
              "#f0f921"
             ]
            ],
            "type": "histogram2d"
           }
          ],
          "histogram2dcontour": [
           {
            "colorbar": {
             "outlinewidth": 0,
             "ticks": ""
            },
            "colorscale": [
             [
              0,
              "#0d0887"
             ],
             [
              0.1111111111111111,
              "#46039f"
             ],
             [
              0.2222222222222222,
              "#7201a8"
             ],
             [
              0.3333333333333333,
              "#9c179e"
             ],
             [
              0.4444444444444444,
              "#bd3786"
             ],
             [
              0.5555555555555556,
              "#d8576b"
             ],
             [
              0.6666666666666666,
              "#ed7953"
             ],
             [
              0.7777777777777778,
              "#fb9f3a"
             ],
             [
              0.8888888888888888,
              "#fdca26"
             ],
             [
              1,
              "#f0f921"
             ]
            ],
            "type": "histogram2dcontour"
           }
          ],
          "mesh3d": [
           {
            "colorbar": {
             "outlinewidth": 0,
             "ticks": ""
            },
            "type": "mesh3d"
           }
          ],
          "parcoords": [
           {
            "line": {
             "colorbar": {
              "outlinewidth": 0,
              "ticks": ""
             }
            },
            "type": "parcoords"
           }
          ],
          "pie": [
           {
            "automargin": true,
            "type": "pie"
           }
          ],
          "scatter": [
           {
            "fillpattern": {
             "fillmode": "overlay",
             "size": 10,
             "solidity": 0.2
            },
            "type": "scatter"
           }
          ],
          "scatter3d": [
           {
            "line": {
             "colorbar": {
              "outlinewidth": 0,
              "ticks": ""
             }
            },
            "marker": {
             "colorbar": {
              "outlinewidth": 0,
              "ticks": ""
             }
            },
            "type": "scatter3d"
           }
          ],
          "scattercarpet": [
           {
            "marker": {
             "colorbar": {
              "outlinewidth": 0,
              "ticks": ""
             }
            },
            "type": "scattercarpet"
           }
          ],
          "scattergeo": [
           {
            "marker": {
             "colorbar": {
              "outlinewidth": 0,
              "ticks": ""
             }
            },
            "type": "scattergeo"
           }
          ],
          "scattergl": [
           {
            "marker": {
             "colorbar": {
              "outlinewidth": 0,
              "ticks": ""
             }
            },
            "type": "scattergl"
           }
          ],
          "scattermapbox": [
           {
            "marker": {
             "colorbar": {
              "outlinewidth": 0,
              "ticks": ""
             }
            },
            "type": "scattermapbox"
           }
          ],
          "scatterpolar": [
           {
            "marker": {
             "colorbar": {
              "outlinewidth": 0,
              "ticks": ""
             }
            },
            "type": "scatterpolar"
           }
          ],
          "scatterpolargl": [
           {
            "marker": {
             "colorbar": {
              "outlinewidth": 0,
              "ticks": ""
             }
            },
            "type": "scatterpolargl"
           }
          ],
          "scatterternary": [
           {
            "marker": {
             "colorbar": {
              "outlinewidth": 0,
              "ticks": ""
             }
            },
            "type": "scatterternary"
           }
          ],
          "surface": [
           {
            "colorbar": {
             "outlinewidth": 0,
             "ticks": ""
            },
            "colorscale": [
             [
              0,
              "#0d0887"
             ],
             [
              0.1111111111111111,
              "#46039f"
             ],
             [
              0.2222222222222222,
              "#7201a8"
             ],
             [
              0.3333333333333333,
              "#9c179e"
             ],
             [
              0.4444444444444444,
              "#bd3786"
             ],
             [
              0.5555555555555556,
              "#d8576b"
             ],
             [
              0.6666666666666666,
              "#ed7953"
             ],
             [
              0.7777777777777778,
              "#fb9f3a"
             ],
             [
              0.8888888888888888,
              "#fdca26"
             ],
             [
              1,
              "#f0f921"
             ]
            ],
            "type": "surface"
           }
          ],
          "table": [
           {
            "cells": {
             "fill": {
              "color": "#EBF0F8"
             },
             "line": {
              "color": "white"
             }
            },
            "header": {
             "fill": {
              "color": "#C8D4E3"
             },
             "line": {
              "color": "white"
             }
            },
            "type": "table"
           }
          ]
         },
         "layout": {
          "annotationdefaults": {
           "arrowcolor": "#2a3f5f",
           "arrowhead": 0,
           "arrowwidth": 1
          },
          "autotypenumbers": "strict",
          "coloraxis": {
           "colorbar": {
            "outlinewidth": 0,
            "ticks": ""
           }
          },
          "colorscale": {
           "diverging": [
            [
             0,
             "#8e0152"
            ],
            [
             0.1,
             "#c51b7d"
            ],
            [
             0.2,
             "#de77ae"
            ],
            [
             0.3,
             "#f1b6da"
            ],
            [
             0.4,
             "#fde0ef"
            ],
            [
             0.5,
             "#f7f7f7"
            ],
            [
             0.6,
             "#e6f5d0"
            ],
            [
             0.7,
             "#b8e186"
            ],
            [
             0.8,
             "#7fbc41"
            ],
            [
             0.9,
             "#4d9221"
            ],
            [
             1,
             "#276419"
            ]
           ],
           "sequential": [
            [
             0,
             "#0d0887"
            ],
            [
             0.1111111111111111,
             "#46039f"
            ],
            [
             0.2222222222222222,
             "#7201a8"
            ],
            [
             0.3333333333333333,
             "#9c179e"
            ],
            [
             0.4444444444444444,
             "#bd3786"
            ],
            [
             0.5555555555555556,
             "#d8576b"
            ],
            [
             0.6666666666666666,
             "#ed7953"
            ],
            [
             0.7777777777777778,
             "#fb9f3a"
            ],
            [
             0.8888888888888888,
             "#fdca26"
            ],
            [
             1,
             "#f0f921"
            ]
           ],
           "sequentialminus": [
            [
             0,
             "#0d0887"
            ],
            [
             0.1111111111111111,
             "#46039f"
            ],
            [
             0.2222222222222222,
             "#7201a8"
            ],
            [
             0.3333333333333333,
             "#9c179e"
            ],
            [
             0.4444444444444444,
             "#bd3786"
            ],
            [
             0.5555555555555556,
             "#d8576b"
            ],
            [
             0.6666666666666666,
             "#ed7953"
            ],
            [
             0.7777777777777778,
             "#fb9f3a"
            ],
            [
             0.8888888888888888,
             "#fdca26"
            ],
            [
             1,
             "#f0f921"
            ]
           ]
          },
          "colorway": [
           "#636efa",
           "#EF553B",
           "#00cc96",
           "#ab63fa",
           "#FFA15A",
           "#19d3f3",
           "#FF6692",
           "#B6E880",
           "#FF97FF",
           "#FECB52"
          ],
          "font": {
           "color": "#2a3f5f"
          },
          "geo": {
           "bgcolor": "white",
           "lakecolor": "white",
           "landcolor": "#E5ECF6",
           "showlakes": true,
           "showland": true,
           "subunitcolor": "white"
          },
          "hoverlabel": {
           "align": "left"
          },
          "hovermode": "closest",
          "mapbox": {
           "style": "light"
          },
          "paper_bgcolor": "white",
          "plot_bgcolor": "#E5ECF6",
          "polar": {
           "angularaxis": {
            "gridcolor": "white",
            "linecolor": "white",
            "ticks": ""
           },
           "bgcolor": "#E5ECF6",
           "radialaxis": {
            "gridcolor": "white",
            "linecolor": "white",
            "ticks": ""
           }
          },
          "scene": {
           "xaxis": {
            "backgroundcolor": "#E5ECF6",
            "gridcolor": "white",
            "gridwidth": 2,
            "linecolor": "white",
            "showbackground": true,
            "ticks": "",
            "zerolinecolor": "white"
           },
           "yaxis": {
            "backgroundcolor": "#E5ECF6",
            "gridcolor": "white",
            "gridwidth": 2,
            "linecolor": "white",
            "showbackground": true,
            "ticks": "",
            "zerolinecolor": "white"
           },
           "zaxis": {
            "backgroundcolor": "#E5ECF6",
            "gridcolor": "white",
            "gridwidth": 2,
            "linecolor": "white",
            "showbackground": true,
            "ticks": "",
            "zerolinecolor": "white"
           }
          },
          "shapedefaults": {
           "line": {
            "color": "#2a3f5f"
           }
          },
          "ternary": {
           "aaxis": {
            "gridcolor": "white",
            "linecolor": "white",
            "ticks": ""
           },
           "baxis": {
            "gridcolor": "white",
            "linecolor": "white",
            "ticks": ""
           },
           "bgcolor": "#E5ECF6",
           "caxis": {
            "gridcolor": "white",
            "linecolor": "white",
            "ticks": ""
           }
          },
          "title": {
           "x": 0.05
          },
          "xaxis": {
           "automargin": true,
           "gridcolor": "white",
           "linecolor": "white",
           "ticks": "",
           "title": {
            "standoff": 15
           },
           "zerolinecolor": "white",
           "zerolinewidth": 2
          },
          "yaxis": {
           "automargin": true,
           "gridcolor": "white",
           "linecolor": "white",
           "ticks": "",
           "title": {
            "standoff": 15
           },
           "zerolinecolor": "white",
           "zerolinewidth": 2
          }
         }
        },
        "xaxis": {
         "anchor": "y",
         "domain": [
          0,
          1
         ],
         "title": {
          "text": "Date"
         }
        },
        "yaxis": {
         "anchor": "x",
         "domain": [
          0,
          1
         ],
         "title": {
          "text": "Precipitation (mm) <br>Temperature (°C)"
         }
        }
       }
      }
     },
     "metadata": {},
     "output_type": "display_data"
    }
   ],
   "source": [
    "## weather plot\n",
    "\n",
    "labels = {'RAIN': \"Precipitation (mm) <br>Temperature (°C)\", \"monthday\": \"Date\" }\n",
    "weatherdatatoviz =output_data['clay'].weather_data()\n",
    "\n",
    "weatherdatatoviz['year'] = weatherdatatoviz.DATE.dt.year\n",
    "\n",
    "weatherdatatoviz[\"TMIN\"] = weatherdatatoviz[\"TMIN\"].map(lambda x: float(x))\n",
    "weatherdatatoviz[\"TMAX\"] = weatherdatatoviz[\"TMAX\"].map(lambda x: float(x))\n",
    "weatherdatatoviz = pd.melt(weatherdatatoviz.loc[:,['DATE','year', 'TMIN', 'TMAX','RAIN']], id_vars=['DATE','year','RAIN'], value_vars=['TMIN','TMAX'])\n",
    "weatherdatatoviz['monthday'] = weatherdatatoviz.DATE.dt.strftime('%b-%d')\n",
    "\n",
    "figwt = px.line(weatherdatatoviz, x=\"monthday\", y=\"value\", animation_frame=\"year\",color = 'variable')\n",
    "weatherdatatoviz = weatherdatatoviz.loc[weatherdatatoviz.variable == 'TMIN']\n",
    "weatherdatatoviz.loc[:,'Variable'] = 'Precipitation'\n",
    "figwr = px.bar(weatherdatatoviz, x=\"monthday\", y=\"RAIN\", animation_frame=\"year\",color = 'Variable',\n",
    "                        labels = labels)\n",
    "\n",
    "figw = go.Figure(\n",
    "    data=figwt.data + figwr.data,\n",
    "    frames=[\n",
    "        go.Frame(data=fr1.data + fr2.data, name=fr1.name)\n",
    "        for fr1, fr2 in zip(figwt.frames, figwr.frames)\n",
    "    ],\n",
    "    layout=figwr.layout,\n",
    ")\n",
    "figw.show()"
   ]
  },
  {
   "cell_type": "code",
   "execution_count": 26,
   "metadata": {},
   "outputs": [
    {
     "data": {
      "application/vnd.plotly.v1+json": {
       "config": {
        "plotlyServerURL": "https://plot.ly"
       },
       "data": [
        {
         "hovertemplate": "texture=clay<br>year=2001<br>Date=%{x}<br>HWAH=%{y}<extra></extra>",
         "legendgroup": "clay",
         "line": {
          "color": "#636efa",
          "dash": "solid"
         },
         "marker": {
          "symbol": "circle"
         },
         "mode": "lines",
         "name": "clay",
         "orientation": "v",
         "showlegend": true,
         "type": "scatter",
         "x": [
          "Apr-01",
          "Apr-08",
          "Apr-15",
          "Apr-22",
          "Apr-29",
          "May-06",
          "May-13",
          "May-20",
          "May-27",
          "Jun-03"
         ],
         "xaxis": "x",
         "y": [
          1395,
          1890,
          1559,
          1179,
          1099,
          1549,
          1913,
          1887,
          1194,
          782
         ],
         "yaxis": "y"
        },
        {
         "hovertemplate": "texture=clayloam<br>year=2001<br>Date=%{x}<br>HWAH=%{y}<extra></extra>",
         "legendgroup": "clayloam",
         "line": {
          "color": "#EF553B",
          "dash": "solid"
         },
         "marker": {
          "symbol": "circle"
         },
         "mode": "lines",
         "name": "clayloam",
         "orientation": "v",
         "showlegend": true,
         "type": "scatter",
         "x": [
          "Apr-01",
          "Apr-08",
          "Apr-15",
          "Apr-22",
          "Apr-29",
          "May-06",
          "May-13",
          "May-20",
          "May-27",
          "Jun-03"
         ],
         "xaxis": "x",
         "y": [
          1467,
          1981,
          1521,
          1177,
          1014,
          1541,
          1886,
          1893,
          1201,
          787
         ],
         "yaxis": "y"
        }
       ],
       "layout": {
        "legend": {
         "title": {
          "text": "texture"
         },
         "tracegroupgap": 0
        },
        "margin": {
         "t": 60
        },
        "template": {
         "data": {
          "bar": [
           {
            "error_x": {
             "color": "#2a3f5f"
            },
            "error_y": {
             "color": "#2a3f5f"
            },
            "marker": {
             "line": {
              "color": "#E5ECF6",
              "width": 0.5
             },
             "pattern": {
              "fillmode": "overlay",
              "size": 10,
              "solidity": 0.2
             }
            },
            "type": "bar"
           }
          ],
          "barpolar": [
           {
            "marker": {
             "line": {
              "color": "#E5ECF6",
              "width": 0.5
             },
             "pattern": {
              "fillmode": "overlay",
              "size": 10,
              "solidity": 0.2
             }
            },
            "type": "barpolar"
           }
          ],
          "carpet": [
           {
            "aaxis": {
             "endlinecolor": "#2a3f5f",
             "gridcolor": "white",
             "linecolor": "white",
             "minorgridcolor": "white",
             "startlinecolor": "#2a3f5f"
            },
            "baxis": {
             "endlinecolor": "#2a3f5f",
             "gridcolor": "white",
             "linecolor": "white",
             "minorgridcolor": "white",
             "startlinecolor": "#2a3f5f"
            },
            "type": "carpet"
           }
          ],
          "choropleth": [
           {
            "colorbar": {
             "outlinewidth": 0,
             "ticks": ""
            },
            "type": "choropleth"
           }
          ],
          "contour": [
           {
            "colorbar": {
             "outlinewidth": 0,
             "ticks": ""
            },
            "colorscale": [
             [
              0,
              "#0d0887"
             ],
             [
              0.1111111111111111,
              "#46039f"
             ],
             [
              0.2222222222222222,
              "#7201a8"
             ],
             [
              0.3333333333333333,
              "#9c179e"
             ],
             [
              0.4444444444444444,
              "#bd3786"
             ],
             [
              0.5555555555555556,
              "#d8576b"
             ],
             [
              0.6666666666666666,
              "#ed7953"
             ],
             [
              0.7777777777777778,
              "#fb9f3a"
             ],
             [
              0.8888888888888888,
              "#fdca26"
             ],
             [
              1,
              "#f0f921"
             ]
            ],
            "type": "contour"
           }
          ],
          "contourcarpet": [
           {
            "colorbar": {
             "outlinewidth": 0,
             "ticks": ""
            },
            "type": "contourcarpet"
           }
          ],
          "heatmap": [
           {
            "colorbar": {
             "outlinewidth": 0,
             "ticks": ""
            },
            "colorscale": [
             [
              0,
              "#0d0887"
             ],
             [
              0.1111111111111111,
              "#46039f"
             ],
             [
              0.2222222222222222,
              "#7201a8"
             ],
             [
              0.3333333333333333,
              "#9c179e"
             ],
             [
              0.4444444444444444,
              "#bd3786"
             ],
             [
              0.5555555555555556,
              "#d8576b"
             ],
             [
              0.6666666666666666,
              "#ed7953"
             ],
             [
              0.7777777777777778,
              "#fb9f3a"
             ],
             [
              0.8888888888888888,
              "#fdca26"
             ],
             [
              1,
              "#f0f921"
             ]
            ],
            "type": "heatmap"
           }
          ],
          "heatmapgl": [
           {
            "colorbar": {
             "outlinewidth": 0,
             "ticks": ""
            },
            "colorscale": [
             [
              0,
              "#0d0887"
             ],
             [
              0.1111111111111111,
              "#46039f"
             ],
             [
              0.2222222222222222,
              "#7201a8"
             ],
             [
              0.3333333333333333,
              "#9c179e"
             ],
             [
              0.4444444444444444,
              "#bd3786"
             ],
             [
              0.5555555555555556,
              "#d8576b"
             ],
             [
              0.6666666666666666,
              "#ed7953"
             ],
             [
              0.7777777777777778,
              "#fb9f3a"
             ],
             [
              0.8888888888888888,
              "#fdca26"
             ],
             [
              1,
              "#f0f921"
             ]
            ],
            "type": "heatmapgl"
           }
          ],
          "histogram": [
           {
            "marker": {
             "pattern": {
              "fillmode": "overlay",
              "size": 10,
              "solidity": 0.2
             }
            },
            "type": "histogram"
           }
          ],
          "histogram2d": [
           {
            "colorbar": {
             "outlinewidth": 0,
             "ticks": ""
            },
            "colorscale": [
             [
              0,
              "#0d0887"
             ],
             [
              0.1111111111111111,
              "#46039f"
             ],
             [
              0.2222222222222222,
              "#7201a8"
             ],
             [
              0.3333333333333333,
              "#9c179e"
             ],
             [
              0.4444444444444444,
              "#bd3786"
             ],
             [
              0.5555555555555556,
              "#d8576b"
             ],
             [
              0.6666666666666666,
              "#ed7953"
             ],
             [
              0.7777777777777778,
              "#fb9f3a"
             ],
             [
              0.8888888888888888,
              "#fdca26"
             ],
             [
              1,
              "#f0f921"
             ]
            ],
            "type": "histogram2d"
           }
          ],
          "histogram2dcontour": [
           {
            "colorbar": {
             "outlinewidth": 0,
             "ticks": ""
            },
            "colorscale": [
             [
              0,
              "#0d0887"
             ],
             [
              0.1111111111111111,
              "#46039f"
             ],
             [
              0.2222222222222222,
              "#7201a8"
             ],
             [
              0.3333333333333333,
              "#9c179e"
             ],
             [
              0.4444444444444444,
              "#bd3786"
             ],
             [
              0.5555555555555556,
              "#d8576b"
             ],
             [
              0.6666666666666666,
              "#ed7953"
             ],
             [
              0.7777777777777778,
              "#fb9f3a"
             ],
             [
              0.8888888888888888,
              "#fdca26"
             ],
             [
              1,
              "#f0f921"
             ]
            ],
            "type": "histogram2dcontour"
           }
          ],
          "mesh3d": [
           {
            "colorbar": {
             "outlinewidth": 0,
             "ticks": ""
            },
            "type": "mesh3d"
           }
          ],
          "parcoords": [
           {
            "line": {
             "colorbar": {
              "outlinewidth": 0,
              "ticks": ""
             }
            },
            "type": "parcoords"
           }
          ],
          "pie": [
           {
            "automargin": true,
            "type": "pie"
           }
          ],
          "scatter": [
           {
            "fillpattern": {
             "fillmode": "overlay",
             "size": 10,
             "solidity": 0.2
            },
            "type": "scatter"
           }
          ],
          "scatter3d": [
           {
            "line": {
             "colorbar": {
              "outlinewidth": 0,
              "ticks": ""
             }
            },
            "marker": {
             "colorbar": {
              "outlinewidth": 0,
              "ticks": ""
             }
            },
            "type": "scatter3d"
           }
          ],
          "scattercarpet": [
           {
            "marker": {
             "colorbar": {
              "outlinewidth": 0,
              "ticks": ""
             }
            },
            "type": "scattercarpet"
           }
          ],
          "scattergeo": [
           {
            "marker": {
             "colorbar": {
              "outlinewidth": 0,
              "ticks": ""
             }
            },
            "type": "scattergeo"
           }
          ],
          "scattergl": [
           {
            "marker": {
             "colorbar": {
              "outlinewidth": 0,
              "ticks": ""
             }
            },
            "type": "scattergl"
           }
          ],
          "scattermapbox": [
           {
            "marker": {
             "colorbar": {
              "outlinewidth": 0,
              "ticks": ""
             }
            },
            "type": "scattermapbox"
           }
          ],
          "scatterpolar": [
           {
            "marker": {
             "colorbar": {
              "outlinewidth": 0,
              "ticks": ""
             }
            },
            "type": "scatterpolar"
           }
          ],
          "scatterpolargl": [
           {
            "marker": {
             "colorbar": {
              "outlinewidth": 0,
              "ticks": ""
             }
            },
            "type": "scatterpolargl"
           }
          ],
          "scatterternary": [
           {
            "marker": {
             "colorbar": {
              "outlinewidth": 0,
              "ticks": ""
             }
            },
            "type": "scatterternary"
           }
          ],
          "surface": [
           {
            "colorbar": {
             "outlinewidth": 0,
             "ticks": ""
            },
            "colorscale": [
             [
              0,
              "#0d0887"
             ],
             [
              0.1111111111111111,
              "#46039f"
             ],
             [
              0.2222222222222222,
              "#7201a8"
             ],
             [
              0.3333333333333333,
              "#9c179e"
             ],
             [
              0.4444444444444444,
              "#bd3786"
             ],
             [
              0.5555555555555556,
              "#d8576b"
             ],
             [
              0.6666666666666666,
              "#ed7953"
             ],
             [
              0.7777777777777778,
              "#fb9f3a"
             ],
             [
              0.8888888888888888,
              "#fdca26"
             ],
             [
              1,
              "#f0f921"
             ]
            ],
            "type": "surface"
           }
          ],
          "table": [
           {
            "cells": {
             "fill": {
              "color": "#EBF0F8"
             },
             "line": {
              "color": "white"
             }
            },
            "header": {
             "fill": {
              "color": "#C8D4E3"
             },
             "line": {
              "color": "white"
             }
            },
            "type": "table"
           }
          ]
         },
         "layout": {
          "annotationdefaults": {
           "arrowcolor": "#2a3f5f",
           "arrowhead": 0,
           "arrowwidth": 1
          },
          "autotypenumbers": "strict",
          "coloraxis": {
           "colorbar": {
            "outlinewidth": 0,
            "ticks": ""
           }
          },
          "colorscale": {
           "diverging": [
            [
             0,
             "#8e0152"
            ],
            [
             0.1,
             "#c51b7d"
            ],
            [
             0.2,
             "#de77ae"
            ],
            [
             0.3,
             "#f1b6da"
            ],
            [
             0.4,
             "#fde0ef"
            ],
            [
             0.5,
             "#f7f7f7"
            ],
            [
             0.6,
             "#e6f5d0"
            ],
            [
             0.7,
             "#b8e186"
            ],
            [
             0.8,
             "#7fbc41"
            ],
            [
             0.9,
             "#4d9221"
            ],
            [
             1,
             "#276419"
            ]
           ],
           "sequential": [
            [
             0,
             "#0d0887"
            ],
            [
             0.1111111111111111,
             "#46039f"
            ],
            [
             0.2222222222222222,
             "#7201a8"
            ],
            [
             0.3333333333333333,
             "#9c179e"
            ],
            [
             0.4444444444444444,
             "#bd3786"
            ],
            [
             0.5555555555555556,
             "#d8576b"
            ],
            [
             0.6666666666666666,
             "#ed7953"
            ],
            [
             0.7777777777777778,
             "#fb9f3a"
            ],
            [
             0.8888888888888888,
             "#fdca26"
            ],
            [
             1,
             "#f0f921"
            ]
           ],
           "sequentialminus": [
            [
             0,
             "#0d0887"
            ],
            [
             0.1111111111111111,
             "#46039f"
            ],
            [
             0.2222222222222222,
             "#7201a8"
            ],
            [
             0.3333333333333333,
             "#9c179e"
            ],
            [
             0.4444444444444444,
             "#bd3786"
            ],
            [
             0.5555555555555556,
             "#d8576b"
            ],
            [
             0.6666666666666666,
             "#ed7953"
            ],
            [
             0.7777777777777778,
             "#fb9f3a"
            ],
            [
             0.8888888888888888,
             "#fdca26"
            ],
            [
             1,
             "#f0f921"
            ]
           ]
          },
          "colorway": [
           "#636efa",
           "#EF553B",
           "#00cc96",
           "#ab63fa",
           "#FFA15A",
           "#19d3f3",
           "#FF6692",
           "#B6E880",
           "#FF97FF",
           "#FECB52"
          ],
          "font": {
           "color": "#2a3f5f"
          },
          "geo": {
           "bgcolor": "white",
           "lakecolor": "white",
           "landcolor": "#E5ECF6",
           "showlakes": true,
           "showland": true,
           "subunitcolor": "white"
          },
          "hoverlabel": {
           "align": "left"
          },
          "hovermode": "closest",
          "mapbox": {
           "style": "light"
          },
          "paper_bgcolor": "white",
          "plot_bgcolor": "#E5ECF6",
          "polar": {
           "angularaxis": {
            "gridcolor": "white",
            "linecolor": "white",
            "ticks": ""
           },
           "bgcolor": "#E5ECF6",
           "radialaxis": {
            "gridcolor": "white",
            "linecolor": "white",
            "ticks": ""
           }
          },
          "scene": {
           "xaxis": {
            "backgroundcolor": "#E5ECF6",
            "gridcolor": "white",
            "gridwidth": 2,
            "linecolor": "white",
            "showbackground": true,
            "ticks": "",
            "zerolinecolor": "white"
           },
           "yaxis": {
            "backgroundcolor": "#E5ECF6",
            "gridcolor": "white",
            "gridwidth": 2,
            "linecolor": "white",
            "showbackground": true,
            "ticks": "",
            "zerolinecolor": "white"
           },
           "zaxis": {
            "backgroundcolor": "#E5ECF6",
            "gridcolor": "white",
            "gridwidth": 2,
            "linecolor": "white",
            "showbackground": true,
            "ticks": "",
            "zerolinecolor": "white"
           }
          },
          "shapedefaults": {
           "line": {
            "color": "#2a3f5f"
           }
          },
          "ternary": {
           "aaxis": {
            "gridcolor": "white",
            "linecolor": "white",
            "ticks": ""
           },
           "baxis": {
            "gridcolor": "white",
            "linecolor": "white",
            "ticks": ""
           },
           "bgcolor": "#E5ECF6",
           "caxis": {
            "gridcolor": "white",
            "linecolor": "white",
            "ticks": ""
           }
          },
          "title": {
           "x": 0.05
          },
          "xaxis": {
           "automargin": true,
           "gridcolor": "white",
           "linecolor": "white",
           "ticks": "",
           "title": {
            "standoff": 15
           },
           "zerolinecolor": "white",
           "zerolinewidth": 2
          },
          "yaxis": {
           "automargin": true,
           "gridcolor": "white",
           "linecolor": "white",
           "ticks": "",
           "title": {
            "standoff": 15
           },
           "zerolinecolor": "white",
           "zerolinewidth": 2
          }
         }
        },
        "xaxis": {
         "anchor": "y",
         "domain": [
          0,
          1
         ],
         "title": {
          "text": "Date"
         }
        },
        "yaxis": {
         "anchor": "x",
         "domain": [
          0,
          1
         ],
         "title": {
          "text": "HWAH"
         }
        }
       }
      }
     },
     "metadata": {},
     "output_type": "display_data"
    }
   ],
   "source": [
    "## potential yield\n",
    "completedgroups = [k for k,v in completed_sims.items() if v]\n",
    "potentialyield_data = []\n",
    "for gval in completedgroups:\n",
    "    dftmp = output_data[gval].output_data().sort_values(\"PDAT\").loc[:,[\"PDAT\",\"HWAH\"]]\n",
    "    dftmp = dftmp.loc[dftmp.HWAH != 0]\n",
    "    dftmp['texture'] = gval\n",
    "    potentialyield_data.append(dftmp)\n",
    "    \n",
    "potentialyield_data = pd.concat(potentialyield_data)# fig.show()\n",
    "potentialyield_data['year'] = potentialyield_data.PDAT.dt.year\n",
    "potentialyield_data['monthday'] = potentialyield_data.PDAT.dt.strftime('%b-%d')\n",
    "datatoplot = potentialyield_data.sort_values(\"PDAT\")\n",
    "fig = px.line(datatoplot, x=\"monthday\", y=\"HWAH\", animation_frame=\"year\",\n",
    "            color=\"texture\",  labels = labels)\n",
    "fig.show()"
   ]
  },
  {
   "cell_type": "code",
   "execution_count": 28,
   "metadata": {},
   "outputs": [],
   "source": [
    "### exporting the weather and potential yield outputs as data frames\n",
    "\n",
    "completedgroups = [k for k,v in completed_sims.items() if v]\n",
    "\n",
    "output_data[completedgroups[0]].weather_data().to_csv(os.path.join(cm_sp._tmp_path, 'weather.csv'))\n",
    "\n",
    "potentialyield_data = []\n",
    "for gval in completedgroups:\n",
    "    dftmp = output_data[gval].output_data().sort_values(\"PDAT\")\n",
    "    dftmp = dftmp.loc[dftmp.HWAH != 0]\n",
    "    dftmp['texture'] = gval\n",
    "    potentialyield_data.append(dftmp)\n",
    "    \n",
    "potentialyield_data = pd.concat(potentialyield_data)\n",
    "\n",
    "potentialyield_data.to_csv(os.path.join(cm_sp._tmp_path, 'potential_yield.csv'))"
   ]
  }
 ],
 "metadata": {
  "kernelspec": {
   "display_name": "agwise",
   "language": "python",
   "name": "python3"
  },
  "language_info": {
   "codemirror_mode": {
    "name": "ipython",
    "version": 3
   },
   "file_extension": ".py",
   "mimetype": "text/x-python",
   "name": "python",
   "nbconvert_exporter": "python",
   "pygments_lexer": "ipython3",
   "version": "3.9.20"
  }
 },
 "nbformat": 4,
 "nbformat_minor": 2
}
